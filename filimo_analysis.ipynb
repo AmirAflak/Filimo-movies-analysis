{
  "nbformat": 4,
  "nbformat_minor": 0,
  "metadata": {
    "colab": {
      "name": "filimo_analysis.ipynb",
      "provenance": [],
      "collapsed_sections": [],
      "authorship_tag": "ABX9TyMew9WScB3OMPuSkxqUqQde",
      "include_colab_link": true
    },
    "kernelspec": {
      "name": "python3",
      "display_name": "Python 3"
    },
    "language_info": {
      "name": "python"
    }
  },
  "cells": [
    {
      "cell_type": "markdown",
      "metadata": {
        "id": "view-in-github",
        "colab_type": "text"
      },
      "source": [
        "<a href=\"https://colab.research.google.com/github/AmirAflak/Filimo-movies-analysis/blob/main/filimo_analysis.ipynb\" target=\"_parent\"><img src=\"https://colab.research.google.com/assets/colab-badge.svg\" alt=\"Open In Colab\"/></a>"
      ]
    },
    {
      "cell_type": "markdown",
      "metadata": {
        "id": "dco8ZcoNcLpb"
      },
      "source": [
        "# Filimo Movies Analysis (400 Records)\n",
        "###If you looking for some cool persian movies on [Filimo](https://www.filimo.com/) , I challange you to look up this project , It will be helpfull !!\n",
        "### Here are some tasks that i'm curious about them in order to find suitable movies : \n",
        "\n",
        "1.   Number of movies based on each genre.\n",
        "2.   Number of rates for each movie.\n",
        "3.   Number of productions based on year.\n",
        "4.   Directors with most productions.\n",
        "5.   Actors with most productions.\n",
        "6.   The most rated movies on filimo.\n",
        "7.   Comparsion between imdb & filimo rates.\n",
        "###So... keep in mind above questions respectively and let's dig into it :))"
      ]
    },
    {
      "cell_type": "code",
      "metadata": {
        "id": "ojhPtbHbwnBD"
      },
      "source": [
        "# import necessary packages for our analysis :\n",
        "import pandas as pd \n",
        "import numpy as np\n",
        "import matplotlib.pyplot as plt\n",
        "import plotly.express as px\n",
        "import plotly.offline  as po \n",
        "import plotly.graph_objs as go"
      ],
      "execution_count": null,
      "outputs": []
    },
    {
      "cell_type": "code",
      "metadata": {
        "id": "em3QyuOej7X_",
        "colab": {
          "base_uri": "https://localhost:8080/",
          "height": 293
        },
        "outputId": "dbac27b9-37a6-4547-cfc2-aed94c0e42e0"
      },
      "source": [
        "'''\n",
        "reading csv file that contains dataset (400 records)\n",
        "and also look it up\n",
        "''' \n",
        "df = pd.read_csv('filimo.csv')\n",
        "df.head()"
      ],
      "execution_count": null,
      "outputs": [
        {
          "output_type": "execute_result",
          "data": {
            "text/html": [
              "<div>\n",
              "<style scoped>\n",
              "    .dataframe tbody tr th:only-of-type {\n",
              "        vertical-align: middle;\n",
              "    }\n",
              "\n",
              "    .dataframe tbody tr th {\n",
              "        vertical-align: top;\n",
              "    }\n",
              "\n",
              "    .dataframe thead th {\n",
              "        text-align: right;\n",
              "    }\n",
              "</style>\n",
              "<table border=\"1\" class=\"dataframe\">\n",
              "  <thead>\n",
              "    <tr style=\"text-align: right;\">\n",
              "      <th></th>\n",
              "      <th>Unnamed: 0</th>\n",
              "      <th>Title</th>\n",
              "      <th>Genre</th>\n",
              "      <th>Production</th>\n",
              "      <th>Actor</th>\n",
              "      <th>Producer</th>\n",
              "      <th>Rate</th>\n",
              "      <th>Rate_percent</th>\n",
              "      <th>Imdb</th>\n",
              "    </tr>\n",
              "  </thead>\n",
              "  <tbody>\n",
              "    <tr>\n",
              "      <th>0</th>\n",
              "      <td>0</td>\n",
              "      <td>هفته ای یک بار آدم باش</td>\n",
              "      <td>خانوادگی - کمدی</td>\n",
              "      <td>1399.0</td>\n",
              "      <td>['پژمان جمشیدی', 'رعنا آزادی ور', 'ساغر قناعت'...</td>\n",
              "      <td>شهرام شاه حسینی</td>\n",
              "      <td>NaN</td>\n",
              "      <td>به زودی</td>\n",
              "      <td>اکران آنلاین</td>\n",
              "    </tr>\n",
              "    <tr>\n",
              "      <th>1</th>\n",
              "      <td>1</td>\n",
              "      <td>خورشید هر روز از قرقی طلوع می کند</td>\n",
              "      <td>مستند - اجتماعی</td>\n",
              "      <td>1400.0</td>\n",
              "      <td>NaN</td>\n",
              "      <td>یحیی آزادی</td>\n",
              "      <td>12.0</td>\n",
              "      <td>85%</td>\n",
              "      <td>NaN</td>\n",
              "    </tr>\n",
              "    <tr>\n",
              "      <th>2</th>\n",
              "      <td>2</td>\n",
              "      <td>بچه خور</td>\n",
              "      <td>فیلم کوتاه</td>\n",
              "      <td>1397.0</td>\n",
              "      <td>['علیرضا حکیمی', 'علیرضا مهران', 'فرحانه سبحان...</td>\n",
              "      <td>محمد کارت</td>\n",
              "      <td>12482.0</td>\n",
              "      <td>91%</td>\n",
              "      <td>NaN</td>\n",
              "    </tr>\n",
              "    <tr>\n",
              "      <th>3</th>\n",
              "      <td>3</td>\n",
              "      <td>یک کار نیمه مردانه</td>\n",
              "      <td>مستند - اجتماعی</td>\n",
              "      <td>1400.0</td>\n",
              "      <td>NaN</td>\n",
              "      <td>مسعود کارگر</td>\n",
              "      <td>41.0</td>\n",
              "      <td>92%</td>\n",
              "      <td>NaN</td>\n",
              "    </tr>\n",
              "    <tr>\n",
              "      <th>4</th>\n",
              "      <td>4</td>\n",
              "      <td>فیلیموشات: محمدحسین مهدویان</td>\n",
              "      <td>تاک شو - هاردتاک</td>\n",
              "      <td>1400.0</td>\n",
              "      <td>NaN</td>\n",
              "      <td>NaN</td>\n",
              "      <td>922.0</td>\n",
              "      <td>92%</td>\n",
              "      <td>NaN</td>\n",
              "    </tr>\n",
              "  </tbody>\n",
              "</table>\n",
              "</div>"
            ],
            "text/plain": [
              "   Unnamed: 0                              Title  ... Rate_percent          Imdb\n",
              "0           0             هفته ای یک بار آدم باش  ...      به زودی  اکران آنلاین\n",
              "1           1  خورشید هر روز از قرقی طلوع می کند  ...          85%           NaN\n",
              "2           2                            بچه خور  ...          91%           NaN\n",
              "3           3                 یک کار نیمه مردانه  ...          92%           NaN\n",
              "4           4        فیلیموشات: محمدحسین مهدویان  ...          92%           NaN\n",
              "\n",
              "[5 rows x 9 columns]"
            ]
          },
          "metadata": {},
          "execution_count": 423
        }
      ]
    },
    {
      "cell_type": "markdown",
      "metadata": {
        "id": "hCZepvDDmX3N"
      },
      "source": [
        "###Data Cleaning :"
      ]
    },
    {
      "cell_type": "code",
      "metadata": {
        "id": "dGP65nTQdWhc"
      },
      "source": [
        "'''\n",
        "as you see above table ,\n",
        "there is one useless extra column named 'Unname' , \n",
        "let's drop it :\n",
        "'''\n",
        "df.drop(df.filter(regex=\"Unname\"),axis=1, inplace=True)"
      ],
      "execution_count": null,
      "outputs": []
    },
    {
      "cell_type": "code",
      "metadata": {
        "colab": {
          "base_uri": "https://localhost:8080/",
          "height": 276
        },
        "id": "P_IhSOeNjCWB",
        "outputId": "3862691a-101a-4a15-ec8d-7df485edb340"
      },
      "source": [
        "# check it again :\n",
        "df.head()"
      ],
      "execution_count": null,
      "outputs": [
        {
          "output_type": "execute_result",
          "data": {
            "text/html": [
              "<div>\n",
              "<style scoped>\n",
              "    .dataframe tbody tr th:only-of-type {\n",
              "        vertical-align: middle;\n",
              "    }\n",
              "\n",
              "    .dataframe tbody tr th {\n",
              "        vertical-align: top;\n",
              "    }\n",
              "\n",
              "    .dataframe thead th {\n",
              "        text-align: right;\n",
              "    }\n",
              "</style>\n",
              "<table border=\"1\" class=\"dataframe\">\n",
              "  <thead>\n",
              "    <tr style=\"text-align: right;\">\n",
              "      <th></th>\n",
              "      <th>Title</th>\n",
              "      <th>Genre</th>\n",
              "      <th>Production</th>\n",
              "      <th>Actor</th>\n",
              "      <th>Producer</th>\n",
              "      <th>Rate</th>\n",
              "      <th>Rate_percent</th>\n",
              "      <th>Imdb</th>\n",
              "    </tr>\n",
              "  </thead>\n",
              "  <tbody>\n",
              "    <tr>\n",
              "      <th>0</th>\n",
              "      <td>هفته ای یک بار آدم باش</td>\n",
              "      <td>خانوادگی - کمدی</td>\n",
              "      <td>1399.0</td>\n",
              "      <td>['پژمان جمشیدی', 'رعنا آزادی ور', 'ساغر قناعت'...</td>\n",
              "      <td>شهرام شاه حسینی</td>\n",
              "      <td>NaN</td>\n",
              "      <td>به زودی</td>\n",
              "      <td>اکران آنلاین</td>\n",
              "    </tr>\n",
              "    <tr>\n",
              "      <th>1</th>\n",
              "      <td>خورشید هر روز از قرقی طلوع می کند</td>\n",
              "      <td>مستند - اجتماعی</td>\n",
              "      <td>1400.0</td>\n",
              "      <td>NaN</td>\n",
              "      <td>یحیی آزادی</td>\n",
              "      <td>12.0</td>\n",
              "      <td>85%</td>\n",
              "      <td>NaN</td>\n",
              "    </tr>\n",
              "    <tr>\n",
              "      <th>2</th>\n",
              "      <td>بچه خور</td>\n",
              "      <td>فیلم کوتاه</td>\n",
              "      <td>1397.0</td>\n",
              "      <td>['علیرضا حکیمی', 'علیرضا مهران', 'فرحانه سبحان...</td>\n",
              "      <td>محمد کارت</td>\n",
              "      <td>12482.0</td>\n",
              "      <td>91%</td>\n",
              "      <td>NaN</td>\n",
              "    </tr>\n",
              "    <tr>\n",
              "      <th>3</th>\n",
              "      <td>یک کار نیمه مردانه</td>\n",
              "      <td>مستند - اجتماعی</td>\n",
              "      <td>1400.0</td>\n",
              "      <td>NaN</td>\n",
              "      <td>مسعود کارگر</td>\n",
              "      <td>41.0</td>\n",
              "      <td>92%</td>\n",
              "      <td>NaN</td>\n",
              "    </tr>\n",
              "    <tr>\n",
              "      <th>4</th>\n",
              "      <td>فیلیموشات: محمدحسین مهدویان</td>\n",
              "      <td>تاک شو - هاردتاک</td>\n",
              "      <td>1400.0</td>\n",
              "      <td>NaN</td>\n",
              "      <td>NaN</td>\n",
              "      <td>922.0</td>\n",
              "      <td>92%</td>\n",
              "      <td>NaN</td>\n",
              "    </tr>\n",
              "  </tbody>\n",
              "</table>\n",
              "</div>"
            ],
            "text/plain": [
              "                               Title  ...          Imdb\n",
              "0             هفته ای یک بار آدم باش  ...  اکران آنلاین\n",
              "1  خورشید هر روز از قرقی طلوع می کند  ...           NaN\n",
              "2                            بچه خور  ...           NaN\n",
              "3                 یک کار نیمه مردانه  ...           NaN\n",
              "4        فیلیموشات: محمدحسین مهدویان  ...           NaN\n",
              "\n",
              "[5 rows x 8 columns]"
            ]
          },
          "metadata": {},
          "execution_count": 425
        }
      ]
    },
    {
      "cell_type": "code",
      "metadata": {
        "colab": {
          "base_uri": "https://localhost:8080/"
        },
        "id": "sJkP1e2QVLhn",
        "outputId": "e57202fd-f5ee-47e4-936b-0138ce871b77"
      },
      "source": [
        "# checking number of rows and columns (row, column)\n",
        "df.shape"
      ],
      "execution_count": null,
      "outputs": [
        {
          "output_type": "execute_result",
          "data": {
            "text/plain": [
              "(400, 8)"
            ]
          },
          "metadata": {},
          "execution_count": 426
        }
      ]
    },
    {
      "cell_type": "code",
      "metadata": {
        "colab": {
          "base_uri": "https://localhost:8080/"
        },
        "id": "6I4LJTpGCrB7",
        "outputId": "7c5f06dd-a837-4a8a-a06c-ad10114a08be"
      },
      "source": [
        "# getting distinct values on Genre column :\n",
        "df['Genre'].value_counts()"
      ],
      "execution_count": null,
      "outputs": [
        {
          "output_type": "execute_result",
          "data": {
            "text/plain": [
              "خانوادگی - اجتماعی       124\n",
              "کمدی - خانوادگی           43\n",
              "مستند - اجتماعی           41\n",
              "مستند - بیوگرافی          41\n",
              "مستند - سیاسی تاریخی      33\n",
              "خانوادگی - کمدی           22\n",
              "خانوادگی - عاشقانه        12\n",
              "فیلم کوتاه - داستانی      12\n",
              "فیلم تئاتر - خانوادگی     11\n",
              "مستند - پژوهشی            10\n",
              "اکشن - جنگی                7\n",
              "اکشن - پلیسی معمایی        7\n",
              "خانوادگی - کودک            5\n",
              "فیلم تئاتر - کمدی          5\n",
              "اکشن - هیجان انگیز         4\n",
              "اکشن - ماجراجویی           3\n",
              "کمدی - اکشن                3\n",
              "کنسرت                      3\n",
              "مستند - ورزشی              2\n",
              "مستند                      2\n",
              "تاریخی                     2\n",
              "عاشقانه - خانوادگی         2\n",
              "فیلم کوتاه                 1\n",
              "1395 - ایران               1\n",
              "فیلم کوتاه - انیمیشن       1\n",
              "تاک شو - هاردتاک           1\n",
              "کمدی - عاشقانه             1\n",
              "وحشت - هیجان انگیز         1\n",
              "Name: Genre, dtype: int64"
            ]
          },
          "metadata": {},
          "execution_count": 427
        }
      ]
    },
    {
      "cell_type": "code",
      "metadata": {
        "colab": {
          "base_uri": "https://localhost:8080/",
          "height": 81
        },
        "id": "5fF6ocEnfd87",
        "outputId": "0efa47b6-3f09-4f22-aeeb-9c89e72a77ce"
      },
      "source": [
        "'''\n",
        "as we see above '1395 - ایران' is not a genre,\n",
        "so we have to find it's index and replace it with nan value :\n",
        "'''\n",
        "df.loc[df['Genre'].str.contains('1395 - ایران')]"
      ],
      "execution_count": null,
      "outputs": [
        {
          "output_type": "execute_result",
          "data": {
            "text/html": [
              "<div>\n",
              "<style scoped>\n",
              "    .dataframe tbody tr th:only-of-type {\n",
              "        vertical-align: middle;\n",
              "    }\n",
              "\n",
              "    .dataframe tbody tr th {\n",
              "        vertical-align: top;\n",
              "    }\n",
              "\n",
              "    .dataframe thead th {\n",
              "        text-align: right;\n",
              "    }\n",
              "</style>\n",
              "<table border=\"1\" class=\"dataframe\">\n",
              "  <thead>\n",
              "    <tr style=\"text-align: right;\">\n",
              "      <th></th>\n",
              "      <th>Title</th>\n",
              "      <th>Genre</th>\n",
              "      <th>Production</th>\n",
              "      <th>Actor</th>\n",
              "      <th>Producer</th>\n",
              "      <th>Rate</th>\n",
              "      <th>Rate_percent</th>\n",
              "      <th>Imdb</th>\n",
              "    </tr>\n",
              "  </thead>\n",
              "  <tbody>\n",
              "    <tr>\n",
              "      <th>72</th>\n",
              "      <td>سوز گلاویژ</td>\n",
              "      <td>1395 - ایران</td>\n",
              "      <td>NaN</td>\n",
              "      <td>['علی سلیمانی', 'حسن اسدی', 'ابوالفضل حاجی علی...</td>\n",
              "      <td>یاسمن نصرتی</td>\n",
              "      <td>64.0</td>\n",
              "      <td>87%</td>\n",
              "      <td>NaN</td>\n",
              "    </tr>\n",
              "  </tbody>\n",
              "</table>\n",
              "</div>"
            ],
            "text/plain": [
              "         Title         Genre  Production  ...  Rate Rate_percent  Imdb\n",
              "72  سوز گلاویژ  1395 - ایران         NaN  ...  64.0          87%   NaN\n",
              "\n",
              "[1 rows x 8 columns]"
            ]
          },
          "metadata": {},
          "execution_count": 428
        }
      ]
    },
    {
      "cell_type": "code",
      "metadata": {
        "colab": {
          "base_uri": "https://localhost:8080/"
        },
        "id": "2J0emJa7BZLt",
        "outputId": "c8e2d51c-cf66-4742-9181-ad57de2c1319"
      },
      "source": [
        "'''\n",
        "we got it's index in above cell,\n",
        "so let's replace it : \n",
        "'''\n",
        "df.at[72, 'Genre'] = np.nan\n",
        "# check it again for ensurement :\n",
        "df.iloc[72]"
      ],
      "execution_count": null,
      "outputs": [
        {
          "output_type": "execute_result",
          "data": {
            "text/plain": [
              "Title                                                  سوز گلاویژ\n",
              "Genre                                                         NaN\n",
              "Production                                                    NaN\n",
              "Actor           ['علی سلیمانی', 'حسن اسدی', 'ابوالفضل حاجی علی...\n",
              "Producer                                              یاسمن نصرتی\n",
              "Rate                                                           64\n",
              "Rate_percent                                                  87%\n",
              "Imdb                                                          NaN\n",
              "Name: 72, dtype: object"
            ]
          },
          "metadata": {},
          "execution_count": 429
        }
      ]
    },
    {
      "cell_type": "code",
      "metadata": {
        "colab": {
          "base_uri": "https://localhost:8080/"
        },
        "id": "nIhNDtKKm6wq",
        "outputId": "7d1518d9-6841-4b55-8e80-1f428b1d9de5"
      },
      "source": [
        "# checking Data Type of imbd column : \n",
        "df['Imdb'].dtype"
      ],
      "execution_count": null,
      "outputs": [
        {
          "output_type": "execute_result",
          "data": {
            "text/plain": [
              "dtype('O')"
            ]
          },
          "metadata": {},
          "execution_count": 430
        }
      ]
    },
    {
      "cell_type": "code",
      "metadata": {
        "colab": {
          "base_uri": "https://localhost:8080/"
        },
        "id": "eQE_kb-vepae",
        "outputId": "9d7a4674-9f30-4067-dca8-4d9fac0c16d6"
      },
      "source": [
        "'''\n",
        "as we say above, it means 'imdb' column data type is object,\n",
        "we have to convert it to numeric value,\n",
        "if there was nan value, ignore it :\n",
        "'''\n",
        "df['Imdb'] = pd.to_numeric(df['Imdb'],errors='coerce')\n",
        "df['Imdb'] "
      ],
      "execution_count": null,
      "outputs": [
        {
          "output_type": "execute_result",
          "data": {
            "text/plain": [
              "0      NaN\n",
              "1      NaN\n",
              "2      NaN\n",
              "3      NaN\n",
              "4      NaN\n",
              "      ... \n",
              "395    NaN\n",
              "396    NaN\n",
              "397    NaN\n",
              "398    NaN\n",
              "399    5.8\n",
              "Name: Imdb, Length: 400, dtype: float64"
            ]
          },
          "metadata": {},
          "execution_count": 431
        }
      ]
    },
    {
      "cell_type": "code",
      "metadata": {
        "colab": {
          "base_uri": "https://localhost:8080/"
        },
        "id": "V3iFuvsun9l9",
        "outputId": "3e5b2382-6272-40b1-b0c8-068145411a91"
      },
      "source": [
        "# checking Data Type of rate_percent column : \n",
        "df['Rate_percent'].dtype"
      ],
      "execution_count": null,
      "outputs": [
        {
          "output_type": "execute_result",
          "data": {
            "text/plain": [
              "dtype('O')"
            ]
          },
          "metadata": {},
          "execution_count": 432
        }
      ]
    },
    {
      "cell_type": "code",
      "metadata": {
        "colab": {
          "base_uri": "https://localhost:8080/"
        },
        "id": "D8nkWQY-fg8-",
        "outputId": "f8600ab7-6ef3-41f9-e0e4-33a4ee807889"
      },
      "source": [
        "'''\n",
        "similar to 'Imdb' column,\n",
        "'rate_percent' column data type also needs to change,\n",
        "using apply method ,\n",
        "for grab only digits from values in 'rate_percent' column :\n",
        "'''\n",
        "\n",
        "df['Rate_percent'] = df['Rate_percent'].apply(lambda r : r[:-1])\n",
        "# convert 'Rate_percent' data types from string to numeric :\n",
        "df['Rate_percent'] = pd.to_numeric(df['Rate_percent'], errors='coerce')\n",
        "df['Rate_percent']"
      ],
      "execution_count": null,
      "outputs": [
        {
          "output_type": "execute_result",
          "data": {
            "text/plain": [
              "0       NaN\n",
              "1      85.0\n",
              "2      91.0\n",
              "3      92.0\n",
              "4      92.0\n",
              "       ... \n",
              "395    59.0\n",
              "396    74.0\n",
              "397    83.0\n",
              "398    90.0\n",
              "399    88.0\n",
              "Name: Rate_percent, Length: 400, dtype: float64"
            ]
          },
          "metadata": {},
          "execution_count": 433
        }
      ]
    },
    {
      "cell_type": "markdown",
      "metadata": {
        "id": "vZWYoxXbpR0y"
      },
      "source": [
        "###Task_1 : Find number of movies based on each genre."
      ]
    },
    {
      "cell_type": "code",
      "metadata": {
        "colab": {
          "base_uri": "https://localhost:8080/"
        },
        "id": "pbFaaUqNp87B",
        "outputId": "2859a61d-feb3-4d77-82a8-98f73a15a498"
      },
      "source": [
        "# let's look at 'genre' column : \n",
        "df['Genre']"
      ],
      "execution_count": null,
      "outputs": [
        {
          "output_type": "execute_result",
          "data": {
            "text/plain": [
              "0           خانوادگی - کمدی\n",
              "1           مستند - اجتماعی\n",
              "2                فیلم کوتاه\n",
              "3           مستند - اجتماعی\n",
              "4          تاک شو - هاردتاک\n",
              "               ...         \n",
              "395    فیلم کوتاه - داستانی\n",
              "396      خانوادگی - اجتماعی\n",
              "397      خانوادگی - اجتماعی\n",
              "398      خانوادگی - اجتماعی\n",
              "399      اکشن - هیجان انگیز\n",
              "Name: Genre, Length: 400, dtype: object"
            ]
          },
          "metadata": {},
          "execution_count": 434
        }
      ]
    },
    {
      "cell_type": "code",
      "metadata": {
        "colab": {
          "base_uri": "https://localhost:8080/",
          "height": 927
        },
        "id": "iPFGGuoxvqnK",
        "outputId": "652174fb-a1d6-44cb-c468-998123f558e8"
      },
      "source": [
        "'''\n",
        "i wanna group df by genres but there is a problem,\n",
        "in each row, there are multiple genres,\n",
        "so groupby finction in this situation will work not as i want :\n",
        "'''\n",
        "df.groupby('Genre').count()"
      ],
      "execution_count": null,
      "outputs": [
        {
          "output_type": "execute_result",
          "data": {
            "text/html": [
              "<div>\n",
              "<style scoped>\n",
              "    .dataframe tbody tr th:only-of-type {\n",
              "        vertical-align: middle;\n",
              "    }\n",
              "\n",
              "    .dataframe tbody tr th {\n",
              "        vertical-align: top;\n",
              "    }\n",
              "\n",
              "    .dataframe thead th {\n",
              "        text-align: right;\n",
              "    }\n",
              "</style>\n",
              "<table border=\"1\" class=\"dataframe\">\n",
              "  <thead>\n",
              "    <tr style=\"text-align: right;\">\n",
              "      <th></th>\n",
              "      <th>Title</th>\n",
              "      <th>Production</th>\n",
              "      <th>Actor</th>\n",
              "      <th>Producer</th>\n",
              "      <th>Rate</th>\n",
              "      <th>Rate_percent</th>\n",
              "      <th>Imdb</th>\n",
              "    </tr>\n",
              "    <tr>\n",
              "      <th>Genre</th>\n",
              "      <th></th>\n",
              "      <th></th>\n",
              "      <th></th>\n",
              "      <th></th>\n",
              "      <th></th>\n",
              "      <th></th>\n",
              "      <th></th>\n",
              "    </tr>\n",
              "  </thead>\n",
              "  <tbody>\n",
              "    <tr>\n",
              "      <th>اکشن - جنگی</th>\n",
              "      <td>7</td>\n",
              "      <td>7</td>\n",
              "      <td>7</td>\n",
              "      <td>7</td>\n",
              "      <td>7</td>\n",
              "      <td>7</td>\n",
              "      <td>4</td>\n",
              "    </tr>\n",
              "    <tr>\n",
              "      <th>اکشن - ماجراجویی</th>\n",
              "      <td>3</td>\n",
              "      <td>3</td>\n",
              "      <td>3</td>\n",
              "      <td>3</td>\n",
              "      <td>3</td>\n",
              "      <td>3</td>\n",
              "      <td>3</td>\n",
              "    </tr>\n",
              "    <tr>\n",
              "      <th>اکشن - هیجان انگیز</th>\n",
              "      <td>4</td>\n",
              "      <td>4</td>\n",
              "      <td>4</td>\n",
              "      <td>4</td>\n",
              "      <td>4</td>\n",
              "      <td>4</td>\n",
              "      <td>4</td>\n",
              "    </tr>\n",
              "    <tr>\n",
              "      <th>اکشن - پلیسی معمایی</th>\n",
              "      <td>7</td>\n",
              "      <td>7</td>\n",
              "      <td>6</td>\n",
              "      <td>7</td>\n",
              "      <td>7</td>\n",
              "      <td>7</td>\n",
              "      <td>3</td>\n",
              "    </tr>\n",
              "    <tr>\n",
              "      <th>تاریخی</th>\n",
              "      <td>2</td>\n",
              "      <td>2</td>\n",
              "      <td>1</td>\n",
              "      <td>2</td>\n",
              "      <td>2</td>\n",
              "      <td>2</td>\n",
              "      <td>0</td>\n",
              "    </tr>\n",
              "    <tr>\n",
              "      <th>تاک شو - هاردتاک</th>\n",
              "      <td>1</td>\n",
              "      <td>1</td>\n",
              "      <td>0</td>\n",
              "      <td>0</td>\n",
              "      <td>1</td>\n",
              "      <td>1</td>\n",
              "      <td>0</td>\n",
              "    </tr>\n",
              "    <tr>\n",
              "      <th>خانوادگی - اجتماعی</th>\n",
              "      <td>124</td>\n",
              "      <td>124</td>\n",
              "      <td>118</td>\n",
              "      <td>118</td>\n",
              "      <td>124</td>\n",
              "      <td>123</td>\n",
              "      <td>46</td>\n",
              "    </tr>\n",
              "    <tr>\n",
              "      <th>خانوادگی - عاشقانه</th>\n",
              "      <td>12</td>\n",
              "      <td>12</td>\n",
              "      <td>12</td>\n",
              "      <td>12</td>\n",
              "      <td>12</td>\n",
              "      <td>12</td>\n",
              "      <td>11</td>\n",
              "    </tr>\n",
              "    <tr>\n",
              "      <th>خانوادگی - کمدی</th>\n",
              "      <td>22</td>\n",
              "      <td>22</td>\n",
              "      <td>22</td>\n",
              "      <td>22</td>\n",
              "      <td>21</td>\n",
              "      <td>21</td>\n",
              "      <td>18</td>\n",
              "    </tr>\n",
              "    <tr>\n",
              "      <th>خانوادگی - کودک</th>\n",
              "      <td>5</td>\n",
              "      <td>5</td>\n",
              "      <td>5</td>\n",
              "      <td>5</td>\n",
              "      <td>5</td>\n",
              "      <td>5</td>\n",
              "      <td>1</td>\n",
              "    </tr>\n",
              "    <tr>\n",
              "      <th>عاشقانه - خانوادگی</th>\n",
              "      <td>2</td>\n",
              "      <td>2</td>\n",
              "      <td>2</td>\n",
              "      <td>2</td>\n",
              "      <td>2</td>\n",
              "      <td>2</td>\n",
              "      <td>2</td>\n",
              "    </tr>\n",
              "    <tr>\n",
              "      <th>فیلم تئاتر - خانوادگی</th>\n",
              "      <td>11</td>\n",
              "      <td>11</td>\n",
              "      <td>11</td>\n",
              "      <td>10</td>\n",
              "      <td>11</td>\n",
              "      <td>11</td>\n",
              "      <td>0</td>\n",
              "    </tr>\n",
              "    <tr>\n",
              "      <th>فیلم تئاتر - کمدی</th>\n",
              "      <td>5</td>\n",
              "      <td>5</td>\n",
              "      <td>4</td>\n",
              "      <td>4</td>\n",
              "      <td>5</td>\n",
              "      <td>5</td>\n",
              "      <td>0</td>\n",
              "    </tr>\n",
              "    <tr>\n",
              "      <th>فیلم کوتاه</th>\n",
              "      <td>1</td>\n",
              "      <td>1</td>\n",
              "      <td>1</td>\n",
              "      <td>1</td>\n",
              "      <td>1</td>\n",
              "      <td>1</td>\n",
              "      <td>0</td>\n",
              "    </tr>\n",
              "    <tr>\n",
              "      <th>فیلم کوتاه - انیمیشن</th>\n",
              "      <td>1</td>\n",
              "      <td>1</td>\n",
              "      <td>0</td>\n",
              "      <td>1</td>\n",
              "      <td>1</td>\n",
              "      <td>1</td>\n",
              "      <td>0</td>\n",
              "    </tr>\n",
              "    <tr>\n",
              "      <th>فیلم کوتاه - داستانی</th>\n",
              "      <td>12</td>\n",
              "      <td>12</td>\n",
              "      <td>11</td>\n",
              "      <td>12</td>\n",
              "      <td>12</td>\n",
              "      <td>12</td>\n",
              "      <td>0</td>\n",
              "    </tr>\n",
              "    <tr>\n",
              "      <th>مستند</th>\n",
              "      <td>2</td>\n",
              "      <td>2</td>\n",
              "      <td>0</td>\n",
              "      <td>2</td>\n",
              "      <td>2</td>\n",
              "      <td>2</td>\n",
              "      <td>0</td>\n",
              "    </tr>\n",
              "    <tr>\n",
              "      <th>مستند - اجتماعی</th>\n",
              "      <td>41</td>\n",
              "      <td>41</td>\n",
              "      <td>1</td>\n",
              "      <td>41</td>\n",
              "      <td>41</td>\n",
              "      <td>41</td>\n",
              "      <td>0</td>\n",
              "    </tr>\n",
              "    <tr>\n",
              "      <th>مستند - بیوگرافی</th>\n",
              "      <td>41</td>\n",
              "      <td>41</td>\n",
              "      <td>6</td>\n",
              "      <td>31</td>\n",
              "      <td>41</td>\n",
              "      <td>41</td>\n",
              "      <td>0</td>\n",
              "    </tr>\n",
              "    <tr>\n",
              "      <th>مستند - سیاسی تاریخی</th>\n",
              "      <td>33</td>\n",
              "      <td>33</td>\n",
              "      <td>0</td>\n",
              "      <td>32</td>\n",
              "      <td>33</td>\n",
              "      <td>33</td>\n",
              "      <td>0</td>\n",
              "    </tr>\n",
              "    <tr>\n",
              "      <th>مستند - ورزشی</th>\n",
              "      <td>2</td>\n",
              "      <td>2</td>\n",
              "      <td>2</td>\n",
              "      <td>2</td>\n",
              "      <td>2</td>\n",
              "      <td>2</td>\n",
              "      <td>0</td>\n",
              "    </tr>\n",
              "    <tr>\n",
              "      <th>مستند - پژوهشی</th>\n",
              "      <td>10</td>\n",
              "      <td>10</td>\n",
              "      <td>4</td>\n",
              "      <td>10</td>\n",
              "      <td>10</td>\n",
              "      <td>10</td>\n",
              "      <td>0</td>\n",
              "    </tr>\n",
              "    <tr>\n",
              "      <th>وحشت - هیجان انگیز</th>\n",
              "      <td>1</td>\n",
              "      <td>1</td>\n",
              "      <td>1</td>\n",
              "      <td>1</td>\n",
              "      <td>1</td>\n",
              "      <td>1</td>\n",
              "      <td>1</td>\n",
              "    </tr>\n",
              "    <tr>\n",
              "      <th>کمدی - اکشن</th>\n",
              "      <td>3</td>\n",
              "      <td>3</td>\n",
              "      <td>3</td>\n",
              "      <td>3</td>\n",
              "      <td>3</td>\n",
              "      <td>3</td>\n",
              "      <td>2</td>\n",
              "    </tr>\n",
              "    <tr>\n",
              "      <th>کمدی - خانوادگی</th>\n",
              "      <td>43</td>\n",
              "      <td>43</td>\n",
              "      <td>41</td>\n",
              "      <td>41</td>\n",
              "      <td>43</td>\n",
              "      <td>43</td>\n",
              "      <td>19</td>\n",
              "    </tr>\n",
              "    <tr>\n",
              "      <th>کمدی - عاشقانه</th>\n",
              "      <td>1</td>\n",
              "      <td>1</td>\n",
              "      <td>1</td>\n",
              "      <td>1</td>\n",
              "      <td>1</td>\n",
              "      <td>1</td>\n",
              "      <td>1</td>\n",
              "    </tr>\n",
              "    <tr>\n",
              "      <th>کنسرت</th>\n",
              "      <td>3</td>\n",
              "      <td>3</td>\n",
              "      <td>2</td>\n",
              "      <td>2</td>\n",
              "      <td>3</td>\n",
              "      <td>3</td>\n",
              "      <td>0</td>\n",
              "    </tr>\n",
              "  </tbody>\n",
              "</table>\n",
              "</div>"
            ],
            "text/plain": [
              "                       Title  Production  Actor  ...  Rate  Rate_percent  Imdb\n",
              "Genre                                            ...                          \n",
              "اکشن - جنگی                7           7      7  ...     7             7     4\n",
              "اکشن - ماجراجویی           3           3      3  ...     3             3     3\n",
              "اکشن - هیجان انگیز         4           4      4  ...     4             4     4\n",
              "اکشن - پلیسی معمایی        7           7      6  ...     7             7     3\n",
              "تاریخی                     2           2      1  ...     2             2     0\n",
              "تاک شو - هاردتاک           1           1      0  ...     1             1     0\n",
              "خانوادگی - اجتماعی       124         124    118  ...   124           123    46\n",
              "خانوادگی - عاشقانه        12          12     12  ...    12            12    11\n",
              "خانوادگی - کمدی           22          22     22  ...    21            21    18\n",
              "خانوادگی - کودک            5           5      5  ...     5             5     1\n",
              "عاشقانه - خانوادگی         2           2      2  ...     2             2     2\n",
              "فیلم تئاتر - خانوادگی     11          11     11  ...    11            11     0\n",
              "فیلم تئاتر - کمدی          5           5      4  ...     5             5     0\n",
              "فیلم کوتاه                 1           1      1  ...     1             1     0\n",
              "فیلم کوتاه - انیمیشن       1           1      0  ...     1             1     0\n",
              "فیلم کوتاه - داستانی      12          12     11  ...    12            12     0\n",
              "مستند                      2           2      0  ...     2             2     0\n",
              "مستند - اجتماعی           41          41      1  ...    41            41     0\n",
              "مستند - بیوگرافی          41          41      6  ...    41            41     0\n",
              "مستند - سیاسی تاریخی      33          33      0  ...    33            33     0\n",
              "مستند - ورزشی              2           2      2  ...     2             2     0\n",
              "مستند - پژوهشی            10          10      4  ...    10            10     0\n",
              "وحشت - هیجان انگیز         1           1      1  ...     1             1     1\n",
              "کمدی - اکشن                3           3      3  ...     3             3     2\n",
              "کمدی - خانوادگی           43          43     41  ...    43            43    19\n",
              "کمدی - عاشقانه             1           1      1  ...     1             1     1\n",
              "کنسرت                      3           3      2  ...     3             3     0\n",
              "\n",
              "[27 rows x 7 columns]"
            ]
          },
          "metadata": {},
          "execution_count": 435
        }
      ]
    },
    {
      "cell_type": "code",
      "metadata": {
        "id": "0M5o3pcmDSQD"
      },
      "source": [
        "''' \n",
        "as we see, genres are not grouped separately,\n",
        "so we have to split each record with '-',\n",
        "and convert it into a pandas series,\n",
        "then seperate the rows for each genre,\n",
        "ultimately store new data frame in 'df_split_genres' variable,\n",
        "notice the number of rows will increase.\n",
        "'''\n",
        "s = df['Genre'].str.split('-').apply(pd.Series, 1).stack()\n",
        "s.index = s.index.droplevel(-1)\n",
        "s.name = 'Genre'\n",
        "del df['Genre']\n",
        "df_split_genres = df.join(s)"
      ],
      "execution_count": null,
      "outputs": []
    },
    {
      "cell_type": "code",
      "metadata": {
        "colab": {
          "base_uri": "https://localhost:8080/",
          "height": 206
        },
        "id": "baN85-bylhSe",
        "outputId": "cf3d446e-47a5-44ba-c392-24c6799a398b"
      },
      "source": [
        "# now it looks better !\n",
        "df_split_genres.head()"
      ],
      "execution_count": null,
      "outputs": [
        {
          "output_type": "execute_result",
          "data": {
            "text/html": [
              "<div>\n",
              "<style scoped>\n",
              "    .dataframe tbody tr th:only-of-type {\n",
              "        vertical-align: middle;\n",
              "    }\n",
              "\n",
              "    .dataframe tbody tr th {\n",
              "        vertical-align: top;\n",
              "    }\n",
              "\n",
              "    .dataframe thead th {\n",
              "        text-align: right;\n",
              "    }\n",
              "</style>\n",
              "<table border=\"1\" class=\"dataframe\">\n",
              "  <thead>\n",
              "    <tr style=\"text-align: right;\">\n",
              "      <th></th>\n",
              "      <th>Title</th>\n",
              "      <th>Production</th>\n",
              "      <th>Actor</th>\n",
              "      <th>Producer</th>\n",
              "      <th>Rate</th>\n",
              "      <th>Rate_percent</th>\n",
              "      <th>Imdb</th>\n",
              "      <th>Genre</th>\n",
              "    </tr>\n",
              "  </thead>\n",
              "  <tbody>\n",
              "    <tr>\n",
              "      <th>0</th>\n",
              "      <td>هفته ای یک بار آدم باش</td>\n",
              "      <td>1399.0</td>\n",
              "      <td>['پژمان جمشیدی', 'رعنا آزادی ور', 'ساغر قناعت'...</td>\n",
              "      <td>شهرام شاه حسینی</td>\n",
              "      <td>NaN</td>\n",
              "      <td>NaN</td>\n",
              "      <td>NaN</td>\n",
              "      <td>خانوادگی</td>\n",
              "    </tr>\n",
              "    <tr>\n",
              "      <th>0</th>\n",
              "      <td>هفته ای یک بار آدم باش</td>\n",
              "      <td>1399.0</td>\n",
              "      <td>['پژمان جمشیدی', 'رعنا آزادی ور', 'ساغر قناعت'...</td>\n",
              "      <td>شهرام شاه حسینی</td>\n",
              "      <td>NaN</td>\n",
              "      <td>NaN</td>\n",
              "      <td>NaN</td>\n",
              "      <td>کمدی</td>\n",
              "    </tr>\n",
              "    <tr>\n",
              "      <th>1</th>\n",
              "      <td>خورشید هر روز از قرقی طلوع می کند</td>\n",
              "      <td>1400.0</td>\n",
              "      <td>NaN</td>\n",
              "      <td>یحیی آزادی</td>\n",
              "      <td>12.0</td>\n",
              "      <td>85.0</td>\n",
              "      <td>NaN</td>\n",
              "      <td>مستند</td>\n",
              "    </tr>\n",
              "    <tr>\n",
              "      <th>1</th>\n",
              "      <td>خورشید هر روز از قرقی طلوع می کند</td>\n",
              "      <td>1400.0</td>\n",
              "      <td>NaN</td>\n",
              "      <td>یحیی آزادی</td>\n",
              "      <td>12.0</td>\n",
              "      <td>85.0</td>\n",
              "      <td>NaN</td>\n",
              "      <td>اجتماعی</td>\n",
              "    </tr>\n",
              "    <tr>\n",
              "      <th>2</th>\n",
              "      <td>بچه خور</td>\n",
              "      <td>1397.0</td>\n",
              "      <td>['علیرضا حکیمی', 'علیرضا مهران', 'فرحانه سبحان...</td>\n",
              "      <td>محمد کارت</td>\n",
              "      <td>12482.0</td>\n",
              "      <td>91.0</td>\n",
              "      <td>NaN</td>\n",
              "      <td>فیلم کوتاه</td>\n",
              "    </tr>\n",
              "  </tbody>\n",
              "</table>\n",
              "</div>"
            ],
            "text/plain": [
              "                               Title  Production  ... Imdb       Genre\n",
              "0             هفته ای یک بار آدم باش      1399.0  ...  NaN   خانوادگی \n",
              "0             هفته ای یک بار آدم باش      1399.0  ...  NaN        کمدی\n",
              "1  خورشید هر روز از قرقی طلوع می کند      1400.0  ...  NaN      مستند \n",
              "1  خورشید هر روز از قرقی طلوع می کند      1400.0  ...  NaN     اجتماعی\n",
              "2                            بچه خور      1397.0  ...  NaN  فیلم کوتاه\n",
              "\n",
              "[5 rows x 8 columns]"
            ]
          },
          "metadata": {},
          "execution_count": 437
        }
      ]
    },
    {
      "cell_type": "code",
      "metadata": {
        "colab": {
          "base_uri": "https://localhost:8080/"
        },
        "id": "1XqbmK5J-BYV",
        "outputId": "13aa6348-0bf6-47f7-c047-00e4e9c9acb4"
      },
      "source": [
        "df_split_genres['Genre'].value_counts()"
      ],
      "execution_count": null,
      "outputs": [
        {
          "output_type": "execute_result",
          "data": {
            "text/plain": [
              " اجتماعی         165\n",
              "خانوادگی         163\n",
              "مستند            127\n",
              " خانوادگی         56\n",
              "کمدی              47\n",
              " بیوگرافی         41\n",
              " سیاسی تاریخی     33\n",
              " کمدی             27\n",
              "اکشن              21\n",
              "فیلم تئاتر        16\n",
              " عاشقانه          13\n",
              "فیلم کوتاه        13\n",
              " داستانی          12\n",
              " پژوهشی           10\n",
              " پلیسی معمایی      7\n",
              " جنگی              7\n",
              " هیجان انگیز       5\n",
              " کودک              5\n",
              " اکشن              3\n",
              " ماجراجویی         3\n",
              "کنسرت              3\n",
              "عاشقانه            2\n",
              " ورزشی             2\n",
              "تاریخی             2\n",
              "مستند              2\n",
              "فیلم کوتاه         1\n",
              " انیمیشن           1\n",
              "تاک شو             1\n",
              " هاردتاک           1\n",
              "وحشت               1\n",
              "Name: Genre, dtype: int64"
            ]
          },
          "metadata": {},
          "execution_count": 438
        }
      ]
    },
    {
      "cell_type": "code",
      "metadata": {
        "colab": {
          "base_uri": "https://localhost:8080/"
        },
        "id": "U80YQkK-AMPv",
        "outputId": "a1f413dc-5c96-4573-ee7a-1084d080c532"
      },
      "source": [
        "'''\n",
        "there is a  problem above,\n",
        "some genres are duplicate like 'خانوادگی' genre,\n",
        "the reason is when splited genre above, \n",
        "there were genres contains only 'خانوادگی'  (type A),\n",
        "and also there were genres contains both 'خانوادگی' (type B)\n",
        "i wanna show that str content of type A and type B are different :\n",
        "'''\n",
        "genres = df_split_genres['Genre'].value_counts().index\n",
        "print(genres[1])\n",
        "print(genres[3])\n",
        "print(genres[1] == genres[3])"
      ],
      "execution_count": null,
      "outputs": [
        {
          "output_type": "stream",
          "name": "stdout",
          "text": [
            "خانوادگی \n",
            " خانوادگی\n",
            "False\n"
          ]
        }
      ]
    },
    {
      "cell_type": "code",
      "metadata": {
        "id": "2-ci6fKzI0W6"
      },
      "source": [
        "'''\n",
        "so it turned out that we have two seperate 'خانوادگی' genre, \n",
        "the reason of their differences is only a single whitespace,\n",
        "so clear any extra and useless character from genres :  \n",
        "'''\n",
        "df_split_genres['Genre'] = df_split_genres['Genre'].str.strip()"
      ],
      "execution_count": null,
      "outputs": []
    },
    {
      "cell_type": "code",
      "metadata": {
        "colab": {
          "base_uri": "https://localhost:8080/"
        },
        "id": "Cjc4sJZpbqfr",
        "outputId": "751c9f78-3550-41e4-9e7c-ffae495ad7f6"
      },
      "source": [
        "# print out unique values of 'Genre' column :\n",
        "df_split_genres['Genre'].unique()"
      ],
      "execution_count": null,
      "outputs": [
        {
          "output_type": "execute_result",
          "data": {
            "text/plain": [
              "array(['خانوادگی', 'کمدی', 'مستند', 'اجتماعی', 'فیلم کوتاه', 'تاک شو',\n",
              "       'هاردتاک', 'بیوگرافی', 'ورزشی', 'سیاسی تاریخی', 'اکشن',\n",
              "       'ماجراجویی', 'هیجان انگیز', 'پلیسی معمایی', 'عاشقانه', 'داستانی',\n",
              "       'فیلم تئاتر', 'پژوهشی', 'کنسرت', nan, 'جنگی', 'وحشت', 'کودک',\n",
              "       'تاریخی', 'انیمیشن'], dtype=object)"
            ]
          },
          "metadata": {},
          "execution_count": 441
        }
      ]
    },
    {
      "cell_type": "code",
      "metadata": {
        "colab": {
          "base_uri": "https://localhost:8080/"
        },
        "id": "Vh7h-KgQoBTG",
        "outputId": "cd44f862-9715-4c6f-e020-b2e95d6323e3"
      },
      "source": [
        "# get the number of genres :\n",
        "len(df_split_genres['Genre'].unique())"
      ],
      "execution_count": null,
      "outputs": [
        {
          "output_type": "execute_result",
          "data": {
            "text/plain": [
              "25"
            ]
          },
          "metadata": {},
          "execution_count": 442
        }
      ]
    },
    {
      "cell_type": "code",
      "metadata": {
        "colab": {
          "base_uri": "https://localhost:8080/"
        },
        "id": "bXm0SGPPCzoX",
        "outputId": "1dae70ef-6c4f-4567-b70d-c512515f6d95"
      },
      "source": [
        "'''\n",
        "group 'df_split_genres' by 'Genre' column and\n",
        "sort numbers by descending order :\n",
        "'''\n",
        "movie_genre = df_split_genres.groupby('Genre').count()['Title'].sort_values(ascending = False)\n",
        "movie_genre"
      ],
      "execution_count": null,
      "outputs": [
        {
          "output_type": "execute_result",
          "data": {
            "text/plain": [
              "Genre\n",
              "خانوادگی        219\n",
              "اجتماعی         165\n",
              "مستند           129\n",
              "کمدی             74\n",
              "بیوگرافی         41\n",
              "سیاسی تاریخی     33\n",
              "اکشن             24\n",
              "فیلم تئاتر       16\n",
              "عاشقانه          15\n",
              "فیلم کوتاه       14\n",
              "داستانی          12\n",
              "پژوهشی           10\n",
              "جنگی              7\n",
              "پلیسی معمایی      7\n",
              "هیجان انگیز       5\n",
              "کودک              5\n",
              "ماجراجویی         3\n",
              "کنسرت             3\n",
              "ورزشی             2\n",
              "تاریخی            2\n",
              "هاردتاک           1\n",
              "وحشت              1\n",
              "تاک شو            1\n",
              "انیمیشن           1\n",
              "Name: Title, dtype: int64"
            ]
          },
          "metadata": {},
          "execution_count": 443
        }
      ]
    },
    {
      "cell_type": "code",
      "metadata": {
        "colab": {
          "base_uri": "https://localhost:8080/",
          "height": 833
        },
        "id": "A8YlrQ8WoLLA",
        "outputId": "b66a42a4-105c-484f-dd91-aa8671d7acd8"
      },
      "source": [
        "# convert movie_genre series into a data frame : \n",
        "movie_genre = pd.DataFrame(movie_genre)\n",
        "movie_genre"
      ],
      "execution_count": null,
      "outputs": [
        {
          "output_type": "execute_result",
          "data": {
            "text/html": [
              "<div>\n",
              "<style scoped>\n",
              "    .dataframe tbody tr th:only-of-type {\n",
              "        vertical-align: middle;\n",
              "    }\n",
              "\n",
              "    .dataframe tbody tr th {\n",
              "        vertical-align: top;\n",
              "    }\n",
              "\n",
              "    .dataframe thead th {\n",
              "        text-align: right;\n",
              "    }\n",
              "</style>\n",
              "<table border=\"1\" class=\"dataframe\">\n",
              "  <thead>\n",
              "    <tr style=\"text-align: right;\">\n",
              "      <th></th>\n",
              "      <th>Title</th>\n",
              "    </tr>\n",
              "    <tr>\n",
              "      <th>Genre</th>\n",
              "      <th></th>\n",
              "    </tr>\n",
              "  </thead>\n",
              "  <tbody>\n",
              "    <tr>\n",
              "      <th>خانوادگی</th>\n",
              "      <td>219</td>\n",
              "    </tr>\n",
              "    <tr>\n",
              "      <th>اجتماعی</th>\n",
              "      <td>165</td>\n",
              "    </tr>\n",
              "    <tr>\n",
              "      <th>مستند</th>\n",
              "      <td>129</td>\n",
              "    </tr>\n",
              "    <tr>\n",
              "      <th>کمدی</th>\n",
              "      <td>74</td>\n",
              "    </tr>\n",
              "    <tr>\n",
              "      <th>بیوگرافی</th>\n",
              "      <td>41</td>\n",
              "    </tr>\n",
              "    <tr>\n",
              "      <th>سیاسی تاریخی</th>\n",
              "      <td>33</td>\n",
              "    </tr>\n",
              "    <tr>\n",
              "      <th>اکشن</th>\n",
              "      <td>24</td>\n",
              "    </tr>\n",
              "    <tr>\n",
              "      <th>فیلم تئاتر</th>\n",
              "      <td>16</td>\n",
              "    </tr>\n",
              "    <tr>\n",
              "      <th>عاشقانه</th>\n",
              "      <td>15</td>\n",
              "    </tr>\n",
              "    <tr>\n",
              "      <th>فیلم کوتاه</th>\n",
              "      <td>14</td>\n",
              "    </tr>\n",
              "    <tr>\n",
              "      <th>داستانی</th>\n",
              "      <td>12</td>\n",
              "    </tr>\n",
              "    <tr>\n",
              "      <th>پژوهشی</th>\n",
              "      <td>10</td>\n",
              "    </tr>\n",
              "    <tr>\n",
              "      <th>جنگی</th>\n",
              "      <td>7</td>\n",
              "    </tr>\n",
              "    <tr>\n",
              "      <th>پلیسی معمایی</th>\n",
              "      <td>7</td>\n",
              "    </tr>\n",
              "    <tr>\n",
              "      <th>هیجان انگیز</th>\n",
              "      <td>5</td>\n",
              "    </tr>\n",
              "    <tr>\n",
              "      <th>کودک</th>\n",
              "      <td>5</td>\n",
              "    </tr>\n",
              "    <tr>\n",
              "      <th>ماجراجویی</th>\n",
              "      <td>3</td>\n",
              "    </tr>\n",
              "    <tr>\n",
              "      <th>کنسرت</th>\n",
              "      <td>3</td>\n",
              "    </tr>\n",
              "    <tr>\n",
              "      <th>ورزشی</th>\n",
              "      <td>2</td>\n",
              "    </tr>\n",
              "    <tr>\n",
              "      <th>تاریخی</th>\n",
              "      <td>2</td>\n",
              "    </tr>\n",
              "    <tr>\n",
              "      <th>هاردتاک</th>\n",
              "      <td>1</td>\n",
              "    </tr>\n",
              "    <tr>\n",
              "      <th>وحشت</th>\n",
              "      <td>1</td>\n",
              "    </tr>\n",
              "    <tr>\n",
              "      <th>تاک شو</th>\n",
              "      <td>1</td>\n",
              "    </tr>\n",
              "    <tr>\n",
              "      <th>انیمیشن</th>\n",
              "      <td>1</td>\n",
              "    </tr>\n",
              "  </tbody>\n",
              "</table>\n",
              "</div>"
            ],
            "text/plain": [
              "              Title\n",
              "Genre              \n",
              "خانوادگی        219\n",
              "اجتماعی         165\n",
              "مستند           129\n",
              "کمدی             74\n",
              "بیوگرافی         41\n",
              "سیاسی تاریخی     33\n",
              "اکشن             24\n",
              "فیلم تئاتر       16\n",
              "عاشقانه          15\n",
              "فیلم کوتاه       14\n",
              "داستانی          12\n",
              "پژوهشی           10\n",
              "جنگی              7\n",
              "پلیسی معمایی      7\n",
              "هیجان انگیز       5\n",
              "کودک              5\n",
              "ماجراجویی         3\n",
              "کنسرت             3\n",
              "ورزشی             2\n",
              "تاریخی            2\n",
              "هاردتاک           1\n",
              "وحشت              1\n",
              "تاک شو            1\n",
              "انیمیشن           1"
            ]
          },
          "metadata": {},
          "execution_count": 444
        }
      ]
    },
    {
      "cell_type": "code",
      "metadata": {
        "id": "MMoQ0MCKQlJc"
      },
      "source": [
        "'''\n",
        "get the genre and it's related count from movie_genre dataFrame,\n",
        "then store them in genre and count variable respectively.\n",
        "'''\n",
        "genre = movie_genre.index\n",
        "# count is 2D array,reshape it to a 1D array :\n",
        "count = movie_genre.values.squeeze()"
      ],
      "execution_count": null,
      "outputs": []
    },
    {
      "cell_type": "code",
      "metadata": {
        "colab": {
          "base_uri": "https://localhost:8080/"
        },
        "id": "_kFHvqUETQAc",
        "outputId": "b2d21ea8-ed1e-4448-ef00-99d493308e80"
      },
      "source": [
        "genre, count"
      ],
      "execution_count": null,
      "outputs": [
        {
          "output_type": "execute_result",
          "data": {
            "text/plain": [
              "(Index(['خانوادگی', 'اجتماعی', 'مستند', 'کمدی', 'بیوگرافی', 'سیاسی تاریخی',\n",
              "        'اکشن', 'فیلم تئاتر', 'عاشقانه', 'فیلم کوتاه', 'داستانی', 'پژوهشی',\n",
              "        'جنگی', 'پلیسی معمایی', 'هیجان انگیز', 'کودک', 'ماجراجویی', 'کنسرت',\n",
              "        'ورزشی', 'تاریخی', 'هاردتاک', 'وحشت', 'تاک شو', 'انیمیشن'],\n",
              "       dtype='object', name='Genre'),\n",
              " array([219, 165, 129,  74,  41,  33,  24,  16,  15,  14,  12,  10,   7,\n",
              "          7,   5,   5,   3,   3,   2,   2,   1,   1,   1,   1]))"
            ]
          },
          "metadata": {},
          "execution_count": 446
        }
      ]
    },
    {
      "cell_type": "code",
      "metadata": {
        "colab": {
          "base_uri": "https://localhost:8080/",
          "height": 817
        },
        "id": "dr_NU66zSsQE",
        "outputId": "b93972a6-3252-4ca1-d944-2f7244bd7a05"
      },
      "source": [
        "# plot genre and count values into a pie chart format :\n",
        "pie = px.pie(\n",
        "  movie_genre,\n",
        "  values = count,\n",
        "  names = genre,\n",
        "  title = 'تعداد فیلم ها به تفکیک ژانر',\n",
        "  width=800,\n",
        " height=800\n",
        ")\n",
        "pie.update_traces(\n",
        "    textposition = 'inside',\n",
        "    textinfo = 'percent+label'\n",
        ")\n",
        "pie.update_layout(\n",
        "     font=dict(\n",
        "        family=\"Courier New, monospace\",\n",
        "        size=22,\n",
        "        color=\"RebeccaPurple\"\n",
        "    )\n",
        ")\n"
      ],
      "execution_count": null,
      "outputs": [
        {
          "output_type": "display_data",
          "data": {
            "text/html": [
              "<html>\n",
              "<head><meta charset=\"utf-8\" /></head>\n",
              "<body>\n",
              "    <div>\n",
              "            <script src=\"https://cdnjs.cloudflare.com/ajax/libs/mathjax/2.7.5/MathJax.js?config=TeX-AMS-MML_SVG\"></script><script type=\"text/javascript\">if (window.MathJax) {MathJax.Hub.Config({SVG: {font: \"STIX-Web\"}});}</script>\n",
              "                <script type=\"text/javascript\">window.PlotlyConfig = {MathJaxConfig: 'local'};</script>\n",
              "        <script src=\"https://cdn.plot.ly/plotly-latest.min.js\"></script>    \n",
              "            <div id=\"86d6d6d5-b86b-430f-99b0-d2d712c03bce\" class=\"plotly-graph-div\" style=\"height:800px; width:800px;\"></div>\n",
              "            <script type=\"text/javascript\">\n",
              "                \n",
              "                    window.PLOTLYENV=window.PLOTLYENV || {};\n",
              "                    \n",
              "                if (document.getElementById(\"86d6d6d5-b86b-430f-99b0-d2d712c03bce\")) {\n",
              "                    Plotly.newPlot(\n",
              "                        '86d6d6d5-b86b-430f-99b0-d2d712c03bce',\n",
              "                        [{\"domain\": {\"x\": [0.0, 1.0], \"y\": [0.0, 1.0]}, \"hoverlabel\": {\"namelength\": 0}, \"hovertemplate\": \"label=%{label}<br>value=%{value}\", \"labels\": [\"\\u062e\\u0627\\u0646\\u0648\\u0627\\u062f\\u06af\\u06cc\", \"\\u0627\\u062c\\u062a\\u0645\\u0627\\u0639\\u06cc\", \"\\u0645\\u0633\\u062a\\u0646\\u062f\", \"\\u06a9\\u0645\\u062f\\u06cc\", \"\\u0628\\u06cc\\u0648\\u06af\\u0631\\u0627\\u0641\\u06cc\", \"\\u0633\\u06cc\\u0627\\u0633\\u06cc \\u062a\\u0627\\u0631\\u06cc\\u062e\\u06cc\", \"\\u0627\\u06a9\\u0634\\u0646\", \"\\u0641\\u06cc\\u0644\\u0645 \\u062a\\u0626\\u0627\\u062a\\u0631\", \"\\u0639\\u0627\\u0634\\u0642\\u0627\\u0646\\u0647\", \"\\u0641\\u06cc\\u0644\\u0645 \\u06a9\\u0648\\u062a\\u0627\\u0647\", \"\\u062f\\u0627\\u0633\\u062a\\u0627\\u0646\\u06cc\", \"\\u067e\\u0698\\u0648\\u0647\\u0634\\u06cc\", \"\\u062c\\u0646\\u06af\\u06cc\", \"\\u067e\\u0644\\u06cc\\u0633\\u06cc \\u0645\\u0639\\u0645\\u0627\\u06cc\\u06cc\", \"\\u0647\\u06cc\\u062c\\u0627\\u0646 \\u0627\\u0646\\u06af\\u06cc\\u0632\", \"\\u06a9\\u0648\\u062f\\u06a9\", \"\\u0645\\u0627\\u062c\\u0631\\u0627\\u062c\\u0648\\u06cc\\u06cc\", \"\\u06a9\\u0646\\u0633\\u0631\\u062a\", \"\\u0648\\u0631\\u0632\\u0634\\u06cc\", \"\\u062a\\u0627\\u0631\\u06cc\\u062e\\u06cc\", \"\\u0647\\u0627\\u0631\\u062f\\u062a\\u0627\\u06a9\", \"\\u0648\\u062d\\u0634\\u062a\", \"\\u062a\\u0627\\u06a9 \\u0634\\u0648\", \"\\u0627\\u0646\\u06cc\\u0645\\u06cc\\u0634\\u0646\"], \"legendgroup\": \"\", \"name\": \"\", \"showlegend\": true, \"textinfo\": \"percent+label\", \"textposition\": \"inside\", \"type\": \"pie\", \"values\": [219, 165, 129, 74, 41, 33, 24, 16, 15, 14, 12, 10, 7, 7, 5, 5, 3, 3, 2, 2, 1, 1, 1, 1]}],\n",
              "                        {\"font\": {\"color\": \"RebeccaPurple\", \"family\": \"Courier New, monospace\", \"size\": 22}, \"height\": 800, \"legend\": {\"tracegroupgap\": 0}, \"template\": {\"data\": {\"bar\": [{\"error_x\": {\"color\": \"#2a3f5f\"}, \"error_y\": {\"color\": \"#2a3f5f\"}, \"marker\": {\"line\": {\"color\": \"#E5ECF6\", \"width\": 0.5}}, \"type\": \"bar\"}], \"barpolar\": [{\"marker\": {\"line\": {\"color\": \"#E5ECF6\", \"width\": 0.5}}, \"type\": \"barpolar\"}], \"carpet\": [{\"aaxis\": {\"endlinecolor\": \"#2a3f5f\", \"gridcolor\": \"white\", \"linecolor\": \"white\", \"minorgridcolor\": \"white\", \"startlinecolor\": \"#2a3f5f\"}, \"baxis\": {\"endlinecolor\": \"#2a3f5f\", \"gridcolor\": \"white\", \"linecolor\": \"white\", \"minorgridcolor\": \"white\", \"startlinecolor\": \"#2a3f5f\"}, \"type\": \"carpet\"}], \"choropleth\": [{\"colorbar\": {\"outlinewidth\": 0, \"ticks\": \"\"}, \"type\": \"choropleth\"}], \"contour\": [{\"colorbar\": {\"outlinewidth\": 0, \"ticks\": \"\"}, \"colorscale\": [[0.0, \"#0d0887\"], [0.1111111111111111, \"#46039f\"], [0.2222222222222222, \"#7201a8\"], [0.3333333333333333, \"#9c179e\"], [0.4444444444444444, \"#bd3786\"], [0.5555555555555556, \"#d8576b\"], [0.6666666666666666, \"#ed7953\"], [0.7777777777777778, \"#fb9f3a\"], [0.8888888888888888, \"#fdca26\"], [1.0, \"#f0f921\"]], \"type\": \"contour\"}], \"contourcarpet\": [{\"colorbar\": {\"outlinewidth\": 0, \"ticks\": \"\"}, \"type\": \"contourcarpet\"}], \"heatmap\": [{\"colorbar\": {\"outlinewidth\": 0, \"ticks\": \"\"}, \"colorscale\": [[0.0, \"#0d0887\"], [0.1111111111111111, \"#46039f\"], [0.2222222222222222, \"#7201a8\"], [0.3333333333333333, \"#9c179e\"], [0.4444444444444444, \"#bd3786\"], [0.5555555555555556, \"#d8576b\"], [0.6666666666666666, \"#ed7953\"], [0.7777777777777778, \"#fb9f3a\"], [0.8888888888888888, \"#fdca26\"], [1.0, \"#f0f921\"]], \"type\": \"heatmap\"}], \"heatmapgl\": [{\"colorbar\": {\"outlinewidth\": 0, \"ticks\": \"\"}, \"colorscale\": [[0.0, \"#0d0887\"], [0.1111111111111111, \"#46039f\"], [0.2222222222222222, \"#7201a8\"], [0.3333333333333333, \"#9c179e\"], [0.4444444444444444, \"#bd3786\"], [0.5555555555555556, \"#d8576b\"], [0.6666666666666666, \"#ed7953\"], [0.7777777777777778, \"#fb9f3a\"], [0.8888888888888888, \"#fdca26\"], [1.0, \"#f0f921\"]], \"type\": \"heatmapgl\"}], \"histogram\": [{\"marker\": {\"colorbar\": {\"outlinewidth\": 0, \"ticks\": \"\"}}, \"type\": \"histogram\"}], \"histogram2d\": [{\"colorbar\": {\"outlinewidth\": 0, \"ticks\": \"\"}, \"colorscale\": [[0.0, \"#0d0887\"], [0.1111111111111111, \"#46039f\"], [0.2222222222222222, \"#7201a8\"], [0.3333333333333333, \"#9c179e\"], [0.4444444444444444, \"#bd3786\"], [0.5555555555555556, \"#d8576b\"], [0.6666666666666666, \"#ed7953\"], [0.7777777777777778, \"#fb9f3a\"], [0.8888888888888888, \"#fdca26\"], [1.0, \"#f0f921\"]], \"type\": \"histogram2d\"}], \"histogram2dcontour\": [{\"colorbar\": {\"outlinewidth\": 0, \"ticks\": \"\"}, \"colorscale\": [[0.0, \"#0d0887\"], [0.1111111111111111, \"#46039f\"], [0.2222222222222222, \"#7201a8\"], [0.3333333333333333, \"#9c179e\"], [0.4444444444444444, \"#bd3786\"], [0.5555555555555556, \"#d8576b\"], [0.6666666666666666, \"#ed7953\"], [0.7777777777777778, \"#fb9f3a\"], [0.8888888888888888, \"#fdca26\"], [1.0, \"#f0f921\"]], \"type\": \"histogram2dcontour\"}], \"mesh3d\": [{\"colorbar\": {\"outlinewidth\": 0, \"ticks\": \"\"}, \"type\": \"mesh3d\"}], \"parcoords\": [{\"line\": {\"colorbar\": {\"outlinewidth\": 0, \"ticks\": \"\"}}, \"type\": \"parcoords\"}], \"pie\": [{\"automargin\": true, \"type\": \"pie\"}], \"scatter\": [{\"marker\": {\"colorbar\": {\"outlinewidth\": 0, \"ticks\": \"\"}}, \"type\": \"scatter\"}], \"scatter3d\": [{\"line\": {\"colorbar\": {\"outlinewidth\": 0, \"ticks\": \"\"}}, \"marker\": {\"colorbar\": {\"outlinewidth\": 0, \"ticks\": \"\"}}, \"type\": \"scatter3d\"}], \"scattercarpet\": [{\"marker\": {\"colorbar\": {\"outlinewidth\": 0, \"ticks\": \"\"}}, \"type\": \"scattercarpet\"}], \"scattergeo\": [{\"marker\": {\"colorbar\": {\"outlinewidth\": 0, \"ticks\": \"\"}}, \"type\": \"scattergeo\"}], \"scattergl\": [{\"marker\": {\"colorbar\": {\"outlinewidth\": 0, \"ticks\": \"\"}}, \"type\": \"scattergl\"}], \"scattermapbox\": [{\"marker\": {\"colorbar\": {\"outlinewidth\": 0, \"ticks\": \"\"}}, \"type\": \"scattermapbox\"}], \"scatterpolar\": [{\"marker\": {\"colorbar\": {\"outlinewidth\": 0, \"ticks\": \"\"}}, \"type\": \"scatterpolar\"}], \"scatterpolargl\": [{\"marker\": {\"colorbar\": {\"outlinewidth\": 0, \"ticks\": \"\"}}, \"type\": \"scatterpolargl\"}], \"scatterternary\": [{\"marker\": {\"colorbar\": {\"outlinewidth\": 0, \"ticks\": \"\"}}, \"type\": \"scatterternary\"}], \"surface\": [{\"colorbar\": {\"outlinewidth\": 0, \"ticks\": \"\"}, \"colorscale\": [[0.0, \"#0d0887\"], [0.1111111111111111, \"#46039f\"], [0.2222222222222222, \"#7201a8\"], [0.3333333333333333, \"#9c179e\"], [0.4444444444444444, \"#bd3786\"], [0.5555555555555556, \"#d8576b\"], [0.6666666666666666, \"#ed7953\"], [0.7777777777777778, \"#fb9f3a\"], [0.8888888888888888, \"#fdca26\"], [1.0, \"#f0f921\"]], \"type\": \"surface\"}], \"table\": [{\"cells\": {\"fill\": {\"color\": \"#EBF0F8\"}, \"line\": {\"color\": \"white\"}}, \"header\": {\"fill\": {\"color\": \"#C8D4E3\"}, \"line\": {\"color\": \"white\"}}, \"type\": \"table\"}]}, \"layout\": {\"annotationdefaults\": {\"arrowcolor\": \"#2a3f5f\", \"arrowhead\": 0, \"arrowwidth\": 1}, \"coloraxis\": {\"colorbar\": {\"outlinewidth\": 0, \"ticks\": \"\"}}, \"colorscale\": {\"diverging\": [[0, \"#8e0152\"], [0.1, \"#c51b7d\"], [0.2, \"#de77ae\"], [0.3, \"#f1b6da\"], [0.4, \"#fde0ef\"], [0.5, \"#f7f7f7\"], [0.6, \"#e6f5d0\"], [0.7, \"#b8e186\"], [0.8, \"#7fbc41\"], [0.9, \"#4d9221\"], [1, \"#276419\"]], \"sequential\": [[0.0, \"#0d0887\"], [0.1111111111111111, \"#46039f\"], [0.2222222222222222, \"#7201a8\"], [0.3333333333333333, \"#9c179e\"], [0.4444444444444444, \"#bd3786\"], [0.5555555555555556, \"#d8576b\"], [0.6666666666666666, \"#ed7953\"], [0.7777777777777778, \"#fb9f3a\"], [0.8888888888888888, \"#fdca26\"], [1.0, \"#f0f921\"]], \"sequentialminus\": [[0.0, \"#0d0887\"], [0.1111111111111111, \"#46039f\"], [0.2222222222222222, \"#7201a8\"], [0.3333333333333333, \"#9c179e\"], [0.4444444444444444, \"#bd3786\"], [0.5555555555555556, \"#d8576b\"], [0.6666666666666666, \"#ed7953\"], [0.7777777777777778, \"#fb9f3a\"], [0.8888888888888888, \"#fdca26\"], [1.0, \"#f0f921\"]]}, \"colorway\": [\"#636efa\", \"#EF553B\", \"#00cc96\", \"#ab63fa\", \"#FFA15A\", \"#19d3f3\", \"#FF6692\", \"#B6E880\", \"#FF97FF\", \"#FECB52\"], \"font\": {\"color\": \"#2a3f5f\"}, \"geo\": {\"bgcolor\": \"white\", \"lakecolor\": \"white\", \"landcolor\": \"#E5ECF6\", \"showlakes\": true, \"showland\": true, \"subunitcolor\": \"white\"}, \"hoverlabel\": {\"align\": \"left\"}, \"hovermode\": \"closest\", \"mapbox\": {\"style\": \"light\"}, \"paper_bgcolor\": \"white\", \"plot_bgcolor\": \"#E5ECF6\", \"polar\": {\"angularaxis\": {\"gridcolor\": \"white\", \"linecolor\": \"white\", \"ticks\": \"\"}, \"bgcolor\": \"#E5ECF6\", \"radialaxis\": {\"gridcolor\": \"white\", \"linecolor\": \"white\", \"ticks\": \"\"}}, \"scene\": {\"xaxis\": {\"backgroundcolor\": \"#E5ECF6\", \"gridcolor\": \"white\", \"gridwidth\": 2, \"linecolor\": \"white\", \"showbackground\": true, \"ticks\": \"\", \"zerolinecolor\": \"white\"}, \"yaxis\": {\"backgroundcolor\": \"#E5ECF6\", \"gridcolor\": \"white\", \"gridwidth\": 2, \"linecolor\": \"white\", \"showbackground\": true, \"ticks\": \"\", \"zerolinecolor\": \"white\"}, \"zaxis\": {\"backgroundcolor\": \"#E5ECF6\", \"gridcolor\": \"white\", \"gridwidth\": 2, \"linecolor\": \"white\", \"showbackground\": true, \"ticks\": \"\", \"zerolinecolor\": \"white\"}}, \"shapedefaults\": {\"line\": {\"color\": \"#2a3f5f\"}}, \"ternary\": {\"aaxis\": {\"gridcolor\": \"white\", \"linecolor\": \"white\", \"ticks\": \"\"}, \"baxis\": {\"gridcolor\": \"white\", \"linecolor\": \"white\", \"ticks\": \"\"}, \"bgcolor\": \"#E5ECF6\", \"caxis\": {\"gridcolor\": \"white\", \"linecolor\": \"white\", \"ticks\": \"\"}}, \"title\": {\"x\": 0.05}, \"xaxis\": {\"automargin\": true, \"gridcolor\": \"white\", \"linecolor\": \"white\", \"ticks\": \"\", \"title\": {\"standoff\": 15}, \"zerolinecolor\": \"white\", \"zerolinewidth\": 2}, \"yaxis\": {\"automargin\": true, \"gridcolor\": \"white\", \"linecolor\": \"white\", \"ticks\": \"\", \"title\": {\"standoff\": 15}, \"zerolinecolor\": \"white\", \"zerolinewidth\": 2}}}, \"title\": {\"text\": \"\\u062a\\u0639\\u062f\\u0627\\u062f \\u0641\\u06cc\\u0644\\u0645 \\u0647\\u0627 \\u0628\\u0647 \\u062a\\u0641\\u06a9\\u06cc\\u06a9 \\u0698\\u0627\\u0646\\u0631\"}, \"width\": 800},\n",
              "                        {\"responsive\": true}\n",
              "                    ).then(function(){\n",
              "                            \n",
              "var gd = document.getElementById('86d6d6d5-b86b-430f-99b0-d2d712c03bce');\n",
              "var x = new MutationObserver(function (mutations, observer) {{\n",
              "        var display = window.getComputedStyle(gd).display;\n",
              "        if (!display || display === 'none') {{\n",
              "            console.log([gd, 'removed!']);\n",
              "            Plotly.purge(gd);\n",
              "            observer.disconnect();\n",
              "        }}\n",
              "}});\n",
              "\n",
              "// Listen for the removal of the full notebook cells\n",
              "var notebookContainer = gd.closest('#notebook-container');\n",
              "if (notebookContainer) {{\n",
              "    x.observe(notebookContainer, {childList: true});\n",
              "}}\n",
              "\n",
              "// Listen for the clearing of the current output cell\n",
              "var outputEl = gd.closest('.output');\n",
              "if (outputEl) {{\n",
              "    x.observe(outputEl, {childList: true});\n",
              "}}\n",
              "\n",
              "                        })\n",
              "                };\n",
              "                \n",
              "            </script>\n",
              "        </div>\n",
              "</body>\n",
              "</html>"
            ]
          },
          "metadata": {}
        }
      ]
    },
    {
      "cell_type": "markdown",
      "metadata": {
        "id": "ZcMXBe2pGAF7"
      },
      "source": [
        "###*Task_2 : Find the number of rates for each movie*"
      ]
    },
    {
      "cell_type": "code",
      "metadata": {
        "colab": {
          "base_uri": "https://localhost:8080/"
        },
        "id": "iuNaqdI6_SmQ",
        "outputId": "1536f51a-85cd-4710-83cf-785c52ae20e8"
      },
      "source": [
        "'''\n",
        "Similar to previous task,\n",
        "grouping df_split_genres by 'Genre' column\n",
        "and sum up all rates for each genre,\n",
        "ultimately sort values by descending order :\n",
        "'''\n",
        "\n",
        "genre_rates = df_split_genres.groupby('Genre').sum()['Rate'].sort_values(ascending = False)\n",
        "genre_rates"
      ],
      "execution_count": null,
      "outputs": [
        {
          "output_type": "execute_result",
          "data": {
            "text/plain": [
              "Genre\n",
              "خانوادگی        839953.0\n",
              "اجتماعی         506972.0\n",
              "کمدی            255972.0\n",
              "عاشقانه         102305.0\n",
              "اکشن             47923.0\n",
              "مستند            25700.0\n",
              "فیلم کوتاه       24877.0\n",
              "جنگی             21214.0\n",
              "داستانی          12343.0\n",
              "پلیسی معمایی      7410.0\n",
              "سیاسی تاریخی      7078.0\n",
              "فیلم تئاتر        6688.0\n",
              "هیجان انگیز       6261.0\n",
              "وحشت              5477.0\n",
              "کودک              5201.0\n",
              "بیوگرافی          5090.0\n",
              "پژوهشی            2998.0\n",
              "تاریخی            1113.0\n",
              "هاردتاک            922.0\n",
              "تاک شو             922.0\n",
              "ماجراجویی          655.0\n",
              "کنسرت              244.0\n",
              "انیمیشن             52.0\n",
              "ورزشی               40.0\n",
              "Name: Rate, dtype: float64"
            ]
          },
          "metadata": {},
          "execution_count": 448
        }
      ]
    },
    {
      "cell_type": "code",
      "metadata": {
        "id": "DsJXdbI2HLw_"
      },
      "source": [
        "# Store genre names in 'genre' variable :\n",
        "genre = genre_rates.index\n",
        "# Store rates in 'rate' variable :\n",
        "rate = genre_rates.values"
      ],
      "execution_count": null,
      "outputs": []
    },
    {
      "cell_type": "code",
      "metadata": {
        "colab": {
          "base_uri": "https://localhost:8080/",
          "height": 542
        },
        "id": "xfDxq9WjYJ1-",
        "outputId": "588f76af-5a86-4256-ab17-86aa99c1bbe7"
      },
      "source": [
        "# plot genre and rate into a bar chart format :\n",
        "fig = go.Figure(data=[go.Bar(x=genre, y=rate\n",
        "            )])\n",
        "fig.update_traces(marker_color='orange', marker_line_color='blue',\n",
        "                  marker_line_width=3, opacity=0.9)\n",
        "fig.update_layout(title_text=\"تعداد آرای هر ژانر\",\n",
        "                  title_font_size=30,\n",
        "                  \n",
        "                   font=dict(\n",
        "        family=\"Courier New, monospace\",\n",
        "        size=20,\n",
        "        color=\"blue\")\n",
        "    )\n",
        "                  \n",
        "\n",
        "fig.show()"
      ],
      "execution_count": null,
      "outputs": [
        {
          "output_type": "display_data",
          "data": {
            "text/html": [
              "<html>\n",
              "<head><meta charset=\"utf-8\" /></head>\n",
              "<body>\n",
              "    <div>\n",
              "            <script src=\"https://cdnjs.cloudflare.com/ajax/libs/mathjax/2.7.5/MathJax.js?config=TeX-AMS-MML_SVG\"></script><script type=\"text/javascript\">if (window.MathJax) {MathJax.Hub.Config({SVG: {font: \"STIX-Web\"}});}</script>\n",
              "                <script type=\"text/javascript\">window.PlotlyConfig = {MathJaxConfig: 'local'};</script>\n",
              "        <script src=\"https://cdn.plot.ly/plotly-latest.min.js\"></script>    \n",
              "            <div id=\"f510e74f-9d92-45ae-a03c-cff2bd62dba8\" class=\"plotly-graph-div\" style=\"height:525px; width:100%;\"></div>\n",
              "            <script type=\"text/javascript\">\n",
              "                \n",
              "                    window.PLOTLYENV=window.PLOTLYENV || {};\n",
              "                    \n",
              "                if (document.getElementById(\"f510e74f-9d92-45ae-a03c-cff2bd62dba8\")) {\n",
              "                    Plotly.newPlot(\n",
              "                        'f510e74f-9d92-45ae-a03c-cff2bd62dba8',\n",
              "                        [{\"marker\": {\"color\": \"orange\", \"line\": {\"color\": \"blue\", \"width\": 3}}, \"opacity\": 0.9, \"type\": \"bar\", \"x\": [\"\\u062e\\u0627\\u0646\\u0648\\u0627\\u062f\\u06af\\u06cc\", \"\\u0627\\u062c\\u062a\\u0645\\u0627\\u0639\\u06cc\", \"\\u06a9\\u0645\\u062f\\u06cc\", \"\\u0639\\u0627\\u0634\\u0642\\u0627\\u0646\\u0647\", \"\\u0627\\u06a9\\u0634\\u0646\", \"\\u0645\\u0633\\u062a\\u0646\\u062f\", \"\\u0641\\u06cc\\u0644\\u0645 \\u06a9\\u0648\\u062a\\u0627\\u0647\", \"\\u062c\\u0646\\u06af\\u06cc\", \"\\u062f\\u0627\\u0633\\u062a\\u0627\\u0646\\u06cc\", \"\\u067e\\u0644\\u06cc\\u0633\\u06cc \\u0645\\u0639\\u0645\\u0627\\u06cc\\u06cc\", \"\\u0633\\u06cc\\u0627\\u0633\\u06cc \\u062a\\u0627\\u0631\\u06cc\\u062e\\u06cc\", \"\\u0641\\u06cc\\u0644\\u0645 \\u062a\\u0626\\u0627\\u062a\\u0631\", \"\\u0647\\u06cc\\u062c\\u0627\\u0646 \\u0627\\u0646\\u06af\\u06cc\\u0632\", \"\\u0648\\u062d\\u0634\\u062a\", \"\\u06a9\\u0648\\u062f\\u06a9\", \"\\u0628\\u06cc\\u0648\\u06af\\u0631\\u0627\\u0641\\u06cc\", \"\\u067e\\u0698\\u0648\\u0647\\u0634\\u06cc\", \"\\u062a\\u0627\\u0631\\u06cc\\u062e\\u06cc\", \"\\u0647\\u0627\\u0631\\u062f\\u062a\\u0627\\u06a9\", \"\\u062a\\u0627\\u06a9 \\u0634\\u0648\", \"\\u0645\\u0627\\u062c\\u0631\\u0627\\u062c\\u0648\\u06cc\\u06cc\", \"\\u06a9\\u0646\\u0633\\u0631\\u062a\", \"\\u0627\\u0646\\u06cc\\u0645\\u06cc\\u0634\\u0646\", \"\\u0648\\u0631\\u0632\\u0634\\u06cc\"], \"y\": [839953.0, 506972.0, 255972.0, 102305.0, 47923.0, 25700.0, 24877.0, 21214.0, 12343.0, 7410.0, 7078.0, 6688.0, 6261.0, 5477.0, 5201.0, 5090.0, 2998.0, 1113.0, 922.0, 922.0, 655.0, 244.0, 52.0, 40.0]}],\n",
              "                        {\"font\": {\"color\": \"blue\", \"family\": \"Courier New, monospace\", \"size\": 20}, \"template\": {\"data\": {\"bar\": [{\"error_x\": {\"color\": \"#2a3f5f\"}, \"error_y\": {\"color\": \"#2a3f5f\"}, \"marker\": {\"line\": {\"color\": \"#E5ECF6\", \"width\": 0.5}}, \"type\": \"bar\"}], \"barpolar\": [{\"marker\": {\"line\": {\"color\": \"#E5ECF6\", \"width\": 0.5}}, \"type\": \"barpolar\"}], \"carpet\": [{\"aaxis\": {\"endlinecolor\": \"#2a3f5f\", \"gridcolor\": \"white\", \"linecolor\": \"white\", \"minorgridcolor\": \"white\", \"startlinecolor\": \"#2a3f5f\"}, \"baxis\": {\"endlinecolor\": \"#2a3f5f\", \"gridcolor\": \"white\", \"linecolor\": \"white\", \"minorgridcolor\": \"white\", \"startlinecolor\": \"#2a3f5f\"}, \"type\": \"carpet\"}], \"choropleth\": [{\"colorbar\": {\"outlinewidth\": 0, \"ticks\": \"\"}, \"type\": \"choropleth\"}], \"contour\": [{\"colorbar\": {\"outlinewidth\": 0, \"ticks\": \"\"}, \"colorscale\": [[0.0, \"#0d0887\"], [0.1111111111111111, \"#46039f\"], [0.2222222222222222, \"#7201a8\"], [0.3333333333333333, \"#9c179e\"], [0.4444444444444444, \"#bd3786\"], [0.5555555555555556, \"#d8576b\"], [0.6666666666666666, \"#ed7953\"], [0.7777777777777778, \"#fb9f3a\"], [0.8888888888888888, \"#fdca26\"], [1.0, \"#f0f921\"]], \"type\": \"contour\"}], \"contourcarpet\": [{\"colorbar\": {\"outlinewidth\": 0, \"ticks\": \"\"}, \"type\": \"contourcarpet\"}], \"heatmap\": [{\"colorbar\": {\"outlinewidth\": 0, \"ticks\": \"\"}, \"colorscale\": [[0.0, \"#0d0887\"], [0.1111111111111111, \"#46039f\"], [0.2222222222222222, \"#7201a8\"], [0.3333333333333333, \"#9c179e\"], [0.4444444444444444, \"#bd3786\"], [0.5555555555555556, \"#d8576b\"], [0.6666666666666666, \"#ed7953\"], [0.7777777777777778, \"#fb9f3a\"], [0.8888888888888888, \"#fdca26\"], [1.0, \"#f0f921\"]], \"type\": \"heatmap\"}], \"heatmapgl\": [{\"colorbar\": {\"outlinewidth\": 0, \"ticks\": \"\"}, \"colorscale\": [[0.0, \"#0d0887\"], [0.1111111111111111, \"#46039f\"], [0.2222222222222222, \"#7201a8\"], [0.3333333333333333, \"#9c179e\"], [0.4444444444444444, \"#bd3786\"], [0.5555555555555556, \"#d8576b\"], [0.6666666666666666, \"#ed7953\"], [0.7777777777777778, \"#fb9f3a\"], [0.8888888888888888, \"#fdca26\"], [1.0, \"#f0f921\"]], \"type\": \"heatmapgl\"}], \"histogram\": [{\"marker\": {\"colorbar\": {\"outlinewidth\": 0, \"ticks\": \"\"}}, \"type\": \"histogram\"}], \"histogram2d\": [{\"colorbar\": {\"outlinewidth\": 0, \"ticks\": \"\"}, \"colorscale\": [[0.0, \"#0d0887\"], [0.1111111111111111, \"#46039f\"], [0.2222222222222222, \"#7201a8\"], [0.3333333333333333, \"#9c179e\"], [0.4444444444444444, \"#bd3786\"], [0.5555555555555556, \"#d8576b\"], [0.6666666666666666, \"#ed7953\"], [0.7777777777777778, \"#fb9f3a\"], [0.8888888888888888, \"#fdca26\"], [1.0, \"#f0f921\"]], \"type\": \"histogram2d\"}], \"histogram2dcontour\": [{\"colorbar\": {\"outlinewidth\": 0, \"ticks\": \"\"}, \"colorscale\": [[0.0, \"#0d0887\"], [0.1111111111111111, \"#46039f\"], [0.2222222222222222, \"#7201a8\"], [0.3333333333333333, \"#9c179e\"], [0.4444444444444444, \"#bd3786\"], [0.5555555555555556, \"#d8576b\"], [0.6666666666666666, \"#ed7953\"], [0.7777777777777778, \"#fb9f3a\"], [0.8888888888888888, \"#fdca26\"], [1.0, \"#f0f921\"]], \"type\": \"histogram2dcontour\"}], \"mesh3d\": [{\"colorbar\": {\"outlinewidth\": 0, \"ticks\": \"\"}, \"type\": \"mesh3d\"}], \"parcoords\": [{\"line\": {\"colorbar\": {\"outlinewidth\": 0, \"ticks\": \"\"}}, \"type\": \"parcoords\"}], \"pie\": [{\"automargin\": true, \"type\": \"pie\"}], \"scatter\": [{\"marker\": {\"colorbar\": {\"outlinewidth\": 0, \"ticks\": \"\"}}, \"type\": \"scatter\"}], \"scatter3d\": [{\"line\": {\"colorbar\": {\"outlinewidth\": 0, \"ticks\": \"\"}}, \"marker\": {\"colorbar\": {\"outlinewidth\": 0, \"ticks\": \"\"}}, \"type\": \"scatter3d\"}], \"scattercarpet\": [{\"marker\": {\"colorbar\": {\"outlinewidth\": 0, \"ticks\": \"\"}}, \"type\": \"scattercarpet\"}], \"scattergeo\": [{\"marker\": {\"colorbar\": {\"outlinewidth\": 0, \"ticks\": \"\"}}, \"type\": \"scattergeo\"}], \"scattergl\": [{\"marker\": {\"colorbar\": {\"outlinewidth\": 0, \"ticks\": \"\"}}, \"type\": \"scattergl\"}], \"scattermapbox\": [{\"marker\": {\"colorbar\": {\"outlinewidth\": 0, \"ticks\": \"\"}}, \"type\": \"scattermapbox\"}], \"scatterpolar\": [{\"marker\": {\"colorbar\": {\"outlinewidth\": 0, \"ticks\": \"\"}}, \"type\": \"scatterpolar\"}], \"scatterpolargl\": [{\"marker\": {\"colorbar\": {\"outlinewidth\": 0, \"ticks\": \"\"}}, \"type\": \"scatterpolargl\"}], \"scatterternary\": [{\"marker\": {\"colorbar\": {\"outlinewidth\": 0, \"ticks\": \"\"}}, \"type\": \"scatterternary\"}], \"surface\": [{\"colorbar\": {\"outlinewidth\": 0, \"ticks\": \"\"}, \"colorscale\": [[0.0, \"#0d0887\"], [0.1111111111111111, \"#46039f\"], [0.2222222222222222, \"#7201a8\"], [0.3333333333333333, \"#9c179e\"], [0.4444444444444444, \"#bd3786\"], [0.5555555555555556, \"#d8576b\"], [0.6666666666666666, \"#ed7953\"], [0.7777777777777778, \"#fb9f3a\"], [0.8888888888888888, \"#fdca26\"], [1.0, \"#f0f921\"]], \"type\": \"surface\"}], \"table\": [{\"cells\": {\"fill\": {\"color\": \"#EBF0F8\"}, \"line\": {\"color\": \"white\"}}, \"header\": {\"fill\": {\"color\": \"#C8D4E3\"}, \"line\": {\"color\": \"white\"}}, \"type\": \"table\"}]}, \"layout\": {\"annotationdefaults\": {\"arrowcolor\": \"#2a3f5f\", \"arrowhead\": 0, \"arrowwidth\": 1}, \"coloraxis\": {\"colorbar\": {\"outlinewidth\": 0, \"ticks\": \"\"}}, \"colorscale\": {\"diverging\": [[0, \"#8e0152\"], [0.1, \"#c51b7d\"], [0.2, \"#de77ae\"], [0.3, \"#f1b6da\"], [0.4, \"#fde0ef\"], [0.5, \"#f7f7f7\"], [0.6, \"#e6f5d0\"], [0.7, \"#b8e186\"], [0.8, \"#7fbc41\"], [0.9, \"#4d9221\"], [1, \"#276419\"]], \"sequential\": [[0.0, \"#0d0887\"], [0.1111111111111111, \"#46039f\"], [0.2222222222222222, \"#7201a8\"], [0.3333333333333333, \"#9c179e\"], [0.4444444444444444, \"#bd3786\"], [0.5555555555555556, \"#d8576b\"], [0.6666666666666666, \"#ed7953\"], [0.7777777777777778, \"#fb9f3a\"], [0.8888888888888888, \"#fdca26\"], [1.0, \"#f0f921\"]], \"sequentialminus\": [[0.0, \"#0d0887\"], [0.1111111111111111, \"#46039f\"], [0.2222222222222222, \"#7201a8\"], [0.3333333333333333, \"#9c179e\"], [0.4444444444444444, \"#bd3786\"], [0.5555555555555556, \"#d8576b\"], [0.6666666666666666, \"#ed7953\"], [0.7777777777777778, \"#fb9f3a\"], [0.8888888888888888, \"#fdca26\"], [1.0, \"#f0f921\"]]}, \"colorway\": [\"#636efa\", \"#EF553B\", \"#00cc96\", \"#ab63fa\", \"#FFA15A\", \"#19d3f3\", \"#FF6692\", \"#B6E880\", \"#FF97FF\", \"#FECB52\"], \"font\": {\"color\": \"#2a3f5f\"}, \"geo\": {\"bgcolor\": \"white\", \"lakecolor\": \"white\", \"landcolor\": \"#E5ECF6\", \"showlakes\": true, \"showland\": true, \"subunitcolor\": \"white\"}, \"hoverlabel\": {\"align\": \"left\"}, \"hovermode\": \"closest\", \"mapbox\": {\"style\": \"light\"}, \"paper_bgcolor\": \"white\", \"plot_bgcolor\": \"#E5ECF6\", \"polar\": {\"angularaxis\": {\"gridcolor\": \"white\", \"linecolor\": \"white\", \"ticks\": \"\"}, \"bgcolor\": \"#E5ECF6\", \"radialaxis\": {\"gridcolor\": \"white\", \"linecolor\": \"white\", \"ticks\": \"\"}}, \"scene\": {\"xaxis\": {\"backgroundcolor\": \"#E5ECF6\", \"gridcolor\": \"white\", \"gridwidth\": 2, \"linecolor\": \"white\", \"showbackground\": true, \"ticks\": \"\", \"zerolinecolor\": \"white\"}, \"yaxis\": {\"backgroundcolor\": \"#E5ECF6\", \"gridcolor\": \"white\", \"gridwidth\": 2, \"linecolor\": \"white\", \"showbackground\": true, \"ticks\": \"\", \"zerolinecolor\": \"white\"}, \"zaxis\": {\"backgroundcolor\": \"#E5ECF6\", \"gridcolor\": \"white\", \"gridwidth\": 2, \"linecolor\": \"white\", \"showbackground\": true, \"ticks\": \"\", \"zerolinecolor\": \"white\"}}, \"shapedefaults\": {\"line\": {\"color\": \"#2a3f5f\"}}, \"ternary\": {\"aaxis\": {\"gridcolor\": \"white\", \"linecolor\": \"white\", \"ticks\": \"\"}, \"baxis\": {\"gridcolor\": \"white\", \"linecolor\": \"white\", \"ticks\": \"\"}, \"bgcolor\": \"#E5ECF6\", \"caxis\": {\"gridcolor\": \"white\", \"linecolor\": \"white\", \"ticks\": \"\"}}, \"title\": {\"x\": 0.05}, \"xaxis\": {\"automargin\": true, \"gridcolor\": \"white\", \"linecolor\": \"white\", \"ticks\": \"\", \"title\": {\"standoff\": 15}, \"zerolinecolor\": \"white\", \"zerolinewidth\": 2}, \"yaxis\": {\"automargin\": true, \"gridcolor\": \"white\", \"linecolor\": \"white\", \"ticks\": \"\", \"title\": {\"standoff\": 15}, \"zerolinecolor\": \"white\", \"zerolinewidth\": 2}}}, \"title\": {\"font\": {\"size\": 30}, \"text\": \"\\u062a\\u0639\\u062f\\u0627\\u062f \\u0622\\u0631\\u0627\\u06cc \\u0647\\u0631 \\u0698\\u0627\\u0646\\u0631\"}},\n",
              "                        {\"responsive\": true}\n",
              "                    ).then(function(){\n",
              "                            \n",
              "var gd = document.getElementById('f510e74f-9d92-45ae-a03c-cff2bd62dba8');\n",
              "var x = new MutationObserver(function (mutations, observer) {{\n",
              "        var display = window.getComputedStyle(gd).display;\n",
              "        if (!display || display === 'none') {{\n",
              "            console.log([gd, 'removed!']);\n",
              "            Plotly.purge(gd);\n",
              "            observer.disconnect();\n",
              "        }}\n",
              "}});\n",
              "\n",
              "// Listen for the removal of the full notebook cells\n",
              "var notebookContainer = gd.closest('#notebook-container');\n",
              "if (notebookContainer) {{\n",
              "    x.observe(notebookContainer, {childList: true});\n",
              "}}\n",
              "\n",
              "// Listen for the clearing of the current output cell\n",
              "var outputEl = gd.closest('.output');\n",
              "if (outputEl) {{\n",
              "    x.observe(outputEl, {childList: true});\n",
              "}}\n",
              "\n",
              "                        })\n",
              "                };\n",
              "                \n",
              "            </script>\n",
              "        </div>\n",
              "</body>\n",
              "</html>"
            ]
          },
          "metadata": {}
        }
      ]
    },
    {
      "cell_type": "markdown",
      "metadata": {
        "id": "6TnD5eBIHiZP"
      },
      "source": [
        "###Task_3 : *Number of productions based on year.*"
      ]
    },
    {
      "cell_type": "code",
      "metadata": {
        "colab": {
          "base_uri": "https://localhost:8080/",
          "height": 206
        },
        "id": "QlMrWD4lIDZU",
        "outputId": "da13e567-6823-4b85-e794-4f336b13db66"
      },
      "source": [
        "# first have a overview at our main dataset :\n",
        "df.head()"
      ],
      "execution_count": null,
      "outputs": [
        {
          "output_type": "execute_result",
          "data": {
            "text/html": [
              "<div>\n",
              "<style scoped>\n",
              "    .dataframe tbody tr th:only-of-type {\n",
              "        vertical-align: middle;\n",
              "    }\n",
              "\n",
              "    .dataframe tbody tr th {\n",
              "        vertical-align: top;\n",
              "    }\n",
              "\n",
              "    .dataframe thead th {\n",
              "        text-align: right;\n",
              "    }\n",
              "</style>\n",
              "<table border=\"1\" class=\"dataframe\">\n",
              "  <thead>\n",
              "    <tr style=\"text-align: right;\">\n",
              "      <th></th>\n",
              "      <th>Title</th>\n",
              "      <th>Production</th>\n",
              "      <th>Actor</th>\n",
              "      <th>Producer</th>\n",
              "      <th>Rate</th>\n",
              "      <th>Rate_percent</th>\n",
              "      <th>Imdb</th>\n",
              "    </tr>\n",
              "  </thead>\n",
              "  <tbody>\n",
              "    <tr>\n",
              "      <th>0</th>\n",
              "      <td>هفته ای یک بار آدم باش</td>\n",
              "      <td>1399.0</td>\n",
              "      <td>['پژمان جمشیدی', 'رعنا آزادی ور', 'ساغر قناعت'...</td>\n",
              "      <td>شهرام شاه حسینی</td>\n",
              "      <td>NaN</td>\n",
              "      <td>NaN</td>\n",
              "      <td>NaN</td>\n",
              "    </tr>\n",
              "    <tr>\n",
              "      <th>1</th>\n",
              "      <td>خورشید هر روز از قرقی طلوع می کند</td>\n",
              "      <td>1400.0</td>\n",
              "      <td>NaN</td>\n",
              "      <td>یحیی آزادی</td>\n",
              "      <td>12.0</td>\n",
              "      <td>85.0</td>\n",
              "      <td>NaN</td>\n",
              "    </tr>\n",
              "    <tr>\n",
              "      <th>2</th>\n",
              "      <td>بچه خور</td>\n",
              "      <td>1397.0</td>\n",
              "      <td>['علیرضا حکیمی', 'علیرضا مهران', 'فرحانه سبحان...</td>\n",
              "      <td>محمد کارت</td>\n",
              "      <td>12482.0</td>\n",
              "      <td>91.0</td>\n",
              "      <td>NaN</td>\n",
              "    </tr>\n",
              "    <tr>\n",
              "      <th>3</th>\n",
              "      <td>یک کار نیمه مردانه</td>\n",
              "      <td>1400.0</td>\n",
              "      <td>NaN</td>\n",
              "      <td>مسعود کارگر</td>\n",
              "      <td>41.0</td>\n",
              "      <td>92.0</td>\n",
              "      <td>NaN</td>\n",
              "    </tr>\n",
              "    <tr>\n",
              "      <th>4</th>\n",
              "      <td>فیلیموشات: محمدحسین مهدویان</td>\n",
              "      <td>1400.0</td>\n",
              "      <td>NaN</td>\n",
              "      <td>NaN</td>\n",
              "      <td>922.0</td>\n",
              "      <td>92.0</td>\n",
              "      <td>NaN</td>\n",
              "    </tr>\n",
              "  </tbody>\n",
              "</table>\n",
              "</div>"
            ],
            "text/plain": [
              "                               Title  Production  ... Rate_percent Imdb\n",
              "0             هفته ای یک بار آدم باش      1399.0  ...          NaN  NaN\n",
              "1  خورشید هر روز از قرقی طلوع می کند      1400.0  ...         85.0  NaN\n",
              "2                            بچه خور      1397.0  ...         91.0  NaN\n",
              "3                 یک کار نیمه مردانه      1400.0  ...         92.0  NaN\n",
              "4        فیلیموشات: محمدحسین مهدویان      1400.0  ...         92.0  NaN\n",
              "\n",
              "[5 rows x 7 columns]"
            ]
          },
          "metadata": {},
          "execution_count": 451
        }
      ]
    },
    {
      "cell_type": "code",
      "metadata": {
        "id": "PBa-uvYUdcE2"
      },
      "source": [
        "'''\n",
        "grouping dataframe by production year,\n",
        "get the count of titles based on production year,\n",
        "sort counts by descending order :\n",
        "'''\n",
        "production_grouped = df.groupby('Production').count().sort_values('Production', ascending = True)\n",
        "year = production_grouped.index \n",
        "movie_count = production_grouped['Title']"
      ],
      "execution_count": null,
      "outputs": []
    },
    {
      "cell_type": "code",
      "metadata": {
        "colab": {
          "base_uri": "https://localhost:8080/",
          "height": 542
        },
        "id": "h9qMnqCc_1NM",
        "outputId": "8fa0ff4b-8eca-46ea-cf81-272d1430346c"
      },
      "source": [
        "# plot year and movie_count into a linear chart format :\n",
        "fig = px.line(x=year, y=movie_count)\n",
        "fig.add_trace(go.Scatter(\n",
        "    x=year,\n",
        "    y=movie_count,\n",
        "    name='تعداد فیلم',\n",
        "))\n",
        "fig.update_layout(title_text=\"تعداد فیلم ها به تفکیک سال\",\n",
        "                  title_font_size=30,\n",
        "                  \n",
        "                   font=dict(\n",
        "        family=\"Courier New, monospace\",\n",
        "        size=20,\n",
        "        color=\"blue\")\n",
        "    )\n",
        "\n",
        "fig.show()"
      ],
      "execution_count": null,
      "outputs": [
        {
          "output_type": "display_data",
          "data": {
            "text/html": [
              "<html>\n",
              "<head><meta charset=\"utf-8\" /></head>\n",
              "<body>\n",
              "    <div>\n",
              "            <script src=\"https://cdnjs.cloudflare.com/ajax/libs/mathjax/2.7.5/MathJax.js?config=TeX-AMS-MML_SVG\"></script><script type=\"text/javascript\">if (window.MathJax) {MathJax.Hub.Config({SVG: {font: \"STIX-Web\"}});}</script>\n",
              "                <script type=\"text/javascript\">window.PlotlyConfig = {MathJaxConfig: 'local'};</script>\n",
              "        <script src=\"https://cdn.plot.ly/plotly-latest.min.js\"></script>    \n",
              "            <div id=\"5590b4b1-29da-466c-b5c2-83b03a8b5fe2\" class=\"plotly-graph-div\" style=\"height:525px; width:100%;\"></div>\n",
              "            <script type=\"text/javascript\">\n",
              "                \n",
              "                    window.PLOTLYENV=window.PLOTLYENV || {};\n",
              "                    \n",
              "                if (document.getElementById(\"5590b4b1-29da-466c-b5c2-83b03a8b5fe2\")) {\n",
              "                    Plotly.newPlot(\n",
              "                        '5590b4b1-29da-466c-b5c2-83b03a8b5fe2',\n",
              "                        [{\"hoverlabel\": {\"namelength\": 0}, \"hovertemplate\": \"x=%{x}<br>y=%{y}\", \"legendgroup\": \"\", \"line\": {\"color\": \"#636efa\", \"dash\": \"solid\"}, \"mode\": \"lines\", \"name\": \"\", \"showlegend\": false, \"type\": \"scatter\", \"x\": [1346.0, 1365.0, 1366.0, 1367.0, 1368.0, 1369.0, 1370.0, 1371.0, 1372.0, 1373.0, 1375.0, 1376.0, 1378.0, 1380.0, 1381.0, 1382.0, 1383.0, 1384.0, 1385.0, 1386.0, 1387.0, 1388.0, 1389.0, 1390.0, 1391.0, 1392.0, 1393.0, 1394.0, 1395.0, 1396.0, 1397.0, 1398.0, 1399.0, 1400.0], \"xaxis\": \"x\", \"y\": [1, 1, 1, 1, 1, 1, 2, 1, 3, 2, 3, 1, 1, 4, 4, 7, 7, 7, 26, 12, 12, 16, 29, 4, 8, 10, 14, 14, 23, 42, 50, 46, 36, 9], \"yaxis\": \"y\"}, {\"name\": \"\\u062a\\u0639\\u062f\\u0627\\u062f \\u0641\\u06cc\\u0644\\u0645\", \"type\": \"scatter\", \"x\": [1346.0, 1365.0, 1366.0, 1367.0, 1368.0, 1369.0, 1370.0, 1371.0, 1372.0, 1373.0, 1375.0, 1376.0, 1378.0, 1380.0, 1381.0, 1382.0, 1383.0, 1384.0, 1385.0, 1386.0, 1387.0, 1388.0, 1389.0, 1390.0, 1391.0, 1392.0, 1393.0, 1394.0, 1395.0, 1396.0, 1397.0, 1398.0, 1399.0, 1400.0], \"y\": [1, 1, 1, 1, 1, 1, 2, 1, 3, 2, 3, 1, 1, 4, 4, 7, 7, 7, 26, 12, 12, 16, 29, 4, 8, 10, 14, 14, 23, 42, 50, 46, 36, 9]}],\n",
              "                        {\"font\": {\"color\": \"blue\", \"family\": \"Courier New, monospace\", \"size\": 20}, \"legend\": {\"tracegroupgap\": 0}, \"margin\": {\"t\": 60}, \"template\": {\"data\": {\"bar\": [{\"error_x\": {\"color\": \"#2a3f5f\"}, \"error_y\": {\"color\": \"#2a3f5f\"}, \"marker\": {\"line\": {\"color\": \"#E5ECF6\", \"width\": 0.5}}, \"type\": \"bar\"}], \"barpolar\": [{\"marker\": {\"line\": {\"color\": \"#E5ECF6\", \"width\": 0.5}}, \"type\": \"barpolar\"}], \"carpet\": [{\"aaxis\": {\"endlinecolor\": \"#2a3f5f\", \"gridcolor\": \"white\", \"linecolor\": \"white\", \"minorgridcolor\": \"white\", \"startlinecolor\": \"#2a3f5f\"}, \"baxis\": {\"endlinecolor\": \"#2a3f5f\", \"gridcolor\": \"white\", \"linecolor\": \"white\", \"minorgridcolor\": \"white\", \"startlinecolor\": \"#2a3f5f\"}, \"type\": \"carpet\"}], \"choropleth\": [{\"colorbar\": {\"outlinewidth\": 0, \"ticks\": \"\"}, \"type\": \"choropleth\"}], \"contour\": [{\"colorbar\": {\"outlinewidth\": 0, \"ticks\": \"\"}, \"colorscale\": [[0.0, \"#0d0887\"], [0.1111111111111111, \"#46039f\"], [0.2222222222222222, \"#7201a8\"], [0.3333333333333333, \"#9c179e\"], [0.4444444444444444, \"#bd3786\"], [0.5555555555555556, \"#d8576b\"], [0.6666666666666666, \"#ed7953\"], [0.7777777777777778, \"#fb9f3a\"], [0.8888888888888888, \"#fdca26\"], [1.0, \"#f0f921\"]], \"type\": \"contour\"}], \"contourcarpet\": [{\"colorbar\": {\"outlinewidth\": 0, \"ticks\": \"\"}, \"type\": \"contourcarpet\"}], \"heatmap\": [{\"colorbar\": {\"outlinewidth\": 0, \"ticks\": \"\"}, \"colorscale\": [[0.0, \"#0d0887\"], [0.1111111111111111, \"#46039f\"], [0.2222222222222222, \"#7201a8\"], [0.3333333333333333, \"#9c179e\"], [0.4444444444444444, \"#bd3786\"], [0.5555555555555556, \"#d8576b\"], [0.6666666666666666, \"#ed7953\"], [0.7777777777777778, \"#fb9f3a\"], [0.8888888888888888, \"#fdca26\"], [1.0, \"#f0f921\"]], \"type\": \"heatmap\"}], \"heatmapgl\": [{\"colorbar\": {\"outlinewidth\": 0, \"ticks\": \"\"}, \"colorscale\": [[0.0, \"#0d0887\"], [0.1111111111111111, \"#46039f\"], [0.2222222222222222, \"#7201a8\"], [0.3333333333333333, \"#9c179e\"], [0.4444444444444444, \"#bd3786\"], [0.5555555555555556, \"#d8576b\"], [0.6666666666666666, \"#ed7953\"], [0.7777777777777778, \"#fb9f3a\"], [0.8888888888888888, \"#fdca26\"], [1.0, \"#f0f921\"]], \"type\": \"heatmapgl\"}], \"histogram\": [{\"marker\": {\"colorbar\": {\"outlinewidth\": 0, \"ticks\": \"\"}}, \"type\": \"histogram\"}], \"histogram2d\": [{\"colorbar\": {\"outlinewidth\": 0, \"ticks\": \"\"}, \"colorscale\": [[0.0, \"#0d0887\"], [0.1111111111111111, \"#46039f\"], [0.2222222222222222, \"#7201a8\"], [0.3333333333333333, \"#9c179e\"], [0.4444444444444444, \"#bd3786\"], [0.5555555555555556, \"#d8576b\"], [0.6666666666666666, \"#ed7953\"], [0.7777777777777778, \"#fb9f3a\"], [0.8888888888888888, \"#fdca26\"], [1.0, \"#f0f921\"]], \"type\": \"histogram2d\"}], \"histogram2dcontour\": [{\"colorbar\": {\"outlinewidth\": 0, \"ticks\": \"\"}, \"colorscale\": [[0.0, \"#0d0887\"], [0.1111111111111111, \"#46039f\"], [0.2222222222222222, \"#7201a8\"], [0.3333333333333333, \"#9c179e\"], [0.4444444444444444, \"#bd3786\"], [0.5555555555555556, \"#d8576b\"], [0.6666666666666666, \"#ed7953\"], [0.7777777777777778, \"#fb9f3a\"], [0.8888888888888888, \"#fdca26\"], [1.0, \"#f0f921\"]], \"type\": \"histogram2dcontour\"}], \"mesh3d\": [{\"colorbar\": {\"outlinewidth\": 0, \"ticks\": \"\"}, \"type\": \"mesh3d\"}], \"parcoords\": [{\"line\": {\"colorbar\": {\"outlinewidth\": 0, \"ticks\": \"\"}}, \"type\": \"parcoords\"}], \"pie\": [{\"automargin\": true, \"type\": \"pie\"}], \"scatter\": [{\"marker\": {\"colorbar\": {\"outlinewidth\": 0, \"ticks\": \"\"}}, \"type\": \"scatter\"}], \"scatter3d\": [{\"line\": {\"colorbar\": {\"outlinewidth\": 0, \"ticks\": \"\"}}, \"marker\": {\"colorbar\": {\"outlinewidth\": 0, \"ticks\": \"\"}}, \"type\": \"scatter3d\"}], \"scattercarpet\": [{\"marker\": {\"colorbar\": {\"outlinewidth\": 0, \"ticks\": \"\"}}, \"type\": \"scattercarpet\"}], \"scattergeo\": [{\"marker\": {\"colorbar\": {\"outlinewidth\": 0, \"ticks\": \"\"}}, \"type\": \"scattergeo\"}], \"scattergl\": [{\"marker\": {\"colorbar\": {\"outlinewidth\": 0, \"ticks\": \"\"}}, \"type\": \"scattergl\"}], \"scattermapbox\": [{\"marker\": {\"colorbar\": {\"outlinewidth\": 0, \"ticks\": \"\"}}, \"type\": \"scattermapbox\"}], \"scatterpolar\": [{\"marker\": {\"colorbar\": {\"outlinewidth\": 0, \"ticks\": \"\"}}, \"type\": \"scatterpolar\"}], \"scatterpolargl\": [{\"marker\": {\"colorbar\": {\"outlinewidth\": 0, \"ticks\": \"\"}}, \"type\": \"scatterpolargl\"}], \"scatterternary\": [{\"marker\": {\"colorbar\": {\"outlinewidth\": 0, \"ticks\": \"\"}}, \"type\": \"scatterternary\"}], \"surface\": [{\"colorbar\": {\"outlinewidth\": 0, \"ticks\": \"\"}, \"colorscale\": [[0.0, \"#0d0887\"], [0.1111111111111111, \"#46039f\"], [0.2222222222222222, \"#7201a8\"], [0.3333333333333333, \"#9c179e\"], [0.4444444444444444, \"#bd3786\"], [0.5555555555555556, \"#d8576b\"], [0.6666666666666666, \"#ed7953\"], [0.7777777777777778, \"#fb9f3a\"], [0.8888888888888888, \"#fdca26\"], [1.0, \"#f0f921\"]], \"type\": \"surface\"}], \"table\": [{\"cells\": {\"fill\": {\"color\": \"#EBF0F8\"}, \"line\": {\"color\": \"white\"}}, \"header\": {\"fill\": {\"color\": \"#C8D4E3\"}, \"line\": {\"color\": \"white\"}}, \"type\": \"table\"}]}, \"layout\": {\"annotationdefaults\": {\"arrowcolor\": \"#2a3f5f\", \"arrowhead\": 0, \"arrowwidth\": 1}, \"coloraxis\": {\"colorbar\": {\"outlinewidth\": 0, \"ticks\": \"\"}}, \"colorscale\": {\"diverging\": [[0, \"#8e0152\"], [0.1, \"#c51b7d\"], [0.2, \"#de77ae\"], [0.3, \"#f1b6da\"], [0.4, \"#fde0ef\"], [0.5, \"#f7f7f7\"], [0.6, \"#e6f5d0\"], [0.7, \"#b8e186\"], [0.8, \"#7fbc41\"], [0.9, \"#4d9221\"], [1, \"#276419\"]], \"sequential\": [[0.0, \"#0d0887\"], [0.1111111111111111, \"#46039f\"], [0.2222222222222222, \"#7201a8\"], [0.3333333333333333, \"#9c179e\"], [0.4444444444444444, \"#bd3786\"], [0.5555555555555556, \"#d8576b\"], [0.6666666666666666, \"#ed7953\"], [0.7777777777777778, \"#fb9f3a\"], [0.8888888888888888, \"#fdca26\"], [1.0, \"#f0f921\"]], \"sequentialminus\": [[0.0, \"#0d0887\"], [0.1111111111111111, \"#46039f\"], [0.2222222222222222, \"#7201a8\"], [0.3333333333333333, \"#9c179e\"], [0.4444444444444444, \"#bd3786\"], [0.5555555555555556, \"#d8576b\"], [0.6666666666666666, \"#ed7953\"], [0.7777777777777778, \"#fb9f3a\"], [0.8888888888888888, \"#fdca26\"], [1.0, \"#f0f921\"]]}, \"colorway\": [\"#636efa\", \"#EF553B\", \"#00cc96\", \"#ab63fa\", \"#FFA15A\", \"#19d3f3\", \"#FF6692\", \"#B6E880\", \"#FF97FF\", \"#FECB52\"], \"font\": {\"color\": \"#2a3f5f\"}, \"geo\": {\"bgcolor\": \"white\", \"lakecolor\": \"white\", \"landcolor\": \"#E5ECF6\", \"showlakes\": true, \"showland\": true, \"subunitcolor\": \"white\"}, \"hoverlabel\": {\"align\": \"left\"}, \"hovermode\": \"closest\", \"mapbox\": {\"style\": \"light\"}, \"paper_bgcolor\": \"white\", \"plot_bgcolor\": \"#E5ECF6\", \"polar\": {\"angularaxis\": {\"gridcolor\": \"white\", \"linecolor\": \"white\", \"ticks\": \"\"}, \"bgcolor\": \"#E5ECF6\", \"radialaxis\": {\"gridcolor\": \"white\", \"linecolor\": \"white\", \"ticks\": \"\"}}, \"scene\": {\"xaxis\": {\"backgroundcolor\": \"#E5ECF6\", \"gridcolor\": \"white\", \"gridwidth\": 2, \"linecolor\": \"white\", \"showbackground\": true, \"ticks\": \"\", \"zerolinecolor\": \"white\"}, \"yaxis\": {\"backgroundcolor\": \"#E5ECF6\", \"gridcolor\": \"white\", \"gridwidth\": 2, \"linecolor\": \"white\", \"showbackground\": true, \"ticks\": \"\", \"zerolinecolor\": \"white\"}, \"zaxis\": {\"backgroundcolor\": \"#E5ECF6\", \"gridcolor\": \"white\", \"gridwidth\": 2, \"linecolor\": \"white\", \"showbackground\": true, \"ticks\": \"\", \"zerolinecolor\": \"white\"}}, \"shapedefaults\": {\"line\": {\"color\": \"#2a3f5f\"}}, \"ternary\": {\"aaxis\": {\"gridcolor\": \"white\", \"linecolor\": \"white\", \"ticks\": \"\"}, \"baxis\": {\"gridcolor\": \"white\", \"linecolor\": \"white\", \"ticks\": \"\"}, \"bgcolor\": \"#E5ECF6\", \"caxis\": {\"gridcolor\": \"white\", \"linecolor\": \"white\", \"ticks\": \"\"}}, \"title\": {\"x\": 0.05}, \"xaxis\": {\"automargin\": true, \"gridcolor\": \"white\", \"linecolor\": \"white\", \"ticks\": \"\", \"title\": {\"standoff\": 15}, \"zerolinecolor\": \"white\", \"zerolinewidth\": 2}, \"yaxis\": {\"automargin\": true, \"gridcolor\": \"white\", \"linecolor\": \"white\", \"ticks\": \"\", \"title\": {\"standoff\": 15}, \"zerolinecolor\": \"white\", \"zerolinewidth\": 2}}}, \"title\": {\"font\": {\"size\": 30}, \"text\": \"\\u062a\\u0639\\u062f\\u0627\\u062f \\u0641\\u06cc\\u0644\\u0645 \\u0647\\u0627 \\u0628\\u0647 \\u062a\\u0641\\u06a9\\u06cc\\u06a9 \\u0633\\u0627\\u0644\"}, \"xaxis\": {\"anchor\": \"y\", \"domain\": [0.0, 1.0], \"title\": {\"text\": \"x\"}}, \"yaxis\": {\"anchor\": \"x\", \"domain\": [0.0, 1.0], \"title\": {\"text\": \"y\"}}},\n",
              "                        {\"responsive\": true}\n",
              "                    ).then(function(){\n",
              "                            \n",
              "var gd = document.getElementById('5590b4b1-29da-466c-b5c2-83b03a8b5fe2');\n",
              "var x = new MutationObserver(function (mutations, observer) {{\n",
              "        var display = window.getComputedStyle(gd).display;\n",
              "        if (!display || display === 'none') {{\n",
              "            console.log([gd, 'removed!']);\n",
              "            Plotly.purge(gd);\n",
              "            observer.disconnect();\n",
              "        }}\n",
              "}});\n",
              "\n",
              "// Listen for the removal of the full notebook cells\n",
              "var notebookContainer = gd.closest('#notebook-container');\n",
              "if (notebookContainer) {{\n",
              "    x.observe(notebookContainer, {childList: true});\n",
              "}}\n",
              "\n",
              "// Listen for the clearing of the current output cell\n",
              "var outputEl = gd.closest('.output');\n",
              "if (outputEl) {{\n",
              "    x.observe(outputEl, {childList: true});\n",
              "}}\n",
              "\n",
              "                        })\n",
              "                };\n",
              "                \n",
              "            </script>\n",
              "        </div>\n",
              "</body>\n",
              "</html>"
            ]
          },
          "metadata": {}
        }
      ]
    },
    {
      "cell_type": "code",
      "metadata": {
        "id": "12GHRXaqHCRF",
        "colab": {
          "base_uri": "https://localhost:8080/",
          "height": 360
        },
        "outputId": "bd88ef77-aac2-42c8-934f-69e957c69f67"
      },
      "source": [
        "'''\n",
        "becouse there is no persian character in features and labels, \n",
        "i wanna plot this into a matplotlib linear chart as well :\n",
        "'''\n",
        "plt.figure(figsize=(15, 5))\n",
        "plt.plot(year, movie_count, color = 'DarkBlue')\n",
        "plt.xlabel('Production Year', size = 15)\n",
        "plt.ylabel('Movies Count', size = 15)\n",
        "plt.title(\"Production Based On Year\", size = 20, color = 'b')\n",
        "plt.grid()\n",
        "plt.show()"
      ],
      "execution_count": null,
      "outputs": [
        {
          "output_type": "display_data",
          "data": {
            "image/png": "[encoded data removed]",
            "text/plain": [
              "<Figure size 1080x360 with 1 Axes>"
            ]
          },
          "metadata": {
            "needs_background": "light"
          }
        }
      ]
    },
    {
      "cell_type": "markdown",
      "metadata": {
        "id": "9a4wehYOKo_m"
      },
      "source": [
        "###Task_4 : *Find directors with most productions*"
      ]
    },
    {
      "cell_type": "code",
      "metadata": {
        "id": "uZA5Z_CdAZRb"
      },
      "source": [
        "#group dataframe by producers and count their movies : \n",
        "producer_grouped = df.groupby('Producer').count()['Title'].sort_values(ascending = True)\n",
        "# convert 'producer_grouped' into a pandas dataframe \n",
        "pg = pd.DataFrame(producer_grouped)\n",
        "'''\n",
        "pick producers which has more than 3 movies \n",
        "this is becouse i don't want messy and crowd chart:\n",
        "'''\n",
        "pg = pg[pg['Title']>3]\n",
        "# get producers name and store them in producer variable :\n",
        "producer = pg.index\n",
        "'''\n",
        "get movie count of each producers and\n",
        "reshape array from 2D to 1D :\n",
        "'''\n",
        "count = pg.values.squeeze()"
      ],
      "execution_count": null,
      "outputs": []
    },
    {
      "cell_type": "code",
      "metadata": {
        "colab": {
          "base_uri": "https://localhost:8080/",
          "height": 817
        },
        "id": "hS9CyXh-NbQy",
        "outputId": "bd050a69-7123-4ad4-f2a9-be42dcd2baf6"
      },
      "source": [
        "'''\n",
        "plot both producers and their relative counts,\n",
        "into a horizontal bar chart,\n",
        "notice in this plot we should change the values of x and y :\n",
        "'''\n",
        "fig = px.bar(x=count, y=producer, orientation='h')\n",
        "fig.update_traces(yaxis = 'y3', xaxis = 'x2', marker_color='gray', marker_line_color='black',\n",
        "                  marker_line_width=3, opacity=0.9)\n",
        "fig.update_layout(\n",
        "     font=dict(\n",
        "        family=\"Courier New, monospace\",\n",
        "        size=20,\n",
        "        color=\"brown\"),\n",
        "        title_text=\"کارگردان ها با بیشترین تعداد فیلم (حداقل 4 فیلم)\",\n",
        "                  title_font_size=30,\n",
        "                   height = 800\n",
        "    )\n",
        "\n",
        "fig.show()"
      ],
      "execution_count": null,
      "outputs": [
        {
          "output_type": "display_data",
          "data": {
            "text/html": [
              "<html>\n",
              "<head><meta charset=\"utf-8\" /></head>\n",
              "<body>\n",
              "    <div>\n",
              "            <script src=\"https://cdnjs.cloudflare.com/ajax/libs/mathjax/2.7.5/MathJax.js?config=TeX-AMS-MML_SVG\"></script><script type=\"text/javascript\">if (window.MathJax) {MathJax.Hub.Config({SVG: {font: \"STIX-Web\"}});}</script>\n",
              "                <script type=\"text/javascript\">window.PlotlyConfig = {MathJaxConfig: 'local'};</script>\n",
              "        <script src=\"https://cdn.plot.ly/plotly-latest.min.js\"></script>    \n",
              "            <div id=\"54023c17-d8ba-46c2-ae76-21bcd3f2c3ee\" class=\"plotly-graph-div\" style=\"height:800px; width:100%;\"></div>\n",
              "            <script type=\"text/javascript\">\n",
              "                \n",
              "                    window.PLOTLYENV=window.PLOTLYENV || {};\n",
              "                    \n",
              "                if (document.getElementById(\"54023c17-d8ba-46c2-ae76-21bcd3f2c3ee\")) {\n",
              "                    Plotly.newPlot(\n",
              "                        '54023c17-d8ba-46c2-ae76-21bcd3f2c3ee',\n",
              "                        [{\"alignmentgroup\": \"True\", \"hoverlabel\": {\"namelength\": 0}, \"hovertemplate\": \"x=%{x}<br>y=%{y}\", \"legendgroup\": \"\", \"marker\": {\"color\": \"gray\", \"line\": {\"color\": \"black\", \"width\": 3}}, \"name\": \"\", \"offsetgroup\": \"\", \"opacity\": 0.9, \"orientation\": \"h\", \"showlegend\": false, \"textposition\": \"auto\", \"type\": \"bar\", \"x\": [4, 4, 4, 6, 9, 19, 19], \"xaxis\": \"x2\", \"y\": [\"\\u0634\\u0647\\u0627\\u0628 \\u0627\\u0644\\u062f\\u06cc\\u0646 \\u062d\\u0633\\u06cc\\u0646 \\u067e\\u0648\\u0631\", \"\\u0648\\u062d\\u06cc\\u062f \\u0641\\u0631\\u0627\\u0647\\u0627\\u0646\\u06cc\", \"\\u0627\\u0628\\u0631\\u0627\\u0647\\u06cc\\u0645 \\u062d\\u0627\\u062a\\u0645\\u06cc \\u06a9\\u06cc\\u0627\", \"\\u0622\\u0631\\u0634 \\u0645\\u0639\\u06cc\\u0631\\u06cc\\u0627\\u0646\", \"\\u0646\\u0627\\u0635\\u0631 \\u0635\\u0641\\u0627\\u0631\\u06cc\\u0627\\u0646\", \"\\u06a9\\u06cc\\u0648\\u0645\\u0631\\u062b \\u067e\\u0648\\u0631\\u0627\\u062d\\u0645\\u062f\", \"\\u0633\\u0627\\u0632\\u0645\\u0627\\u0646 \\u0647\\u0646\\u0631\\u06cc \\u0631\\u0633\\u0627\\u0646\\u0647 \\u0627\\u06cc \\u0627\\u0648\\u062c\"], \"yaxis\": \"y3\"}],\n",
              "                        {\"barmode\": \"relative\", \"font\": {\"color\": \"brown\", \"family\": \"Courier New, monospace\", \"size\": 20}, \"height\": 800, \"legend\": {\"tracegroupgap\": 0}, \"margin\": {\"t\": 60}, \"template\": {\"data\": {\"bar\": [{\"error_x\": {\"color\": \"#2a3f5f\"}, \"error_y\": {\"color\": \"#2a3f5f\"}, \"marker\": {\"line\": {\"color\": \"#E5ECF6\", \"width\": 0.5}}, \"type\": \"bar\"}], \"barpolar\": [{\"marker\": {\"line\": {\"color\": \"#E5ECF6\", \"width\": 0.5}}, \"type\": \"barpolar\"}], \"carpet\": [{\"aaxis\": {\"endlinecolor\": \"#2a3f5f\", \"gridcolor\": \"white\", \"linecolor\": \"white\", \"minorgridcolor\": \"white\", \"startlinecolor\": \"#2a3f5f\"}, \"baxis\": {\"endlinecolor\": \"#2a3f5f\", \"gridcolor\": \"white\", \"linecolor\": \"white\", \"minorgridcolor\": \"white\", \"startlinecolor\": \"#2a3f5f\"}, \"type\": \"carpet\"}], \"choropleth\": [{\"colorbar\": {\"outlinewidth\": 0, \"ticks\": \"\"}, \"type\": \"choropleth\"}], \"contour\": [{\"colorbar\": {\"outlinewidth\": 0, \"ticks\": \"\"}, \"colorscale\": [[0.0, \"#0d0887\"], [0.1111111111111111, \"#46039f\"], [0.2222222222222222, \"#7201a8\"], [0.3333333333333333, \"#9c179e\"], [0.4444444444444444, \"#bd3786\"], [0.5555555555555556, \"#d8576b\"], [0.6666666666666666, \"#ed7953\"], [0.7777777777777778, \"#fb9f3a\"], [0.8888888888888888, \"#fdca26\"], [1.0, \"#f0f921\"]], \"type\": \"contour\"}], \"contourcarpet\": [{\"colorbar\": {\"outlinewidth\": 0, \"ticks\": \"\"}, \"type\": \"contourcarpet\"}], \"heatmap\": [{\"colorbar\": {\"outlinewidth\": 0, \"ticks\": \"\"}, \"colorscale\": [[0.0, \"#0d0887\"], [0.1111111111111111, \"#46039f\"], [0.2222222222222222, \"#7201a8\"], [0.3333333333333333, \"#9c179e\"], [0.4444444444444444, \"#bd3786\"], [0.5555555555555556, \"#d8576b\"], [0.6666666666666666, \"#ed7953\"], [0.7777777777777778, \"#fb9f3a\"], [0.8888888888888888, \"#fdca26\"], [1.0, \"#f0f921\"]], \"type\": \"heatmap\"}], \"heatmapgl\": [{\"colorbar\": {\"outlinewidth\": 0, \"ticks\": \"\"}, \"colorscale\": [[0.0, \"#0d0887\"], [0.1111111111111111, \"#46039f\"], [0.2222222222222222, \"#7201a8\"], [0.3333333333333333, \"#9c179e\"], [0.4444444444444444, \"#bd3786\"], [0.5555555555555556, \"#d8576b\"], [0.6666666666666666, \"#ed7953\"], [0.7777777777777778, \"#fb9f3a\"], [0.8888888888888888, \"#fdca26\"], [1.0, \"#f0f921\"]], \"type\": \"heatmapgl\"}], \"histogram\": [{\"marker\": {\"colorbar\": {\"outlinewidth\": 0, \"ticks\": \"\"}}, \"type\": \"histogram\"}], \"histogram2d\": [{\"colorbar\": {\"outlinewidth\": 0, \"ticks\": \"\"}, \"colorscale\": [[0.0, \"#0d0887\"], [0.1111111111111111, \"#46039f\"], [0.2222222222222222, \"#7201a8\"], [0.3333333333333333, \"#9c179e\"], [0.4444444444444444, \"#bd3786\"], [0.5555555555555556, \"#d8576b\"], [0.6666666666666666, \"#ed7953\"], [0.7777777777777778, \"#fb9f3a\"], [0.8888888888888888, \"#fdca26\"], [1.0, \"#f0f921\"]], \"type\": \"histogram2d\"}], \"histogram2dcontour\": [{\"colorbar\": {\"outlinewidth\": 0, \"ticks\": \"\"}, \"colorscale\": [[0.0, \"#0d0887\"], [0.1111111111111111, \"#46039f\"], [0.2222222222222222, \"#7201a8\"], [0.3333333333333333, \"#9c179e\"], [0.4444444444444444, \"#bd3786\"], [0.5555555555555556, \"#d8576b\"], [0.6666666666666666, \"#ed7953\"], [0.7777777777777778, \"#fb9f3a\"], [0.8888888888888888, \"#fdca26\"], [1.0, \"#f0f921\"]], \"type\": \"histogram2dcontour\"}], \"mesh3d\": [{\"colorbar\": {\"outlinewidth\": 0, \"ticks\": \"\"}, \"type\": \"mesh3d\"}], \"parcoords\": [{\"line\": {\"colorbar\": {\"outlinewidth\": 0, \"ticks\": \"\"}}, \"type\": \"parcoords\"}], \"pie\": [{\"automargin\": true, \"type\": \"pie\"}], \"scatter\": [{\"marker\": {\"colorbar\": {\"outlinewidth\": 0, \"ticks\": \"\"}}, \"type\": \"scatter\"}], \"scatter3d\": [{\"line\": {\"colorbar\": {\"outlinewidth\": 0, \"ticks\": \"\"}}, \"marker\": {\"colorbar\": {\"outlinewidth\": 0, \"ticks\": \"\"}}, \"type\": \"scatter3d\"}], \"scattercarpet\": [{\"marker\": {\"colorbar\": {\"outlinewidth\": 0, \"ticks\": \"\"}}, \"type\": \"scattercarpet\"}], \"scattergeo\": [{\"marker\": {\"colorbar\": {\"outlinewidth\": 0, \"ticks\": \"\"}}, \"type\": \"scattergeo\"}], \"scattergl\": [{\"marker\": {\"colorbar\": {\"outlinewidth\": 0, \"ticks\": \"\"}}, \"type\": \"scattergl\"}], \"scattermapbox\": [{\"marker\": {\"colorbar\": {\"outlinewidth\": 0, \"ticks\": \"\"}}, \"type\": \"scattermapbox\"}], \"scatterpolar\": [{\"marker\": {\"colorbar\": {\"outlinewidth\": 0, \"ticks\": \"\"}}, \"type\": \"scatterpolar\"}], \"scatterpolargl\": [{\"marker\": {\"colorbar\": {\"outlinewidth\": 0, \"ticks\": \"\"}}, \"type\": \"scatterpolargl\"}], \"scatterternary\": [{\"marker\": {\"colorbar\": {\"outlinewidth\": 0, \"ticks\": \"\"}}, \"type\": \"scatterternary\"}], \"surface\": [{\"colorbar\": {\"outlinewidth\": 0, \"ticks\": \"\"}, \"colorscale\": [[0.0, \"#0d0887\"], [0.1111111111111111, \"#46039f\"], [0.2222222222222222, \"#7201a8\"], [0.3333333333333333, \"#9c179e\"], [0.4444444444444444, \"#bd3786\"], [0.5555555555555556, \"#d8576b\"], [0.6666666666666666, \"#ed7953\"], [0.7777777777777778, \"#fb9f3a\"], [0.8888888888888888, \"#fdca26\"], [1.0, \"#f0f921\"]], \"type\": \"surface\"}], \"table\": [{\"cells\": {\"fill\": {\"color\": \"#EBF0F8\"}, \"line\": {\"color\": \"white\"}}, \"header\": {\"fill\": {\"color\": \"#C8D4E3\"}, \"line\": {\"color\": \"white\"}}, \"type\": \"table\"}]}, \"layout\": {\"annotationdefaults\": {\"arrowcolor\": \"#2a3f5f\", \"arrowhead\": 0, \"arrowwidth\": 1}, \"coloraxis\": {\"colorbar\": {\"outlinewidth\": 0, \"ticks\": \"\"}}, \"colorscale\": {\"diverging\": [[0, \"#8e0152\"], [0.1, \"#c51b7d\"], [0.2, \"#de77ae\"], [0.3, \"#f1b6da\"], [0.4, \"#fde0ef\"], [0.5, \"#f7f7f7\"], [0.6, \"#e6f5d0\"], [0.7, \"#b8e186\"], [0.8, \"#7fbc41\"], [0.9, \"#4d9221\"], [1, \"#276419\"]], \"sequential\": [[0.0, \"#0d0887\"], [0.1111111111111111, \"#46039f\"], [0.2222222222222222, \"#7201a8\"], [0.3333333333333333, \"#9c179e\"], [0.4444444444444444, \"#bd3786\"], [0.5555555555555556, \"#d8576b\"], [0.6666666666666666, \"#ed7953\"], [0.7777777777777778, \"#fb9f3a\"], [0.8888888888888888, \"#fdca26\"], [1.0, \"#f0f921\"]], \"sequentialminus\": [[0.0, \"#0d0887\"], [0.1111111111111111, \"#46039f\"], [0.2222222222222222, \"#7201a8\"], [0.3333333333333333, \"#9c179e\"], [0.4444444444444444, \"#bd3786\"], [0.5555555555555556, \"#d8576b\"], [0.6666666666666666, \"#ed7953\"], [0.7777777777777778, \"#fb9f3a\"], [0.8888888888888888, \"#fdca26\"], [1.0, \"#f0f921\"]]}, \"colorway\": [\"#636efa\", \"#EF553B\", \"#00cc96\", \"#ab63fa\", \"#FFA15A\", \"#19d3f3\", \"#FF6692\", \"#B6E880\", \"#FF97FF\", \"#FECB52\"], \"font\": {\"color\": \"#2a3f5f\"}, \"geo\": {\"bgcolor\": \"white\", \"lakecolor\": \"white\", \"landcolor\": \"#E5ECF6\", \"showlakes\": true, \"showland\": true, \"subunitcolor\": \"white\"}, \"hoverlabel\": {\"align\": \"left\"}, \"hovermode\": \"closest\", \"mapbox\": {\"style\": \"light\"}, \"paper_bgcolor\": \"white\", \"plot_bgcolor\": \"#E5ECF6\", \"polar\": {\"angularaxis\": {\"gridcolor\": \"white\", \"linecolor\": \"white\", \"ticks\": \"\"}, \"bgcolor\": \"#E5ECF6\", \"radialaxis\": {\"gridcolor\": \"white\", \"linecolor\": \"white\", \"ticks\": \"\"}}, \"scene\": {\"xaxis\": {\"backgroundcolor\": \"#E5ECF6\", \"gridcolor\": \"white\", \"gridwidth\": 2, \"linecolor\": \"white\", \"showbackground\": true, \"ticks\": \"\", \"zerolinecolor\": \"white\"}, \"yaxis\": {\"backgroundcolor\": \"#E5ECF6\", \"gridcolor\": \"white\", \"gridwidth\": 2, \"linecolor\": \"white\", \"showbackground\": true, \"ticks\": \"\", \"zerolinecolor\": \"white\"}, \"zaxis\": {\"backgroundcolor\": \"#E5ECF6\", \"gridcolor\": \"white\", \"gridwidth\": 2, \"linecolor\": \"white\", \"showbackground\": true, \"ticks\": \"\", \"zerolinecolor\": \"white\"}}, \"shapedefaults\": {\"line\": {\"color\": \"#2a3f5f\"}}, \"ternary\": {\"aaxis\": {\"gridcolor\": \"white\", \"linecolor\": \"white\", \"ticks\": \"\"}, \"baxis\": {\"gridcolor\": \"white\", \"linecolor\": \"white\", \"ticks\": \"\"}, \"bgcolor\": \"#E5ECF6\", \"caxis\": {\"gridcolor\": \"white\", \"linecolor\": \"white\", \"ticks\": \"\"}}, \"title\": {\"x\": 0.05}, \"xaxis\": {\"automargin\": true, \"gridcolor\": \"white\", \"linecolor\": \"white\", \"ticks\": \"\", \"title\": {\"standoff\": 15}, \"zerolinecolor\": \"white\", \"zerolinewidth\": 2}, \"yaxis\": {\"automargin\": true, \"gridcolor\": \"white\", \"linecolor\": \"white\", \"ticks\": \"\", \"title\": {\"standoff\": 15}, \"zerolinecolor\": \"white\", \"zerolinewidth\": 2}}}, \"title\": {\"font\": {\"size\": 30}, \"text\": \"\\u06a9\\u0627\\u0631\\u06af\\u0631\\u062f\\u0627\\u0646 \\u0647\\u0627 \\u0628\\u0627 \\u0628\\u06cc\\u0634\\u062a\\u0631\\u06cc\\u0646 \\u062a\\u0639\\u062f\\u0627\\u062f \\u0641\\u06cc\\u0644\\u0645 (\\u062d\\u062f\\u0627\\u0642\\u0644 4 \\u0641\\u06cc\\u0644\\u0645)\"}, \"xaxis\": {\"anchor\": \"y\", \"domain\": [0.0, 1.0], \"title\": {\"text\": \"x\"}}, \"yaxis\": {\"anchor\": \"x\", \"domain\": [0.0, 1.0], \"title\": {\"text\": \"y\"}}},\n",
              "                        {\"responsive\": true}\n",
              "                    ).then(function(){\n",
              "                            \n",
              "var gd = document.getElementById('54023c17-d8ba-46c2-ae76-21bcd3f2c3ee');\n",
              "var x = new MutationObserver(function (mutations, observer) {{\n",
              "        var display = window.getComputedStyle(gd).display;\n",
              "        if (!display || display === 'none') {{\n",
              "            console.log([gd, 'removed!']);\n",
              "            Plotly.purge(gd);\n",
              "            observer.disconnect();\n",
              "        }}\n",
              "}});\n",
              "\n",
              "// Listen for the removal of the full notebook cells\n",
              "var notebookContainer = gd.closest('#notebook-container');\n",
              "if (notebookContainer) {{\n",
              "    x.observe(notebookContainer, {childList: true});\n",
              "}}\n",
              "\n",
              "// Listen for the clearing of the current output cell\n",
              "var outputEl = gd.closest('.output');\n",
              "if (outputEl) {{\n",
              "    x.observe(outputEl, {childList: true});\n",
              "}}\n",
              "\n",
              "                        })\n",
              "                };\n",
              "                \n",
              "            </script>\n",
              "        </div>\n",
              "</body>\n",
              "</html>"
            ]
          },
          "metadata": {}
        }
      ]
    },
    {
      "cell_type": "markdown",
      "metadata": {
        "id": "Gk9eZdmPNgk0"
      },
      "source": [
        "###Task_5 = *Find actors with most productions.*"
      ]
    },
    {
      "cell_type": "code",
      "metadata": {
        "id": "8ozLdBiYOKHl",
        "colab": {
          "base_uri": "https://localhost:8080/",
          "height": 424
        },
        "outputId": "292aede9-b319-4f33-e0eb-cf2c8d53131c"
      },
      "source": [
        "\n",
        "from ast import literal_eval\n",
        "'''\n",
        "check the values of 'Actor' column ,\n",
        "their type is object,\n",
        "in fact a list within a string (surrounded by single quotes),\n",
        "first we need to convert them to pure list with literal_eval method :\n",
        "'''\n",
        "df['Actor'] = df.loc[df['Actor'].isnull()==False]['Actor'].apply(literal_eval) \n",
        "# then seperate each element in 'Actor' column lists with explode method :\n",
        "actors_exploded = df.explode('Actor')\n",
        "actors_exploded"
      ],
      "execution_count": null,
      "outputs": [
        {
          "output_type": "execute_result",
          "data": {
            "text/html": [
              "<div>\n",
              "<style scoped>\n",
              "    .dataframe tbody tr th:only-of-type {\n",
              "        vertical-align: middle;\n",
              "    }\n",
              "\n",
              "    .dataframe tbody tr th {\n",
              "        vertical-align: top;\n",
              "    }\n",
              "\n",
              "    .dataframe thead th {\n",
              "        text-align: right;\n",
              "    }\n",
              "</style>\n",
              "<table border=\"1\" class=\"dataframe\">\n",
              "  <thead>\n",
              "    <tr style=\"text-align: right;\">\n",
              "      <th></th>\n",
              "      <th>Title</th>\n",
              "      <th>Production</th>\n",
              "      <th>Actor</th>\n",
              "      <th>Producer</th>\n",
              "      <th>Rate</th>\n",
              "      <th>Rate_percent</th>\n",
              "      <th>Imdb</th>\n",
              "    </tr>\n",
              "  </thead>\n",
              "  <tbody>\n",
              "    <tr>\n",
              "      <th>0</th>\n",
              "      <td>هفته ای یک بار آدم باش</td>\n",
              "      <td>1399.0</td>\n",
              "      <td>پژمان جمشیدی</td>\n",
              "      <td>شهرام شاه حسینی</td>\n",
              "      <td>NaN</td>\n",
              "      <td>NaN</td>\n",
              "      <td>NaN</td>\n",
              "    </tr>\n",
              "    <tr>\n",
              "      <th>0</th>\n",
              "      <td>هفته ای یک بار آدم باش</td>\n",
              "      <td>1399.0</td>\n",
              "      <td>رعنا آزادی ور</td>\n",
              "      <td>شهرام شاه حسینی</td>\n",
              "      <td>NaN</td>\n",
              "      <td>NaN</td>\n",
              "      <td>NaN</td>\n",
              "    </tr>\n",
              "    <tr>\n",
              "      <th>0</th>\n",
              "      <td>هفته ای یک بار آدم باش</td>\n",
              "      <td>1399.0</td>\n",
              "      <td>ساغر قناعت</td>\n",
              "      <td>شهرام شاه حسینی</td>\n",
              "      <td>NaN</td>\n",
              "      <td>NaN</td>\n",
              "      <td>NaN</td>\n",
              "    </tr>\n",
              "    <tr>\n",
              "      <th>0</th>\n",
              "      <td>هفته ای یک بار آدم باش</td>\n",
              "      <td>1399.0</td>\n",
              "      <td>علیرضا استادی</td>\n",
              "      <td>شهرام شاه حسینی</td>\n",
              "      <td>NaN</td>\n",
              "      <td>NaN</td>\n",
              "      <td>NaN</td>\n",
              "    </tr>\n",
              "    <tr>\n",
              "      <th>0</th>\n",
              "      <td>هفته ای یک بار آدم باش</td>\n",
              "      <td>1399.0</td>\n",
              "      <td>شیرین یزدان بخش</td>\n",
              "      <td>شهرام شاه حسینی</td>\n",
              "      <td>NaN</td>\n",
              "      <td>NaN</td>\n",
              "      <td>NaN</td>\n",
              "    </tr>\n",
              "    <tr>\n",
              "      <th>...</th>\n",
              "      <td>...</td>\n",
              "      <td>...</td>\n",
              "      <td>...</td>\n",
              "      <td>...</td>\n",
              "      <td>...</td>\n",
              "      <td>...</td>\n",
              "      <td>...</td>\n",
              "    </tr>\n",
              "    <tr>\n",
              "      <th>399</th>\n",
              "      <td>لاک پشت</td>\n",
              "      <td>1375.0</td>\n",
              "      <td>جمشید هاشم پور</td>\n",
              "      <td>علی شاه حاتمی</td>\n",
              "      <td>531.0</td>\n",
              "      <td>88.0</td>\n",
              "      <td>5.8</td>\n",
              "    </tr>\n",
              "    <tr>\n",
              "      <th>399</th>\n",
              "      <td>لاک پشت</td>\n",
              "      <td>1375.0</td>\n",
              "      <td>کتایون ریاحی</td>\n",
              "      <td>علی شاه حاتمی</td>\n",
              "      <td>531.0</td>\n",
              "      <td>88.0</td>\n",
              "      <td>5.8</td>\n",
              "    </tr>\n",
              "    <tr>\n",
              "      <th>399</th>\n",
              "      <td>لاک پشت</td>\n",
              "      <td>1375.0</td>\n",
              "      <td>محمود پاک نیت</td>\n",
              "      <td>علی شاه حاتمی</td>\n",
              "      <td>531.0</td>\n",
              "      <td>88.0</td>\n",
              "      <td>5.8</td>\n",
              "    </tr>\n",
              "    <tr>\n",
              "      <th>399</th>\n",
              "      <td>لاک پشت</td>\n",
              "      <td>1375.0</td>\n",
              "      <td>یوسف مرادیان</td>\n",
              "      <td>علی شاه حاتمی</td>\n",
              "      <td>531.0</td>\n",
              "      <td>88.0</td>\n",
              "      <td>5.8</td>\n",
              "    </tr>\n",
              "    <tr>\n",
              "      <th>399</th>\n",
              "      <td>لاک پشت</td>\n",
              "      <td>1375.0</td>\n",
              "      <td>شهرام پوراسد</td>\n",
              "      <td>علی شاه حاتمی</td>\n",
              "      <td>531.0</td>\n",
              "      <td>88.0</td>\n",
              "      <td>5.8</td>\n",
              "    </tr>\n",
              "  </tbody>\n",
              "</table>\n",
              "<p>1830 rows × 7 columns</p>\n",
              "</div>"
            ],
            "text/plain": [
              "                      Title  Production  ... Rate_percent Imdb\n",
              "0    هفته ای یک بار آدم باش      1399.0  ...          NaN  NaN\n",
              "0    هفته ای یک بار آدم باش      1399.0  ...          NaN  NaN\n",
              "0    هفته ای یک بار آدم باش      1399.0  ...          NaN  NaN\n",
              "0    هفته ای یک بار آدم باش      1399.0  ...          NaN  NaN\n",
              "0    هفته ای یک بار آدم باش      1399.0  ...          NaN  NaN\n",
              "..                      ...         ...  ...          ...  ...\n",
              "399                 لاک پشت      1375.0  ...         88.0  5.8\n",
              "399                 لاک پشت      1375.0  ...         88.0  5.8\n",
              "399                 لاک پشت      1375.0  ...         88.0  5.8\n",
              "399                 لاک پشت      1375.0  ...         88.0  5.8\n",
              "399                 لاک پشت      1375.0  ...         88.0  5.8\n",
              "\n",
              "[1830 rows x 7 columns]"
            ]
          },
          "metadata": {},
          "execution_count": 462
        }
      ]
    },
    {
      "cell_type": "code",
      "metadata": {
        "id": "PJ27fjAJp1mp"
      },
      "source": [
        "# grouping actors based on their count of movies :\n",
        "actors_grouped = actors_exploded.groupby('Actor').count()['Title'].sort_values(ascending = False)\n",
        "# convert actors_grouped to pandas data frame\n",
        "# ag = actors grouped\n",
        "ag = pd.DataFrame(actors_grouped)\n",
        "'''\n",
        "i want actors which has done more than 4 movies \n",
        "set it to greater than 4 in order to getting rid of messy chart:\n",
        "'''\n",
        "ag = ag[ag['Title']>4]\n",
        "# store actor names in actor variable :\n",
        "actor = ag.index\n",
        "# store each actors movie count in count variable :\n",
        "count = ag.values"
      ],
      "execution_count": null,
      "outputs": []
    },
    {
      "cell_type": "code",
      "metadata": {
        "colab": {
          "base_uri": "https://localhost:8080/",
          "height": 817
        },
        "id": "rXwoZSEYiW0B",
        "outputId": "772e5c0f-b9c0-4378-b1e3-d04daa3548a8"
      },
      "source": [
        "# plot actors name and movie count into a pie chart format :\n",
        "pie = px.pie(\n",
        "  movie_genre,\n",
        "  values = count,\n",
        "  names = actor,\n",
        "  title = 'بازیگران با بیشترین تعداد فیلم',\n",
        "  width=1000,\n",
        " height=800\n",
        ")\n",
        "pie.update_traces(\n",
        "    textposition = 'inside',\n",
        "    textinfo = 'percent+label'\n",
        ")\n",
        "pie.update_layout(\n",
        "     font=dict(\n",
        "        family=\"Courier New, monospace\",\n",
        "        size=22,\n",
        "        color=\"RebeccaPurple\"\n",
        "    )\n",
        ")\n"
      ],
      "execution_count": null,
      "outputs": [
        {
          "output_type": "display_data",
          "data": {
            "text/html": [
              "<html>\n",
              "<head><meta charset=\"utf-8\" /></head>\n",
              "<body>\n",
              "    <div>\n",
              "            <script src=\"https://cdnjs.cloudflare.com/ajax/libs/mathjax/2.7.5/MathJax.js?config=TeX-AMS-MML_SVG\"></script><script type=\"text/javascript\">if (window.MathJax) {MathJax.Hub.Config({SVG: {font: \"STIX-Web\"}});}</script>\n",
              "                <script type=\"text/javascript\">window.PlotlyConfig = {MathJaxConfig: 'local'};</script>\n",
              "        <script src=\"https://cdn.plot.ly/plotly-latest.min.js\"></script>    \n",
              "            <div id=\"9c11fdfa-c00c-4899-9824-fd6f369075c6\" class=\"plotly-graph-div\" style=\"height:800px; width:1000px;\"></div>\n",
              "            <script type=\"text/javascript\">\n",
              "                \n",
              "                    window.PLOTLYENV=window.PLOTLYENV || {};\n",
              "                    \n",
              "                if (document.getElementById(\"9c11fdfa-c00c-4899-9824-fd6f369075c6\")) {\n",
              "                    Plotly.newPlot(\n",
              "                        '9c11fdfa-c00c-4899-9824-fd6f369075c6',\n",
              "                        [{\"domain\": {\"x\": [0.0, 1.0], \"y\": [0.0, 1.0]}, \"hoverlabel\": {\"namelength\": 0}, \"hovertemplate\": \"label=%{label}<br>value=%{value}\", \"labels\": [\"\\u0637\\u0646\\u0627\\u0632 \\u0637\\u0628\\u0627\\u0637\\u0628\\u0627\\u06cc\\u06cc\", \"\\u0627\\u0645\\u06cc\\u0631 \\u063a\\u0641\\u0627\\u0631\\u0645\\u0646\\u0634\", \"\\u0641\\u0631\\u0632\\u06cc\\u0646 \\u0645\\u062d\\u062f\\u062b\", \"\\u0627\\u0645\\u06cc\\u0631\\u0631\\u0636\\u0627 \\u0648\\u0632\\u06cc\\u0631\\u06cc\", \"\\u0641\\u0631\\u062f\\u0648\\u0633 \\u06a9\\u0627\\u0648\\u06cc\\u0627\\u0646\\u06cc\", \"\\u0645\\u0647\\u0631\\u0627\\u0646 \\u0631\\u062c\\u0628\\u06cc\", \"\\u0635\\u0627\\u0628\\u0631 \\u0627\\u0628\\u0631\", \"\\u0628\\u0647\\u0646\\u0648\\u0634 \\u0628\\u062e\\u062a\\u06cc\\u0627\\u0631\\u06cc\", \"\\u0646\\u06cc\\u0645\\u0627 \\u0634\\u0627\\u0647\\u0631\\u062e \\u0634\\u0627\\u0647\\u06cc\", \"\\u0634\\u0647\\u06cc\\u0646 \\u062a\\u0633\\u0644\\u06cc\\u0645\\u06cc\", \"\\u0628\\u0627\\u0631\\u0627\\u0646 \\u06a9\\u0648\\u062b\\u0631\\u06cc\", \"\\u0627\\u06a9\\u0628\\u0631 \\u0639\\u0628\\u062f\\u06cc\", \"\\u0633\\u062d\\u0631 \\u0642\\u0631\\u06cc\\u0634\\u06cc\", \"\\u0645\\u0647\\u0646\\u0627\\u0632 \\u0627\\u0641\\u0634\\u0627\\u0631\", \"\\u0645\\u062d\\u0645\\u062f\\u0631\\u0636\\u0627 \\u0634\\u0631\\u06cc\\u0641\\u06cc \\u0646\\u06cc\\u0627\", \"\\u0622\\u062a\\u06cc\\u0644\\u0627 \\u067e\\u0633\\u06cc\\u0627\\u0646\\u06cc\", \"\\u062d\\u062f\\u06cc\\u062b \\u0641\\u0648\\u0644\\u0627\\u062f\\u0648\\u0646\\u062f\", \"\\u0647\\u0648\\u0645\\u0646 \\u0628\\u0631\\u0642 \\u0646\\u0648\\u0631\\u062f\", \"\\u062c\\u0645\\u0634\\u06cc\\u062f \\u0647\\u0627\\u0634\\u0645 \\u067e\\u0648\\u0631\", \"\\u06cc\\u0648\\u0633\\u0641 \\u062a\\u06cc\\u0645\\u0648\\u0631\\u06cc\", \"\\u0631\\u0636\\u0627 \\u06a9\\u06cc\\u0627\\u0646\\u06cc\\u0627\\u0646\", \"\\u0639\\u0644\\u06cc \\u0645\\u0635\\u0641\\u0627\", \"\\u067e\\u0627\\u0646\\u062a\\u0647 \\u0622 \\u067e\\u0646\\u0627\\u0647\\u06cc \\u0647\\u0627\", \"\\u062c\\u0648\\u0627\\u062f \\u0639\\u0632\\u062a\\u06cc\", \"\\u06a9\\u06cc\\u0627\\u0646\\u0648\\u0634 \\u06af\\u0631\\u0627\\u0645\\u06cc\", \"\\u0647\\u0627\\u062f\\u06cc \\u062d\\u062c\\u0627\\u0632\\u06cc \\u0641\\u0631\", \"\\u067e\\u0698\\u0645\\u0627\\u0646 \\u062c\\u0645\\u0634\\u06cc\\u062f\\u06cc\", \"\\u0641\\u0627\\u0637\\u0645\\u0647 \\u0645\\u0639\\u062a\\u0645\\u062f\\u0622\\u0631\\u06cc\\u0627\", \"\\u0639\\u0644\\u06cc\\u0631\\u0636\\u0627 \\u0627\\u0633\\u062a\\u0627\\u062f\\u06cc\", \"\\u0634\\u0642\\u0627\\u06cc\\u0642 \\u0641\\u0631\\u0627\\u0647\\u0627\\u0646\\u06cc\", \"\\u062d\\u0633\\u0646 \\u0645\\u0639\\u062c\\u0648\\u0646\\u06cc\", \"\\u0631\\u0639\\u0646\\u0627 \\u0622\\u0632\\u0627\\u062f\\u06cc \\u0648\\u0631\", \"\\u062d\\u0627\\u0645\\u062f \\u06a9\\u0645\\u06cc\\u0644\\u06cc\", \"\\u06cc\\u0648\\u0633\\u0641 \\u0635\\u06cc\\u0627\\u062f\\u06cc\", \"\\u0627\\u0645\\u06cc\\u0646 \\u062d\\u06cc\\u0627\\u06cc\\u06cc\", \"\\u0627\\u0645\\u06cc\\u0631 \\u0622\\u0642\\u0627\\u06cc\\u06cc\", \"\\u0631\\u0636\\u0627 \\u0634\\u0641\\u06cc\\u0639\\u06cc \\u062c\\u0645\", \"\\u0645\\u062d\\u0633\\u0646 \\u06a9\\u06cc\\u0627\\u06cc\\u06cc\", \"\\u0628\\u0647\\u0631\\u0627\\u0645 \\u0631\\u0627\\u062f\\u0627\\u0646\", \"\\u0628\\u0627\\u0628\\u06a9 \\u062d\\u0645\\u06cc\\u062f\\u06cc\\u0627\\u0646\", \"\\u0631\\u0627\\u0628\\u0639\\u0647 \\u0627\\u0633\\u06a9\\u0648\\u06cc\\u06cc\", \"\\u0633\\u0648\\u0644\\u0645\\u0627\\u0632 \\u062d\\u0635\\u0627\\u0631\\u06cc\", \"\\u0645\\u062d\\u0645\\u0648\\u062f \\u067e\\u0627\\u06a9 \\u0646\\u06cc\\u062a\", \"\\u0645\\u0647\\u0631\\u0627\\u0646 \\u0627\\u062d\\u0645\\u062f\\u06cc\", \"\\u0634\\u0647\\u0631\\u0627\\u0645 \\u062d\\u0642\\u06cc\\u0642\\u062a \\u062f\\u0648\\u0633\\u062a\", \"\\u0631\\u0632 \\u0631\\u0636\\u0648\\u06cc\", \"\\u0646\\u06cc\\u0648\\u0634\\u0627 \\u0636\\u06cc\\u063a\\u0645\\u06cc\", \"\\u0627\\u062d\\u0645\\u062f \\u067e\\u0648\\u0631\\u0645\\u062e\\u0628\\u0631\", \"\\u0645\\u0627\\u0646\\u06cc \\u062d\\u0642\\u06cc\\u0642\\u06cc\", \"\\u0634\\u0628\\u0646\\u0645 \\u0645\\u0642\\u062f\\u0645\\u06cc\", \"\\u0627\\u0631\\u0698\\u0646\\u06af \\u0627\\u0645\\u06cc\\u0631\\u0641\\u0636\\u0644\\u06cc\", \"\\u0645\\u062d\\u0645\\u062f \\u0634\\u06cc\\u0631\\u06cc\", \"\\u0627\\u0645\\u06cc\\u0631 \\u062c\\u0639\\u0641\\u0631\\u06cc\", \"\\u0633\\u06cc\\u062f\\u062c\\u0648\\u0627\\u062f \\u0631\\u0636\\u0648\\u06cc\\u0627\\u0646\", \"\\u0628\\u0647\\u0627\\u0631\\u0647 \\u0631\\u0647\\u0646\\u0645\\u0627\", \"\\u0639\\u0644\\u06cc \\u0635\\u0627\\u062f\\u0642\\u06cc\", \"\\u0698\\u0627\\u0644\\u0647 \\u0635\\u0627\\u0645\\u062a\\u06cc\", \"\\u0635\\u062f\\u06cc\\u0642\\u0647 \\u06a9\\u06cc\\u0627\\u0646\\u0641\\u0631\", \"\\u0631\\u0636\\u0627 \\u0628\\u0647\\u0628\\u0648\\u062f\\u06cc\"], \"legendgroup\": \"\", \"name\": \"\", \"showlegend\": true, \"textinfo\": \"percent+label\", \"textposition\": \"inside\", \"type\": \"pie\", \"values\": [25, 20, 16, 15, 13, 13, 10, 10, 9, 9, 9, 9, 9, 8, 8, 8, 8, 8, 7, 7, 7, 7, 7, 7, 7, 6, 6, 6, 6, 6, 6, 6, 6, 6, 6, 6, 6, 6, 6, 6, 5, 5, 5, 5, 5, 5, 5, 5, 5, 5, 5, 5, 5, 5, 5, 5, 5, 5, 5]}],\n",
              "                        {\"font\": {\"color\": \"RebeccaPurple\", \"family\": \"Courier New, monospace\", \"size\": 22}, \"height\": 800, \"legend\": {\"tracegroupgap\": 0}, \"template\": {\"data\": {\"bar\": [{\"error_x\": {\"color\": \"#2a3f5f\"}, \"error_y\": {\"color\": \"#2a3f5f\"}, \"marker\": {\"line\": {\"color\": \"#E5ECF6\", \"width\": 0.5}}, \"type\": \"bar\"}], \"barpolar\": [{\"marker\": {\"line\": {\"color\": \"#E5ECF6\", \"width\": 0.5}}, \"type\": \"barpolar\"}], \"carpet\": [{\"aaxis\": {\"endlinecolor\": \"#2a3f5f\", \"gridcolor\": \"white\", \"linecolor\": \"white\", \"minorgridcolor\": \"white\", \"startlinecolor\": \"#2a3f5f\"}, \"baxis\": {\"endlinecolor\": \"#2a3f5f\", \"gridcolor\": \"white\", \"linecolor\": \"white\", \"minorgridcolor\": \"white\", \"startlinecolor\": \"#2a3f5f\"}, \"type\": \"carpet\"}], \"choropleth\": [{\"colorbar\": {\"outlinewidth\": 0, \"ticks\": \"\"}, \"type\": \"choropleth\"}], \"contour\": [{\"colorbar\": {\"outlinewidth\": 0, \"ticks\": \"\"}, \"colorscale\": [[0.0, \"#0d0887\"], [0.1111111111111111, \"#46039f\"], [0.2222222222222222, \"#7201a8\"], [0.3333333333333333, \"#9c179e\"], [0.4444444444444444, \"#bd3786\"], [0.5555555555555556, \"#d8576b\"], [0.6666666666666666, \"#ed7953\"], [0.7777777777777778, \"#fb9f3a\"], [0.8888888888888888, \"#fdca26\"], [1.0, \"#f0f921\"]], \"type\": \"contour\"}], \"contourcarpet\": [{\"colorbar\": {\"outlinewidth\": 0, \"ticks\": \"\"}, \"type\": \"contourcarpet\"}], \"heatmap\": [{\"colorbar\": {\"outlinewidth\": 0, \"ticks\": \"\"}, \"colorscale\": [[0.0, \"#0d0887\"], [0.1111111111111111, \"#46039f\"], [0.2222222222222222, \"#7201a8\"], [0.3333333333333333, \"#9c179e\"], [0.4444444444444444, \"#bd3786\"], [0.5555555555555556, \"#d8576b\"], [0.6666666666666666, \"#ed7953\"], [0.7777777777777778, \"#fb9f3a\"], [0.8888888888888888, \"#fdca26\"], [1.0, \"#f0f921\"]], \"type\": \"heatmap\"}], \"heatmapgl\": [{\"colorbar\": {\"outlinewidth\": 0, \"ticks\": \"\"}, \"colorscale\": [[0.0, \"#0d0887\"], [0.1111111111111111, \"#46039f\"], [0.2222222222222222, \"#7201a8\"], [0.3333333333333333, \"#9c179e\"], [0.4444444444444444, \"#bd3786\"], [0.5555555555555556, \"#d8576b\"], [0.6666666666666666, \"#ed7953\"], [0.7777777777777778, \"#fb9f3a\"], [0.8888888888888888, \"#fdca26\"], [1.0, \"#f0f921\"]], \"type\": \"heatmapgl\"}], \"histogram\": [{\"marker\": {\"colorbar\": {\"outlinewidth\": 0, \"ticks\": \"\"}}, \"type\": \"histogram\"}], \"histogram2d\": [{\"colorbar\": {\"outlinewidth\": 0, \"ticks\": \"\"}, \"colorscale\": [[0.0, \"#0d0887\"], [0.1111111111111111, \"#46039f\"], [0.2222222222222222, \"#7201a8\"], [0.3333333333333333, \"#9c179e\"], [0.4444444444444444, \"#bd3786\"], [0.5555555555555556, \"#d8576b\"], [0.6666666666666666, \"#ed7953\"], [0.7777777777777778, \"#fb9f3a\"], [0.8888888888888888, \"#fdca26\"], [1.0, \"#f0f921\"]], \"type\": \"histogram2d\"}], \"histogram2dcontour\": [{\"colorbar\": {\"outlinewidth\": 0, \"ticks\": \"\"}, \"colorscale\": [[0.0, \"#0d0887\"], [0.1111111111111111, \"#46039f\"], [0.2222222222222222, \"#7201a8\"], [0.3333333333333333, \"#9c179e\"], [0.4444444444444444, \"#bd3786\"], [0.5555555555555556, \"#d8576b\"], [0.6666666666666666, \"#ed7953\"], [0.7777777777777778, \"#fb9f3a\"], [0.8888888888888888, \"#fdca26\"], [1.0, \"#f0f921\"]], \"type\": \"histogram2dcontour\"}], \"mesh3d\": [{\"colorbar\": {\"outlinewidth\": 0, \"ticks\": \"\"}, \"type\": \"mesh3d\"}], \"parcoords\": [{\"line\": {\"colorbar\": {\"outlinewidth\": 0, \"ticks\": \"\"}}, \"type\": \"parcoords\"}], \"pie\": [{\"automargin\": true, \"type\": \"pie\"}], \"scatter\": [{\"marker\": {\"colorbar\": {\"outlinewidth\": 0, \"ticks\": \"\"}}, \"type\": \"scatter\"}], \"scatter3d\": [{\"line\": {\"colorbar\": {\"outlinewidth\": 0, \"ticks\": \"\"}}, \"marker\": {\"colorbar\": {\"outlinewidth\": 0, \"ticks\": \"\"}}, \"type\": \"scatter3d\"}], \"scattercarpet\": [{\"marker\": {\"colorbar\": {\"outlinewidth\": 0, \"ticks\": \"\"}}, \"type\": \"scattercarpet\"}], \"scattergeo\": [{\"marker\": {\"colorbar\": {\"outlinewidth\": 0, \"ticks\": \"\"}}, \"type\": \"scattergeo\"}], \"scattergl\": [{\"marker\": {\"colorbar\": {\"outlinewidth\": 0, \"ticks\": \"\"}}, \"type\": \"scattergl\"}], \"scattermapbox\": [{\"marker\": {\"colorbar\": {\"outlinewidth\": 0, \"ticks\": \"\"}}, \"type\": \"scattermapbox\"}], \"scatterpolar\": [{\"marker\": {\"colorbar\": {\"outlinewidth\": 0, \"ticks\": \"\"}}, \"type\": \"scatterpolar\"}], \"scatterpolargl\": [{\"marker\": {\"colorbar\": {\"outlinewidth\": 0, \"ticks\": \"\"}}, \"type\": \"scatterpolargl\"}], \"scatterternary\": [{\"marker\": {\"colorbar\": {\"outlinewidth\": 0, \"ticks\": \"\"}}, \"type\": \"scatterternary\"}], \"surface\": [{\"colorbar\": {\"outlinewidth\": 0, \"ticks\": \"\"}, \"colorscale\": [[0.0, \"#0d0887\"], [0.1111111111111111, \"#46039f\"], [0.2222222222222222, \"#7201a8\"], [0.3333333333333333, \"#9c179e\"], [0.4444444444444444, \"#bd3786\"], [0.5555555555555556, \"#d8576b\"], [0.6666666666666666, \"#ed7953\"], [0.7777777777777778, \"#fb9f3a\"], [0.8888888888888888, \"#fdca26\"], [1.0, \"#f0f921\"]], \"type\": \"surface\"}], \"table\": [{\"cells\": {\"fill\": {\"color\": \"#EBF0F8\"}, \"line\": {\"color\": \"white\"}}, \"header\": {\"fill\": {\"color\": \"#C8D4E3\"}, \"line\": {\"color\": \"white\"}}, \"type\": \"table\"}]}, \"layout\": {\"annotationdefaults\": {\"arrowcolor\": \"#2a3f5f\", \"arrowhead\": 0, \"arrowwidth\": 1}, \"coloraxis\": {\"colorbar\": {\"outlinewidth\": 0, \"ticks\": \"\"}}, \"colorscale\": {\"diverging\": [[0, \"#8e0152\"], [0.1, \"#c51b7d\"], [0.2, \"#de77ae\"], [0.3, \"#f1b6da\"], [0.4, \"#fde0ef\"], [0.5, \"#f7f7f7\"], [0.6, \"#e6f5d0\"], [0.7, \"#b8e186\"], [0.8, \"#7fbc41\"], [0.9, \"#4d9221\"], [1, \"#276419\"]], \"sequential\": [[0.0, \"#0d0887\"], [0.1111111111111111, \"#46039f\"], [0.2222222222222222, \"#7201a8\"], [0.3333333333333333, \"#9c179e\"], [0.4444444444444444, \"#bd3786\"], [0.5555555555555556, \"#d8576b\"], [0.6666666666666666, \"#ed7953\"], [0.7777777777777778, \"#fb9f3a\"], [0.8888888888888888, \"#fdca26\"], [1.0, \"#f0f921\"]], \"sequentialminus\": [[0.0, \"#0d0887\"], [0.1111111111111111, \"#46039f\"], [0.2222222222222222, \"#7201a8\"], [0.3333333333333333, \"#9c179e\"], [0.4444444444444444, \"#bd3786\"], [0.5555555555555556, \"#d8576b\"], [0.6666666666666666, \"#ed7953\"], [0.7777777777777778, \"#fb9f3a\"], [0.8888888888888888, \"#fdca26\"], [1.0, \"#f0f921\"]]}, \"colorway\": [\"#636efa\", \"#EF553B\", \"#00cc96\", \"#ab63fa\", \"#FFA15A\", \"#19d3f3\", \"#FF6692\", \"#B6E880\", \"#FF97FF\", \"#FECB52\"], \"font\": {\"color\": \"#2a3f5f\"}, \"geo\": {\"bgcolor\": \"white\", \"lakecolor\": \"white\", \"landcolor\": \"#E5ECF6\", \"showlakes\": true, \"showland\": true, \"subunitcolor\": \"white\"}, \"hoverlabel\": {\"align\": \"left\"}, \"hovermode\": \"closest\", \"mapbox\": {\"style\": \"light\"}, \"paper_bgcolor\": \"white\", \"plot_bgcolor\": \"#E5ECF6\", \"polar\": {\"angularaxis\": {\"gridcolor\": \"white\", \"linecolor\": \"white\", \"ticks\": \"\"}, \"bgcolor\": \"#E5ECF6\", \"radialaxis\": {\"gridcolor\": \"white\", \"linecolor\": \"white\", \"ticks\": \"\"}}, \"scene\": {\"xaxis\": {\"backgroundcolor\": \"#E5ECF6\", \"gridcolor\": \"white\", \"gridwidth\": 2, \"linecolor\": \"white\", \"showbackground\": true, \"ticks\": \"\", \"zerolinecolor\": \"white\"}, \"yaxis\": {\"backgroundcolor\": \"#E5ECF6\", \"gridcolor\": \"white\", \"gridwidth\": 2, \"linecolor\": \"white\", \"showbackground\": true, \"ticks\": \"\", \"zerolinecolor\": \"white\"}, \"zaxis\": {\"backgroundcolor\": \"#E5ECF6\", \"gridcolor\": \"white\", \"gridwidth\": 2, \"linecolor\": \"white\", \"showbackground\": true, \"ticks\": \"\", \"zerolinecolor\": \"white\"}}, \"shapedefaults\": {\"line\": {\"color\": \"#2a3f5f\"}}, \"ternary\": {\"aaxis\": {\"gridcolor\": \"white\", \"linecolor\": \"white\", \"ticks\": \"\"}, \"baxis\": {\"gridcolor\": \"white\", \"linecolor\": \"white\", \"ticks\": \"\"}, \"bgcolor\": \"#E5ECF6\", \"caxis\": {\"gridcolor\": \"white\", \"linecolor\": \"white\", \"ticks\": \"\"}}, \"title\": {\"x\": 0.05}, \"xaxis\": {\"automargin\": true, \"gridcolor\": \"white\", \"linecolor\": \"white\", \"ticks\": \"\", \"title\": {\"standoff\": 15}, \"zerolinecolor\": \"white\", \"zerolinewidth\": 2}, \"yaxis\": {\"automargin\": true, \"gridcolor\": \"white\", \"linecolor\": \"white\", \"ticks\": \"\", \"title\": {\"standoff\": 15}, \"zerolinecolor\": \"white\", \"zerolinewidth\": 2}}}, \"title\": {\"text\": \"\\u0628\\u0627\\u0632\\u06cc\\u06af\\u0631\\u0627\\u0646 \\u0628\\u0627 \\u0628\\u06cc\\u0634\\u062a\\u0631\\u06cc\\u0646 \\u062a\\u0639\\u062f\\u0627\\u062f \\u0641\\u06cc\\u0644\\u0645\"}, \"width\": 1000},\n",
              "                        {\"responsive\": true}\n",
              "                    ).then(function(){\n",
              "                            \n",
              "var gd = document.getElementById('9c11fdfa-c00c-4899-9824-fd6f369075c6');\n",
              "var x = new MutationObserver(function (mutations, observer) {{\n",
              "        var display = window.getComputedStyle(gd).display;\n",
              "        if (!display || display === 'none') {{\n",
              "            console.log([gd, 'removed!']);\n",
              "            Plotly.purge(gd);\n",
              "            observer.disconnect();\n",
              "        }}\n",
              "}});\n",
              "\n",
              "// Listen for the removal of the full notebook cells\n",
              "var notebookContainer = gd.closest('#notebook-container');\n",
              "if (notebookContainer) {{\n",
              "    x.observe(notebookContainer, {childList: true});\n",
              "}}\n",
              "\n",
              "// Listen for the clearing of the current output cell\n",
              "var outputEl = gd.closest('.output');\n",
              "if (outputEl) {{\n",
              "    x.observe(outputEl, {childList: true});\n",
              "}}\n",
              "\n",
              "                        })\n",
              "                };\n",
              "                \n",
              "            </script>\n",
              "        </div>\n",
              "</body>\n",
              "</html>"
            ]
          },
          "metadata": {}
        }
      ]
    },
    {
      "cell_type": "markdown",
      "metadata": {
        "id": "ntw84ItXXGH0"
      },
      "source": [
        "###Task_6 : *Find the most rated movies on filimo.*"
      ]
    },
    {
      "cell_type": "code",
      "metadata": {
        "id": "wKx4HjVJzsTa"
      },
      "source": [
        "'''\n",
        "group data frame by title and sum up rate for each movie,\n",
        "ultimately rate values by descending order :\n",
        "'''\n",
        "title_grouped = df.groupby('Title').sum()['Rate'].sort_values(ascending = False)\n",
        "# convert title_grouped to pandas dataframe and get only first 10 records :\n",
        "tg = pd.DataFrame(title_grouped).head(10)\n",
        "# get each movie title and store it in 'title' variable :\n",
        "title = tg.index \n",
        "# get each movie rate and store it in 'rate' variable :\n",
        "rate = tg.values.squeeze()\n"
      ],
      "execution_count": null,
      "outputs": []
    },
    {
      "cell_type": "code",
      "metadata": {
        "colab": {
          "base_uri": "https://localhost:8080/",
          "height": 542
        },
        "id": "9DJZ6dq30rEp",
        "outputId": "7d0ccc55-6d52-49ae-91e0-49acc89f3e0b"
      },
      "source": [
        "# plot title and it's relative rate to a bar chart format : \n",
        "fig = go.Figure(data=[go.Bar(x=title, y=rate\n",
        "            )])\n",
        "fig.update_traces(marker_color='snow', marker_line_color='blue',\n",
        "                  marker_line_width=3, opacity=0.9)\n",
        "fig.update_layout(title_text=\"پرطرفدارترین فیلم ها در فیلیمو\",\n",
        "                  title_font_size=30,\n",
        "                  \n",
        "                   font=dict(\n",
        "        family=\"Courier New, monospace\",\n",
        "        size=20,\n",
        "        color=\"blue\")\n",
        "    )\n",
        "                  \n",
        "\n",
        "fig.show()"
      ],
      "execution_count": null,
      "outputs": [
        {
          "output_type": "display_data",
          "data": {
            "text/html": [
              "<html>\n",
              "<head><meta charset=\"utf-8\" /></head>\n",
              "<body>\n",
              "    <div>\n",
              "            <script src=\"https://cdnjs.cloudflare.com/ajax/libs/mathjax/2.7.5/MathJax.js?config=TeX-AMS-MML_SVG\"></script><script type=\"text/javascript\">if (window.MathJax) {MathJax.Hub.Config({SVG: {font: \"STIX-Web\"}});}</script>\n",
              "                <script type=\"text/javascript\">window.PlotlyConfig = {MathJaxConfig: 'local'};</script>\n",
              "        <script src=\"https://cdn.plot.ly/plotly-latest.min.js\"></script>    \n",
              "            <div id=\"5a8914ff-60c0-4ac9-95b2-6e600f9e19bf\" class=\"plotly-graph-div\" style=\"height:525px; width:100%;\"></div>\n",
              "            <script type=\"text/javascript\">\n",
              "                \n",
              "                    window.PLOTLYENV=window.PLOTLYENV || {};\n",
              "                    \n",
              "                if (document.getElementById(\"5a8914ff-60c0-4ac9-95b2-6e600f9e19bf\")) {\n",
              "                    Plotly.newPlot(\n",
              "                        '5a8914ff-60c0-4ac9-95b2-6e600f9e19bf',\n",
              "                        [{\"marker\": {\"color\": \"snow\", \"line\": {\"color\": \"blue\", \"width\": 3}}, \"opacity\": 0.9, \"type\": \"bar\", \"x\": [\"\\u0634\\u0646\\u0627\\u06cc \\u067e\\u0631\\u0648\\u0627\\u0646\\u0647\", \"\\u0632\\u0646 \\u0647\\u0627 \\u0641\\u0631\\u0634\\u062a\\u0647 \\u0627\\u0646\\u062f 2\", \"\\u062f\\u06cc\\u062f\\u0646 \\u0627\\u06cc\\u0646 \\u0641\\u06cc\\u0644\\u0645 \\u062c\\u0631\\u0645 \\u0627\\u0633\\u062a\", \"\\u062e\\u0648\\u0631\\u0634\\u06cc\\u062f\", \"\\u0627\\u06cc\\u0633\\u062a\\u06af\\u0627\\u0647 \\u0627\\u062a\\u0645\\u0633\\u0641\\u0631\", \"\\u0628\\u0647 \\u0648\\u0642\\u062a \\u062e\\u0645\\u0627\\u0631\\u06cc\", \"\\u0622\\u0642\\u0627\\u06cc \\u0633\\u0627\\u0646\\u0633\\u0648\\u0631\", \"\\u062c\\u0645\\u0634\\u06cc\\u062f\\u06cc\\u0647\", \"\\u062a\\u06a9\\u062e\\u0627\\u0644\", \"\\u067e\\u06cc\\u0634\\u06cc \\u0645\\u06cc\\u0634\\u06cc\"], \"y\": [94591.0, 67253.0, 52538.0, 43888.0, 31147.0, 29833.0, 29360.0, 26800.0, 26795.0, 23904.0]}],\n",
              "                        {\"font\": {\"color\": \"blue\", \"family\": \"Courier New, monospace\", \"size\": 20}, \"template\": {\"data\": {\"bar\": [{\"error_x\": {\"color\": \"#2a3f5f\"}, \"error_y\": {\"color\": \"#2a3f5f\"}, \"marker\": {\"line\": {\"color\": \"#E5ECF6\", \"width\": 0.5}}, \"type\": \"bar\"}], \"barpolar\": [{\"marker\": {\"line\": {\"color\": \"#E5ECF6\", \"width\": 0.5}}, \"type\": \"barpolar\"}], \"carpet\": [{\"aaxis\": {\"endlinecolor\": \"#2a3f5f\", \"gridcolor\": \"white\", \"linecolor\": \"white\", \"minorgridcolor\": \"white\", \"startlinecolor\": \"#2a3f5f\"}, \"baxis\": {\"endlinecolor\": \"#2a3f5f\", \"gridcolor\": \"white\", \"linecolor\": \"white\", \"minorgridcolor\": \"white\", \"startlinecolor\": \"#2a3f5f\"}, \"type\": \"carpet\"}], \"choropleth\": [{\"colorbar\": {\"outlinewidth\": 0, \"ticks\": \"\"}, \"type\": \"choropleth\"}], \"contour\": [{\"colorbar\": {\"outlinewidth\": 0, \"ticks\": \"\"}, \"colorscale\": [[0.0, \"#0d0887\"], [0.1111111111111111, \"#46039f\"], [0.2222222222222222, \"#7201a8\"], [0.3333333333333333, \"#9c179e\"], [0.4444444444444444, \"#bd3786\"], [0.5555555555555556, \"#d8576b\"], [0.6666666666666666, \"#ed7953\"], [0.7777777777777778, \"#fb9f3a\"], [0.8888888888888888, \"#fdca26\"], [1.0, \"#f0f921\"]], \"type\": \"contour\"}], \"contourcarpet\": [{\"colorbar\": {\"outlinewidth\": 0, \"ticks\": \"\"}, \"type\": \"contourcarpet\"}], \"heatmap\": [{\"colorbar\": {\"outlinewidth\": 0, \"ticks\": \"\"}, \"colorscale\": [[0.0, \"#0d0887\"], [0.1111111111111111, \"#46039f\"], [0.2222222222222222, \"#7201a8\"], [0.3333333333333333, \"#9c179e\"], [0.4444444444444444, \"#bd3786\"], [0.5555555555555556, \"#d8576b\"], [0.6666666666666666, \"#ed7953\"], [0.7777777777777778, \"#fb9f3a\"], [0.8888888888888888, \"#fdca26\"], [1.0, \"#f0f921\"]], \"type\": \"heatmap\"}], \"heatmapgl\": [{\"colorbar\": {\"outlinewidth\": 0, \"ticks\": \"\"}, \"colorscale\": [[0.0, \"#0d0887\"], [0.1111111111111111, \"#46039f\"], [0.2222222222222222, \"#7201a8\"], [0.3333333333333333, \"#9c179e\"], [0.4444444444444444, \"#bd3786\"], [0.5555555555555556, \"#d8576b\"], [0.6666666666666666, \"#ed7953\"], [0.7777777777777778, \"#fb9f3a\"], [0.8888888888888888, \"#fdca26\"], [1.0, \"#f0f921\"]], \"type\": \"heatmapgl\"}], \"histogram\": [{\"marker\": {\"colorbar\": {\"outlinewidth\": 0, \"ticks\": \"\"}}, \"type\": \"histogram\"}], \"histogram2d\": [{\"colorbar\": {\"outlinewidth\": 0, \"ticks\": \"\"}, \"colorscale\": [[0.0, \"#0d0887\"], [0.1111111111111111, \"#46039f\"], [0.2222222222222222, \"#7201a8\"], [0.3333333333333333, \"#9c179e\"], [0.4444444444444444, \"#bd3786\"], [0.5555555555555556, \"#d8576b\"], [0.6666666666666666, \"#ed7953\"], [0.7777777777777778, \"#fb9f3a\"], [0.8888888888888888, \"#fdca26\"], [1.0, \"#f0f921\"]], \"type\": \"histogram2d\"}], \"histogram2dcontour\": [{\"colorbar\": {\"outlinewidth\": 0, \"ticks\": \"\"}, \"colorscale\": [[0.0, \"#0d0887\"], [0.1111111111111111, \"#46039f\"], [0.2222222222222222, \"#7201a8\"], [0.3333333333333333, \"#9c179e\"], [0.4444444444444444, \"#bd3786\"], [0.5555555555555556, \"#d8576b\"], [0.6666666666666666, \"#ed7953\"], [0.7777777777777778, \"#fb9f3a\"], [0.8888888888888888, \"#fdca26\"], [1.0, \"#f0f921\"]], \"type\": \"histogram2dcontour\"}], \"mesh3d\": [{\"colorbar\": {\"outlinewidth\": 0, \"ticks\": \"\"}, \"type\": \"mesh3d\"}], \"parcoords\": [{\"line\": {\"colorbar\": {\"outlinewidth\": 0, \"ticks\": \"\"}}, \"type\": \"parcoords\"}], \"pie\": [{\"automargin\": true, \"type\": \"pie\"}], \"scatter\": [{\"marker\": {\"colorbar\": {\"outlinewidth\": 0, \"ticks\": \"\"}}, \"type\": \"scatter\"}], \"scatter3d\": [{\"line\": {\"colorbar\": {\"outlinewidth\": 0, \"ticks\": \"\"}}, \"marker\": {\"colorbar\": {\"outlinewidth\": 0, \"ticks\": \"\"}}, \"type\": \"scatter3d\"}], \"scattercarpet\": [{\"marker\": {\"colorbar\": {\"outlinewidth\": 0, \"ticks\": \"\"}}, \"type\": \"scattercarpet\"}], \"scattergeo\": [{\"marker\": {\"colorbar\": {\"outlinewidth\": 0, \"ticks\": \"\"}}, \"type\": \"scattergeo\"}], \"scattergl\": [{\"marker\": {\"colorbar\": {\"outlinewidth\": 0, \"ticks\": \"\"}}, \"type\": \"scattergl\"}], \"scattermapbox\": [{\"marker\": {\"colorbar\": {\"outlinewidth\": 0, \"ticks\": \"\"}}, \"type\": \"scattermapbox\"}], \"scatterpolar\": [{\"marker\": {\"colorbar\": {\"outlinewidth\": 0, \"ticks\": \"\"}}, \"type\": \"scatterpolar\"}], \"scatterpolargl\": [{\"marker\": {\"colorbar\": {\"outlinewidth\": 0, \"ticks\": \"\"}}, \"type\": \"scatterpolargl\"}], \"scatterternary\": [{\"marker\": {\"colorbar\": {\"outlinewidth\": 0, \"ticks\": \"\"}}, \"type\": \"scatterternary\"}], \"surface\": [{\"colorbar\": {\"outlinewidth\": 0, \"ticks\": \"\"}, \"colorscale\": [[0.0, \"#0d0887\"], [0.1111111111111111, \"#46039f\"], [0.2222222222222222, \"#7201a8\"], [0.3333333333333333, \"#9c179e\"], [0.4444444444444444, \"#bd3786\"], [0.5555555555555556, \"#d8576b\"], [0.6666666666666666, \"#ed7953\"], [0.7777777777777778, \"#fb9f3a\"], [0.8888888888888888, \"#fdca26\"], [1.0, \"#f0f921\"]], \"type\": \"surface\"}], \"table\": [{\"cells\": {\"fill\": {\"color\": \"#EBF0F8\"}, \"line\": {\"color\": \"white\"}}, \"header\": {\"fill\": {\"color\": \"#C8D4E3\"}, \"line\": {\"color\": \"white\"}}, \"type\": \"table\"}]}, \"layout\": {\"annotationdefaults\": {\"arrowcolor\": \"#2a3f5f\", \"arrowhead\": 0, \"arrowwidth\": 1}, \"coloraxis\": {\"colorbar\": {\"outlinewidth\": 0, \"ticks\": \"\"}}, \"colorscale\": {\"diverging\": [[0, \"#8e0152\"], [0.1, \"#c51b7d\"], [0.2, \"#de77ae\"], [0.3, \"#f1b6da\"], [0.4, \"#fde0ef\"], [0.5, \"#f7f7f7\"], [0.6, \"#e6f5d0\"], [0.7, \"#b8e186\"], [0.8, \"#7fbc41\"], [0.9, \"#4d9221\"], [1, \"#276419\"]], \"sequential\": [[0.0, \"#0d0887\"], [0.1111111111111111, \"#46039f\"], [0.2222222222222222, \"#7201a8\"], [0.3333333333333333, \"#9c179e\"], [0.4444444444444444, \"#bd3786\"], [0.5555555555555556, \"#d8576b\"], [0.6666666666666666, \"#ed7953\"], [0.7777777777777778, \"#fb9f3a\"], [0.8888888888888888, \"#fdca26\"], [1.0, \"#f0f921\"]], \"sequentialminus\": [[0.0, \"#0d0887\"], [0.1111111111111111, \"#46039f\"], [0.2222222222222222, \"#7201a8\"], [0.3333333333333333, \"#9c179e\"], [0.4444444444444444, \"#bd3786\"], [0.5555555555555556, \"#d8576b\"], [0.6666666666666666, \"#ed7953\"], [0.7777777777777778, \"#fb9f3a\"], [0.8888888888888888, \"#fdca26\"], [1.0, \"#f0f921\"]]}, \"colorway\": [\"#636efa\", \"#EF553B\", \"#00cc96\", \"#ab63fa\", \"#FFA15A\", \"#19d3f3\", \"#FF6692\", \"#B6E880\", \"#FF97FF\", \"#FECB52\"], \"font\": {\"color\": \"#2a3f5f\"}, \"geo\": {\"bgcolor\": \"white\", \"lakecolor\": \"white\", \"landcolor\": \"#E5ECF6\", \"showlakes\": true, \"showland\": true, \"subunitcolor\": \"white\"}, \"hoverlabel\": {\"align\": \"left\"}, \"hovermode\": \"closest\", \"mapbox\": {\"style\": \"light\"}, \"paper_bgcolor\": \"white\", \"plot_bgcolor\": \"#E5ECF6\", \"polar\": {\"angularaxis\": {\"gridcolor\": \"white\", \"linecolor\": \"white\", \"ticks\": \"\"}, \"bgcolor\": \"#E5ECF6\", \"radialaxis\": {\"gridcolor\": \"white\", \"linecolor\": \"white\", \"ticks\": \"\"}}, \"scene\": {\"xaxis\": {\"backgroundcolor\": \"#E5ECF6\", \"gridcolor\": \"white\", \"gridwidth\": 2, \"linecolor\": \"white\", \"showbackground\": true, \"ticks\": \"\", \"zerolinecolor\": \"white\"}, \"yaxis\": {\"backgroundcolor\": \"#E5ECF6\", \"gridcolor\": \"white\", \"gridwidth\": 2, \"linecolor\": \"white\", \"showbackground\": true, \"ticks\": \"\", \"zerolinecolor\": \"white\"}, \"zaxis\": {\"backgroundcolor\": \"#E5ECF6\", \"gridcolor\": \"white\", \"gridwidth\": 2, \"linecolor\": \"white\", \"showbackground\": true, \"ticks\": \"\", \"zerolinecolor\": \"white\"}}, \"shapedefaults\": {\"line\": {\"color\": \"#2a3f5f\"}}, \"ternary\": {\"aaxis\": {\"gridcolor\": \"white\", \"linecolor\": \"white\", \"ticks\": \"\"}, \"baxis\": {\"gridcolor\": \"white\", \"linecolor\": \"white\", \"ticks\": \"\"}, \"bgcolor\": \"#E5ECF6\", \"caxis\": {\"gridcolor\": \"white\", \"linecolor\": \"white\", \"ticks\": \"\"}}, \"title\": {\"x\": 0.05}, \"xaxis\": {\"automargin\": true, \"gridcolor\": \"white\", \"linecolor\": \"white\", \"ticks\": \"\", \"title\": {\"standoff\": 15}, \"zerolinecolor\": \"white\", \"zerolinewidth\": 2}, \"yaxis\": {\"automargin\": true, \"gridcolor\": \"white\", \"linecolor\": \"white\", \"ticks\": \"\", \"title\": {\"standoff\": 15}, \"zerolinecolor\": \"white\", \"zerolinewidth\": 2}}}, \"title\": {\"font\": {\"size\": 30}, \"text\": \"\\u067e\\u0631\\u0637\\u0631\\u0641\\u062f\\u0627\\u0631\\u062a\\u0631\\u06cc\\u0646 \\u0641\\u06cc\\u0644\\u0645 \\u0647\\u0627 \\u062f\\u0631 \\u0641\\u06cc\\u0644\\u06cc\\u0645\\u0648\"}},\n",
              "                        {\"responsive\": true}\n",
              "                    ).then(function(){\n",
              "                            \n",
              "var gd = document.getElementById('5a8914ff-60c0-4ac9-95b2-6e600f9e19bf');\n",
              "var x = new MutationObserver(function (mutations, observer) {{\n",
              "        var display = window.getComputedStyle(gd).display;\n",
              "        if (!display || display === 'none') {{\n",
              "            console.log([gd, 'removed!']);\n",
              "            Plotly.purge(gd);\n",
              "            observer.disconnect();\n",
              "        }}\n",
              "}});\n",
              "\n",
              "// Listen for the removal of the full notebook cells\n",
              "var notebookContainer = gd.closest('#notebook-container');\n",
              "if (notebookContainer) {{\n",
              "    x.observe(notebookContainer, {childList: true});\n",
              "}}\n",
              "\n",
              "// Listen for the clearing of the current output cell\n",
              "var outputEl = gd.closest('.output');\n",
              "if (outputEl) {{\n",
              "    x.observe(outputEl, {childList: true});\n",
              "}}\n",
              "\n",
              "                        })\n",
              "                };\n",
              "                \n",
              "            </script>\n",
              "        </div>\n",
              "</body>\n",
              "</html>"
            ]
          },
          "metadata": {}
        }
      ]
    },
    {
      "cell_type": "markdown",
      "metadata": {
        "id": "gHcLaeCbYvEz"
      },
      "source": [
        "###Task_7 = *Comparsion between imdb & filimo rates.*"
      ]
    },
    {
      "cell_type": "code",
      "metadata": {
        "colab": {
          "base_uri": "https://localhost:8080/",
          "height": 455
        },
        "id": "uQtkF7W67cj2",
        "outputId": "b4090868-c89b-4837-b795-c926f4dc6d44"
      },
      "source": [
        "'''\n",
        "grouping dataframe by 'Title' column and sum up each rates,\n",
        "notice we can use count method instead of sum as well\n",
        "'''\n",
        "filimo_imdb = pd.DataFrame(df.groupby('Title').sum())\n",
        "filimo_imdb"
      ],
      "execution_count": null,
      "outputs": [
        {
          "output_type": "execute_result",
          "data": {
            "text/html": [
              "<div>\n",
              "<style scoped>\n",
              "    .dataframe tbody tr th:only-of-type {\n",
              "        vertical-align: middle;\n",
              "    }\n",
              "\n",
              "    .dataframe tbody tr th {\n",
              "        vertical-align: top;\n",
              "    }\n",
              "\n",
              "    .dataframe thead th {\n",
              "        text-align: right;\n",
              "    }\n",
              "</style>\n",
              "<table border=\"1\" class=\"dataframe\">\n",
              "  <thead>\n",
              "    <tr style=\"text-align: right;\">\n",
              "      <th></th>\n",
              "      <th>Production</th>\n",
              "      <th>Rate</th>\n",
              "      <th>Rate_percent</th>\n",
              "      <th>Imdb</th>\n",
              "    </tr>\n",
              "    <tr>\n",
              "      <th>Title</th>\n",
              "      <th></th>\n",
              "      <th></th>\n",
              "      <th></th>\n",
              "      <th></th>\n",
              "    </tr>\n",
              "  </thead>\n",
              "  <tbody>\n",
              "    <tr>\n",
              "      <th>18-</th>\n",
              "      <td>1386.0</td>\n",
              "      <td>290.0</td>\n",
              "      <td>73.0</td>\n",
              "      <td>0.0</td>\n",
              "    </tr>\n",
              "    <tr>\n",
              "      <th>آب و آئینه</th>\n",
              "      <td>1393.0</td>\n",
              "      <td>45.0</td>\n",
              "      <td>77.0</td>\n",
              "      <td>0.0</td>\n",
              "    </tr>\n",
              "    <tr>\n",
              "      <th>آبادان یازده 60</th>\n",
              "      <td>1398.0</td>\n",
              "      <td>11904.0</td>\n",
              "      <td>95.0</td>\n",
              "      <td>6.3</td>\n",
              "    </tr>\n",
              "    <tr>\n",
              "      <th>آبگوشت مکبث</th>\n",
              "      <td>1389.0</td>\n",
              "      <td>82.0</td>\n",
              "      <td>68.0</td>\n",
              "      <td>5.7</td>\n",
              "    </tr>\n",
              "    <tr>\n",
              "      <th>آتش بس ۲ (با زیرنویس مخصوص ناشنوایان)</th>\n",
              "      <td>1393.0</td>\n",
              "      <td>317.0</td>\n",
              "      <td>90.0</td>\n",
              "      <td>4.2</td>\n",
              "    </tr>\n",
              "    <tr>\n",
              "      <th>...</th>\n",
              "      <td>...</td>\n",
              "      <td>...</td>\n",
              "      <td>...</td>\n",
              "      <td>...</td>\n",
              "    </tr>\n",
              "    <tr>\n",
              "      <th>یک زندگی بهتر</th>\n",
              "      <td>1396.0</td>\n",
              "      <td>208.0</td>\n",
              "      <td>86.0</td>\n",
              "      <td>0.0</td>\n",
              "    </tr>\n",
              "    <tr>\n",
              "      <th>یک لحظه لبخند</th>\n",
              "      <td>1399.0</td>\n",
              "      <td>291.0</td>\n",
              "      <td>74.0</td>\n",
              "      <td>0.0</td>\n",
              "    </tr>\n",
              "    <tr>\n",
              "      <th>یک مسئله ساده</th>\n",
              "      <td>1398.0</td>\n",
              "      <td>525.0</td>\n",
              "      <td>65.0</td>\n",
              "      <td>0.0</td>\n",
              "    </tr>\n",
              "    <tr>\n",
              "      <th>یک چیز بی خاصیت</th>\n",
              "      <td>1398.0</td>\n",
              "      <td>89.0</td>\n",
              "      <td>89.0</td>\n",
              "      <td>0.0</td>\n",
              "    </tr>\n",
              "    <tr>\n",
              "      <th>یک کار نیمه مردانه</th>\n",
              "      <td>1400.0</td>\n",
              "      <td>41.0</td>\n",
              "      <td>92.0</td>\n",
              "      <td>0.0</td>\n",
              "    </tr>\n",
              "  </tbody>\n",
              "</table>\n",
              "<p>399 rows × 4 columns</p>\n",
              "</div>"
            ],
            "text/plain": [
              "                                       Production     Rate  Rate_percent  Imdb\n",
              "Title                                                                         \n",
              "18-                                        1386.0    290.0          73.0   0.0\n",
              "آب و آئینه                                 1393.0     45.0          77.0   0.0\n",
              "آبادان یازده 60                            1398.0  11904.0          95.0   6.3\n",
              "آبگوشت مکبث                                1389.0     82.0          68.0   5.7\n",
              "آتش بس ۲ (با زیرنویس مخصوص ناشنوایان)      1393.0    317.0          90.0   4.2\n",
              "...                                           ...      ...           ...   ...\n",
              "یک زندگی بهتر                              1396.0    208.0          86.0   0.0\n",
              "یک لحظه لبخند                              1399.0    291.0          74.0   0.0\n",
              "یک مسئله ساده                              1398.0    525.0          65.0   0.0\n",
              "یک چیز بی خاصیت                            1398.0     89.0          89.0   0.0\n",
              "یک کار نیمه مردانه                         1400.0     41.0          92.0   0.0\n",
              "\n",
              "[399 rows x 4 columns]"
            ]
          },
          "metadata": {},
          "execution_count": 467
        }
      ]
    },
    {
      "cell_type": "code",
      "metadata": {
        "colab": {
          "base_uri": "https://localhost:8080/",
          "height": 542
        },
        "id": "9nieRB_KF6_N",
        "outputId": "83dafd35-3aac-4a59-a976-a7554ec171b1"
      },
      "source": [
        "'''\n",
        "plot imbd and rate for each movie in form of a scatter chart,\n",
        "notice here we can pass rate_imdb as a argument,\n",
        "then access directly to each column by just declaring their names :\n",
        "'''\n",
        "fig = px.scatter(rate_imdb, x=\"Imdb\", y=\"Rate\",\n",
        "                color=rate_imdb.index\n",
        "               )\n",
        "fig.update_layout(title_text = 'Comparison Of Imdb & Filimo Rate',\n",
        "                  title_font_size=30\n",
        "                  \n",
        "    )\n",
        "fig.show()"
      ],
      "execution_count": null,
      "outputs": [
        {
          "output_type": "display_data",
          "data": {
            "text/html": [
              "<html>\n",
              "<head><meta charset=\"utf-8\" /></head>\n",
              "<body>\n",
              "    <div>\n",
              "            <script src=\"https://cdnjs.cloudflare.com/ajax/libs/mathjax/2.7.5/MathJax.js?config=TeX-AMS-MML_SVG\"></script><script type=\"text/javascript\">if (window.MathJax) {MathJax.Hub.Config({SVG: {font: \"STIX-Web\"}});}</script>\n",
              "                <script type=\"text/javascript\">window.PlotlyConfig = {MathJaxConfig: 'local'};</script>\n",
              "        <script src=\"https://cdn.plot.ly/plotly-latest.min.js\"></script>    \n",
              "            <div id=\"9eb4786e-e276-4f84-90a1-f7de02ebc8b1\" class=\"plotly-graph-div\" style=\"height:525px; width:100%;\"></div>\n",
              "            <script type=\"text/javascript\">\n",
              "                \n",
              "                    window.PLOTLYENV=window.PLOTLYENV || {};\n",
              "                    \n",
              "                if (document.getElementById(\"9eb4786e-e276-4f84-90a1-f7de02ebc8b1\")) {\n",
              "                    Plotly.newPlot(\n",
              "                        '9eb4786e-e276-4f84-90a1-f7de02ebc8b1',\n",
              "                        [{\"hoverlabel\": {\"namelength\": 0}, \"hovertemplate\": \"color=18-<br>Imdb=%{x}<br>Rate=%{y}\", \"legendgroup\": \"color=18-\", \"marker\": {\"color\": \"#636efa\", \"symbol\": \"circle\"}, \"mode\": \"markers\", \"name\": \"color=18-\", \"showlegend\": true, \"type\": \"scatter\", \"x\": [0.0], \"xaxis\": \"x\", \"y\": [290.0], \"yaxis\": \"y\"}, {\"hoverlabel\": {\"namelength\": 0}, \"hovertemplate\": \"color=\\u0622\\u0628 \\u0648 \\u0622\\u0626\\u06cc\\u0646\\u0647<br>Imdb=%{x}<br>Rate=%{y}\", \"legendgroup\": \"color=\\u0622\\u0628 \\u0648 \\u0622\\u0626\\u06cc\\u0646\\u0647\", \"marker\": {\"color\": \"#EF553B\", \"symbol\": \"circle\"}, \"mode\": \"markers\", \"name\": \"color=\\u0622\\u0628 \\u0648 \\u0622\\u0626\\u06cc\\u0646\\u0647\", \"showlegend\": true, \"type\": \"scatter\", \"x\": [0.0], \"xaxis\": \"x\", \"y\": [45.0], \"yaxis\": \"y\"}, {\"hoverlabel\": {\"namelength\": 0}, \"hovertemplate\": \"color=\\u0622\\u0628\\u0627\\u062f\\u0627\\u0646 \\u06cc\\u0627\\u0632\\u062f\\u0647 60<br>Imdb=%{x}<br>Rate=%{y}\", \"legendgroup\": \"color=\\u0622\\u0628\\u0627\\u062f\\u0627\\u0646 \\u06cc\\u0627\\u0632\\u062f\\u0647 60\", \"marker\": {\"color\": \"#00cc96\", \"symbol\": \"circle\"}, \"mode\": \"markers\", \"name\": \"color=\\u0622\\u0628\\u0627\\u062f\\u0627\\u0646 \\u06cc\\u0627\\u0632\\u062f\\u0647 60\", \"showlegend\": true, \"type\": \"scatter\", \"x\": [6.3], \"xaxis\": \"x\", \"y\": [11904.0], \"yaxis\": \"y\"}, {\"hoverlabel\": {\"namelength\": 0}, \"hovertemplate\": \"color=\\u0622\\u0628\\u06af\\u0648\\u0634\\u062a \\u0645\\u06a9\\u0628\\u062b<br>Imdb=%{x}<br>Rate=%{y}\", \"legendgroup\": \"color=\\u0622\\u0628\\u06af\\u0648\\u0634\\u062a \\u0645\\u06a9\\u0628\\u062b\", \"marker\": {\"color\": \"#ab63fa\", \"symbol\": \"circle\"}, \"mode\": \"markers\", \"name\": \"color=\\u0622\\u0628\\u06af\\u0648\\u0634\\u062a \\u0645\\u06a9\\u0628\\u062b\", \"showlegend\": true, \"type\": \"scatter\", \"x\": [5.7], \"xaxis\": \"x\", \"y\": [82.0], \"yaxis\": \"y\"}, {\"hoverlabel\": {\"namelength\": 0}, \"hovertemplate\": \"color=\\u0622\\u062a\\u0634 \\u0628\\u0633 \\u06f2 (\\u0628\\u0627 \\u0632\\u06cc\\u0631\\u0646\\u0648\\u06cc\\u0633 \\u0645\\u062e\\u0635\\u0648\\u0635 \\u0646\\u0627\\u0634\\u0646\\u0648\\u0627\\u06cc\\u0627\\u0646)<br>Imdb=%{x}<br>Rate=%{y}\", \"legendgroup\": \"color=\\u0622\\u062a\\u0634 \\u0628\\u0633 \\u06f2 (\\u0628\\u0627 \\u0632\\u06cc\\u0631\\u0646\\u0648\\u06cc\\u0633 \\u0645\\u062e\\u0635\\u0648\\u0635 \\u0646\\u0627\\u0634\\u0646\\u0648\\u0627\\u06cc\\u0627\\u0646)\", \"marker\": {\"color\": \"#FFA15A\", \"symbol\": \"circle\"}, \"mode\": \"markers\", \"name\": \"color=\\u0622\\u062a\\u0634 \\u0628\\u0633 \\u06f2 (\\u0628\\u0627 \\u0632\\u06cc\\u0631\\u0646\\u0648\\u06cc\\u0633 \\u0645\\u062e\\u0635\\u0648\\u0635 \\u0646\\u0627\\u0634\\u0646\\u0648\\u0627\\u06cc\\u0627\\u0646)\", \"showlegend\": true, \"type\": \"scatter\", \"x\": [4.2], \"xaxis\": \"x\", \"y\": [317.0], \"yaxis\": \"y\"}, {\"hoverlabel\": {\"namelength\": 0}, \"hovertemplate\": \"color=\\u0622\\u062f\\u0645 \\u0628\\u0627\\u0634\\u060c \\u0622\\u062f\\u0645<br>Imdb=%{x}<br>Rate=%{y}\", \"legendgroup\": \"color=\\u0622\\u062f\\u0645 \\u0628\\u0627\\u0634\\u060c \\u0622\\u062f\\u0645\", \"marker\": {\"color\": \"#19d3f3\", \"symbol\": \"circle\"}, \"mode\": \"markers\", \"name\": \"color=\\u0622\\u062f\\u0645 \\u0628\\u0627\\u0634\\u060c \\u0622\\u062f\\u0645\", \"showlegend\": true, \"type\": \"scatter\", \"x\": [5.7], \"xaxis\": \"x\", \"y\": [80.0], \"yaxis\": \"y\"}, {\"hoverlabel\": {\"namelength\": 0}, \"hovertemplate\": \"color=\\u0622\\u0630\\u0631\\u060c \\u0634\\u0647\\u062f\\u062e\\u062a\\u060c \\u067e\\u0631\\u0648\\u06cc\\u0632 \\u0648 \\u062f\\u06cc\\u06af\\u0631\\u0627\\u0646 (\\u0628\\u0627 \\u0632\\u06cc\\u0631\\u0646\\u0648\\u06cc\\u0633 \\u0645\\u062e\\u0635\\u0648\\u0635 \\u0646\\u0627\\u0634\\u0646\\u0648\\u0627\\u06cc\\u0627\\u0646)<br>Imdb=%{x}<br>Rate=%{y}\", \"legendgroup\": \"color=\\u0622\\u0630\\u0631\\u060c \\u0634\\u0647\\u062f\\u062e\\u062a\\u060c \\u067e\\u0631\\u0648\\u06cc\\u0632 \\u0648 \\u062f\\u06cc\\u06af\\u0631\\u0627\\u0646 (\\u0628\\u0627 \\u0632\\u06cc\\u0631\\u0646\\u0648\\u06cc\\u0633 \\u0645\\u062e\\u0635\\u0648\\u0635 \\u0646\\u0627\\u0634\\u0646\\u0648\\u0627\\u06cc\\u0627\\u0646)\", \"marker\": {\"color\": \"#FF6692\", \"symbol\": \"circle\"}, \"mode\": \"markers\", \"name\": \"color=\\u0622\\u0630\\u0631\\u060c \\u0634\\u0647\\u062f\\u062e\\u062a\\u060c \\u067e\\u0631\\u0648\\u06cc\\u0632 \\u0648 \\u062f\\u06cc\\u06af\\u0631\\u0627\\u0646 (\\u0628\\u0627 \\u0632\\u06cc\\u0631\\u0646\\u0648\\u06cc\\u0633 \\u0645\\u062e\\u0635\\u0648\\u0635 \\u0646\\u0627\\u0634\\u0646\\u0648\\u0627\\u06cc\\u0627\\u0646)\", \"showlegend\": true, \"type\": \"scatter\", \"x\": [4.7], \"xaxis\": \"x\", \"y\": [268.0], \"yaxis\": \"y\"}, {\"hoverlabel\": {\"namelength\": 0}, \"hovertemplate\": \"color=\\u0622\\u0632\\u0627\\u062f\\u06cc \\u062f\\u0631 \\u0645\\u0647<br>Imdb=%{x}<br>Rate=%{y}\", \"legendgroup\": \"color=\\u0622\\u0632\\u0627\\u062f\\u06cc \\u062f\\u0631 \\u0645\\u0647\", \"marker\": {\"color\": \"#B6E880\", \"symbol\": \"circle\"}, \"mode\": \"markers\", \"name\": \"color=\\u0622\\u0632\\u0627\\u062f\\u06cc \\u062f\\u0631 \\u0645\\u0647\", \"showlegend\": true, \"type\": \"scatter\", \"x\": [0.0], \"xaxis\": \"x\", \"y\": [11.0], \"yaxis\": \"y\"}, {\"hoverlabel\": {\"namelength\": 0}, \"hovertemplate\": \"color=\\u0622\\u0634\\u0641\\u062a\\u0647 \\u06af\\u06cc (\\u0628\\u0627 \\u0632\\u06cc\\u0631\\u0646\\u0648\\u06cc\\u0633 \\u0645\\u062e\\u0635\\u0648\\u0635 \\u0646\\u0627\\u0634\\u0646\\u0648\\u0627\\u06cc\\u0627\\u0646)<br>Imdb=%{x}<br>Rate=%{y}\", \"legendgroup\": \"color=\\u0622\\u0634\\u0641\\u062a\\u0647 \\u06af\\u06cc (\\u0628\\u0627 \\u0632\\u06cc\\u0631\\u0646\\u0648\\u06cc\\u0633 \\u0645\\u062e\\u0635\\u0648\\u0635 \\u0646\\u0627\\u0634\\u0646\\u0648\\u0627\\u06cc\\u0627\\u0646)\", \"marker\": {\"color\": \"#FF97FF\", \"symbol\": \"circle\"}, \"mode\": \"markers\", \"name\": \"color=\\u0622\\u0634\\u0641\\u062a\\u0647 \\u06af\\u06cc (\\u0628\\u0627 \\u0632\\u06cc\\u0631\\u0646\\u0648\\u06cc\\u0633 \\u0645\\u062e\\u0635\\u0648\\u0635 \\u0646\\u0627\\u0634\\u0646\\u0648\\u0627\\u06cc\\u0627\\u0646)\", \"showlegend\": true, \"type\": \"scatter\", \"x\": [3.8], \"xaxis\": \"x\", \"y\": [248.0], \"yaxis\": \"y\"}, {\"hoverlabel\": {\"namelength\": 0}, \"hovertemplate\": \"color=\\u0622\\u0641\\u062a\\u0627\\u0628\\u060c \\u0644\\u0628\\u0647 \\u0647\\u0627\\u06cc \\u0628\\u0627\\u0645<br>Imdb=%{x}<br>Rate=%{y}\", \"legendgroup\": \"color=\\u0622\\u0641\\u062a\\u0627\\u0628\\u060c \\u0644\\u0628\\u0647 \\u0647\\u0627\\u06cc \\u0628\\u0627\\u0645\", \"marker\": {\"color\": \"#FECB52\", \"symbol\": \"circle\"}, \"mode\": \"markers\", \"name\": \"color=\\u0622\\u0641\\u062a\\u0627\\u0628\\u060c \\u0644\\u0628\\u0647 \\u0647\\u0627\\u06cc \\u0628\\u0627\\u0645\", \"showlegend\": true, \"type\": \"scatter\", \"x\": [0.0], \"xaxis\": \"x\", \"y\": [1872.0], \"yaxis\": \"y\"}, {\"hoverlabel\": {\"namelength\": 0}, \"hovertemplate\": \"color=\\u0622\\u0642\\u0627 \\u0627\\u062c\\u0627\\u0632\\u0647<br>Imdb=%{x}<br>Rate=%{y}\", \"legendgroup\": \"color=\\u0622\\u0642\\u0627 \\u0627\\u062c\\u0627\\u0632\\u0647\", \"marker\": {\"color\": \"#636efa\", \"symbol\": \"circle\"}, \"mode\": \"markers\", \"name\": \"color=\\u0622\\u0642\\u0627 \\u0627\\u062c\\u0627\\u0632\\u0647\", \"showlegend\": true, \"type\": \"scatter\", \"x\": [5.7], \"xaxis\": \"x\", \"y\": [59.0], \"yaxis\": \"y\"}, {\"hoverlabel\": {\"namelength\": 0}, \"hovertemplate\": \"color=\\u0622\\u0642\\u0627\\u06cc \\u0633\\u0627\\u0646\\u0633\\u0648\\u0631<br>Imdb=%{x}<br>Rate=%{y}\", \"legendgroup\": \"color=\\u0622\\u0642\\u0627\\u06cc \\u0633\\u0627\\u0646\\u0633\\u0648\\u0631\", \"marker\": {\"color\": \"#EF553B\", \"symbol\": \"circle\"}, \"mode\": \"markers\", \"name\": \"color=\\u0622\\u0642\\u0627\\u06cc \\u0633\\u0627\\u0646\\u0633\\u0648\\u0631\", \"showlegend\": true, \"type\": \"scatter\", \"x\": [0.0], \"xaxis\": \"x\", \"y\": [29360.0], \"yaxis\": \"y\"}, {\"hoverlabel\": {\"namelength\": 0}, \"hovertemplate\": \"color=\\u0622\\u0642\\u0627\\u06cc \\u06a9\\u06cc\\u0645\\u06cc\\u0627\\u06cc\\u06cc<br>Imdb=%{x}<br>Rate=%{y}\", \"legendgroup\": \"color=\\u0622\\u0642\\u0627\\u06cc \\u06a9\\u06cc\\u0645\\u06cc\\u0627\\u06cc\\u06cc\", \"marker\": {\"color\": \"#00cc96\", \"symbol\": \"circle\"}, \"mode\": \"markers\", \"name\": \"color=\\u0622\\u0642\\u0627\\u06cc \\u06a9\\u06cc\\u0645\\u06cc\\u0627\\u06cc\\u06cc\", \"showlegend\": true, \"type\": \"scatter\", \"x\": [0.0], \"xaxis\": \"x\", \"y\": [23.0], \"yaxis\": \"y\"}, {\"hoverlabel\": {\"namelength\": 0}, \"hovertemplate\": \"color=\\u0622\\u0646 \\u0631\\u0648\\u0632 - \\u067e\\u0634\\u062a \\u0635\\u062d\\u0646\\u0647 23 \\u0646\\u0641\\u0631<br>Imdb=%{x}<br>Rate=%{y}\", \"legendgroup\": \"color=\\u0622\\u0646 \\u0631\\u0648\\u0632 - \\u067e\\u0634\\u062a \\u0635\\u062d\\u0646\\u0647 23 \\u0646\\u0641\\u0631\", \"marker\": {\"color\": \"#ab63fa\", \"symbol\": \"circle\"}, \"mode\": \"markers\", \"name\": \"color=\\u0622\\u0646 \\u0631\\u0648\\u0632 - \\u067e\\u0634\\u062a \\u0635\\u062d\\u0646\\u0647 23 \\u0646\\u0641\\u0631\", \"showlegend\": true, \"type\": \"scatter\", \"x\": [0.0], \"xaxis\": \"x\", \"y\": [339.0], \"yaxis\": \"y\"}, {\"hoverlabel\": {\"namelength\": 0}, \"hovertemplate\": \"color=\\u0622\\u0646 \\u0631\\u0648\\u06cc \\u0633\\u06a9\\u0647<br>Imdb=%{x}<br>Rate=%{y}\", \"legendgroup\": \"color=\\u0622\\u0646 \\u0631\\u0648\\u06cc \\u0633\\u06a9\\u0647\", \"marker\": {\"color\": \"#FFA15A\", \"symbol\": \"circle\"}, \"mode\": \"markers\", \"name\": \"color=\\u0622\\u0646 \\u0631\\u0648\\u06cc \\u0633\\u06a9\\u0647\", \"showlegend\": true, \"type\": \"scatter\", \"x\": [5.7], \"xaxis\": \"x\", \"y\": [58.0], \"yaxis\": \"y\"}, {\"hoverlabel\": {\"namelength\": 0}, \"hovertemplate\": \"color=\\u0622\\u0646\\u0627<br>Imdb=%{x}<br>Rate=%{y}\", \"legendgroup\": \"color=\\u0622\\u0646\\u0627\", \"marker\": {\"color\": \"#19d3f3\", \"symbol\": \"circle\"}, \"mode\": \"markers\", \"name\": \"color=\\u0622\\u0646\\u0627\", \"showlegend\": true, \"type\": \"scatter\", \"x\": [0.0], \"xaxis\": \"x\", \"y\": [283.0], \"yaxis\": \"y\"}, {\"hoverlabel\": {\"namelength\": 0}, \"hovertemplate\": \"color=\\u0622\\u0648\\u0627\\u0632 \\u0622\\u0641\\u062a\\u0627\\u0628<br>Imdb=%{x}<br>Rate=%{y}\", \"legendgroup\": \"color=\\u0622\\u0648\\u0627\\u0632 \\u0622\\u0641\\u062a\\u0627\\u0628\", \"marker\": {\"color\": \"#FF6692\", \"symbol\": \"circle\"}, \"mode\": \"markers\", \"name\": \"color=\\u0622\\u0648\\u0627\\u0632 \\u0622\\u0641\\u062a\\u0627\\u0628\", \"showlegend\": true, \"type\": \"scatter\", \"x\": [0.0], \"xaxis\": \"x\", \"y\": [41.0], \"yaxis\": \"y\"}, {\"hoverlabel\": {\"namelength\": 0}, \"hovertemplate\": \"color=\\u0622\\u067e\\u0627\\u0631\\u062a\\u0645\\u0627\\u0646 \\u0622\\u0642\\u0627\\u06cc \\u0647\\u0646\\u0631\\u067e\\u06cc\\u0634\\u0647 (\\u0628\\u0627 \\u0632\\u06cc\\u0631\\u0646\\u0648\\u06cc\\u0633 \\u0645\\u062e\\u0635\\u0648\\u0635 \\u0646\\u0627\\u0634\\u0646\\u0648\\u0627\\u06cc\\u0627\\u0646)<br>Imdb=%{x}<br>Rate=%{y}\", \"legendgroup\": \"color=\\u0622\\u067e\\u0627\\u0631\\u062a\\u0645\\u0627\\u0646 \\u0622\\u0642\\u0627\\u06cc \\u0647\\u0646\\u0631\\u067e\\u06cc\\u0634\\u0647 (\\u0628\\u0627 \\u0632\\u06cc\\u0631\\u0646\\u0648\\u06cc\\u0633 \\u0645\\u062e\\u0635\\u0648\\u0635 \\u0646\\u0627\\u0634\\u0646\\u0648\\u0627\\u06cc\\u0627\\u0646)\", \"marker\": {\"color\": \"#B6E880\", \"symbol\": \"circle\"}, \"mode\": \"markers\", \"name\": \"color=\\u0622\\u067e\\u0627\\u0631\\u062a\\u0645\\u0627\\u0646 \\u0622\\u0642\\u0627\\u06cc \\u0647\\u0646\\u0631\\u067e\\u06cc\\u0634\\u0647 (\\u0628\\u0627 \\u0632\\u06cc\\u0631\\u0646\\u0648\\u06cc\\u0633 \\u0645\\u062e\\u0635\\u0648\\u0635 \\u0646\\u0627\\u0634\\u0646\\u0648\\u0627\\u06cc\\u0627\\u0646)\", \"showlegend\": true, \"type\": \"scatter\", \"x\": [0.0], \"xaxis\": \"x\", \"y\": [34.0], \"yaxis\": \"y\"}, {\"hoverlabel\": {\"namelength\": 0}, \"hovertemplate\": \"color=\\u0627\\u0628\\u0631\\u0627\\u0647\\u06cc\\u0645<br>Imdb=%{x}<br>Rate=%{y}\", \"legendgroup\": \"color=\\u0627\\u0628\\u0631\\u0627\\u0647\\u06cc\\u0645\", \"marker\": {\"color\": \"#FF97FF\", \"symbol\": \"circle\"}, \"mode\": \"markers\", \"name\": \"color=\\u0627\\u0628\\u0631\\u0627\\u0647\\u06cc\\u0645\", \"showlegend\": true, \"type\": \"scatter\", \"x\": [0.0], \"xaxis\": \"x\", \"y\": [104.0], \"yaxis\": \"y\"}, {\"hoverlabel\": {\"namelength\": 0}, \"hovertemplate\": \"color=\\u0627\\u0628\\u0631\\u0647\\u0627\\u06cc \\u06a9\\u0648\\u0645\\u0648\\u0644\\u0648\\u0633<br>Imdb=%{x}<br>Rate=%{y}\", \"legendgroup\": \"color=\\u0627\\u0628\\u0631\\u0647\\u0627\\u06cc \\u06a9\\u0648\\u0645\\u0648\\u0644\\u0648\\u0633\", \"marker\": {\"color\": \"#FECB52\", \"symbol\": \"circle\"}, \"mode\": \"markers\", \"name\": \"color=\\u0627\\u0628\\u0631\\u0647\\u0627\\u06cc \\u06a9\\u0648\\u0645\\u0648\\u0644\\u0648\\u0633\", \"showlegend\": true, \"type\": \"scatter\", \"x\": [0.0], \"xaxis\": \"x\", \"y\": [102.0], \"yaxis\": \"y\"}, {\"hoverlabel\": {\"namelength\": 0}, \"hovertemplate\": \"color=\\u0627\\u0628\\u0648\\u062d\\u0633\\u06cc\\u0646<br>Imdb=%{x}<br>Rate=%{y}\", \"legendgroup\": \"color=\\u0627\\u0628\\u0648\\u062d\\u0633\\u06cc\\u0646\", \"marker\": {\"color\": \"#636efa\", \"symbol\": \"circle\"}, \"mode\": \"markers\", \"name\": \"color=\\u0627\\u0628\\u0648\\u062d\\u0633\\u06cc\\u0646\", \"showlegend\": true, \"type\": \"scatter\", \"x\": [0.0], \"xaxis\": \"x\", \"y\": [70.0], \"yaxis\": \"y\"}, {\"hoverlabel\": {\"namelength\": 0}, \"hovertemplate\": \"color=\\u0627\\u062e\\u062a\\u0631\\u0627\\u0639 \\u0622\\u0642\\u0627\\u062c\\u0648\\u0646<br>Imdb=%{x}<br>Rate=%{y}\", \"legendgroup\": \"color=\\u0627\\u062e\\u062a\\u0631\\u0627\\u0639 \\u0622\\u0642\\u0627\\u062c\\u0648\\u0646\", \"marker\": {\"color\": \"#EF553B\", \"symbol\": \"circle\"}, \"mode\": \"markers\", \"name\": \"color=\\u0627\\u062e\\u062a\\u0631\\u0627\\u0639 \\u0622\\u0642\\u0627\\u062c\\u0648\\u0646\", \"showlegend\": true, \"type\": \"scatter\", \"x\": [0.0], \"xaxis\": \"x\", \"y\": [983.0], \"yaxis\": \"y\"}, {\"hoverlabel\": {\"namelength\": 0}, \"hovertemplate\": \"color=\\u0627\\u062e\\u0631\\u0627\\u062c\\u06cc \\u0647\\u0627 2<br>Imdb=%{x}<br>Rate=%{y}\", \"legendgroup\": \"color=\\u0627\\u062e\\u0631\\u0627\\u062c\\u06cc \\u0647\\u0627 2\", \"marker\": {\"color\": \"#00cc96\", \"symbol\": \"circle\"}, \"mode\": \"markers\", \"name\": \"color=\\u0627\\u062e\\u0631\\u0627\\u062c\\u06cc \\u0647\\u0627 2\", \"showlegend\": true, \"type\": \"scatter\", \"x\": [3.0], \"xaxis\": \"x\", \"y\": [10049.0], \"yaxis\": \"y\"}, {\"hoverlabel\": {\"namelength\": 0}, \"hovertemplate\": \"color=\\u0627\\u062e\\u0631\\u0627\\u062c\\u06cc \\u0647\\u0627 3<br>Imdb=%{x}<br>Rate=%{y}\", \"legendgroup\": \"color=\\u0627\\u062e\\u0631\\u0627\\u062c\\u06cc \\u0647\\u0627 3\", \"marker\": {\"color\": \"#ab63fa\", \"symbol\": \"circle\"}, \"mode\": \"markers\", \"name\": \"color=\\u0627\\u062e\\u0631\\u0627\\u062c\\u06cc \\u0647\\u0627 3\", \"showlegend\": true, \"type\": \"scatter\", \"x\": [2.5], \"xaxis\": \"x\", \"y\": [6773.0], \"yaxis\": \"y\"}, {\"hoverlabel\": {\"namelength\": 0}, \"hovertemplate\": \"color=\\u0627\\u0632 \\u0627\\u0633\\u062a\\u06a9\\u0647\\u0644\\u0645 \\u062a\\u0627 \\u06a9\\u0631\\u0628\\u0644\\u0627<br>Imdb=%{x}<br>Rate=%{y}\", \"legendgroup\": \"color=\\u0627\\u0632 \\u0627\\u0633\\u062a\\u06a9\\u0647\\u0644\\u0645 \\u062a\\u0627 \\u06a9\\u0631\\u0628\\u0644\\u0627\", \"marker\": {\"color\": \"#FFA15A\", \"symbol\": \"circle\"}, \"mode\": \"markers\", \"name\": \"color=\\u0627\\u0632 \\u0627\\u0633\\u062a\\u06a9\\u0647\\u0644\\u0645 \\u062a\\u0627 \\u06a9\\u0631\\u0628\\u0644\\u0627\", \"showlegend\": true, \"type\": \"scatter\", \"x\": [0.0], \"xaxis\": \"x\", \"y\": [323.0], \"yaxis\": \"y\"}, {\"hoverlabel\": {\"namelength\": 0}, \"hovertemplate\": \"color=\\u0627\\u0632 \\u062a\\u0645\\u0627\\u0645 \\u062f\\u0631\\u06cc\\u0686\\u0647 \\u0647\\u0627<br>Imdb=%{x}<br>Rate=%{y}\", \"legendgroup\": \"color=\\u0627\\u0632 \\u062a\\u0645\\u0627\\u0645 \\u062f\\u0631\\u06cc\\u0686\\u0647 \\u0647\\u0627\", \"marker\": {\"color\": \"#19d3f3\", \"symbol\": \"circle\"}, \"mode\": \"markers\", \"name\": \"color=\\u0627\\u0632 \\u062a\\u0645\\u0627\\u0645 \\u062f\\u0631\\u06cc\\u0686\\u0647 \\u0647\\u0627\", \"showlegend\": true, \"type\": \"scatter\", \"x\": [0.0], \"xaxis\": \"x\", \"y\": [31.0], \"yaxis\": \"y\"}, {\"hoverlabel\": {\"namelength\": 0}, \"hovertemplate\": \"color=\\u0627\\u0632 \\u0631\\u0626\\u06cc\\u0633 \\u062c\\u0645\\u0647\\u0648\\u0631 \\u067e\\u0627\\u062f\\u0627\\u0634 \\u0646\\u06af\\u06cc\\u0631\\u06cc\\u062f<br>Imdb=%{x}<br>Rate=%{y}\", \"legendgroup\": \"color=\\u0627\\u0632 \\u0631\\u0626\\u06cc\\u0633 \\u062c\\u0645\\u0647\\u0648\\u0631 \\u067e\\u0627\\u062f\\u0627\\u0634 \\u0646\\u06af\\u06cc\\u0631\\u06cc\\u062f\", \"marker\": {\"color\": \"#FF6692\", \"symbol\": \"circle\"}, \"mode\": \"markers\", \"name\": \"color=\\u0627\\u0632 \\u0631\\u0626\\u06cc\\u0633 \\u062c\\u0645\\u0647\\u0648\\u0631 \\u067e\\u0627\\u062f\\u0627\\u0634 \\u0646\\u06af\\u06cc\\u0631\\u06cc\\u062f\", \"showlegend\": true, \"type\": \"scatter\", \"x\": [2.9], \"xaxis\": \"x\", \"y\": [4311.0], \"yaxis\": \"y\"}, {\"hoverlabel\": {\"namelength\": 0}, \"hovertemplate\": \"color=\\u0627\\u0632 \\u0639\\u062f\\u0644\\u06cc\\u0647 \\u062a\\u0627 \\u0645\\u0634\\u0631\\u0648\\u0637\\u0647<br>Imdb=%{x}<br>Rate=%{y}\", \"legendgroup\": \"color=\\u0627\\u0632 \\u0639\\u062f\\u0644\\u06cc\\u0647 \\u062a\\u0627 \\u0645\\u0634\\u0631\\u0648\\u0637\\u0647\", \"marker\": {\"color\": \"#B6E880\", \"symbol\": \"circle\"}, \"mode\": \"markers\", \"name\": \"color=\\u0627\\u0632 \\u0639\\u062f\\u0644\\u06cc\\u0647 \\u062a\\u0627 \\u0645\\u0634\\u0631\\u0648\\u0637\\u0647\", \"showlegend\": true, \"type\": \"scatter\", \"x\": [0.0], \"xaxis\": \"x\", \"y\": [26.0], \"yaxis\": \"y\"}, {\"hoverlabel\": {\"namelength\": 0}, \"hovertemplate\": \"color=\\u0627\\u0632 \\u06a9\\u0627\\u0631\\u0627\\u06a9\\u0627\\u0633 \\u0628\\u0647 \\u06a9\\u0631\\u0628\\u0644\\u0627<br>Imdb=%{x}<br>Rate=%{y}\", \"legendgroup\": \"color=\\u0627\\u0632 \\u06a9\\u0627\\u0631\\u0627\\u06a9\\u0627\\u0633 \\u0628\\u0647 \\u06a9\\u0631\\u0628\\u0644\\u0627\", \"marker\": {\"color\": \"#FF97FF\", \"symbol\": \"circle\"}, \"mode\": \"markers\", \"name\": \"color=\\u0627\\u0632 \\u06a9\\u0627\\u0631\\u0627\\u06a9\\u0627\\u0633 \\u0628\\u0647 \\u06a9\\u0631\\u0628\\u0644\\u0627\", \"showlegend\": true, \"type\": \"scatter\", \"x\": [0.0], \"xaxis\": \"x\", \"y\": [193.0], \"yaxis\": \"y\"}, {\"hoverlabel\": {\"namelength\": 0}, \"hovertemplate\": \"color=\\u0627\\u0632 \\u06a9\\u0631\\u062f\\u0633\\u062a\\u0627\\u0646 \\u062a\\u0627 \\u062d\\u0644\\u0628<br>Imdb=%{x}<br>Rate=%{y}\", \"legendgroup\": \"color=\\u0627\\u0632 \\u06a9\\u0631\\u062f\\u0633\\u062a\\u0627\\u0646 \\u062a\\u0627 \\u062d\\u0644\\u0628\", \"marker\": {\"color\": \"#FECB52\", \"symbol\": \"circle\"}, \"mode\": \"markers\", \"name\": \"color=\\u0627\\u0632 \\u06a9\\u0631\\u062f\\u0633\\u062a\\u0627\\u0646 \\u062a\\u0627 \\u062d\\u0644\\u0628\", \"showlegend\": true, \"type\": \"scatter\", \"x\": [0.0], \"xaxis\": \"x\", \"y\": [283.0], \"yaxis\": \"y\"}, {\"hoverlabel\": {\"namelength\": 0}, \"hovertemplate\": \"color=\\u0627\\u0632\\u062f\\u0648\\u0627\\u062c \\u0622\\u0642\\u0627\\u06cc \\u0645\\u06cc \\u0633\\u06cc \\u0633\\u06cc \\u067e\\u06cc<br>Imdb=%{x}<br>Rate=%{y}\", \"legendgroup\": \"color=\\u0627\\u0632\\u062f\\u0648\\u0627\\u062c \\u0622\\u0642\\u0627\\u06cc \\u0645\\u06cc \\u0633\\u06cc \\u0633\\u06cc \\u067e\\u06cc\", \"marker\": {\"color\": \"#636efa\", \"symbol\": \"circle\"}, \"mode\": \"markers\", \"name\": \"color=\\u0627\\u0632\\u062f\\u0648\\u0627\\u062c \\u0622\\u0642\\u0627\\u06cc \\u0645\\u06cc \\u0633\\u06cc \\u0633\\u06cc \\u067e\\u06cc\", \"showlegend\": true, \"type\": \"scatter\", \"x\": [0.0], \"xaxis\": \"x\", \"y\": [151.0], \"yaxis\": \"y\"}, {\"hoverlabel\": {\"namelength\": 0}, \"hovertemplate\": \"color=\\u0627\\u0633\\u062a\\u0627\\u062f\\u06cc\\u0648\\u0645 \\u0633\\u06cc\\u0627\\u0633\\u06cc<br>Imdb=%{x}<br>Rate=%{y}\", \"legendgroup\": \"color=\\u0627\\u0633\\u062a\\u0627\\u062f\\u06cc\\u0648\\u0645 \\u0633\\u06cc\\u0627\\u0633\\u06cc\", \"marker\": {\"color\": \"#EF553B\", \"symbol\": \"circle\"}, \"mode\": \"markers\", \"name\": \"color=\\u0627\\u0633\\u062a\\u0627\\u062f\\u06cc\\u0648\\u0645 \\u0633\\u06cc\\u0627\\u0633\\u06cc\", \"showlegend\": true, \"type\": \"scatter\", \"x\": [0.0], \"xaxis\": \"x\", \"y\": [19.0], \"yaxis\": \"y\"}, {\"hoverlabel\": {\"namelength\": 0}, \"hovertemplate\": \"color=\\u0627\\u0633\\u062a\\u0642\\u0627\\u0645\\u062a \\u06a9\\u0646<br>Imdb=%{x}<br>Rate=%{y}\", \"legendgroup\": \"color=\\u0627\\u0633\\u062a\\u0642\\u0627\\u0645\\u062a \\u06a9\\u0646\", \"marker\": {\"color\": \"#00cc96\", \"symbol\": \"circle\"}, \"mode\": \"markers\", \"name\": \"color=\\u0627\\u0633\\u062a\\u0642\\u0627\\u0645\\u062a \\u06a9\\u0646\", \"showlegend\": true, \"type\": \"scatter\", \"x\": [0.0], \"xaxis\": \"x\", \"y\": [28.0], \"yaxis\": \"y\"}, {\"hoverlabel\": {\"namelength\": 0}, \"hovertemplate\": \"color=\\u0627\\u0634\\u06a9 \\u0648 \\u0633\\u06a9\\u0648\\u062a<br>Imdb=%{x}<br>Rate=%{y}\", \"legendgroup\": \"color=\\u0627\\u0634\\u06a9 \\u0648 \\u0633\\u06a9\\u0648\\u062a\", \"marker\": {\"color\": \"#ab63fa\", \"symbol\": \"circle\"}, \"mode\": \"markers\", \"name\": \"color=\\u0627\\u0634\\u06a9 \\u0648 \\u0633\\u06a9\\u0648\\u062a\", \"showlegend\": true, \"type\": \"scatter\", \"x\": [0.0], \"xaxis\": \"x\", \"y\": [346.0], \"yaxis\": \"y\"}, {\"hoverlabel\": {\"namelength\": 0}, \"hovertemplate\": \"color=\\u0627\\u0641\\u0633\\u0648\\u0646 \\u0645\\u0639\\u0628\\u062f \\u0633\\u0648\\u062e\\u062a\\u0647<br>Imdb=%{x}<br>Rate=%{y}\", \"legendgroup\": \"color=\\u0627\\u0641\\u0633\\u0648\\u0646 \\u0645\\u0639\\u0628\\u062f \\u0633\\u0648\\u062e\\u062a\\u0647\", \"marker\": {\"color\": \"#FFA15A\", \"symbol\": \"circle\"}, \"mode\": \"markers\", \"name\": \"color=\\u0627\\u0641\\u0633\\u0648\\u0646 \\u0645\\u0639\\u0628\\u062f \\u0633\\u0648\\u062e\\u062a\\u0647\", \"showlegend\": true, \"type\": \"scatter\", \"x\": [0.0], \"xaxis\": \"x\", \"y\": [169.0], \"yaxis\": \"y\"}, {\"hoverlabel\": {\"namelength\": 0}, \"hovertemplate\": \"color=\\u0627\\u0645\\u062a\\u062d\\u0627\\u0646<br>Imdb=%{x}<br>Rate=%{y}\", \"legendgroup\": \"color=\\u0627\\u0645\\u062a\\u062d\\u0627\\u0646\", \"marker\": {\"color\": \"#19d3f3\", \"symbol\": \"circle\"}, \"mode\": \"markers\", \"name\": \"color=\\u0627\\u0645\\u062a\\u062d\\u0627\\u0646\", \"showlegend\": true, \"type\": \"scatter\", \"x\": [0.0], \"xaxis\": \"x\", \"y\": [410.0], \"yaxis\": \"y\"}, {\"hoverlabel\": {\"namelength\": 0}, \"hovertemplate\": \"color=\\u0627\\u0645\\u067e\\u0631\\u0627\\u062a\\u0648\\u0631 \\u0648 \\u0645\\u0627<br>Imdb=%{x}<br>Rate=%{y}\", \"legendgroup\": \"color=\\u0627\\u0645\\u067e\\u0631\\u0627\\u062a\\u0648\\u0631 \\u0648 \\u0645\\u0627\", \"marker\": {\"color\": \"#FF6692\", \"symbol\": \"circle\"}, \"mode\": \"markers\", \"name\": \"color=\\u0627\\u0645\\u067e\\u0631\\u0627\\u062a\\u0648\\u0631 \\u0648 \\u0645\\u0627\", \"showlegend\": true, \"type\": \"scatter\", \"x\": [0.0], \"xaxis\": \"x\", \"y\": [10.0], \"yaxis\": \"y\"}, {\"hoverlabel\": {\"namelength\": 0}, \"hovertemplate\": \"color=\\u0627\\u0648\\u062c \\u0645\\u0648\\u062c<br>Imdb=%{x}<br>Rate=%{y}\", \"legendgroup\": \"color=\\u0627\\u0648\\u062c \\u0645\\u0648\\u062c\", \"marker\": {\"color\": \"#B6E880\", \"symbol\": \"circle\"}, \"mode\": \"markers\", \"name\": \"color=\\u0627\\u0648\\u062c \\u0645\\u0648\\u062c\", \"showlegend\": true, \"type\": \"scatter\", \"x\": [0.0], \"xaxis\": \"x\", \"y\": [185.0], \"yaxis\": \"y\"}, {\"hoverlabel\": {\"namelength\": 0}, \"hovertemplate\": \"color=\\u0627\\u06a9\\u0633\\u06cc\\u062f\\u0627\\u0646 (\\u0628\\u0627 \\u0632\\u06cc\\u0631\\u0646\\u0648\\u06cc\\u0633 \\u0645\\u062e\\u0635\\u0648\\u0635 \\u0646\\u0627\\u0634\\u0646\\u0648\\u0627\\u06cc\\u0627\\u0646)<br>Imdb=%{x}<br>Rate=%{y}\", \"legendgroup\": \"color=\\u0627\\u06a9\\u0633\\u06cc\\u062f\\u0627\\u0646 (\\u0628\\u0627 \\u0632\\u06cc\\u0631\\u0646\\u0648\\u06cc\\u0633 \\u0645\\u062e\\u0635\\u0648\\u0635 \\u0646\\u0627\\u0634\\u0646\\u0648\\u0627\\u06cc\\u0627\\u0646)\", \"marker\": {\"color\": \"#FF97FF\", \"symbol\": \"circle\"}, \"mode\": \"markers\", \"name\": \"color=\\u0627\\u06a9\\u0633\\u06cc\\u062f\\u0627\\u0646 (\\u0628\\u0627 \\u0632\\u06cc\\u0631\\u0646\\u0648\\u06cc\\u0633 \\u0645\\u062e\\u0635\\u0648\\u0635 \\u0646\\u0627\\u0634\\u0646\\u0648\\u0627\\u06cc\\u0627\\u0646)\", \"showlegend\": true, \"type\": \"scatter\", \"x\": [5.3], \"xaxis\": \"x\", \"y\": [165.0], \"yaxis\": \"y\"}, {\"hoverlabel\": {\"namelength\": 0}, \"hovertemplate\": \"color=\\u0627\\u06cc\\u0631\\u0648<br>Imdb=%{x}<br>Rate=%{y}\", \"legendgroup\": \"color=\\u0627\\u06cc\\u0631\\u0648\", \"marker\": {\"color\": \"#FECB52\", \"symbol\": \"circle\"}, \"mode\": \"markers\", \"name\": \"color=\\u0627\\u06cc\\u0631\\u0648\", \"showlegend\": true, \"type\": \"scatter\", \"x\": [0.0], \"xaxis\": \"x\", \"y\": [69.0], \"yaxis\": \"y\"}, {\"hoverlabel\": {\"namelength\": 0}, \"hovertemplate\": \"color=\\u0627\\u06cc\\u0633\\u062a\\u06af\\u0627\\u0647 \\u0627\\u062a\\u0645\\u0633\\u0641\\u0631<br>Imdb=%{x}<br>Rate=%{y}\", \"legendgroup\": \"color=\\u0627\\u06cc\\u0633\\u062a\\u06af\\u0627\\u0647 \\u0627\\u062a\\u0645\\u0633\\u0641\\u0631\", \"marker\": {\"color\": \"#636efa\", \"symbol\": \"circle\"}, \"mode\": \"markers\", \"name\": \"color=\\u0627\\u06cc\\u0633\\u062a\\u06af\\u0627\\u0647 \\u0627\\u062a\\u0645\\u0633\\u0641\\u0631\", \"showlegend\": true, \"type\": \"scatter\", \"x\": [5.6], \"xaxis\": \"x\", \"y\": [31147.0], \"yaxis\": \"y\"}, {\"hoverlabel\": {\"namelength\": 0}, \"hovertemplate\": \"color=\\u0628\\u0627 \\u0635\\u0628\\u0631 \\u0632\\u0646\\u062f\\u06af\\u06cc<br>Imdb=%{x}<br>Rate=%{y}\", \"legendgroup\": \"color=\\u0628\\u0627 \\u0635\\u0628\\u0631 \\u0632\\u0646\\u062f\\u06af\\u06cc\", \"marker\": {\"color\": \"#EF553B\", \"symbol\": \"circle\"}, \"mode\": \"markers\", \"name\": \"color=\\u0628\\u0627 \\u0635\\u0628\\u0631 \\u0632\\u0646\\u062f\\u06af\\u06cc\", \"showlegend\": true, \"type\": \"scatter\", \"x\": [0.0], \"xaxis\": \"x\", \"y\": [70.0], \"yaxis\": \"y\"}, {\"hoverlabel\": {\"namelength\": 0}, \"hovertemplate\": \"color=\\u0628\\u0627 \\u0645\\u0646 \\u0646\\u06af\\u0627\\u0647 \\u06a9\\u0646<br>Imdb=%{x}<br>Rate=%{y}\", \"legendgroup\": \"color=\\u0628\\u0627 \\u0645\\u0646 \\u0646\\u06af\\u0627\\u0647 \\u06a9\\u0646\", \"marker\": {\"color\": \"#00cc96\", \"symbol\": \"circle\"}, \"mode\": \"markers\", \"name\": \"color=\\u0628\\u0627 \\u0645\\u0646 \\u0646\\u06af\\u0627\\u0647 \\u06a9\\u0646\", \"showlegend\": true, \"type\": \"scatter\", \"x\": [0.0], \"xaxis\": \"x\", \"y\": [288.0], \"yaxis\": \"y\"}, {\"hoverlabel\": {\"namelength\": 0}, \"hovertemplate\": \"color=\\u0628\\u0627\\u0628\\u0627\\u06cc \\u0627\\u062c\\u0628\\u0627\\u0631\\u06cc<br>Imdb=%{x}<br>Rate=%{y}\", \"legendgroup\": \"color=\\u0628\\u0627\\u0628\\u0627\\u06cc \\u0627\\u062c\\u0628\\u0627\\u0631\\u06cc\", \"marker\": {\"color\": \"#ab63fa\", \"symbol\": \"circle\"}, \"mode\": \"markers\", \"name\": \"color=\\u0628\\u0627\\u0628\\u0627\\u06cc \\u0627\\u062c\\u0628\\u0627\\u0631\\u06cc\", \"showlegend\": true, \"type\": \"scatter\", \"x\": [0.0], \"xaxis\": \"x\", \"y\": [1289.0], \"yaxis\": \"y\"}, {\"hoverlabel\": {\"namelength\": 0}, \"hovertemplate\": \"color=\\u0628\\u0627\\u0628\\u0627\\u06cc \\u062f\\u0648\\u0633\\u062a \\u062f\\u0627\\u0634\\u062a\\u0646\\u06cc<br>Imdb=%{x}<br>Rate=%{y}\", \"legendgroup\": \"color=\\u0628\\u0627\\u0628\\u0627\\u06cc \\u062f\\u0648\\u0633\\u062a \\u062f\\u0627\\u0634\\u062a\\u0646\\u06cc\", \"marker\": {\"color\": \"#FFA15A\", \"symbol\": \"circle\"}, \"mode\": \"markers\", \"name\": \"color=\\u0628\\u0627\\u0628\\u0627\\u06cc \\u062f\\u0648\\u0633\\u062a \\u062f\\u0627\\u0634\\u062a\\u0646\\u06cc\", \"showlegend\": true, \"type\": \"scatter\", \"x\": [0.0], \"xaxis\": \"x\", \"y\": [232.0], \"yaxis\": \"y\"}, {\"hoverlabel\": {\"namelength\": 0}, \"hovertemplate\": \"color=\\u0628\\u0627\\u062a\\u0644\\u0627\\u0642 \\u0648\\u0627\\u0646<br>Imdb=%{x}<br>Rate=%{y}\", \"legendgroup\": \"color=\\u0628\\u0627\\u062a\\u0644\\u0627\\u0642 \\u0648\\u0627\\u0646\", \"marker\": {\"color\": \"#19d3f3\", \"symbol\": \"circle\"}, \"mode\": \"markers\", \"name\": \"color=\\u0628\\u0627\\u062a\\u0644\\u0627\\u0642 \\u0648\\u0627\\u0646\", \"showlegend\": true, \"type\": \"scatter\", \"x\": [0.0], \"xaxis\": \"x\", \"y\": [1529.0], \"yaxis\": \"y\"}, {\"hoverlabel\": {\"namelength\": 0}, \"hovertemplate\": \"color=\\u0628\\u0627\\u062f \\u0633\\u0631\\u062e<br>Imdb=%{x}<br>Rate=%{y}\", \"legendgroup\": \"color=\\u0628\\u0627\\u062f \\u0633\\u0631\\u062e\", \"marker\": {\"color\": \"#FF6692\", \"symbol\": \"circle\"}, \"mode\": \"markers\", \"name\": \"color=\\u0628\\u0627\\u062f \\u0633\\u0631\\u062e\", \"showlegend\": true, \"type\": \"scatter\", \"x\": [0.0], \"xaxis\": \"x\", \"y\": [49.0], \"yaxis\": \"y\"}, {\"hoverlabel\": {\"namelength\": 0}, \"hovertemplate\": \"color=\\u0628\\u0627\\u062f\\u06cc\\u06af\\u0627\\u0631\\u062f (\\u0628\\u0627\\u0632 \\u0632\\u06cc\\u0631\\u0646\\u0648\\u06cc\\u0633 \\u0645\\u062e\\u0635\\u0648\\u0635 \\u0646\\u0627\\u0634\\u0646\\u0648\\u0627\\u06cc\\u0627\\u0646)<br>Imdb=%{x}<br>Rate=%{y}\", \"legendgroup\": \"color=\\u0628\\u0627\\u062f\\u06cc\\u06af\\u0627\\u0631\\u062f (\\u0628\\u0627\\u0632 \\u0632\\u06cc\\u0631\\u0646\\u0648\\u06cc\\u0633 \\u0645\\u062e\\u0635\\u0648\\u0635 \\u0646\\u0627\\u0634\\u0646\\u0648\\u0627\\u06cc\\u0627\\u0646)\", \"marker\": {\"color\": \"#B6E880\", \"symbol\": \"circle\"}, \"mode\": \"markers\", \"name\": \"color=\\u0628\\u0627\\u062f\\u06cc\\u06af\\u0627\\u0631\\u062f (\\u0628\\u0627\\u0632 \\u0632\\u06cc\\u0631\\u0646\\u0648\\u06cc\\u0633 \\u0645\\u062e\\u0635\\u0648\\u0635 \\u0646\\u0627\\u0634\\u0646\\u0648\\u0627\\u06cc\\u0627\\u0646)\", \"showlegend\": true, \"type\": \"scatter\", \"x\": [6.1], \"xaxis\": \"x\", \"y\": [110.0], \"yaxis\": \"y\"}, {\"hoverlabel\": {\"namelength\": 0}, \"hovertemplate\": \"color=\\u0628\\u0627\\u0632\\u06cc \\u062f\\u0631 \\u0628\\u0627\\u0632\\u06cc<br>Imdb=%{x}<br>Rate=%{y}\", \"legendgroup\": \"color=\\u0628\\u0627\\u0632\\u06cc \\u062f\\u0631 \\u0628\\u0627\\u0632\\u06cc\", \"marker\": {\"color\": \"#FF97FF\", \"symbol\": \"circle\"}, \"mode\": \"markers\", \"name\": \"color=\\u0628\\u0627\\u0632\\u06cc \\u062f\\u0631 \\u0628\\u0627\\u0632\\u06cc\", \"showlegend\": true, \"type\": \"scatter\", \"x\": [5.7], \"xaxis\": \"x\", \"y\": [87.0], \"yaxis\": \"y\"}, {\"hoverlabel\": {\"namelength\": 0}, \"hovertemplate\": \"color=\\u0628\\u0627\\u0646\\u0648 \\u0645\\u0631\\u0627 \\u062f\\u0631\\u06cc\\u0627\\u0628<br>Imdb=%{x}<br>Rate=%{y}\", \"legendgroup\": \"color=\\u0628\\u0627\\u0646\\u0648 \\u0645\\u0631\\u0627 \\u062f\\u0631\\u06cc\\u0627\\u0628\", \"marker\": {\"color\": \"#FECB52\", \"symbol\": \"circle\"}, \"mode\": \"markers\", \"name\": \"color=\\u0628\\u0627\\u0646\\u0648 \\u0645\\u0631\\u0627 \\u062f\\u0631\\u06cc\\u0627\\u0628\", \"showlegend\": true, \"type\": \"scatter\", \"x\": [0.0], \"xaxis\": \"x\", \"y\": [70.0], \"yaxis\": \"y\"}, {\"hoverlabel\": {\"namelength\": 0}, \"hovertemplate\": \"color=\\u0628\\u0631\\u0627\\u06cc \\u062a\\u0645\\u0627\\u0645 \\u0641\\u0635\\u0648\\u0644: \\u0639\\u0632\\u062a \\u0627\\u0644\\u0644\\u0647 \\u0627\\u0646\\u062a\\u0638\\u0627\\u0645\\u06cc<br>Imdb=%{x}<br>Rate=%{y}\", \"legendgroup\": \"color=\\u0628\\u0631\\u0627\\u06cc \\u062a\\u0645\\u0627\\u0645 \\u0641\\u0635\\u0648\\u0644: \\u0639\\u0632\\u062a \\u0627\\u0644\\u0644\\u0647 \\u0627\\u0646\\u062a\\u0638\\u0627\\u0645\\u06cc\", \"marker\": {\"color\": \"#636efa\", \"symbol\": \"circle\"}, \"mode\": \"markers\", \"name\": \"color=\\u0628\\u0631\\u0627\\u06cc \\u062a\\u0645\\u0627\\u0645 \\u0641\\u0635\\u0648\\u0644: \\u0639\\u0632\\u062a \\u0627\\u0644\\u0644\\u0647 \\u0627\\u0646\\u062a\\u0638\\u0627\\u0645\\u06cc\", \"showlegend\": true, \"type\": \"scatter\", \"x\": [0.0], \"xaxis\": \"x\", \"y\": [26.0], \"yaxis\": \"y\"}, {\"hoverlabel\": {\"namelength\": 0}, \"hovertemplate\": \"color=\\u0628\\u0631\\u0641 \\u0631\\u0648\\u06cc \\u06a9\\u0627\\u062c \\u0647\\u0627 (\\u0628\\u0627 \\u0632\\u06cc\\u0631\\u0646\\u0648\\u06cc\\u0633 \\u0645\\u062e\\u0635\\u0648\\u0635 \\u0646\\u0627\\u0634\\u0646\\u0648\\u0627\\u06cc\\u0627\\u0646)<br>Imdb=%{x}<br>Rate=%{y}\", \"legendgroup\": \"color=\\u0628\\u0631\\u0641 \\u0631\\u0648\\u06cc \\u06a9\\u0627\\u062c \\u0647\\u0627 (\\u0628\\u0627 \\u0632\\u06cc\\u0631\\u0646\\u0648\\u06cc\\u0633 \\u0645\\u062e\\u0635\\u0648\\u0635 \\u0646\\u0627\\u0634\\u0646\\u0648\\u0627\\u06cc\\u0627\\u0646)\", \"marker\": {\"color\": \"#EF553B\", \"symbol\": \"circle\"}, \"mode\": \"markers\", \"name\": \"color=\\u0628\\u0631\\u0641 \\u0631\\u0648\\u06cc \\u06a9\\u0627\\u062c \\u0647\\u0627 (\\u0628\\u0627 \\u0632\\u06cc\\u0631\\u0646\\u0648\\u06cc\\u0633 \\u0645\\u062e\\u0635\\u0648\\u0635 \\u0646\\u0627\\u0634\\u0646\\u0648\\u0627\\u06cc\\u0627\\u0646)\", \"showlegend\": true, \"type\": \"scatter\", \"x\": [6.4], \"xaxis\": \"x\", \"y\": [116.0], \"yaxis\": \"y\"}, {\"hoverlabel\": {\"namelength\": 0}, \"hovertemplate\": \"color=\\u0628\\u0639\\u062f \\u0627\\u0632 \\u0622\\u0642\\u0627 \\u062e\\u0627\\u0646\\u0645 \\u0634\\u0645\\u0627\\u0631\\u0647 11<br>Imdb=%{x}<br>Rate=%{y}\", \"legendgroup\": \"color=\\u0628\\u0639\\u062f \\u0627\\u0632 \\u0622\\u0642\\u0627 \\u062e\\u0627\\u0646\\u0645 \\u0634\\u0645\\u0627\\u0631\\u0647 11\", \"marker\": {\"color\": \"#00cc96\", \"symbol\": \"circle\"}, \"mode\": \"markers\", \"name\": \"color=\\u0628\\u0639\\u062f \\u0627\\u0632 \\u0622\\u0642\\u0627 \\u062e\\u0627\\u0646\\u0645 \\u0634\\u0645\\u0627\\u0631\\u0647 11\", \"showlegend\": true, \"type\": \"scatter\", \"x\": [0.0], \"xaxis\": \"x\", \"y\": [86.0], \"yaxis\": \"y\"}, {\"hoverlabel\": {\"namelength\": 0}, \"hovertemplate\": \"color=\\u0628\\u063a\\u062f\\u0627\\u062f 1:20<br>Imdb=%{x}<br>Rate=%{y}\", \"legendgroup\": \"color=\\u0628\\u063a\\u062f\\u0627\\u062f 1:20\", \"marker\": {\"color\": \"#ab63fa\", \"symbol\": \"circle\"}, \"mode\": \"markers\", \"name\": \"color=\\u0628\\u063a\\u062f\\u0627\\u062f 1:20\", \"showlegend\": true, \"type\": \"scatter\", \"x\": [0.0], \"xaxis\": \"x\", \"y\": [1676.0], \"yaxis\": \"y\"}, {\"hoverlabel\": {\"namelength\": 0}, \"hovertemplate\": \"color=\\u0628\\u0644\\u0627\\u0641\\u06cc\\u06af\\u0648\\u0631\\u0627<br>Imdb=%{x}<br>Rate=%{y}\", \"legendgroup\": \"color=\\u0628\\u0644\\u0627\\u0641\\u06cc\\u06af\\u0648\\u0631\\u0627\", \"marker\": {\"color\": \"#FFA15A\", \"symbol\": \"circle\"}, \"mode\": \"markers\", \"name\": \"color=\\u0628\\u0644\\u0627\\u0641\\u06cc\\u06af\\u0648\\u0631\\u0627\", \"showlegend\": true, \"type\": \"scatter\", \"x\": [0.0], \"xaxis\": \"x\", \"y\": [1057.0], \"yaxis\": \"y\"}, {\"hoverlabel\": {\"namelength\": 0}, \"hovertemplate\": \"color=\\u0628\\u0646\\u0641\\u0634\\u0647 \\u0622\\u0641\\u0631\\u06cc\\u0642\\u0627\\u06cc\\u06cc (\\u0645\\u062e\\u0635\\u0648\\u0635 \\u0646\\u0627\\u0628\\u06cc\\u0646\\u0627\\u06cc\\u0627\\u0646)<br>Imdb=%{x}<br>Rate=%{y}\", \"legendgroup\": \"color=\\u0628\\u0646\\u0641\\u0634\\u0647 \\u0622\\u0641\\u0631\\u06cc\\u0642\\u0627\\u06cc\\u06cc (\\u0645\\u062e\\u0635\\u0648\\u0635 \\u0646\\u0627\\u0628\\u06cc\\u0646\\u0627\\u06cc\\u0627\\u0646)\", \"marker\": {\"color\": \"#19d3f3\", \"symbol\": \"circle\"}, \"mode\": \"markers\", \"name\": \"color=\\u0628\\u0646\\u0641\\u0634\\u0647 \\u0622\\u0641\\u0631\\u06cc\\u0642\\u0627\\u06cc\\u06cc (\\u0645\\u062e\\u0635\\u0648\\u0635 \\u0646\\u0627\\u0628\\u06cc\\u0646\\u0627\\u06cc\\u0627\\u0646)\", \"showlegend\": true, \"type\": \"scatter\", \"x\": [5.9], \"xaxis\": \"x\", \"y\": [184.0], \"yaxis\": \"y\"}, {\"hoverlabel\": {\"namelength\": 0}, \"hovertemplate\": \"color=\\u0628\\u0647 \\u062e\\u0627\\u0637\\u0631 \\u0646\\u06cc\\u0627\\u0631<br>Imdb=%{x}<br>Rate=%{y}\", \"legendgroup\": \"color=\\u0628\\u0647 \\u062e\\u0627\\u0637\\u0631 \\u0646\\u06cc\\u0627\\u0631\", \"marker\": {\"color\": \"#FF6692\", \"symbol\": \"circle\"}, \"mode\": \"markers\", \"name\": \"color=\\u0628\\u0647 \\u062e\\u0627\\u0637\\u0631 \\u0646\\u06cc\\u0627\\u0631\", \"showlegend\": true, \"type\": \"scatter\", \"x\": [0.0], \"xaxis\": \"x\", \"y\": [308.0], \"yaxis\": \"y\"}, {\"hoverlabel\": {\"namelength\": 0}, \"hovertemplate\": \"color=\\u0628\\u0647 \\u0645\\u0646\\u0627\\u0633\\u0628\\u062a \\u0648\\u0631\\u0648\\u062f \\u0627\\u0634\\u06a9\\u0627\\u0646<br>Imdb=%{x}<br>Rate=%{y}\", \"legendgroup\": \"color=\\u0628\\u0647 \\u0645\\u0646\\u0627\\u0633\\u0628\\u062a \\u0648\\u0631\\u0648\\u062f \\u0627\\u0634\\u06a9\\u0627\\u0646\", \"marker\": {\"color\": \"#B6E880\", \"symbol\": \"circle\"}, \"mode\": \"markers\", \"name\": \"color=\\u0628\\u0647 \\u0645\\u0646\\u0627\\u0633\\u0628\\u062a \\u0648\\u0631\\u0648\\u062f \\u0627\\u0634\\u06a9\\u0627\\u0646\", \"showlegend\": true, \"type\": \"scatter\", \"x\": [0.0], \"xaxis\": \"x\", \"y\": [825.0], \"yaxis\": \"y\"}, {\"hoverlabel\": {\"namelength\": 0}, \"hovertemplate\": \"color=\\u0628\\u0647 \\u0648\\u0642\\u062a \\u062e\\u0645\\u0627\\u0631\\u06cc<br>Imdb=%{x}<br>Rate=%{y}\", \"legendgroup\": \"color=\\u0628\\u0647 \\u0648\\u0642\\u062a \\u062e\\u0645\\u0627\\u0631\\u06cc\", \"marker\": {\"color\": \"#FF97FF\", \"symbol\": \"circle\"}, \"mode\": \"markers\", \"name\": \"color=\\u0628\\u0647 \\u0648\\u0642\\u062a \\u062e\\u0645\\u0627\\u0631\\u06cc\", \"showlegend\": true, \"type\": \"scatter\", \"x\": [4.9], \"xaxis\": \"x\", \"y\": [29833.0], \"yaxis\": \"y\"}, {\"hoverlabel\": {\"namelength\": 0}, \"hovertemplate\": \"color=\\u0628\\u0647 \\u0648\\u0642\\u062a \\u0634\\u0627\\u0645 (\\u0628\\u0627 \\u0632\\u06cc\\u0631\\u0646\\u0648\\u06cc\\u0633 \\u0645\\u062e\\u0635\\u0648\\u0635 \\u0646\\u0627\\u0634\\u0646\\u0648\\u0627\\u06cc\\u0627\\u0646)<br>Imdb=%{x}<br>Rate=%{y}\", \"legendgroup\": \"color=\\u0628\\u0647 \\u0648\\u0642\\u062a \\u0634\\u0627\\u0645 (\\u0628\\u0627 \\u0632\\u06cc\\u0631\\u0646\\u0648\\u06cc\\u0633 \\u0645\\u062e\\u0635\\u0648\\u0635 \\u0646\\u0627\\u0634\\u0646\\u0648\\u0627\\u06cc\\u0627\\u0646)\", \"marker\": {\"color\": \"#FECB52\", \"symbol\": \"circle\"}, \"mode\": \"markers\", \"name\": \"color=\\u0628\\u0647 \\u0648\\u0642\\u062a \\u0634\\u0627\\u0645 (\\u0628\\u0627 \\u0632\\u06cc\\u0631\\u0646\\u0648\\u06cc\\u0633 \\u0645\\u062e\\u0635\\u0648\\u0635 \\u0646\\u0627\\u0634\\u0646\\u0648\\u0627\\u06cc\\u0627\\u0646)\", \"showlegend\": true, \"type\": \"scatter\", \"x\": [5.5], \"xaxis\": \"x\", \"y\": [375.0], \"yaxis\": \"y\"}, {\"hoverlabel\": {\"namelength\": 0}, \"hovertemplate\": \"color=\\u0628\\u0647\\u062a (\\u0628\\u0627 \\u0632\\u06cc\\u0631\\u0646\\u0648\\u06cc\\u0633 \\u0645\\u062e\\u0635\\u0648\\u0635 \\u0646\\u0627\\u0634\\u0646\\u0648\\u0627\\u06cc\\u0627\\u0646)<br>Imdb=%{x}<br>Rate=%{y}\", \"legendgroup\": \"color=\\u0628\\u0647\\u062a (\\u0628\\u0627 \\u0632\\u06cc\\u0631\\u0646\\u0648\\u06cc\\u0633 \\u0645\\u062e\\u0635\\u0648\\u0635 \\u0646\\u0627\\u0634\\u0646\\u0648\\u0627\\u06cc\\u0627\\u0646)\", \"marker\": {\"color\": \"#636efa\", \"symbol\": \"circle\"}, \"mode\": \"markers\", \"name\": \"color=\\u0628\\u0647\\u062a (\\u0628\\u0627 \\u0632\\u06cc\\u0631\\u0646\\u0648\\u06cc\\u0633 \\u0645\\u062e\\u0635\\u0648\\u0635 \\u0646\\u0627\\u0634\\u0646\\u0648\\u0627\\u06cc\\u0627\\u0646)\", \"showlegend\": true, \"type\": \"scatter\", \"x\": [4.7], \"xaxis\": \"x\", \"y\": [65.0], \"yaxis\": \"y\"}, {\"hoverlabel\": {\"namelength\": 0}, \"hovertemplate\": \"color=\\u0628\\u0647\\u0634\\u062a \\u067e\\u0646\\u0647\\u0627\\u0646 - \\u067e\\u0634\\u062a \\u0635\\u062d\\u0646\\u0647<br>Imdb=%{x}<br>Rate=%{y}\", \"legendgroup\": \"color=\\u0628\\u0647\\u0634\\u062a \\u067e\\u0646\\u0647\\u0627\\u0646 - \\u067e\\u0634\\u062a \\u0635\\u062d\\u0646\\u0647\", \"marker\": {\"color\": \"#EF553B\", \"symbol\": \"circle\"}, \"mode\": \"markers\", \"name\": \"color=\\u0628\\u0647\\u0634\\u062a \\u067e\\u0646\\u0647\\u0627\\u0646 - \\u067e\\u0634\\u062a \\u0635\\u062d\\u0646\\u0647\", \"showlegend\": true, \"type\": \"scatter\", \"x\": [0.0], \"xaxis\": \"x\", \"y\": [7.0], \"yaxis\": \"y\"}, {\"hoverlabel\": {\"namelength\": 0}, \"hovertemplate\": \"color=\\u0628\\u0648\\u062a\\u0627\\u06a9\\u0633<br>Imdb=%{x}<br>Rate=%{y}\", \"legendgroup\": \"color=\\u0628\\u0648\\u062a\\u0627\\u06a9\\u0633\", \"marker\": {\"color\": \"#00cc96\", \"symbol\": \"circle\"}, \"mode\": \"markers\", \"name\": \"color=\\u0628\\u0648\\u062a\\u0627\\u06a9\\u0633\", \"showlegend\": true, \"type\": \"scatter\", \"x\": [4.9], \"xaxis\": \"x\", \"y\": [4634.0], \"yaxis\": \"y\"}, {\"hoverlabel\": {\"namelength\": 0}, \"hovertemplate\": \"color=\\u0628\\u0648\\u0633\\u0647 \\u0627\\u06cc \\u0627\\u0632 \\u0627\\u0628\\u0648\\u0645\\u0647\\u062f\\u06cc<br>Imdb=%{x}<br>Rate=%{y}\", \"legendgroup\": \"color=\\u0628\\u0648\\u0633\\u0647 \\u0627\\u06cc \\u0627\\u0632 \\u0627\\u0628\\u0648\\u0645\\u0647\\u062f\\u06cc\", \"marker\": {\"color\": \"#ab63fa\", \"symbol\": \"circle\"}, \"mode\": \"markers\", \"name\": \"color=\\u0628\\u0648\\u0633\\u0647 \\u0627\\u06cc \\u0627\\u0632 \\u0627\\u0628\\u0648\\u0645\\u0647\\u062f\\u06cc\", \"showlegend\": true, \"type\": \"scatter\", \"x\": [0.0], \"xaxis\": \"x\", \"y\": [1445.0], \"yaxis\": \"y\"}, {\"hoverlabel\": {\"namelength\": 0}, \"hovertemplate\": \"color=\\u0628\\u0648\\u06cc \\u0639\\u0637\\u0631 \\u0645\\u0631\\u062f\\u0627\\u0646\\u0647<br>Imdb=%{x}<br>Rate=%{y}\", \"legendgroup\": \"color=\\u0628\\u0648\\u06cc \\u0639\\u0637\\u0631 \\u0645\\u0631\\u062f\\u0627\\u0646\\u0647\", \"marker\": {\"color\": \"#FFA15A\", \"symbol\": \"circle\"}, \"mode\": \"markers\", \"name\": \"color=\\u0628\\u0648\\u06cc \\u0639\\u0637\\u0631 \\u0645\\u0631\\u062f\\u0627\\u0646\\u0647\", \"showlegend\": true, \"type\": \"scatter\", \"x\": [0.0], \"xaxis\": \"x\", \"y\": [282.0], \"yaxis\": \"y\"}, {\"hoverlabel\": {\"namelength\": 0}, \"hovertemplate\": \"color=\\u0628\\u0686\\u0647 \\u062e\\u0648\\u0631<br>Imdb=%{x}<br>Rate=%{y}\", \"legendgroup\": \"color=\\u0628\\u0686\\u0647 \\u062e\\u0648\\u0631\", \"marker\": {\"color\": \"#19d3f3\", \"symbol\": \"circle\"}, \"mode\": \"markers\", \"name\": \"color=\\u0628\\u0686\\u0647 \\u062e\\u0648\\u0631\", \"showlegend\": true, \"type\": \"scatter\", \"x\": [0.0], \"xaxis\": \"x\", \"y\": [12482.0], \"yaxis\": \"y\"}, {\"hoverlabel\": {\"namelength\": 0}, \"hovertemplate\": \"color=\\u0628\\u06cc \\u0622\\u0628 \\u0648 \\u0646\\u0627\\u0646...\\u0628\\u06cc\\u0627\\u0628\\u0627\\u0646<br>Imdb=%{x}<br>Rate=%{y}\", \"legendgroup\": \"color=\\u0628\\u06cc \\u0622\\u0628 \\u0648 \\u0646\\u0627\\u0646...\\u0628\\u06cc\\u0627\\u0628\\u0627\\u0646\", \"marker\": {\"color\": \"#FF6692\", \"symbol\": \"circle\"}, \"mode\": \"markers\", \"name\": \"color=\\u0628\\u06cc \\u0622\\u0628 \\u0648 \\u0646\\u0627\\u0646...\\u0628\\u06cc\\u0627\\u0628\\u0627\\u0646\", \"showlegend\": true, \"type\": \"scatter\", \"x\": [0.0], \"xaxis\": \"x\", \"y\": [386.0], \"yaxis\": \"y\"}, {\"hoverlabel\": {\"namelength\": 0}, \"hovertemplate\": \"color=\\u0628\\u06cc \\u0628\\u06cc \\u062e\\u0627\\u062a\\u0648\\u0646<br>Imdb=%{x}<br>Rate=%{y}\", \"legendgroup\": \"color=\\u0628\\u06cc \\u0628\\u06cc \\u062e\\u0627\\u062a\\u0648\\u0646\", \"marker\": {\"color\": \"#B6E880\", \"symbol\": \"circle\"}, \"mode\": \"markers\", \"name\": \"color=\\u0628\\u06cc \\u0628\\u06cc \\u062e\\u0627\\u062a\\u0648\\u0646\", \"showlegend\": true, \"type\": \"scatter\", \"x\": [0.0], \"xaxis\": \"x\", \"y\": [160.0], \"yaxis\": \"y\"}, {\"hoverlabel\": {\"namelength\": 0}, \"hovertemplate\": \"color=\\u0628\\u06cc \\u062a\\u06cc\\u0645\\u0627\\u0631<br>Imdb=%{x}<br>Rate=%{y}\", \"legendgroup\": \"color=\\u0628\\u06cc \\u062a\\u06cc\\u0645\\u0627\\u0631\", \"marker\": {\"color\": \"#FF97FF\", \"symbol\": \"circle\"}, \"mode\": \"markers\", \"name\": \"color=\\u0628\\u06cc \\u062a\\u06cc\\u0645\\u0627\\u0631\", \"showlegend\": true, \"type\": \"scatter\", \"x\": [0.0], \"xaxis\": \"x\", \"y\": [268.0], \"yaxis\": \"y\"}, {\"hoverlabel\": {\"namelength\": 0}, \"hovertemplate\": \"color=\\u0628\\u06cc \\u062d\\u0633\\u06cc \\u0645\\u0648\\u0636\\u0639\\u06cc<br>Imdb=%{x}<br>Rate=%{y}\", \"legendgroup\": \"color=\\u0628\\u06cc \\u062d\\u0633\\u06cc \\u0645\\u0648\\u0636\\u0639\\u06cc\", \"marker\": {\"color\": \"#FECB52\", \"symbol\": \"circle\"}, \"mode\": \"markers\", \"name\": \"color=\\u0628\\u06cc \\u062d\\u0633\\u06cc \\u0645\\u0648\\u0636\\u0639\\u06cc\", \"showlegend\": true, \"type\": \"scatter\", \"x\": [0.0], \"xaxis\": \"x\", \"y\": [22783.0], \"yaxis\": \"y\"}, {\"hoverlabel\": {\"namelength\": 0}, \"hovertemplate\": \"color=\\u0628\\u06cc \\u0633\\u062a\\u0648\\u0646 \\u0686\\u0647\\u0644 \\u0633\\u062a\\u0648\\u0646<br>Imdb=%{x}<br>Rate=%{y}\", \"legendgroup\": \"color=\\u0628\\u06cc \\u0633\\u062a\\u0648\\u0646 \\u0686\\u0647\\u0644 \\u0633\\u062a\\u0648\\u0646\", \"marker\": {\"color\": \"#636efa\", \"symbol\": \"circle\"}, \"mode\": \"markers\", \"name\": \"color=\\u0628\\u06cc \\u0633\\u062a\\u0648\\u0646 \\u0686\\u0647\\u0644 \\u0633\\u062a\\u0648\\u0646\", \"showlegend\": true, \"type\": \"scatter\", \"x\": [5.7], \"xaxis\": \"x\", \"y\": [53.0], \"yaxis\": \"y\"}, {\"hoverlabel\": {\"namelength\": 0}, \"hovertemplate\": \"color=\\u0628\\u06cc \\u0639\\u0646\\u0648\\u0627\\u0646<br>Imdb=%{x}<br>Rate=%{y}\", \"legendgroup\": \"color=\\u0628\\u06cc \\u0639\\u0646\\u0648\\u0627\\u0646\", \"marker\": {\"color\": \"#EF553B\", \"symbol\": \"circle\"}, \"mode\": \"markers\", \"name\": \"color=\\u0628\\u06cc \\u0639\\u0646\\u0648\\u0627\\u0646\", \"showlegend\": true, \"type\": \"scatter\", \"x\": [0.0], \"xaxis\": \"x\", \"y\": [2449.0], \"yaxis\": \"y\"}, {\"hoverlabel\": {\"namelength\": 0}, \"hovertemplate\": \"color=\\u0628\\u06cc\\u0633\\u062a \\u0633\\u0627\\u0644<br>Imdb=%{x}<br>Rate=%{y}\", \"legendgroup\": \"color=\\u0628\\u06cc\\u0633\\u062a \\u0633\\u0627\\u0644\", \"marker\": {\"color\": \"#00cc96\", \"symbol\": \"circle\"}, \"mode\": \"markers\", \"name\": \"color=\\u0628\\u06cc\\u0633\\u062a \\u0633\\u0627\\u0644\", \"showlegend\": true, \"type\": \"scatter\", \"x\": [0.0], \"xaxis\": \"x\", \"y\": [171.0], \"yaxis\": \"y\"}, {\"hoverlabel\": {\"namelength\": 0}, \"hovertemplate\": \"color=\\u0628\\u06cc\\u0648\\u0647 \\u0647\\u0627\\u06cc \\u063a\\u0645\\u06af\\u06cc\\u0646 \\u0633\\u0627\\u0644\\u0627\\u0631 \\u062c\\u0646\\u06af<br>Imdb=%{x}<br>Rate=%{y}\", \"legendgroup\": \"color=\\u0628\\u06cc\\u0648\\u0647 \\u0647\\u0627\\u06cc \\u063a\\u0645\\u06af\\u06cc\\u0646 \\u0633\\u0627\\u0644\\u0627\\u0631 \\u062c\\u0646\\u06af\", \"marker\": {\"color\": \"#ab63fa\", \"symbol\": \"circle\"}, \"mode\": \"markers\", \"name\": \"color=\\u0628\\u06cc\\u0648\\u0647 \\u0647\\u0627\\u06cc \\u063a\\u0645\\u06af\\u06cc\\u0646 \\u0633\\u0627\\u0644\\u0627\\u0631 \\u062c\\u0646\\u06af\", \"showlegend\": true, \"type\": \"scatter\", \"x\": [0.0], \"xaxis\": \"x\", \"y\": [187.0], \"yaxis\": \"y\"}, {\"hoverlabel\": {\"namelength\": 0}, \"hovertemplate\": \"color=\\u062a \\u0645\\u062b\\u0644 \\u062a\\u0642\\u0644\\u0628<br>Imdb=%{x}<br>Rate=%{y}\", \"legendgroup\": \"color=\\u062a \\u0645\\u062b\\u0644 \\u062a\\u0642\\u0644\\u0628\", \"marker\": {\"color\": \"#FFA15A\", \"symbol\": \"circle\"}, \"mode\": \"markers\", \"name\": \"color=\\u062a \\u0645\\u062b\\u0644 \\u062a\\u0642\\u0644\\u0628\", \"showlegend\": true, \"type\": \"scatter\", \"x\": [5.7], \"xaxis\": \"x\", \"y\": [87.0], \"yaxis\": \"y\"}, {\"hoverlabel\": {\"namelength\": 0}, \"hovertemplate\": \"color=\\u062a\\u0627 \\u0627\\u0628\\u062f<br>Imdb=%{x}<br>Rate=%{y}\", \"legendgroup\": \"color=\\u062a\\u0627 \\u0627\\u0628\\u062f\", \"marker\": {\"color\": \"#19d3f3\", \"symbol\": \"circle\"}, \"mode\": \"markers\", \"name\": \"color=\\u062a\\u0627 \\u0627\\u0628\\u062f\", \"showlegend\": true, \"type\": \"scatter\", \"x\": [0.0], \"xaxis\": \"x\", \"y\": [9050.0], \"yaxis\": \"y\"}, {\"hoverlabel\": {\"namelength\": 0}, \"hovertemplate\": \"color=\\u062a\\u0627 \\u0627\\u0646\\u062a\\u0647\\u0627 \\u062d\\u0636\\u0648\\u0631<br>Imdb=%{x}<br>Rate=%{y}\", \"legendgroup\": \"color=\\u062a\\u0627 \\u0627\\u0646\\u062a\\u0647\\u0627 \\u062d\\u0636\\u0648\\u0631\", \"marker\": {\"color\": \"#FF6692\", \"symbol\": \"circle\"}, \"mode\": \"markers\", \"name\": \"color=\\u062a\\u0627 \\u0627\\u0646\\u062a\\u0647\\u0627 \\u062d\\u0636\\u0648\\u0631\", \"showlegend\": true, \"type\": \"scatter\", \"x\": [0.0], \"xaxis\": \"x\", \"y\": [58.0], \"yaxis\": \"y\"}, {\"hoverlabel\": {\"namelength\": 0}, \"hovertemplate\": \"color=\\u062a\\u0627\\u0628\\u0633\\u062a\\u0627\\u0646 \\u0639\\u0632\\u06cc\\u0632<br>Imdb=%{x}<br>Rate=%{y}\", \"legendgroup\": \"color=\\u062a\\u0627\\u0628\\u0633\\u062a\\u0627\\u0646 \\u0639\\u0632\\u06cc\\u0632\", \"marker\": {\"color\": \"#B6E880\", \"symbol\": \"circle\"}, \"mode\": \"markers\", \"name\": \"color=\\u062a\\u0627\\u0628\\u0633\\u062a\\u0627\\u0646 \\u0639\\u0632\\u06cc\\u0632\", \"showlegend\": true, \"type\": \"scatter\", \"x\": [0.0], \"xaxis\": \"x\", \"y\": [275.0], \"yaxis\": \"y\"}, {\"hoverlabel\": {\"namelength\": 0}, \"hovertemplate\": \"color=\\u062a\\u0628 \\u0639\\u0634\\u0642<br>Imdb=%{x}<br>Rate=%{y}\", \"legendgroup\": \"color=\\u062a\\u0628 \\u0639\\u0634\\u0642\", \"marker\": {\"color\": \"#FF97FF\", \"symbol\": \"circle\"}, \"mode\": \"markers\", \"name\": \"color=\\u062a\\u0628 \\u0639\\u0634\\u0642\", \"showlegend\": true, \"type\": \"scatter\", \"x\": [0.0], \"xaxis\": \"x\", \"y\": [127.0], \"yaxis\": \"y\"}, {\"hoverlabel\": {\"namelength\": 0}, \"hovertemplate\": \"color=\\u062a\\u062c\\u0627\\u0631\\u062a\\u062e\\u0627\\u0646\\u0647 \\u0628\\u0648\\u0634\\u06cc<br>Imdb=%{x}<br>Rate=%{y}\", \"legendgroup\": \"color=\\u062a\\u062c\\u0627\\u0631\\u062a\\u062e\\u0627\\u0646\\u0647 \\u0628\\u0648\\u0634\\u06cc\", \"marker\": {\"color\": \"#FECB52\", \"symbol\": \"circle\"}, \"mode\": \"markers\", \"name\": \"color=\\u062a\\u062c\\u0627\\u0631\\u062a\\u062e\\u0627\\u0646\\u0647 \\u0628\\u0648\\u0634\\u06cc\", \"showlegend\": true, \"type\": \"scatter\", \"x\": [0.0], \"xaxis\": \"x\", \"y\": [29.0], \"yaxis\": \"y\"}, {\"hoverlabel\": {\"namelength\": 0}, \"hovertemplate\": \"color=\\u062a\\u062e\\u0645\\u0647 \\u0698\\u0627\\u067e\\u0646\\u06cc<br>Imdb=%{x}<br>Rate=%{y}\", \"legendgroup\": \"color=\\u062a\\u062e\\u0645\\u0647 \\u0698\\u0627\\u067e\\u0646\\u06cc\", \"marker\": {\"color\": \"#636efa\", \"symbol\": \"circle\"}, \"mode\": \"markers\", \"name\": \"color=\\u062a\\u062e\\u0645\\u0647 \\u0698\\u0627\\u067e\\u0646\\u06cc\", \"showlegend\": true, \"type\": \"scatter\", \"x\": [5.7], \"xaxis\": \"x\", \"y\": [120.0], \"yaxis\": \"y\"}, {\"hoverlabel\": {\"namelength\": 0}, \"hovertemplate\": \"color=\\u062a\\u062f\\u0648\\u06cc\\u0646<br>Imdb=%{x}<br>Rate=%{y}\", \"legendgroup\": \"color=\\u062a\\u062f\\u0648\\u06cc\\u0646\", \"marker\": {\"color\": \"#EF553B\", \"symbol\": \"circle\"}, \"mode\": \"markers\", \"name\": \"color=\\u062a\\u062f\\u0648\\u06cc\\u0646\", \"showlegend\": true, \"type\": \"scatter\", \"x\": [0.0], \"xaxis\": \"x\", \"y\": [21.0], \"yaxis\": \"y\"}, {\"hoverlabel\": {\"namelength\": 0}, \"hovertemplate\": \"color=\\u062a\\u0631\\u0648\\u06a9\\u0627\\u0698<br>Imdb=%{x}<br>Rate=%{y}\", \"legendgroup\": \"color=\\u062a\\u0631\\u0648\\u06a9\\u0627\\u0698\", \"marker\": {\"color\": \"#00cc96\", \"symbol\": \"circle\"}, \"mode\": \"markers\", \"name\": \"color=\\u062a\\u0631\\u0648\\u06a9\\u0627\\u0698\", \"showlegend\": true, \"type\": \"scatter\", \"x\": [0.0], \"xaxis\": \"x\", \"y\": [93.0], \"yaxis\": \"y\"}, {\"hoverlabel\": {\"namelength\": 0}, \"hovertemplate\": \"color=\\u062a\\u0635\\u0648\\u06cc\\u0631 \\u06a9\\u0644\\u0645\\u0627\\u062a<br>Imdb=%{x}<br>Rate=%{y}\", \"legendgroup\": \"color=\\u062a\\u0635\\u0648\\u06cc\\u0631 \\u06a9\\u0644\\u0645\\u0627\\u062a\", \"marker\": {\"color\": \"#ab63fa\", \"symbol\": \"circle\"}, \"mode\": \"markers\", \"name\": \"color=\\u062a\\u0635\\u0648\\u06cc\\u0631 \\u06a9\\u0644\\u0645\\u0627\\u062a\", \"showlegend\": true, \"type\": \"scatter\", \"x\": [0.0], \"xaxis\": \"x\", \"y\": [27.0], \"yaxis\": \"y\"}, {\"hoverlabel\": {\"namelength\": 0}, \"hovertemplate\": \"color=\\u062a\\u0642\\u0627\\u0637\\u0639<br>Imdb=%{x}<br>Rate=%{y}\", \"legendgroup\": \"color=\\u062a\\u0642\\u0627\\u0637\\u0639\", \"marker\": {\"color\": \"#FFA15A\", \"symbol\": \"circle\"}, \"mode\": \"markers\", \"name\": \"color=\\u062a\\u0642\\u0627\\u0637\\u0639\", \"showlegend\": true, \"type\": \"scatter\", \"x\": [5.9], \"xaxis\": \"x\", \"y\": [1051.0], \"yaxis\": \"y\"}, {\"hoverlabel\": {\"namelength\": 0}, \"hovertemplate\": \"color=\\u062a\\u0645\\u0627\\u0633 \\u0628\\u06cc \\u067e\\u0627\\u0633\\u062e<br>Imdb=%{x}<br>Rate=%{y}\", \"legendgroup\": \"color=\\u062a\\u0645\\u0627\\u0633 \\u0628\\u06cc \\u067e\\u0627\\u0633\\u062e\", \"marker\": {\"color\": \"#19d3f3\", \"symbol\": \"circle\"}, \"mode\": \"markers\", \"name\": \"color=\\u062a\\u0645\\u0627\\u0633 \\u0628\\u06cc \\u067e\\u0627\\u0633\\u062e\", \"showlegend\": true, \"type\": \"scatter\", \"x\": [0.0], \"xaxis\": \"x\", \"y\": [1139.0], \"yaxis\": \"y\"}, {\"hoverlabel\": {\"namelength\": 0}, \"hovertemplate\": \"color=\\u062a\\u0646\\u0628\\u0644 \\u0642\\u0647\\u0631\\u0645\\u0627\\u0646<br>Imdb=%{x}<br>Rate=%{y}\", \"legendgroup\": \"color=\\u062a\\u0646\\u0628\\u0644 \\u0642\\u0647\\u0631\\u0645\\u0627\\u0646\", \"marker\": {\"color\": \"#FF6692\", \"symbol\": \"circle\"}, \"mode\": \"markers\", \"name\": \"color=\\u062a\\u0646\\u0628\\u0644 \\u0642\\u0647\\u0631\\u0645\\u0627\\u0646\", \"showlegend\": true, \"type\": \"scatter\", \"x\": [0.0], \"xaxis\": \"x\", \"y\": [474.0], \"yaxis\": \"y\"}, {\"hoverlabel\": {\"namelength\": 0}, \"hovertemplate\": \"color=\\u062a\\u0647 \\u062a\\u0648\\u06cc \\u0642\\u0636\\u0627\\u06cc\\u0627 \\u0627\\u0632 \\u062f\\u0648 \\u0637\\u0631\\u0641<br>Imdb=%{x}<br>Rate=%{y}\", \"legendgroup\": \"color=\\u062a\\u0647 \\u062a\\u0648\\u06cc \\u0642\\u0636\\u0627\\u06cc\\u0627 \\u0627\\u0632 \\u062f\\u0648 \\u0637\\u0631\\u0641\", \"marker\": {\"color\": \"#B6E880\", \"symbol\": \"circle\"}, \"mode\": \"markers\", \"name\": \"color=\\u062a\\u0647 \\u062a\\u0648\\u06cc \\u0642\\u0636\\u0627\\u06cc\\u0627 \\u0627\\u0632 \\u062f\\u0648 \\u0637\\u0631\\u0641\", \"showlegend\": true, \"type\": \"scatter\", \"x\": [5.7], \"xaxis\": \"x\", \"y\": [83.0], \"yaxis\": \"y\"}, {\"hoverlabel\": {\"namelength\": 0}, \"hovertemplate\": \"color=\\u062a\\u0647\\u0631\\u0627\\u0646 \\u0644\\u0646\\u062f\\u0646<br>Imdb=%{x}<br>Rate=%{y}\", \"legendgroup\": \"color=\\u062a\\u0647\\u0631\\u0627\\u0646 \\u0644\\u0646\\u062f\\u0646\", \"marker\": {\"color\": \"#FF97FF\", \"symbol\": \"circle\"}, \"mode\": \"markers\", \"name\": \"color=\\u062a\\u0647\\u0631\\u0627\\u0646 \\u0644\\u0646\\u062f\\u0646\", \"showlegend\": true, \"type\": \"scatter\", \"x\": [0.0], \"xaxis\": \"x\", \"y\": [855.0], \"yaxis\": \"y\"}, {\"hoverlabel\": {\"namelength\": 0}, \"hovertemplate\": \"color=\\u062a\\u0648\\u0644\\u062f \\u062c\\u0646\\u062c\\u0627\\u0644\\u06cc<br>Imdb=%{x}<br>Rate=%{y}\", \"legendgroup\": \"color=\\u062a\\u0648\\u0644\\u062f \\u062c\\u0646\\u062c\\u0627\\u0644\\u06cc\", \"marker\": {\"color\": \"#FECB52\", \"symbol\": \"circle\"}, \"mode\": \"markers\", \"name\": \"color=\\u062a\\u0648\\u0644\\u062f \\u062c\\u0646\\u062c\\u0627\\u0644\\u06cc\", \"showlegend\": true, \"type\": \"scatter\", \"x\": [0.0], \"xaxis\": \"x\", \"y\": [926.0], \"yaxis\": \"y\"}, {\"hoverlabel\": {\"namelength\": 0}, \"hovertemplate\": \"color=\\u062a\\u067e\\u0644\\u06cc<br>Imdb=%{x}<br>Rate=%{y}\", \"legendgroup\": \"color=\\u062a\\u067e\\u0644\\u06cc\", \"marker\": {\"color\": \"#636efa\", \"symbol\": \"circle\"}, \"mode\": \"markers\", \"name\": \"color=\\u062a\\u067e\\u0644\\u06cc\", \"showlegend\": true, \"type\": \"scatter\", \"x\": [0.0], \"xaxis\": \"x\", \"y\": [816.0], \"yaxis\": \"y\"}, {\"hoverlabel\": {\"namelength\": 0}, \"hovertemplate\": \"color=\\u062a\\u06a9\\u062e\\u0627\\u0644<br>Imdb=%{x}<br>Rate=%{y}\", \"legendgroup\": \"color=\\u062a\\u06a9\\u062e\\u0627\\u0644\", \"marker\": {\"color\": \"#EF553B\", \"symbol\": \"circle\"}, \"mode\": \"markers\", \"name\": \"color=\\u062a\\u06a9\\u062e\\u0627\\u0644\", \"showlegend\": true, \"type\": \"scatter\", \"x\": [0.0], \"xaxis\": \"x\", \"y\": [26795.0], \"yaxis\": \"y\"}, {\"hoverlabel\": {\"namelength\": 0}, \"hovertemplate\": \"color=\\u062a\\u06a9\\u062e\\u0627\\u0644 - \\u067e\\u0634\\u062a \\u0635\\u062d\\u0646\\u0647<br>Imdb=%{x}<br>Rate=%{y}\", \"legendgroup\": \"color=\\u062a\\u06a9\\u062e\\u0627\\u0644 - \\u067e\\u0634\\u062a \\u0635\\u062d\\u0646\\u0647\", \"marker\": {\"color\": \"#00cc96\", \"symbol\": \"circle\"}, \"mode\": \"markers\", \"name\": \"color=\\u062a\\u06a9\\u062e\\u0627\\u0644 - \\u067e\\u0634\\u062a \\u0635\\u062d\\u0646\\u0647\", \"showlegend\": true, \"type\": \"scatter\", \"x\": [0.0], \"xaxis\": \"x\", \"y\": [794.0], \"yaxis\": \"y\"}, {\"hoverlabel\": {\"namelength\": 0}, \"hovertemplate\": \"color=\\u062a\\u06af\\u0632\\u0627\\u0633 2 (\\u0628\\u0627 \\u0632\\u06cc\\u0631\\u0646\\u0648\\u06cc\\u0633 \\u0645\\u062e\\u0635\\u0648\\u0635 \\u0646\\u0627\\u0634\\u0646\\u0648\\u0627\\u06cc\\u0627\\u0646)<br>Imdb=%{x}<br>Rate=%{y}\", \"legendgroup\": \"color=\\u062a\\u06af\\u0632\\u0627\\u0633 2 (\\u0628\\u0627 \\u0632\\u06cc\\u0631\\u0646\\u0648\\u06cc\\u0633 \\u0645\\u062e\\u0635\\u0648\\u0635 \\u0646\\u0627\\u0634\\u0646\\u0648\\u0627\\u06cc\\u0627\\u0646)\", \"marker\": {\"color\": \"#ab63fa\", \"symbol\": \"circle\"}, \"mode\": \"markers\", \"name\": \"color=\\u062a\\u06af\\u0632\\u0627\\u0633 2 (\\u0628\\u0627 \\u0632\\u06cc\\u0631\\u0646\\u0648\\u06cc\\u0633 \\u0645\\u062e\\u0635\\u0648\\u0635 \\u0646\\u0627\\u0634\\u0646\\u0648\\u0627\\u06cc\\u0627\\u0646)\", \"showlegend\": true, \"type\": \"scatter\", \"x\": [4.1], \"xaxis\": \"x\", \"y\": [493.0], \"yaxis\": \"y\"}, {\"hoverlabel\": {\"namelength\": 0}, \"hovertemplate\": \"color=\\u062a\\u06cc\\u062a\\u0631\\u0627\\u0698 \\u062f\\u0631 \\u0633\\u06cc\\u0646\\u0645\\u0627\\u06cc \\u0627\\u06cc\\u0631\\u0627\\u0646<br>Imdb=%{x}<br>Rate=%{y}\", \"legendgroup\": \"color=\\u062a\\u06cc\\u062a\\u0631\\u0627\\u0698 \\u062f\\u0631 \\u0633\\u06cc\\u0646\\u0645\\u0627\\u06cc \\u0627\\u06cc\\u0631\\u0627\\u0646\", \"marker\": {\"color\": \"#FFA15A\", \"symbol\": \"circle\"}, \"mode\": \"markers\", \"name\": \"color=\\u062a\\u06cc\\u062a\\u0631\\u0627\\u0698 \\u062f\\u0631 \\u0633\\u06cc\\u0646\\u0645\\u0627\\u06cc \\u0627\\u06cc\\u0631\\u0627\\u0646\", \"showlegend\": true, \"type\": \"scatter\", \"x\": [0.0], \"xaxis\": \"x\", \"y\": [61.0], \"yaxis\": \"y\"}, {\"hoverlabel\": {\"namelength\": 0}, \"hovertemplate\": \"color=\\u062c\\u0627\\u062f\\u0647 \\u0641\\u0631\\u0639\\u06cc<br>Imdb=%{x}<br>Rate=%{y}\", \"legendgroup\": \"color=\\u062c\\u0627\\u062f\\u0647 \\u0641\\u0631\\u0639\\u06cc\", \"marker\": {\"color\": \"#19d3f3\", \"symbol\": \"circle\"}, \"mode\": \"markers\", \"name\": \"color=\\u062c\\u0627\\u062f\\u0647 \\u0641\\u0631\\u0639\\u06cc\", \"showlegend\": true, \"type\": \"scatter\", \"x\": [0.0], \"xaxis\": \"x\", \"y\": [2658.0], \"yaxis\": \"y\"}, {\"hoverlabel\": {\"namelength\": 0}, \"hovertemplate\": \"color=\\u062c\\u0627\\u0631\\u0648\\u0647\\u0627\\u06cc \\u0628\\u06cc\\u0635\\u062f\\u0627<br>Imdb=%{x}<br>Rate=%{y}\", \"legendgroup\": \"color=\\u062c\\u0627\\u0631\\u0648\\u0647\\u0627\\u06cc \\u0628\\u06cc\\u0635\\u062f\\u0627\", \"marker\": {\"color\": \"#FF6692\", \"symbol\": \"circle\"}, \"mode\": \"markers\", \"name\": \"color=\\u062c\\u0627\\u0631\\u0648\\u0647\\u0627\\u06cc \\u0628\\u06cc\\u0635\\u062f\\u0627\", \"showlegend\": true, \"type\": \"scatter\", \"x\": [0.0], \"xaxis\": \"x\", \"y\": [68.0], \"yaxis\": \"y\"}, {\"hoverlabel\": {\"namelength\": 0}, \"hovertemplate\": \"color=\\u062c\\u0627\\u0645 \\u062c\\u0627\\u0646<br>Imdb=%{x}<br>Rate=%{y}\", \"legendgroup\": \"color=\\u062c\\u0627\\u0645 \\u062c\\u0627\\u0646\", \"marker\": {\"color\": \"#B6E880\", \"symbol\": \"circle\"}, \"mode\": \"markers\", \"name\": \"color=\\u062c\\u0627\\u0645 \\u062c\\u0627\\u0646\", \"showlegend\": true, \"type\": \"scatter\", \"x\": [0.0], \"xaxis\": \"x\", \"y\": [248.0], \"yaxis\": \"y\"}, {\"hoverlabel\": {\"namelength\": 0}, \"hovertemplate\": \"color=\\u062c\\u0631\\u0645 \\u06cc\\u062d\\u06cc\\u06cc<br>Imdb=%{x}<br>Rate=%{y}\", \"legendgroup\": \"color=\\u062c\\u0631\\u0645 \\u06cc\\u062d\\u06cc\\u06cc\", \"marker\": {\"color\": \"#FF97FF\", \"symbol\": \"circle\"}, \"mode\": \"markers\", \"name\": \"color=\\u062c\\u0631\\u0645 \\u06cc\\u062d\\u06cc\\u06cc\", \"showlegend\": true, \"type\": \"scatter\", \"x\": [0.0], \"xaxis\": \"x\", \"y\": [274.0], \"yaxis\": \"y\"}, {\"hoverlabel\": {\"namelength\": 0}, \"hovertemplate\": \"color=\\u062c\\u0631\\u06cc\\u0627\\u0646 \\u0627\\u0635\\u0644\\u06cc<br>Imdb=%{x}<br>Rate=%{y}\", \"legendgroup\": \"color=\\u062c\\u0631\\u06cc\\u0627\\u0646 \\u0627\\u0635\\u0644\\u06cc\", \"marker\": {\"color\": \"#FECB52\", \"symbol\": \"circle\"}, \"mode\": \"markers\", \"name\": \"color=\\u062c\\u0631\\u06cc\\u0627\\u0646 \\u0627\\u0635\\u0644\\u06cc\", \"showlegend\": true, \"type\": \"scatter\", \"x\": [0.0], \"xaxis\": \"x\", \"y\": [77.0], \"yaxis\": \"y\"}, {\"hoverlabel\": {\"namelength\": 0}, \"hovertemplate\": \"color=\\u062c\\u0641\\u062a \\u0634\\u0634<br>Imdb=%{x}<br>Rate=%{y}\", \"legendgroup\": \"color=\\u062c\\u0641\\u062a \\u0634\\u0634\", \"marker\": {\"color\": \"#636efa\", \"symbol\": \"circle\"}, \"mode\": \"markers\", \"name\": \"color=\\u062c\\u0641\\u062a \\u0634\\u0634\", \"showlegend\": true, \"type\": \"scatter\", \"x\": [0.0], \"xaxis\": \"x\", \"y\": [96.0], \"yaxis\": \"y\"}, {\"hoverlabel\": {\"namelength\": 0}, \"hovertemplate\": \"color=\\u062c\\u0645\\u0634\\u06cc\\u062f\\u06cc\\u0647<br>Imdb=%{x}<br>Rate=%{y}\", \"legendgroup\": \"color=\\u062c\\u0645\\u0634\\u06cc\\u062f\\u06cc\\u0647\", \"marker\": {\"color\": \"#EF553B\", \"symbol\": \"circle\"}, \"mode\": \"markers\", \"name\": \"color=\\u062c\\u0645\\u0634\\u06cc\\u062f\\u06cc\\u0647\", \"showlegend\": true, \"type\": \"scatter\", \"x\": [0.0], \"xaxis\": \"x\", \"y\": [26800.0], \"yaxis\": \"y\"}, {\"hoverlabel\": {\"namelength\": 0}, \"hovertemplate\": \"color=\\u062c\\u0646\\u0627\\u06cc\\u062a<br>Imdb=%{x}<br>Rate=%{y}\", \"legendgroup\": \"color=\\u062c\\u0646\\u0627\\u06cc\\u062a\", \"marker\": {\"color\": \"#00cc96\", \"symbol\": \"circle\"}, \"mode\": \"markers\", \"name\": \"color=\\u062c\\u0646\\u0627\\u06cc\\u062a\", \"showlegend\": true, \"type\": \"scatter\", \"x\": [0.0], \"xaxis\": \"x\", \"y\": [263.0], \"yaxis\": \"y\"}, {\"hoverlabel\": {\"namelength\": 0}, \"hovertemplate\": \"color=\\u062d\\u0627\\u062c \\u0627\\u0628\\u0648\\u0627\\u0644\\u0642\\u0627\\u0633\\u0645 \\u0642\\u0646\\u0627\\u062f \\u0648 \\u067e\\u0633\\u0631\\u0627\\u0646<br>Imdb=%{x}<br>Rate=%{y}\", \"legendgroup\": \"color=\\u062d\\u0627\\u062c \\u0627\\u0628\\u0648\\u0627\\u0644\\u0642\\u0627\\u0633\\u0645 \\u0642\\u0646\\u0627\\u062f \\u0648 \\u067e\\u0633\\u0631\\u0627\\u0646\", \"marker\": {\"color\": \"#ab63fa\", \"symbol\": \"circle\"}, \"mode\": \"markers\", \"name\": \"color=\\u062d\\u0627\\u062c \\u0627\\u0628\\u0648\\u0627\\u0644\\u0642\\u0627\\u0633\\u0645 \\u0642\\u0646\\u0627\\u062f \\u0648 \\u067e\\u0633\\u0631\\u0627\\u0646\", \"showlegend\": true, \"type\": \"scatter\", \"x\": [0.0], \"xaxis\": \"x\", \"y\": [113.0], \"yaxis\": \"y\"}, {\"hoverlabel\": {\"namelength\": 0}, \"hovertemplate\": \"color=\\u062d\\u0631\\u0641\\u0647 \\u0627\\u06cc \\u0647\\u0627<br>Imdb=%{x}<br>Rate=%{y}\", \"legendgroup\": \"color=\\u062d\\u0631\\u0641\\u0647 \\u0627\\u06cc \\u0647\\u0627\", \"marker\": {\"color\": \"#FFA15A\", \"symbol\": \"circle\"}, \"mode\": \"markers\", \"name\": \"color=\\u062d\\u0631\\u0641\\u0647 \\u0627\\u06cc \\u0647\\u0627\", \"showlegend\": true, \"type\": \"scatter\", \"x\": [0.0], \"xaxis\": \"x\", \"y\": [107.0], \"yaxis\": \"y\"}, {\"hoverlabel\": {\"namelength\": 0}, \"hovertemplate\": \"color=\\u062d\\u0633 \\u062e\\u0648\\u0628 \\u0632\\u0646\\u062f\\u06af\\u06cc<br>Imdb=%{x}<br>Rate=%{y}\", \"legendgroup\": \"color=\\u062d\\u0633 \\u062e\\u0648\\u0628 \\u0632\\u0646\\u062f\\u06af\\u06cc\", \"marker\": {\"color\": \"#19d3f3\", \"symbol\": \"circle\"}, \"mode\": \"markers\", \"name\": \"color=\\u062d\\u0633 \\u062e\\u0648\\u0628 \\u0632\\u0646\\u062f\\u06af\\u06cc\", \"showlegend\": true, \"type\": \"scatter\", \"x\": [0.0], \"xaxis\": \"x\", \"y\": [2231.0], \"yaxis\": \"y\"}, {\"hoverlabel\": {\"namelength\": 0}, \"hovertemplate\": \"color=\\u062d\\u0644\\u0642\\u0647 \\u0639\\u0627\\u0634\\u0642\\u0627\\u0646<br>Imdb=%{x}<br>Rate=%{y}\", \"legendgroup\": \"color=\\u062d\\u0644\\u0642\\u0647 \\u0639\\u0627\\u0634\\u0642\\u0627\\u0646\", \"marker\": {\"color\": \"#FF6692\", \"symbol\": \"circle\"}, \"mode\": \"markers\", \"name\": \"color=\\u062d\\u0644\\u0642\\u0647 \\u0639\\u0627\\u0634\\u0642\\u0627\\u0646\", \"showlegend\": true, \"type\": \"scatter\", \"x\": [0.0], \"xaxis\": \"x\", \"y\": [317.0], \"yaxis\": \"y\"}, {\"hoverlabel\": {\"namelength\": 0}, \"hovertemplate\": \"color=\\u062d\\u0644\\u0642\\u0647 \\u0647\\u0627\\u06cc \\u0627\\u0632\\u062f\\u0648\\u0627\\u062c<br>Imdb=%{x}<br>Rate=%{y}\", \"legendgroup\": \"color=\\u062d\\u0644\\u0642\\u0647 \\u0647\\u0627\\u06cc \\u0627\\u0632\\u062f\\u0648\\u0627\\u062c\", \"marker\": {\"color\": \"#B6E880\", \"symbol\": \"circle\"}, \"mode\": \"markers\", \"name\": \"color=\\u062d\\u0644\\u0642\\u0647 \\u0647\\u0627\\u06cc \\u0627\\u0632\\u062f\\u0648\\u0627\\u062c\", \"showlegend\": true, \"type\": \"scatter\", \"x\": [0.0], \"xaxis\": \"x\", \"y\": [1699.0], \"yaxis\": \"y\"}, {\"hoverlabel\": {\"namelength\": 0}, \"hovertemplate\": \"color=\\u062d\\u0648\\u0627\\u060c \\u0645\\u0631\\u06cc\\u0645\\u060c \\u0639\\u0627\\u06cc\\u0634\\u0647<br>Imdb=%{x}<br>Rate=%{y}\", \"legendgroup\": \"color=\\u062d\\u0648\\u0627\\u060c \\u0645\\u0631\\u06cc\\u0645\\u060c \\u0639\\u0627\\u06cc\\u0634\\u0647\", \"marker\": {\"color\": \"#FF97FF\", \"symbol\": \"circle\"}, \"mode\": \"markers\", \"name\": \"color=\\u062d\\u0648\\u0627\\u060c \\u0645\\u0631\\u06cc\\u0645\\u060c \\u0639\\u0627\\u06cc\\u0634\\u0647\", \"showlegend\": true, \"type\": \"scatter\", \"x\": [6.1], \"xaxis\": \"x\", \"y\": [4203.0], \"yaxis\": \"y\"}, {\"hoverlabel\": {\"namelength\": 0}, \"hovertemplate\": \"color=\\u062d\\u06a9\\u0627\\u06cc\\u062a \\u062f\\u0631\\u06cc\\u0627 (\\u0628\\u0627 \\u0632\\u06cc\\u0631\\u0646\\u0648\\u06cc\\u0633 \\u0645\\u062e\\u0635\\u0648\\u0635 \\u0646\\u0627\\u0634\\u0646\\u0648\\u0627\\u06cc\\u0627\\u0646)<br>Imdb=%{x}<br>Rate=%{y}\", \"legendgroup\": \"color=\\u062d\\u06a9\\u0627\\u06cc\\u062a \\u062f\\u0631\\u06cc\\u0627 (\\u0628\\u0627 \\u0632\\u06cc\\u0631\\u0646\\u0648\\u06cc\\u0633 \\u0645\\u062e\\u0635\\u0648\\u0635 \\u0646\\u0627\\u0634\\u0646\\u0648\\u0627\\u06cc\\u0627\\u0646)\", \"marker\": {\"color\": \"#FECB52\", \"symbol\": \"circle\"}, \"mode\": \"markers\", \"name\": \"color=\\u062d\\u06a9\\u0627\\u06cc\\u062a \\u062f\\u0631\\u06cc\\u0627 (\\u0628\\u0627 \\u0632\\u06cc\\u0631\\u0646\\u0648\\u06cc\\u0633 \\u0645\\u062e\\u0635\\u0648\\u0635 \\u0646\\u0627\\u0634\\u0646\\u0648\\u0627\\u06cc\\u0627\\u0646)\", \"showlegend\": true, \"type\": \"scatter\", \"x\": [4.7], \"xaxis\": \"x\", \"y\": [85.0], \"yaxis\": \"y\"}, {\"hoverlabel\": {\"namelength\": 0}, \"hovertemplate\": \"color=\\u062e\\u0627\\u0637\\u0631\\u0647 \\u062f\\u0631 \\u0642\\u0627\\u0628<br>Imdb=%{x}<br>Rate=%{y}\", \"legendgroup\": \"color=\\u062e\\u0627\\u0637\\u0631\\u0647 \\u062f\\u0631 \\u0642\\u0627\\u0628\", \"marker\": {\"color\": \"#636efa\", \"symbol\": \"circle\"}, \"mode\": \"markers\", \"name\": \"color=\\u062e\\u0627\\u0637\\u0631\\u0647 \\u062f\\u0631 \\u0642\\u0627\\u0628\", \"showlegend\": true, \"type\": \"scatter\", \"x\": [0.0], \"xaxis\": \"x\", \"y\": [59.0], \"yaxis\": \"y\"}, {\"hoverlabel\": {\"namelength\": 0}, \"hovertemplate\": \"color=\\u062e\\u0627\\u0644\\u0647 \\u0642\\u0648\\u0631\\u0628\\u0627\\u063a\\u0647<br>Imdb=%{x}<br>Rate=%{y}\", \"legendgroup\": \"color=\\u062e\\u0627\\u0644\\u0647 \\u0642\\u0648\\u0631\\u0628\\u0627\\u063a\\u0647\", \"marker\": {\"color\": \"#EF553B\", \"symbol\": \"circle\"}, \"mode\": \"markers\", \"name\": \"color=\\u062e\\u0627\\u0644\\u0647 \\u0642\\u0648\\u0631\\u0628\\u0627\\u063a\\u0647\", \"showlegend\": true, \"type\": \"scatter\", \"x\": [6.0], \"xaxis\": \"x\", \"y\": [2866.0], \"yaxis\": \"y\"}, {\"hoverlabel\": {\"namelength\": 0}, \"hovertemplate\": \"color=\\u062e\\u0627\\u0645\\u0648\\u0634\\u06cc \\u062f\\u0631\\u06cc\\u0627<br>Imdb=%{x}<br>Rate=%{y}\", \"legendgroup\": \"color=\\u062e\\u0627\\u0645\\u0648\\u0634\\u06cc \\u062f\\u0631\\u06cc\\u0627\", \"marker\": {\"color\": \"#00cc96\", \"symbol\": \"circle\"}, \"mode\": \"markers\", \"name\": \"color=\\u062e\\u0627\\u0645\\u0648\\u0634\\u06cc \\u062f\\u0631\\u06cc\\u0627\", \"showlegend\": true, \"type\": \"scatter\", \"x\": [0.0], \"xaxis\": \"x\", \"y\": [243.0], \"yaxis\": \"y\"}, {\"hoverlabel\": {\"namelength\": 0}, \"hovertemplate\": \"color=\\u062e\\u0627\\u0646\\u0647 \\u0627\\u06cc \\u06a9\\u0647 \\u0645\\u0627 \\u0631\\u0627 \\u0646\\u062f\\u0627\\u0634\\u062a<br>Imdb=%{x}<br>Rate=%{y}\", \"legendgroup\": \"color=\\u062e\\u0627\\u0646\\u0647 \\u0627\\u06cc \\u06a9\\u0647 \\u0645\\u0627 \\u0631\\u0627 \\u0646\\u062f\\u0627\\u0634\\u062a\", \"marker\": {\"color\": \"#ab63fa\", \"symbol\": \"circle\"}, \"mode\": \"markers\", \"name\": \"color=\\u062e\\u0627\\u0646\\u0647 \\u0627\\u06cc \\u06a9\\u0647 \\u0645\\u0627 \\u0631\\u0627 \\u0646\\u062f\\u0627\\u0634\\u062a\", \"showlegend\": true, \"type\": \"scatter\", \"x\": [0.0], \"xaxis\": \"x\", \"y\": [1009.0], \"yaxis\": \"y\"}, {\"hoverlabel\": {\"namelength\": 0}, \"hovertemplate\": \"color=\\u062e\\u0627\\u0646\\u0647 \\u06a9\\u0627\\u0628\\u0644<br>Imdb=%{x}<br>Rate=%{y}\", \"legendgroup\": \"color=\\u062e\\u0627\\u0646\\u0647 \\u06a9\\u0627\\u0628\\u0644\", \"marker\": {\"color\": \"#FFA15A\", \"symbol\": \"circle\"}, \"mode\": \"markers\", \"name\": \"color=\\u062e\\u0627\\u0646\\u0647 \\u06a9\\u0627\\u0628\\u0644\", \"showlegend\": true, \"type\": \"scatter\", \"x\": [0.0], \"xaxis\": \"x\", \"y\": [73.0], \"yaxis\": \"y\"}, {\"hoverlabel\": {\"namelength\": 0}, \"hovertemplate\": \"color=\\u062e\\u0631\\u062f\\u0647 \\u0646\\u0627\\u0646<br>Imdb=%{x}<br>Rate=%{y}\", \"legendgroup\": \"color=\\u062e\\u0631\\u062f\\u0647 \\u0646\\u0627\\u0646\", \"marker\": {\"color\": \"#19d3f3\", \"symbol\": \"circle\"}, \"mode\": \"markers\", \"name\": \"color=\\u062e\\u0631\\u062f\\u0647 \\u0646\\u0627\\u0646\", \"showlegend\": true, \"type\": \"scatter\", \"x\": [0.0], \"xaxis\": \"x\", \"y\": [274.0], \"yaxis\": \"y\"}, {\"hoverlabel\": {\"namelength\": 0}, \"hovertemplate\": \"color=\\u062e\\u0631\\u0648\\u062c (\\u0628\\u0627 \\u0632\\u06cc\\u0631\\u0646\\u0648\\u06cc\\u0633 \\u0645\\u062e\\u0635\\u0648\\u0635 \\u0646\\u0627\\u0634\\u0646\\u0648\\u0627\\u06cc\\u0627\\u0646)<br>Imdb=%{x}<br>Rate=%{y}\", \"legendgroup\": \"color=\\u062e\\u0631\\u0648\\u062c (\\u0628\\u0627 \\u0632\\u06cc\\u0631\\u0646\\u0648\\u06cc\\u0633 \\u0645\\u062e\\u0635\\u0648\\u0635 \\u0646\\u0627\\u0634\\u0646\\u0648\\u0627\\u06cc\\u0627\\u0646)\", \"marker\": {\"color\": \"#FF6692\", \"symbol\": \"circle\"}, \"mode\": \"markers\", \"name\": \"color=\\u062e\\u0631\\u0648\\u062c (\\u0628\\u0627 \\u0632\\u06cc\\u0631\\u0646\\u0648\\u06cc\\u0633 \\u0645\\u062e\\u0635\\u0648\\u0635 \\u0646\\u0627\\u0634\\u0646\\u0648\\u0627\\u06cc\\u0627\\u0646)\", \"showlegend\": true, \"type\": \"scatter\", \"x\": [5.1], \"xaxis\": \"x\", \"y\": [589.0], \"yaxis\": \"y\"}, {\"hoverlabel\": {\"namelength\": 0}, \"hovertemplate\": \"color=\\u062e\\u0631\\u0648\\u0633 \\u0628\\u06cc \\u0645\\u062d\\u0644<br>Imdb=%{x}<br>Rate=%{y}\", \"legendgroup\": \"color=\\u062e\\u0631\\u0648\\u0633 \\u0628\\u06cc \\u0645\\u062d\\u0644\", \"marker\": {\"color\": \"#B6E880\", \"symbol\": \"circle\"}, \"mode\": \"markers\", \"name\": \"color=\\u062e\\u0631\\u0648\\u0633 \\u0628\\u06cc \\u0645\\u062d\\u0644\", \"showlegend\": true, \"type\": \"scatter\", \"x\": [0.0], \"xaxis\": \"x\", \"y\": [4447.0], \"yaxis\": \"y\"}, {\"hoverlabel\": {\"namelength\": 0}, \"hovertemplate\": \"color=\\u062e\\u0637 \\u0633\\u0631\\u062e<br>Imdb=%{x}<br>Rate=%{y}\", \"legendgroup\": \"color=\\u062e\\u0637 \\u0633\\u0631\\u062e\", \"marker\": {\"color\": \"#FF97FF\", \"symbol\": \"circle\"}, \"mode\": \"markers\", \"name\": \"color=\\u062e\\u0637 \\u0633\\u0631\\u062e\", \"showlegend\": true, \"type\": \"scatter\", \"x\": [0.0], \"xaxis\": \"x\", \"y\": [67.0], \"yaxis\": \"y\"}, {\"hoverlabel\": {\"namelength\": 0}, \"hovertemplate\": \"color=\\u062e\\u0641\\u0647 \\u06af\\u06cc (\\u0628\\u0627 \\u0632\\u06cc\\u0631\\u0646\\u0648\\u06cc\\u0633 \\u0645\\u062e\\u0635\\u0648\\u0635 \\u0646\\u0627\\u0634\\u0646\\u0648\\u0627\\u06cc\\u0627\\u0646)<br>Imdb=%{x}<br>Rate=%{y}\", \"legendgroup\": \"color=\\u062e\\u0641\\u0647 \\u06af\\u06cc (\\u0628\\u0627 \\u0632\\u06cc\\u0631\\u0646\\u0648\\u06cc\\u0633 \\u0645\\u062e\\u0635\\u0648\\u0635 \\u0646\\u0627\\u0634\\u0646\\u0648\\u0627\\u06cc\\u0627\\u0646)\", \"marker\": {\"color\": \"#FECB52\", \"symbol\": \"circle\"}, \"mode\": \"markers\", \"name\": \"color=\\u062e\\u0641\\u0647 \\u06af\\u06cc (\\u0628\\u0627 \\u0632\\u06cc\\u0631\\u0646\\u0648\\u06cc\\u0633 \\u0645\\u062e\\u0635\\u0648\\u0635 \\u0646\\u0627\\u0634\\u0646\\u0648\\u0627\\u06cc\\u0627\\u0646)\", \"showlegend\": true, \"type\": \"scatter\", \"x\": [5.4], \"xaxis\": \"x\", \"y\": [173.0], \"yaxis\": \"y\"}, {\"hoverlabel\": {\"namelength\": 0}, \"hovertemplate\": \"color=\\u062e\\u0648\\u0627\\u0628 \\u0627\\u0628\\u062f\\u06cc<br>Imdb=%{x}<br>Rate=%{y}\", \"legendgroup\": \"color=\\u062e\\u0648\\u0627\\u0628 \\u0627\\u0628\\u062f\\u06cc\", \"marker\": {\"color\": \"#636efa\", \"symbol\": \"circle\"}, \"mode\": \"markers\", \"name\": \"color=\\u062e\\u0648\\u0627\\u0628 \\u0627\\u0628\\u062f\\u06cc\", \"showlegend\": true, \"type\": \"scatter\", \"x\": [0.0], \"xaxis\": \"x\", \"y\": [292.0], \"yaxis\": \"y\"}, {\"hoverlabel\": {\"namelength\": 0}, \"hovertemplate\": \"color=\\u062e\\u0648\\u0628\\u060c \\u0628\\u062f\\u060c \\u062c\\u0644\\u0641 2: \\u0627\\u0631\\u062a\\u0634 \\u0633\\u0631\\u06cc (\\u0628\\u0627 \\u0632\\u06cc\\u0631\\u0646\\u0648\\u06cc\\u0633 \\u0645\\u062e\\u0635\\u0648\\u0635 \\u0646\\u0627\\u0634\\u0646\\u0648\\u0627\\u06cc\\u0627\\u0646)<br>Imdb=%{x}<br>Rate=%{y}\", \"legendgroup\": \"color=\\u062e\\u0648\\u0628\\u060c \\u0628\\u062f\\u060c \\u062c\\u0644\\u0641 2: \\u0627\\u0631\\u062a\\u0634 \\u0633\\u0631\\u06cc (\\u0628\\u0627 \\u0632\\u06cc\\u0631\\u0646\\u0648\\u06cc\\u0633 \\u0645\\u062e\\u0635\\u0648\\u0635 \\u0646\\u0627\\u0634\\u0646\\u0648\\u0627\\u06cc\\u0627\\u0646)\", \"marker\": {\"color\": \"#EF553B\", \"symbol\": \"circle\"}, \"mode\": \"markers\", \"name\": \"color=\\u062e\\u0648\\u0628\\u060c \\u0628\\u062f\\u060c \\u062c\\u0644\\u0641 2: \\u0627\\u0631\\u062a\\u0634 \\u0633\\u0631\\u06cc (\\u0628\\u0627 \\u0632\\u06cc\\u0631\\u0646\\u0648\\u06cc\\u0633 \\u0645\\u062e\\u0635\\u0648\\u0635 \\u0646\\u0627\\u0634\\u0646\\u0648\\u0627\\u06cc\\u0627\\u0646)\", \"showlegend\": true, \"type\": \"scatter\", \"x\": [0.0], \"xaxis\": \"x\", \"y\": [1038.0], \"yaxis\": \"y\"}, {\"hoverlabel\": {\"namelength\": 0}, \"hovertemplate\": \"color=\\u062e\\u0648\\u062f\\u06a9\\u0627\\u0631<br>Imdb=%{x}<br>Rate=%{y}\", \"legendgroup\": \"color=\\u062e\\u0648\\u062f\\u06a9\\u0627\\u0631\", \"marker\": {\"color\": \"#00cc96\", \"symbol\": \"circle\"}, \"mode\": \"markers\", \"name\": \"color=\\u062e\\u0648\\u062f\\u06a9\\u0627\\u0631\", \"showlegend\": true, \"type\": \"scatter\", \"x\": [0.0], \"xaxis\": \"x\", \"y\": [440.0], \"yaxis\": \"y\"}, {\"hoverlabel\": {\"namelength\": 0}, \"hovertemplate\": \"color=\\u062e\\u0648\\u0631\\u0634\\u06cc\\u062f<br>Imdb=%{x}<br>Rate=%{y}\", \"legendgroup\": \"color=\\u062e\\u0648\\u0631\\u0634\\u06cc\\u062f\", \"marker\": {\"color\": \"#ab63fa\", \"symbol\": \"circle\"}, \"mode\": \"markers\", \"name\": \"color=\\u062e\\u0648\\u0631\\u0634\\u06cc\\u062f\", \"showlegend\": true, \"type\": \"scatter\", \"x\": [7.2], \"xaxis\": \"x\", \"y\": [43888.0], \"yaxis\": \"y\"}, {\"hoverlabel\": {\"namelength\": 0}, \"hovertemplate\": \"color=\\u062e\\u0648\\u0631\\u0634\\u06cc\\u062f \\u0647\\u0631 \\u0631\\u0648\\u0632 \\u0627\\u0632 \\u0642\\u0631\\u0642\\u06cc \\u0637\\u0644\\u0648\\u0639 \\u0645\\u06cc \\u06a9\\u0646\\u062f<br>Imdb=%{x}<br>Rate=%{y}\", \"legendgroup\": \"color=\\u062e\\u0648\\u0631\\u0634\\u06cc\\u062f \\u0647\\u0631 \\u0631\\u0648\\u0632 \\u0627\\u0632 \\u0642\\u0631\\u0642\\u06cc \\u0637\\u0644\\u0648\\u0639 \\u0645\\u06cc \\u06a9\\u0646\\u062f\", \"marker\": {\"color\": \"#FFA15A\", \"symbol\": \"circle\"}, \"mode\": \"markers\", \"name\": \"color=\\u062e\\u0648\\u0631\\u0634\\u06cc\\u062f \\u0647\\u0631 \\u0631\\u0648\\u0632 \\u0627\\u0632 \\u0642\\u0631\\u0642\\u06cc \\u0637\\u0644\\u0648\\u0639 \\u0645\\u06cc \\u06a9\\u0646\\u062f\", \"showlegend\": true, \"type\": \"scatter\", \"x\": [0.0], \"xaxis\": \"x\", \"y\": [12.0], \"yaxis\": \"y\"}, {\"hoverlabel\": {\"namelength\": 0}, \"hovertemplate\": \"color=\\u062e\\u0648\\u0646 \\u0628\\u0627\\u0632\\u06cc<br>Imdb=%{x}<br>Rate=%{y}\", \"legendgroup\": \"color=\\u062e\\u0648\\u0646 \\u0628\\u0627\\u0632\\u06cc\", \"marker\": {\"color\": \"#19d3f3\", \"symbol\": \"circle\"}, \"mode\": \"markers\", \"name\": \"color=\\u062e\\u0648\\u0646 \\u0628\\u0627\\u0632\\u06cc\", \"showlegend\": true, \"type\": \"scatter\", \"x\": [6.6], \"xaxis\": \"x\", \"y\": [1176.0], \"yaxis\": \"y\"}, {\"hoverlabel\": {\"namelength\": 0}, \"hovertemplate\": \"color=\\u062e\\u0648\\u0646 \\u0634\\u062f<br>Imdb=%{x}<br>Rate=%{y}\", \"legendgroup\": \"color=\\u062e\\u0648\\u0646 \\u0634\\u062f\", \"marker\": {\"color\": \"#FF6692\", \"symbol\": \"circle\"}, \"mode\": \"markers\", \"name\": \"color=\\u062e\\u0648\\u0646 \\u0634\\u062f\", \"showlegend\": true, \"type\": \"scatter\", \"x\": [4.2], \"xaxis\": \"x\", \"y\": [7911.0], \"yaxis\": \"y\"}, {\"hoverlabel\": {\"namelength\": 0}, \"hovertemplate\": \"color=\\u062e\\u0648\\u0646 \\u0645\\u0631\\u062f\\u06af\\u06cc<br>Imdb=%{x}<br>Rate=%{y}\", \"legendgroup\": \"color=\\u062e\\u0648\\u0646 \\u0645\\u0631\\u062f\\u06af\\u06cc\", \"marker\": {\"color\": \"#B6E880\", \"symbol\": \"circle\"}, \"mode\": \"markers\", \"name\": \"color=\\u062e\\u0648\\u0646 \\u0645\\u0631\\u062f\\u06af\\u06cc\", \"showlegend\": true, \"type\": \"scatter\", \"x\": [0.0], \"xaxis\": \"x\", \"y\": [4795.0], \"yaxis\": \"y\"}, {\"hoverlabel\": {\"namelength\": 0}, \"hovertemplate\": \"color=\\u062e\\u0648\\u0646 \\u0648 \\u0646\\u0641\\u062a<br>Imdb=%{x}<br>Rate=%{y}\", \"legendgroup\": \"color=\\u062e\\u0648\\u0646 \\u0648 \\u0646\\u0641\\u062a\", \"marker\": {\"color\": \"#FF97FF\", \"symbol\": \"circle\"}, \"mode\": \"markers\", \"name\": \"color=\\u062e\\u0648\\u0646 \\u0648 \\u0646\\u0641\\u062a\", \"showlegend\": true, \"type\": \"scatter\", \"x\": [0.0], \"xaxis\": \"x\", \"y\": [167.0], \"yaxis\": \"y\"}, {\"hoverlabel\": {\"namelength\": 0}, \"hovertemplate\": \"color=\\u062f\\u0627\\u0631\\u0627\\u0644\\u0645\\u062c\\u0627\\u0646\\u06cc\\u0646<br>Imdb=%{x}<br>Rate=%{y}\", \"legendgroup\": \"color=\\u062f\\u0627\\u0631\\u0627\\u0644\\u0645\\u062c\\u0627\\u0646\\u06cc\\u0646\", \"marker\": {\"color\": \"#FECB52\", \"symbol\": \"circle\"}, \"mode\": \"markers\", \"name\": \"color=\\u062f\\u0627\\u0631\\u0627\\u0644\\u0645\\u062c\\u0627\\u0646\\u06cc\\u0646\", \"showlegend\": true, \"type\": \"scatter\", \"x\": [0.0], \"xaxis\": \"x\", \"y\": [21.0], \"yaxis\": \"y\"}, {\"hoverlabel\": {\"namelength\": 0}, \"hovertemplate\": \"color=\\u062f\\u0627\\u0631\\u06a9\\u0648\\u0628<br>Imdb=%{x}<br>Rate=%{y}\", \"legendgroup\": \"color=\\u062f\\u0627\\u0631\\u06a9\\u0648\\u0628\", \"marker\": {\"color\": \"#636efa\", \"symbol\": \"circle\"}, \"mode\": \"markers\", \"name\": \"color=\\u062f\\u0627\\u0631\\u06a9\\u0648\\u0628\", \"showlegend\": true, \"type\": \"scatter\", \"x\": [5.7], \"xaxis\": \"x\", \"y\": [19849.0], \"yaxis\": \"y\"}, {\"hoverlabel\": {\"namelength\": 0}, \"hovertemplate\": \"color=\\u062f\\u0627\\u0633\\u062a\\u0627\\u0646 \\u06cc\\u06a9 \\u0642\\u0635\\u0647 \\u06af\\u0648<br>Imdb=%{x}<br>Rate=%{y}\", \"legendgroup\": \"color=\\u062f\\u0627\\u0633\\u062a\\u0627\\u0646 \\u06cc\\u06a9 \\u0642\\u0635\\u0647 \\u06af\\u0648\", \"marker\": {\"color\": \"#EF553B\", \"symbol\": \"circle\"}, \"mode\": \"markers\", \"name\": \"color=\\u062f\\u0627\\u0633\\u062a\\u0627\\u0646 \\u06cc\\u06a9 \\u0642\\u0635\\u0647 \\u06af\\u0648\", \"showlegend\": true, \"type\": \"scatter\", \"x\": [0.0], \"xaxis\": \"x\", \"y\": [34.0], \"yaxis\": \"y\"}, {\"hoverlabel\": {\"namelength\": 0}, \"hovertemplate\": \"color=\\u062f\\u0627\\u0634 \\u0622\\u06a9\\u0644<br>Imdb=%{x}<br>Rate=%{y}\", \"legendgroup\": \"color=\\u062f\\u0627\\u0634 \\u0622\\u06a9\\u0644\", \"marker\": {\"color\": \"#00cc96\", \"symbol\": \"circle\"}, \"mode\": \"markers\", \"name\": \"color=\\u062f\\u0627\\u0634 \\u0622\\u06a9\\u0644\", \"showlegend\": true, \"type\": \"scatter\", \"x\": [4.2], \"xaxis\": \"x\", \"y\": [6022.0], \"yaxis\": \"y\"}, {\"hoverlabel\": {\"namelength\": 0}, \"hovertemplate\": \"color=\\u062f\\u0627\\u0634\\u062a\\u0646 \\u06cc\\u0627 \\u0646\\u062f\\u0627\\u0634\\u062a\\u0646<br>Imdb=%{x}<br>Rate=%{y}\", \"legendgroup\": \"color=\\u062f\\u0627\\u0634\\u062a\\u0646 \\u06cc\\u0627 \\u0646\\u062f\\u0627\\u0634\\u062a\\u0646\", \"marker\": {\"color\": \"#ab63fa\", \"symbol\": \"circle\"}, \"mode\": \"markers\", \"name\": \"color=\\u062f\\u0627\\u0634\\u062a\\u0646 \\u06cc\\u0627 \\u0646\\u062f\\u0627\\u0634\\u062a\\u0646\", \"showlegend\": true, \"type\": \"scatter\", \"x\": [0.0], \"xaxis\": \"x\", \"y\": [1000.0], \"yaxis\": \"y\"}, {\"hoverlabel\": {\"namelength\": 0}, \"hovertemplate\": \"color=\\u062f\\u0627\\u0645\\u0627\\u062f\\u06cc \\u0628\\u0647 \\u0646\\u0627\\u0645 \\u0635\\u0641\\u0631<br>Imdb=%{x}<br>Rate=%{y}\", \"legendgroup\": \"color=\\u062f\\u0627\\u0645\\u0627\\u062f\\u06cc \\u0628\\u0647 \\u0646\\u0627\\u0645 \\u0635\\u0641\\u0631\", \"marker\": {\"color\": \"#FFA15A\", \"symbol\": \"circle\"}, \"mode\": \"markers\", \"name\": \"color=\\u062f\\u0627\\u0645\\u0627\\u062f\\u06cc \\u0628\\u0647 \\u0646\\u0627\\u0645 \\u0635\\u0641\\u0631\", \"showlegend\": true, \"type\": \"scatter\", \"x\": [0.0], \"xaxis\": \"x\", \"y\": [440.0], \"yaxis\": \"y\"}, {\"hoverlabel\": {\"namelength\": 0}, \"hovertemplate\": \"color=\\u062f\\u0627\\u06cc\\u0627\\u0646<br>Imdb=%{x}<br>Rate=%{y}\", \"legendgroup\": \"color=\\u062f\\u0627\\u06cc\\u0627\\u0646\", \"marker\": {\"color\": \"#19d3f3\", \"symbol\": \"circle\"}, \"mode\": \"markers\", \"name\": \"color=\\u062f\\u0627\\u06cc\\u0627\\u0646\", \"showlegend\": true, \"type\": \"scatter\", \"x\": [0.0], \"xaxis\": \"x\", \"y\": [769.0], \"yaxis\": \"y\"}, {\"hoverlabel\": {\"namelength\": 0}, \"hovertemplate\": \"color=\\u062f\\u062e\\u062a\\u0631 \\u0627\\u0644\\u0647\\u0627\\u0645<br>Imdb=%{x}<br>Rate=%{y}\", \"legendgroup\": \"color=\\u062f\\u062e\\u062a\\u0631 \\u0627\\u0644\\u0647\\u0627\\u0645\", \"marker\": {\"color\": \"#FF6692\", \"symbol\": \"circle\"}, \"mode\": \"markers\", \"name\": \"color=\\u062f\\u062e\\u062a\\u0631 \\u0627\\u0644\\u0647\\u0627\\u0645\", \"showlegend\": true, \"type\": \"scatter\", \"x\": [0.0], \"xaxis\": \"x\", \"y\": [2086.0], \"yaxis\": \"y\"}, {\"hoverlabel\": {\"namelength\": 0}, \"hovertemplate\": \"color=\\u062f\\u0631 \\u0627\\u0645\\u062a\\u062f\\u0627\\u062f \\u0633\\u0631\\u0632\\u0645\\u06cc\\u0646 \\u06a9\\u0647\\u0646<br>Imdb=%{x}<br>Rate=%{y}\", \"legendgroup\": \"color=\\u062f\\u0631 \\u0627\\u0645\\u062a\\u062f\\u0627\\u062f \\u0633\\u0631\\u0632\\u0645\\u06cc\\u0646 \\u06a9\\u0647\\u0646\", \"marker\": {\"color\": \"#B6E880\", \"symbol\": \"circle\"}, \"mode\": \"markers\", \"name\": \"color=\\u062f\\u0631 \\u0627\\u0645\\u062a\\u062f\\u0627\\u062f \\u0633\\u0631\\u0632\\u0645\\u06cc\\u0646 \\u06a9\\u0647\\u0646\", \"showlegend\": true, \"type\": \"scatter\", \"x\": [0.0], \"xaxis\": \"x\", \"y\": [15.0], \"yaxis\": \"y\"}, {\"hoverlabel\": {\"namelength\": 0}, \"hovertemplate\": \"color=\\u062f\\u0631 \\u0627\\u0646\\u062a\\u0638\\u0627\\u0631 \\u0622\\u062f\\u0648\\u0644\\u0641<br>Imdb=%{x}<br>Rate=%{y}\", \"legendgroup\": \"color=\\u062f\\u0631 \\u0627\\u0646\\u062a\\u0638\\u0627\\u0631 \\u0622\\u062f\\u0648\\u0644\\u0641\", \"marker\": {\"color\": \"#FF97FF\", \"symbol\": \"circle\"}, \"mode\": \"markers\", \"name\": \"color=\\u062f\\u0631 \\u0627\\u0646\\u062a\\u0638\\u0627\\u0631 \\u0622\\u062f\\u0648\\u0644\\u0641\", \"showlegend\": true, \"type\": \"scatter\", \"x\": [0.0], \"xaxis\": \"x\", \"y\": [1224.0], \"yaxis\": \"y\"}, {\"hoverlabel\": {\"namelength\": 0}, \"hovertemplate\": \"color=\\u062f\\u0631 \\u0627\\u0646\\u062a\\u0638\\u0627\\u0631 \\u0634\\u06cc\\u0637\\u0627\\u0646<br>Imdb=%{x}<br>Rate=%{y}\", \"legendgroup\": \"color=\\u062f\\u0631 \\u0627\\u0646\\u062a\\u0638\\u0627\\u0631 \\u0634\\u06cc\\u0637\\u0627\\u0646\", \"marker\": {\"color\": \"#FECB52\", \"symbol\": \"circle\"}, \"mode\": \"markers\", \"name\": \"color=\\u062f\\u0631 \\u0627\\u0646\\u062a\\u0638\\u0627\\u0631 \\u0634\\u06cc\\u0637\\u0627\\u0646\", \"showlegend\": true, \"type\": \"scatter\", \"x\": [0.0], \"xaxis\": \"x\", \"y\": [33.0], \"yaxis\": \"y\"}, {\"hoverlabel\": {\"namelength\": 0}, \"hovertemplate\": \"color=\\u062f\\u0631 \\u062c\\u0633\\u062a\\u062c\\u0648\\u06cc \\u062a\\u0627\\u0631\\u06cc\\u062e \\u06af\\u0645\\u0634\\u062f\\u0647<br>Imdb=%{x}<br>Rate=%{y}\", \"legendgroup\": \"color=\\u062f\\u0631 \\u062c\\u0633\\u062a\\u062c\\u0648\\u06cc \\u062a\\u0627\\u0631\\u06cc\\u062e \\u06af\\u0645\\u0634\\u062f\\u0647\", \"marker\": {\"color\": \"#636efa\", \"symbol\": \"circle\"}, \"mode\": \"markers\", \"name\": \"color=\\u062f\\u0631 \\u062c\\u0633\\u062a\\u062c\\u0648\\u06cc \\u062a\\u0627\\u0631\\u06cc\\u062e \\u06af\\u0645\\u0634\\u062f\\u0647\", \"showlegend\": true, \"type\": \"scatter\", \"x\": [0.0], \"xaxis\": \"x\", \"y\": [32.0], \"yaxis\": \"y\"}, {\"hoverlabel\": {\"namelength\": 0}, \"hovertemplate\": \"color=\\u062f\\u0631 \\u062f\\u0646\\u06cc\\u0627\\u06cc \\u062a\\u0648 \\u0633\\u0627\\u0639\\u062a \\u0686\\u0646\\u062f \\u0627\\u0633\\u062a (\\u0628\\u0627 \\u0632\\u06cc\\u0631\\u0646\\u0648\\u06cc\\u0633 \\u0645\\u062e\\u0635\\u0648\\u0635 \\u0646\\u0627\\u0634\\u0646\\u0648\\u0627\\u06cc\\u0627\\u0646)<br>Imdb=%{x}<br>Rate=%{y}\", \"legendgroup\": \"color=\\u062f\\u0631 \\u062f\\u0646\\u06cc\\u0627\\u06cc \\u062a\\u0648 \\u0633\\u0627\\u0639\\u062a \\u0686\\u0646\\u062f \\u0627\\u0633\\u062a (\\u0628\\u0627 \\u0632\\u06cc\\u0631\\u0646\\u0648\\u06cc\\u0633 \\u0645\\u062e\\u0635\\u0648\\u0635 \\u0646\\u0627\\u0634\\u0646\\u0648\\u0627\\u06cc\\u0627\\u0646)\", \"marker\": {\"color\": \"#EF553B\", \"symbol\": \"circle\"}, \"mode\": \"markers\", \"name\": \"color=\\u062f\\u0631 \\u062f\\u0646\\u06cc\\u0627\\u06cc \\u062a\\u0648 \\u0633\\u0627\\u0639\\u062a \\u0686\\u0646\\u062f \\u0627\\u0633\\u062a (\\u0628\\u0627 \\u0632\\u06cc\\u0631\\u0646\\u0648\\u06cc\\u0633 \\u0645\\u062e\\u0635\\u0648\\u0635 \\u0646\\u0627\\u0634\\u0646\\u0648\\u0627\\u06cc\\u0627\\u0646)\", \"showlegend\": true, \"type\": \"scatter\", \"x\": [7.1], \"xaxis\": \"x\", \"y\": [399.0], \"yaxis\": \"y\"}, {\"hoverlabel\": {\"namelength\": 0}, \"hovertemplate\": \"color=\\u062f\\u0631 \\u0633\\u06a9\\u0648\\u062a<br>Imdb=%{x}<br>Rate=%{y}\", \"legendgroup\": \"color=\\u062f\\u0631 \\u0633\\u06a9\\u0648\\u062a\", \"marker\": {\"color\": \"#00cc96\", \"symbol\": \"circle\"}, \"mode\": \"markers\", \"name\": \"color=\\u062f\\u0631 \\u0633\\u06a9\\u0648\\u062a\", \"showlegend\": true, \"type\": \"scatter\", \"x\": [5.3], \"xaxis\": \"x\", \"y\": [13210.0], \"yaxis\": \"y\"}, {\"hoverlabel\": {\"namelength\": 0}, \"hovertemplate\": \"color=\\u062f\\u0631 \\u0648\\u062c\\u0647 \\u062d\\u0627\\u0645\\u0644<br>Imdb=%{x}<br>Rate=%{y}\", \"legendgroup\": \"color=\\u062f\\u0631 \\u0648\\u062c\\u0647 \\u062d\\u0627\\u0645\\u0644\", \"marker\": {\"color\": \"#ab63fa\", \"symbol\": \"circle\"}, \"mode\": \"markers\", \"name\": \"color=\\u062f\\u0631 \\u0648\\u062c\\u0647 \\u062d\\u0627\\u0645\\u0644\", \"showlegend\": true, \"type\": \"scatter\", \"x\": [5.3], \"xaxis\": \"x\", \"y\": [8006.0], \"yaxis\": \"y\"}, {\"hoverlabel\": {\"namelength\": 0}, \"hovertemplate\": \"color=\\u062f\\u0631\\u0628\\u0627\\u0631\\u0647 \\u0622\\u0645\\u0646\\u0647 : \\u06af\\u0632\\u0627\\u0631\\u0634 \\u06cc\\u06a9 \\u0627\\u0633\\u06cc\\u062f\\u067e\\u0627\\u0634\\u06cc<br>Imdb=%{x}<br>Rate=%{y}\", \"legendgroup\": \"color=\\u062f\\u0631\\u0628\\u0627\\u0631\\u0647 \\u0622\\u0645\\u0646\\u0647 : \\u06af\\u0632\\u0627\\u0631\\u0634 \\u06cc\\u06a9 \\u0627\\u0633\\u06cc\\u062f\\u067e\\u0627\\u0634\\u06cc\", \"marker\": {\"color\": \"#FFA15A\", \"symbol\": \"circle\"}, \"mode\": \"markers\", \"name\": \"color=\\u062f\\u0631\\u0628\\u0627\\u0631\\u0647 \\u0622\\u0645\\u0646\\u0647 : \\u06af\\u0632\\u0627\\u0631\\u0634 \\u06cc\\u06a9 \\u0627\\u0633\\u06cc\\u062f\\u067e\\u0627\\u0634\\u06cc\", \"showlegend\": true, \"type\": \"scatter\", \"x\": [0.0], \"xaxis\": \"x\", \"y\": [79.0], \"yaxis\": \"y\"}, {\"hoverlabel\": {\"namelength\": 0}, \"hovertemplate\": \"color=\\u062f\\u0631\\u0628\\u0627\\u0631\\u0647 \\u0627\\u0644\\u06cc (\\u0628\\u0627 \\u0632\\u06cc\\u0631\\u0646\\u0648\\u06cc\\u0633 \\u0645\\u062e\\u0635\\u0648\\u0635 \\u0646\\u0627\\u0634\\u0646\\u0648\\u0627\\u06cc\\u0627\\u0646)<br>Imdb=%{x}<br>Rate=%{y}\", \"legendgroup\": \"color=\\u062f\\u0631\\u0628\\u0627\\u0631\\u0647 \\u0627\\u0644\\u06cc (\\u0628\\u0627 \\u0632\\u06cc\\u0631\\u0646\\u0648\\u06cc\\u0633 \\u0645\\u062e\\u0635\\u0648\\u0635 \\u0646\\u0627\\u0634\\u0646\\u0648\\u0627\\u06cc\\u0627\\u0646)\", \"marker\": {\"color\": \"#19d3f3\", \"symbol\": \"circle\"}, \"mode\": \"markers\", \"name\": \"color=\\u062f\\u0631\\u0628\\u0627\\u0631\\u0647 \\u0627\\u0644\\u06cc (\\u0628\\u0627 \\u0632\\u06cc\\u0631\\u0646\\u0648\\u06cc\\u0633 \\u0645\\u062e\\u0635\\u0648\\u0635 \\u0646\\u0627\\u0634\\u0646\\u0648\\u0627\\u06cc\\u0627\\u0646)\", \"showlegend\": true, \"type\": \"scatter\", \"x\": [8.0], \"xaxis\": \"x\", \"y\": [234.0], \"yaxis\": \"y\"}, {\"hoverlabel\": {\"namelength\": 0}, \"hovertemplate\": \"color=\\u062f\\u0631\\u062e\\u0648\\u0646\\u06af\\u0627\\u0647 (\\u0628\\u0627 \\u0632\\u06cc\\u0631\\u0646\\u0648\\u06cc\\u0633 \\u0645\\u062e\\u0635\\u0648\\u0635 \\u0646\\u0627\\u0634\\u0646\\u0648\\u0627\\u06cc\\u0627\\u0646)<br>Imdb=%{x}<br>Rate=%{y}\", \"legendgroup\": \"color=\\u062f\\u0631\\u062e\\u0648\\u0646\\u06af\\u0627\\u0647 (\\u0628\\u0627 \\u0632\\u06cc\\u0631\\u0646\\u0648\\u06cc\\u0633 \\u0645\\u062e\\u0635\\u0648\\u0635 \\u0646\\u0627\\u0634\\u0646\\u0648\\u0627\\u06cc\\u0627\\u0646)\", \"marker\": {\"color\": \"#FF6692\", \"symbol\": \"circle\"}, \"mode\": \"markers\", \"name\": \"color=\\u062f\\u0631\\u062e\\u0648\\u0646\\u06af\\u0627\\u0647 (\\u0628\\u0627 \\u0632\\u06cc\\u0631\\u0646\\u0648\\u06cc\\u0633 \\u0645\\u062e\\u0635\\u0648\\u0635 \\u0646\\u0627\\u0634\\u0646\\u0648\\u0627\\u06cc\\u0627\\u0646)\", \"showlegend\": true, \"type\": \"scatter\", \"x\": [5.8], \"xaxis\": \"x\", \"y\": [645.0], \"yaxis\": \"y\"}, {\"hoverlabel\": {\"namelength\": 0}, \"hovertemplate\": \"color=\\u062f\\u0631\\u0633\\u0627\\u0698 (\\u0628\\u0627 \\u0632\\u06cc\\u0631\\u0646\\u0648\\u06cc\\u0633 \\u0645\\u062e\\u0635\\u0648\\u0635 \\u0646\\u0627\\u0634\\u0646\\u0648\\u0627\\u06cc\\u0627\\u0646)<br>Imdb=%{x}<br>Rate=%{y}\", \"legendgroup\": \"color=\\u062f\\u0631\\u0633\\u0627\\u0698 (\\u0628\\u0627 \\u0632\\u06cc\\u0631\\u0646\\u0648\\u06cc\\u0633 \\u0645\\u062e\\u0635\\u0648\\u0635 \\u0646\\u0627\\u0634\\u0646\\u0648\\u0627\\u06cc\\u0627\\u0646)\", \"marker\": {\"color\": \"#B6E880\", \"symbol\": \"circle\"}, \"mode\": \"markers\", \"name\": \"color=\\u062f\\u0631\\u0633\\u0627\\u0698 (\\u0628\\u0627 \\u0632\\u06cc\\u0631\\u0646\\u0648\\u06cc\\u0633 \\u0645\\u062e\\u0635\\u0648\\u0635 \\u0646\\u0627\\u0634\\u0646\\u0648\\u0627\\u06cc\\u0627\\u0646)\", \"showlegend\": true, \"type\": \"scatter\", \"x\": [5.6], \"xaxis\": \"x\", \"y\": [76.0], \"yaxis\": \"y\"}, {\"hoverlabel\": {\"namelength\": 0}, \"hovertemplate\": \"color=\\u062f\\u0631\\u0647 \\u0627\\u0631\\u063a\\u0648\\u0627\\u0646<br>Imdb=%{x}<br>Rate=%{y}\", \"legendgroup\": \"color=\\u062f\\u0631\\u0647 \\u0627\\u0631\\u063a\\u0648\\u0627\\u0646\", \"marker\": {\"color\": \"#FF97FF\", \"symbol\": \"circle\"}, \"mode\": \"markers\", \"name\": \"color=\\u062f\\u0631\\u0647 \\u0627\\u0631\\u063a\\u0648\\u0627\\u0646\", \"showlegend\": true, \"type\": \"scatter\", \"x\": [0.0], \"xaxis\": \"x\", \"y\": [4.0], \"yaxis\": \"y\"}, {\"hoverlabel\": {\"namelength\": 0}, \"hovertemplate\": \"color=\\u062f\\u0631\\u06cc\\u0627 \\u0645\\u0648\\u062c \\u06a9\\u0627\\u06a9\\u0627<br>Imdb=%{x}<br>Rate=%{y}\", \"legendgroup\": \"color=\\u062f\\u0631\\u06cc\\u0627 \\u0645\\u0648\\u062c \\u06a9\\u0627\\u06a9\\u0627\", \"marker\": {\"color\": \"#FECB52\", \"symbol\": \"circle\"}, \"mode\": \"markers\", \"name\": \"color=\\u062f\\u0631\\u06cc\\u0627 \\u0645\\u0648\\u062c \\u06a9\\u0627\\u06a9\\u0627\", \"showlegend\": true, \"type\": \"scatter\", \"x\": [0.0], \"xaxis\": \"x\", \"y\": [7691.0], \"yaxis\": \"y\"}, {\"hoverlabel\": {\"namelength\": 0}, \"hovertemplate\": \"color=\\u062f\\u0633\\u062a\\u0645\\u0627\\u0644 \\u0633\\u0631\\u062e\\u0647\\u0627<br>Imdb=%{x}<br>Rate=%{y}\", \"legendgroup\": \"color=\\u062f\\u0633\\u062a\\u0645\\u0627\\u0644 \\u0633\\u0631\\u062e\\u0647\\u0627\", \"marker\": {\"color\": \"#636efa\", \"symbol\": \"circle\"}, \"mode\": \"markers\", \"name\": \"color=\\u062f\\u0633\\u062a\\u0645\\u0627\\u0644 \\u0633\\u0631\\u062e\\u0647\\u0627\", \"showlegend\": true, \"type\": \"scatter\", \"x\": [0.0], \"xaxis\": \"x\", \"y\": [35.0], \"yaxis\": \"y\"}, {\"hoverlabel\": {\"namelength\": 0}, \"hovertemplate\": \"color=\\u062f\\u0639\\u0648\\u062a - \\u0642\\u0635\\u0647 \\u0631\\u06cc\\u062d\\u0627\\u0646\\u0647<br>Imdb=%{x}<br>Rate=%{y}\", \"legendgroup\": \"color=\\u062f\\u0639\\u0648\\u062a - \\u0642\\u0635\\u0647 \\u0631\\u06cc\\u062d\\u0627\\u0646\\u0647\", \"marker\": {\"color\": \"#EF553B\", \"symbol\": \"circle\"}, \"mode\": \"markers\", \"name\": \"color=\\u062f\\u0639\\u0648\\u062a - \\u0642\\u0635\\u0647 \\u0631\\u06cc\\u062d\\u0627\\u0646\\u0647\", \"showlegend\": true, \"type\": \"scatter\", \"x\": [5.2], \"xaxis\": \"x\", \"y\": [5312.0], \"yaxis\": \"y\"}, {\"hoverlabel\": {\"namelength\": 0}, \"hovertemplate\": \"color=\\u062f\\u0644 \\u0647\\u0627\\u06cc \\u0634\\u06cc\\u0634\\u0647 \\u0627\\u06cc<br>Imdb=%{x}<br>Rate=%{y}\", \"legendgroup\": \"color=\\u062f\\u0644 \\u0647\\u0627\\u06cc \\u0634\\u06cc\\u0634\\u0647 \\u0627\\u06cc\", \"marker\": {\"color\": \"#00cc96\", \"symbol\": \"circle\"}, \"mode\": \"markers\", \"name\": \"color=\\u062f\\u0644 \\u0647\\u0627\\u06cc \\u0634\\u06cc\\u0634\\u0647 \\u0627\\u06cc\", \"showlegend\": true, \"type\": \"scatter\", \"x\": [0.0], \"xaxis\": \"x\", \"y\": [70.0], \"yaxis\": \"y\"}, {\"hoverlabel\": {\"namelength\": 0}, \"hovertemplate\": \"color=\\u062f\\u0644\\u062f\\u0627\\u062f\\u0647<br>Imdb=%{x}<br>Rate=%{y}\", \"legendgroup\": \"color=\\u062f\\u0644\\u062f\\u0627\\u062f\\u0647\", \"marker\": {\"color\": \"#ab63fa\", \"symbol\": \"circle\"}, \"mode\": \"markers\", \"name\": \"color=\\u062f\\u0644\\u062f\\u0627\\u062f\\u0647\", \"showlegend\": true, \"type\": \"scatter\", \"x\": [3.9], \"xaxis\": \"x\", \"y\": [4339.0], \"yaxis\": \"y\"}, {\"hoverlabel\": {\"namelength\": 0}, \"hovertemplate\": \"color=\\u062f\\u0644\\u0634\\u0648\\u0631\\u0647<br>Imdb=%{x}<br>Rate=%{y}\", \"legendgroup\": \"color=\\u062f\\u0644\\u0634\\u0648\\u0631\\u0647\", \"marker\": {\"color\": \"#FFA15A\", \"symbol\": \"circle\"}, \"mode\": \"markers\", \"name\": \"color=\\u062f\\u0644\\u0634\\u0648\\u0631\\u0647\", \"showlegend\": true, \"type\": \"scatter\", \"x\": [0.0], \"xaxis\": \"x\", \"y\": [81.0], \"yaxis\": \"y\"}, {\"hoverlabel\": {\"namelength\": 0}, \"hovertemplate\": \"color=\\u062f\\u0645 \\u0633\\u0631\\u062e \\u0647\\u0627<br>Imdb=%{x}<br>Rate=%{y}\", \"legendgroup\": \"color=\\u062f\\u0645 \\u0633\\u0631\\u062e \\u0647\\u0627\", \"marker\": {\"color\": \"#19d3f3\", \"symbol\": \"circle\"}, \"mode\": \"markers\", \"name\": \"color=\\u062f\\u0645 \\u0633\\u0631\\u062e \\u0647\\u0627\", \"showlegend\": true, \"type\": \"scatter\", \"x\": [3.8], \"xaxis\": \"x\", \"y\": [9155.0], \"yaxis\": \"y\"}, {\"hoverlabel\": {\"namelength\": 0}, \"hovertemplate\": \"color=\\u062f\\u0647\\u0644<br>Imdb=%{x}<br>Rate=%{y}\", \"legendgroup\": \"color=\\u062f\\u0647\\u0644\", \"marker\": {\"color\": \"#FF6692\", \"symbol\": \"circle\"}, \"mode\": \"markers\", \"name\": \"color=\\u062f\\u0647\\u0644\", \"showlegend\": true, \"type\": \"scatter\", \"x\": [0.0], \"xaxis\": \"x\", \"y\": [34.0], \"yaxis\": \"y\"}, {\"hoverlabel\": {\"namelength\": 0}, \"hovertemplate\": \"color=\\u062f\\u0648 \\u0628\\u0631\\u0627\\u062f\\u0631<br>Imdb=%{x}<br>Rate=%{y}\", \"legendgroup\": \"color=\\u062f\\u0648 \\u0628\\u0631\\u0627\\u062f\\u0631\", \"marker\": {\"color\": \"#B6E880\", \"symbol\": \"circle\"}, \"mode\": \"markers\", \"name\": \"color=\\u062f\\u0648 \\u0628\\u0631\\u0627\\u062f\\u0631\", \"showlegend\": true, \"type\": \"scatter\", \"x\": [0.0], \"xaxis\": \"x\", \"y\": [827.0], \"yaxis\": \"y\"}, {\"hoverlabel\": {\"namelength\": 0}, \"hovertemplate\": \"color=\\u062f\\u0648 \\u0628\\u0631\\u0627\\u062f\\u0631 \\u062f\\u0648 \\u0632\\u0646<br>Imdb=%{x}<br>Rate=%{y}\", \"legendgroup\": \"color=\\u062f\\u0648 \\u0628\\u0631\\u0627\\u062f\\u0631 \\u062f\\u0648 \\u0632\\u0646\", \"marker\": {\"color\": \"#FF97FF\", \"symbol\": \"circle\"}, \"mode\": \"markers\", \"name\": \"color=\\u062f\\u0648 \\u0628\\u0631\\u0627\\u062f\\u0631 \\u062f\\u0648 \\u0632\\u0646\", \"showlegend\": true, \"type\": \"scatter\", \"x\": [5.7], \"xaxis\": \"x\", \"y\": [260.0], \"yaxis\": \"y\"}, {\"hoverlabel\": {\"namelength\": 0}, \"hovertemplate\": \"color=\\u062f\\u0648 \\u0631\\u0648\\u06cc \\u0633\\u06a9\\u0647 - \\u067e\\u0634\\u062a \\u0635\\u062d\\u0646\\u0647<br>Imdb=%{x}<br>Rate=%{y}\", \"legendgroup\": \"color=\\u062f\\u0648 \\u0631\\u0648\\u06cc \\u0633\\u06a9\\u0647 - \\u067e\\u0634\\u062a \\u0635\\u062d\\u0646\\u0647\", \"marker\": {\"color\": \"#FECB52\", \"symbol\": \"circle\"}, \"mode\": \"markers\", \"name\": \"color=\\u062f\\u0648 \\u0631\\u0648\\u06cc \\u0633\\u06a9\\u0647 - \\u067e\\u0634\\u062a \\u0635\\u062d\\u0646\\u0647\", \"showlegend\": true, \"type\": \"scatter\", \"x\": [3.4], \"xaxis\": \"x\", \"y\": [7.0], \"yaxis\": \"y\"}, {\"hoverlabel\": {\"namelength\": 0}, \"hovertemplate\": \"color=\\u062f\\u0648 \\u0633\\u0631\\u0646\\u0648\\u0634\\u062a<br>Imdb=%{x}<br>Rate=%{y}\", \"legendgroup\": \"color=\\u062f\\u0648 \\u0633\\u0631\\u0646\\u0648\\u0634\\u062a\", \"marker\": {\"color\": \"#636efa\", \"symbol\": \"circle\"}, \"mode\": \"markers\", \"name\": \"color=\\u062f\\u0648 \\u0633\\u0631\\u0646\\u0648\\u0634\\u062a\", \"showlegend\": true, \"type\": \"scatter\", \"x\": [0.0], \"xaxis\": \"x\", \"y\": [95.0], \"yaxis\": \"y\"}, {\"hoverlabel\": {\"namelength\": 0}, \"hovertemplate\": \"color=\\u062f\\u0648\\u0626\\u062a<br>Imdb=%{x}<br>Rate=%{y}\", \"legendgroup\": \"color=\\u062f\\u0648\\u0626\\u062a\", \"marker\": {\"color\": \"#EF553B\", \"symbol\": \"circle\"}, \"mode\": \"markers\", \"name\": \"color=\\u062f\\u0648\\u0626\\u062a\", \"showlegend\": true, \"type\": \"scatter\", \"x\": [7.1], \"xaxis\": \"x\", \"y\": [22473.0], \"yaxis\": \"y\"}, {\"hoverlabel\": {\"namelength\": 0}, \"hovertemplate\": \"color=\\u062f\\u0648\\u0631 \\u062e\\u062f\\u0627 \\u0628\\u0686\\u0631\\u062e<br>Imdb=%{x}<br>Rate=%{y}\", \"legendgroup\": \"color=\\u062f\\u0648\\u0631 \\u062e\\u062f\\u0627 \\u0628\\u0686\\u0631\\u062e\", \"marker\": {\"color\": \"#00cc96\", \"symbol\": \"circle\"}, \"mode\": \"markers\", \"name\": \"color=\\u062f\\u0648\\u0631 \\u062e\\u062f\\u0627 \\u0628\\u0686\\u0631\\u062e\", \"showlegend\": true, \"type\": \"scatter\", \"x\": [0.0], \"xaxis\": \"x\", \"y\": [64.0], \"yaxis\": \"y\"}, {\"hoverlabel\": {\"namelength\": 0}, \"hovertemplate\": \"color=\\u062f\\u0648\\u0631\\u0628\\u06cc\\u0646 \\u0646\\u0647 \\u0686\\u0646\\u062f\\u0627\\u0646 \\u0645\\u062e\\u0641\\u06cc<br>Imdb=%{x}<br>Rate=%{y}\", \"legendgroup\": \"color=\\u062f\\u0648\\u0631\\u0628\\u06cc\\u0646 \\u0646\\u0647 \\u0686\\u0646\\u062f\\u0627\\u0646 \\u0645\\u062e\\u0641\\u06cc\", \"marker\": {\"color\": \"#ab63fa\", \"symbol\": \"circle\"}, \"mode\": \"markers\", \"name\": \"color=\\u062f\\u0648\\u0631\\u0628\\u06cc\\u0646 \\u0646\\u0647 \\u0686\\u0646\\u062f\\u0627\\u0646 \\u0645\\u062e\\u0641\\u06cc\", \"showlegend\": true, \"type\": \"scatter\", \"x\": [5.7], \"xaxis\": \"x\", \"y\": [91.0], \"yaxis\": \"y\"}, {\"hoverlabel\": {\"namelength\": 0}, \"hovertemplate\": \"color=\\u062f\\u0648\\u0633\\u062a \\u0642\\u062f\\u06cc\\u0645\\u06cc<br>Imdb=%{x}<br>Rate=%{y}\", \"legendgroup\": \"color=\\u062f\\u0648\\u0633\\u062a \\u0642\\u062f\\u06cc\\u0645\\u06cc\", \"marker\": {\"color\": \"#FFA15A\", \"symbol\": \"circle\"}, \"mode\": \"markers\", \"name\": \"color=\\u062f\\u0648\\u0633\\u062a \\u0642\\u062f\\u06cc\\u0645\\u06cc\", \"showlegend\": true, \"type\": \"scatter\", \"x\": [0.0], \"xaxis\": \"x\", \"y\": [26.0], \"yaxis\": \"y\"}, {\"hoverlabel\": {\"namelength\": 0}, \"hovertemplate\": \"color=\\u062f\\u0648\\u0648\\u0641<br>Imdb=%{x}<br>Rate=%{y}\", \"legendgroup\": \"color=\\u062f\\u0648\\u0648\\u0641\", \"marker\": {\"color\": \"#19d3f3\", \"symbol\": \"circle\"}, \"mode\": \"markers\", \"name\": \"color=\\u062f\\u0648\\u0648\\u0641\", \"showlegend\": true, \"type\": \"scatter\", \"x\": [0.0], \"xaxis\": \"x\", \"y\": [74.0], \"yaxis\": \"y\"}, {\"hoverlabel\": {\"namelength\": 0}, \"hovertemplate\": \"color=\\u062f\\u06cc\\u062f\\u0646 \\u0627\\u06cc\\u0646 \\u0641\\u06cc\\u0644\\u0645 \\u062c\\u0631\\u0645 \\u0627\\u0633\\u062a<br>Imdb=%{x}<br>Rate=%{y}\", \"legendgroup\": \"color=\\u062f\\u06cc\\u062f\\u0646 \\u0627\\u06cc\\u0646 \\u0641\\u06cc\\u0644\\u0645 \\u062c\\u0631\\u0645 \\u0627\\u0633\\u062a\", \"marker\": {\"color\": \"#FF6692\", \"symbol\": \"circle\"}, \"mode\": \"markers\", \"name\": \"color=\\u062f\\u06cc\\u062f\\u0646 \\u0627\\u06cc\\u0646 \\u0641\\u06cc\\u0644\\u0645 \\u062c\\u0631\\u0645 \\u0627\\u0633\\u062a\", \"showlegend\": true, \"type\": \"scatter\", \"x\": [0.0], \"xaxis\": \"x\", \"y\": [52538.0], \"yaxis\": \"y\"}, {\"hoverlabel\": {\"namelength\": 0}, \"hovertemplate\": \"color=\\u062f\\u06cc\\u0648\\u0627\\u0646\\u06af\\u06cc<br>Imdb=%{x}<br>Rate=%{y}\", \"legendgroup\": \"color=\\u062f\\u06cc\\u0648\\u0627\\u0646\\u06af\\u06cc\", \"marker\": {\"color\": \"#B6E880\", \"symbol\": \"circle\"}, \"mode\": \"markers\", \"name\": \"color=\\u062f\\u06cc\\u0648\\u0627\\u0646\\u06af\\u06cc\", \"showlegend\": true, \"type\": \"scatter\", \"x\": [0.0], \"xaxis\": \"x\", \"y\": [507.0], \"yaxis\": \"y\"}, {\"hoverlabel\": {\"namelength\": 0}, \"hovertemplate\": \"color=\\u0631\\u0627\\u0632 \\u062e\\u0627\\u0646\\u0647 \\u0628\\u0647\\u062c\\u062a<br>Imdb=%{x}<br>Rate=%{y}\", \"legendgroup\": \"color=\\u0631\\u0627\\u0632 \\u062e\\u0627\\u0646\\u0647 \\u0628\\u0647\\u062c\\u062a\", \"marker\": {\"color\": \"#FF97FF\", \"symbol\": \"circle\"}, \"mode\": \"markers\", \"name\": \"color=\\u0631\\u0627\\u0632 \\u062e\\u0627\\u0646\\u0647 \\u0628\\u0647\\u062c\\u062a\", \"showlegend\": true, \"type\": \"scatter\", \"x\": [0.0], \"xaxis\": \"x\", \"y\": [1656.0], \"yaxis\": \"y\"}, {\"hoverlabel\": {\"namelength\": 0}, \"hovertemplate\": \"color=\\u0631\\u0627\\u0647 \\u0631\\u0641\\u062a\\u0646 \\u0631\\u0648\\u06cc \\u0633\\u06cc\\u0645<br>Imdb=%{x}<br>Rate=%{y}\", \"legendgroup\": \"color=\\u0631\\u0627\\u0647 \\u0631\\u0641\\u062a\\u0646 \\u0631\\u0648\\u06cc \\u0633\\u06cc\\u0645\", \"marker\": {\"color\": \"#FECB52\", \"symbol\": \"circle\"}, \"mode\": \"markers\", \"name\": \"color=\\u0631\\u0627\\u0647 \\u0631\\u0641\\u062a\\u0646 \\u0631\\u0648\\u06cc \\u0633\\u06cc\\u0645\", \"showlegend\": true, \"type\": \"scatter\", \"x\": [4.5], \"xaxis\": \"x\", \"y\": [2157.0], \"yaxis\": \"y\"}, {\"hoverlabel\": {\"namelength\": 0}, \"hovertemplate\": \"color=\\u0631\\u062c\\u0628 \\u0622\\u0631\\u062a\\u06cc\\u0633\\u062a \\u0645\\u06cc \\u0634\\u0648\\u062f<br>Imdb=%{x}<br>Rate=%{y}\", \"legendgroup\": \"color=\\u0631\\u062c\\u0628 \\u0622\\u0631\\u062a\\u06cc\\u0633\\u062a \\u0645\\u06cc \\u0634\\u0648\\u062f\", \"marker\": {\"color\": \"#636efa\", \"symbol\": \"circle\"}, \"mode\": \"markers\", \"name\": \"color=\\u0631\\u062c\\u0628 \\u0622\\u0631\\u062a\\u06cc\\u0633\\u062a \\u0645\\u06cc \\u0634\\u0648\\u062f\", \"showlegend\": true, \"type\": \"scatter\", \"x\": [0.0], \"xaxis\": \"x\", \"y\": [1132.0], \"yaxis\": \"y\"}, {\"hoverlabel\": {\"namelength\": 0}, \"hovertemplate\": \"color=\\u0631\\u0636\\u0627<br>Imdb=%{x}<br>Rate=%{y}\", \"legendgroup\": \"color=\\u0631\\u0636\\u0627\", \"marker\": {\"color\": \"#EF553B\", \"symbol\": \"circle\"}, \"mode\": \"markers\", \"name\": \"color=\\u0631\\u0636\\u0627\", \"showlegend\": true, \"type\": \"scatter\", \"x\": [5.4], \"xaxis\": \"x\", \"y\": [15672.0], \"yaxis\": \"y\"}, {\"hoverlabel\": {\"namelength\": 0}, \"hovertemplate\": \"color=\\u0631\\u0642\\u0635 \\u0628\\u0627 \\u062f\\u0648\\u0631\\u0628\\u06cc\\u0646<br>Imdb=%{x}<br>Rate=%{y}\", \"legendgroup\": \"color=\\u0631\\u0642\\u0635 \\u0628\\u0627 \\u062f\\u0648\\u0631\\u0628\\u06cc\\u0646\", \"marker\": {\"color\": \"#00cc96\", \"symbol\": \"circle\"}, \"mode\": \"markers\", \"name\": \"color=\\u0631\\u0642\\u0635 \\u0628\\u0627 \\u062f\\u0648\\u0631\\u0628\\u06cc\\u0646\", \"showlegend\": true, \"type\": \"scatter\", \"x\": [0.0], \"xaxis\": \"x\", \"y\": [39.0], \"yaxis\": \"y\"}, {\"hoverlabel\": {\"namelength\": 0}, \"hovertemplate\": \"color=\\u0631\\u0648\\u0627\\u06cc\\u062a \\u0647\\u0627\\u06cc \\u0646\\u0627\\u062a\\u0645\\u0627\\u0645<br>Imdb=%{x}<br>Rate=%{y}\", \"legendgroup\": \"color=\\u0631\\u0648\\u0627\\u06cc\\u062a \\u0647\\u0627\\u06cc \\u0646\\u0627\\u062a\\u0645\\u0627\\u0645\", \"marker\": {\"color\": \"#ab63fa\", \"symbol\": \"circle\"}, \"mode\": \"markers\", \"name\": \"color=\\u0631\\u0648\\u0627\\u06cc\\u062a \\u0647\\u0627\\u06cc \\u0646\\u0627\\u062a\\u0645\\u0627\\u0645\", \"showlegend\": true, \"type\": \"scatter\", \"x\": [0.0], \"xaxis\": \"x\", \"y\": [308.0], \"yaxis\": \"y\"}, {\"hoverlabel\": {\"namelength\": 0}, \"hovertemplate\": \"color=\\u0631\\u0648\\u0632 \\u0627\\u0632 \\u0646\\u0648<br>Imdb=%{x}<br>Rate=%{y}\", \"legendgroup\": \"color=\\u0631\\u0648\\u0632 \\u0627\\u0632 \\u0646\\u0648\", \"marker\": {\"color\": \"#FFA15A\", \"symbol\": \"circle\"}, \"mode\": \"markers\", \"name\": \"color=\\u0631\\u0648\\u0632 \\u0627\\u0632 \\u0646\\u0648\", \"showlegend\": true, \"type\": \"scatter\", \"x\": [0.0], \"xaxis\": \"x\", \"y\": [284.0], \"yaxis\": \"y\"}, {\"hoverlabel\": {\"namelength\": 0}, \"hovertemplate\": \"color=\\u0631\\u0648\\u0632 \\u0686\\u0647\\u0644\\u0645<br>Imdb=%{x}<br>Rate=%{y}\", \"legendgroup\": \"color=\\u0631\\u0648\\u0632 \\u0686\\u0647\\u0644\\u0645\", \"marker\": {\"color\": \"#19d3f3\", \"symbol\": \"circle\"}, \"mode\": \"markers\", \"name\": \"color=\\u0631\\u0648\\u0632 \\u0686\\u0647\\u0644\\u0645\", \"showlegend\": true, \"type\": \"scatter\", \"x\": [0.0], \"xaxis\": \"x\", \"y\": [91.0], \"yaxis\": \"y\"}, {\"hoverlabel\": {\"namelength\": 0}, \"hovertemplate\": \"color=\\u0631\\u0648\\u0632 \\u06a9\\u0627\\u0631\\u0646\\u0627\\u0645\\u0647<br>Imdb=%{x}<br>Rate=%{y}\", \"legendgroup\": \"color=\\u0631\\u0648\\u0632 \\u06a9\\u0627\\u0631\\u0646\\u0627\\u0645\\u0647\", \"marker\": {\"color\": \"#FF6692\", \"symbol\": \"circle\"}, \"mode\": \"markers\", \"name\": \"color=\\u0631\\u0648\\u0632 \\u06a9\\u0627\\u0631\\u0646\\u0627\\u0645\\u0647\", \"showlegend\": true, \"type\": \"scatter\", \"x\": [0.0], \"xaxis\": \"x\", \"y\": [106.0], \"yaxis\": \"y\"}, {\"hoverlabel\": {\"namelength\": 0}, \"hovertemplate\": \"color=\\u0631\\u0648\\u0632\\u0647\\u0627\\u06cc \\u0646\\u0627\\u0631\\u0646\\u062c\\u06cc<br>Imdb=%{x}<br>Rate=%{y}\", \"legendgroup\": \"color=\\u0631\\u0648\\u0632\\u0647\\u0627\\u06cc \\u0646\\u0627\\u0631\\u0646\\u062c\\u06cc\", \"marker\": {\"color\": \"#B6E880\", \"symbol\": \"circle\"}, \"mode\": \"markers\", \"name\": \"color=\\u0631\\u0648\\u0632\\u0647\\u0627\\u06cc \\u0646\\u0627\\u0631\\u0646\\u062c\\u06cc\", \"showlegend\": true, \"type\": \"scatter\", \"x\": [5.9], \"xaxis\": \"x\", \"y\": [19116.0], \"yaxis\": \"y\"}, {\"hoverlabel\": {\"namelength\": 0}, \"hovertemplate\": \"color=\\u0631\\u0648\\u0632\\u06af\\u0627\\u0631 \\u063a\\u0627\\u0631<br>Imdb=%{x}<br>Rate=%{y}\", \"legendgroup\": \"color=\\u0631\\u0648\\u0632\\u06af\\u0627\\u0631 \\u063a\\u0627\\u0631\", \"marker\": {\"color\": \"#FF97FF\", \"symbol\": \"circle\"}, \"mode\": \"markers\", \"name\": \"color=\\u0631\\u0648\\u0632\\u06af\\u0627\\u0631 \\u063a\\u0627\\u0631\", \"showlegend\": true, \"type\": \"scatter\", \"x\": [0.0], \"xaxis\": \"x\", \"y\": [109.0], \"yaxis\": \"y\"}, {\"hoverlabel\": {\"namelength\": 0}, \"hovertemplate\": \"color=\\u0631\\u0648\\u0633\\u06cc (\\u0628\\u0627 \\u0632\\u06cc\\u0631\\u0646\\u0648\\u06cc\\u0633 \\u0645\\u062e\\u0635\\u0648\\u0635 \\u0646\\u0627\\u0634\\u0646\\u0648\\u0627\\u06cc\\u0627\\u0646)<br>Imdb=%{x}<br>Rate=%{y}\", \"legendgroup\": \"color=\\u0631\\u0648\\u0633\\u06cc (\\u0628\\u0627 \\u0632\\u06cc\\u0631\\u0646\\u0648\\u06cc\\u0633 \\u0645\\u062e\\u0635\\u0648\\u0635 \\u0646\\u0627\\u0634\\u0646\\u0648\\u0627\\u06cc\\u0627\\u0646)\", \"marker\": {\"color\": \"#FECB52\", \"symbol\": \"circle\"}, \"mode\": \"markers\", \"name\": \"color=\\u0631\\u0648\\u0633\\u06cc (\\u0628\\u0627 \\u0632\\u06cc\\u0631\\u0646\\u0648\\u06cc\\u0633 \\u0645\\u062e\\u0635\\u0648\\u0635 \\u0646\\u0627\\u0634\\u0646\\u0648\\u0627\\u06cc\\u0627\\u0646)\", \"showlegend\": true, \"type\": \"scatter\", \"x\": [3.2], \"xaxis\": \"x\", \"y\": [285.0], \"yaxis\": \"y\"}, {\"hoverlabel\": {\"namelength\": 0}, \"hovertemplate\": \"color=\\u0631\\u0648\\u06cc\\u0627<br>Imdb=%{x}<br>Rate=%{y}\", \"legendgroup\": \"color=\\u0631\\u0648\\u06cc\\u0627\", \"marker\": {\"color\": \"#636efa\", \"symbol\": \"circle\"}, \"mode\": \"markers\", \"name\": \"color=\\u0631\\u0648\\u06cc\\u0627\", \"showlegend\": true, \"type\": \"scatter\", \"x\": [0.0], \"xaxis\": \"x\", \"y\": [117.0], \"yaxis\": \"y\"}, {\"hoverlabel\": {\"namelength\": 0}, \"hovertemplate\": \"color=\\u0631\\u06a9\\u0639\\u062a\\u0627\\u0646 \\u0641\\u0631\\u0627\\u0644\\u0639\\u0634\\u0642<br>Imdb=%{x}<br>Rate=%{y}\", \"legendgroup\": \"color=\\u0631\\u06a9\\u0639\\u062a\\u0627\\u0646 \\u0641\\u0631\\u0627\\u0644\\u0639\\u0634\\u0642\", \"marker\": {\"color\": \"#EF553B\", \"symbol\": \"circle\"}, \"mode\": \"markers\", \"name\": \"color=\\u0631\\u06a9\\u0639\\u062a\\u0627\\u0646 \\u0641\\u0631\\u0627\\u0644\\u0639\\u0634\\u0642\", \"showlegend\": true, \"type\": \"scatter\", \"x\": [0.0], \"xaxis\": \"x\", \"y\": [19.0], \"yaxis\": \"y\"}, {\"hoverlabel\": {\"namelength\": 0}, \"hovertemplate\": \"color=\\u0632\\u062e\\u0645 \\u06a9\\u0627\\u0631\\u06cc<br>Imdb=%{x}<br>Rate=%{y}\", \"legendgroup\": \"color=\\u0632\\u062e\\u0645 \\u06a9\\u0627\\u0631\\u06cc\", \"marker\": {\"color\": \"#00cc96\", \"symbol\": \"circle\"}, \"mode\": \"markers\", \"name\": \"color=\\u0632\\u062e\\u0645 \\u06a9\\u0627\\u0631\\u06cc\", \"showlegend\": true, \"type\": \"scatter\", \"x\": [0.0], \"xaxis\": \"x\", \"y\": [3190.0], \"yaxis\": \"y\"}, {\"hoverlabel\": {\"namelength\": 0}, \"hovertemplate\": \"color=\\u0632\\u062e\\u0645\\u06cc - \\u067e\\u0634\\u062a \\u0635\\u062d\\u0646\\u0647<br>Imdb=%{x}<br>Rate=%{y}\", \"legendgroup\": \"color=\\u0632\\u062e\\u0645\\u06cc - \\u067e\\u0634\\u062a \\u0635\\u062d\\u0646\\u0647\", \"marker\": {\"color\": \"#ab63fa\", \"symbol\": \"circle\"}, \"mode\": \"markers\", \"name\": \"color=\\u0632\\u062e\\u0645\\u06cc - \\u067e\\u0634\\u062a \\u0635\\u062d\\u0646\\u0647\", \"showlegend\": true, \"type\": \"scatter\", \"x\": [4.3], \"xaxis\": \"x\", \"y\": [24.0], \"yaxis\": \"y\"}, {\"hoverlabel\": {\"namelength\": 0}, \"hovertemplate\": \"color=\\u0632\\u0645\\u0627\\u0646 \\u062d\\u0633\\u06cc\\u0646<br>Imdb=%{x}<br>Rate=%{y}\", \"legendgroup\": \"color=\\u0632\\u0645\\u0627\\u0646 \\u062d\\u0633\\u06cc\\u0646\", \"marker\": {\"color\": \"#FFA15A\", \"symbol\": \"circle\"}, \"mode\": \"markers\", \"name\": \"color=\\u0632\\u0645\\u0627\\u0646 \\u062d\\u0633\\u06cc\\u0646\", \"showlegend\": true, \"type\": \"scatter\", \"x\": [0.0], \"xaxis\": \"x\", \"y\": [301.0], \"yaxis\": \"y\"}, {\"hoverlabel\": {\"namelength\": 0}, \"hovertemplate\": \"color=\\u0632\\u0645\\u0627\\u0646\\u06cc \\u0628\\u0631\\u0627\\u06cc \\u062f\\u06cc\\u062f\\u0646<br>Imdb=%{x}<br>Rate=%{y}\", \"legendgroup\": \"color=\\u0632\\u0645\\u0627\\u0646\\u06cc \\u0628\\u0631\\u0627\\u06cc \\u062f\\u06cc\\u062f\\u0646\", \"marker\": {\"color\": \"#19d3f3\", \"symbol\": \"circle\"}, \"mode\": \"markers\", \"name\": \"color=\\u0632\\u0645\\u0627\\u0646\\u06cc \\u0628\\u0631\\u0627\\u06cc \\u062f\\u06cc\\u062f\\u0646\", \"showlegend\": true, \"type\": \"scatter\", \"x\": [0.0], \"xaxis\": \"x\", \"y\": [150.0], \"yaxis\": \"y\"}, {\"hoverlabel\": {\"namelength\": 0}, \"hovertemplate\": \"color=\\u0632\\u0645\\u06cc\\u0646 \\u0645\\u06cc\\u0644\\u0631\\u0632\\u062f<br>Imdb=%{x}<br>Rate=%{y}\", \"legendgroup\": \"color=\\u0632\\u0645\\u06cc\\u0646 \\u0645\\u06cc\\u0644\\u0631\\u0632\\u062f\", \"marker\": {\"color\": \"#FF6692\", \"symbol\": \"circle\"}, \"mode\": \"markers\", \"name\": \"color=\\u0632\\u0645\\u06cc\\u0646 \\u0645\\u06cc\\u0644\\u0631\\u0632\\u062f\", \"showlegend\": true, \"type\": \"scatter\", \"x\": [0.0], \"xaxis\": \"x\", \"y\": [34.0], \"yaxis\": \"y\"}, {\"hoverlabel\": {\"namelength\": 0}, \"hovertemplate\": \"color=\\u0632\\u0646 \\u0647\\u0627 \\u0641\\u0631\\u0634\\u062a\\u0647 \\u0627\\u0646\\u062f 2<br>Imdb=%{x}<br>Rate=%{y}\", \"legendgroup\": \"color=\\u0632\\u0646 \\u0647\\u0627 \\u0641\\u0631\\u0634\\u062a\\u0647 \\u0627\\u0646\\u062f 2\", \"marker\": {\"color\": \"#B6E880\", \"symbol\": \"circle\"}, \"mode\": \"markers\", \"name\": \"color=\\u0632\\u0646 \\u0647\\u0627 \\u0641\\u0631\\u0634\\u062a\\u0647 \\u0627\\u0646\\u062f 2\", \"showlegend\": true, \"type\": \"scatter\", \"x\": [2.7], \"xaxis\": \"x\", \"y\": [67253.0], \"yaxis\": \"y\"}, {\"hoverlabel\": {\"namelength\": 0}, \"hovertemplate\": \"color=\\u0632\\u0646 \\u0647\\u0627 \\u0641\\u0631\\u0634\\u062a\\u0647 \\u0627\\u0646\\u062f 2 - \\u067e\\u0634\\u062a \\u0635\\u062d\\u0646\\u0647<br>Imdb=%{x}<br>Rate=%{y}\", \"legendgroup\": \"color=\\u0632\\u0646 \\u0647\\u0627 \\u0641\\u0631\\u0634\\u062a\\u0647 \\u0627\\u0646\\u062f 2 - \\u067e\\u0634\\u062a \\u0635\\u062d\\u0646\\u0647\", \"marker\": {\"color\": \"#FF97FF\", \"symbol\": \"circle\"}, \"mode\": \"markers\", \"name\": \"color=\\u0632\\u0646 \\u0647\\u0627 \\u0641\\u0631\\u0634\\u062a\\u0647 \\u0627\\u0646\\u062f 2 - \\u067e\\u0634\\u062a \\u0635\\u062d\\u0646\\u0647\", \"showlegend\": true, \"type\": \"scatter\", \"x\": [0.0], \"xaxis\": \"x\", \"y\": [2685.0], \"yaxis\": \"y\"}, {\"hoverlabel\": {\"namelength\": 0}, \"hovertemplate\": \"color=\\u0632\\u0646\\u062f\\u06af\\u06cc \\u0622\\u0646\\u062c\\u0627\\u0633\\u062a<br>Imdb=%{x}<br>Rate=%{y}\", \"legendgroup\": \"color=\\u0632\\u0646\\u062f\\u06af\\u06cc \\u0622\\u0646\\u062c\\u0627\\u0633\\u062a\", \"marker\": {\"color\": \"#FECB52\", \"symbol\": \"circle\"}, \"mode\": \"markers\", \"name\": \"color=\\u0632\\u0646\\u062f\\u06af\\u06cc \\u0622\\u0646\\u062c\\u0627\\u0633\\u062a\", \"showlegend\": true, \"type\": \"scatter\", \"x\": [0.0], \"xaxis\": \"x\", \"y\": [102.0], \"yaxis\": \"y\"}, {\"hoverlabel\": {\"namelength\": 0}, \"hovertemplate\": \"color=\\u0632\\u0646\\u062f\\u06af\\u06cc\\u0646\\u0627\\u0645\\u0647 \\u0645\\u0633\\u062a\\u0646\\u062f \\u0641\\u0627\\u0636\\u0644 \\u0627\\u062c\\u0628\\u0648\\u0631\\u06cc<br>Imdb=%{x}<br>Rate=%{y}\", \"legendgroup\": \"color=\\u0632\\u0646\\u062f\\u06af\\u06cc\\u0646\\u0627\\u0645\\u0647 \\u0645\\u0633\\u062a\\u0646\\u062f \\u0641\\u0627\\u0636\\u0644 \\u0627\\u062c\\u0628\\u0648\\u0631\\u06cc\", \"marker\": {\"color\": \"#636efa\", \"symbol\": \"circle\"}, \"mode\": \"markers\", \"name\": \"color=\\u0632\\u0646\\u062f\\u06af\\u06cc\\u0646\\u0627\\u0645\\u0647 \\u0645\\u0633\\u062a\\u0646\\u062f \\u0641\\u0627\\u0636\\u0644 \\u0627\\u062c\\u0628\\u0648\\u0631\\u06cc\", \"showlegend\": true, \"type\": \"scatter\", \"x\": [0.0], \"xaxis\": \"x\", \"y\": [76.0], \"yaxis\": \"y\"}, {\"hoverlabel\": {\"namelength\": 0}, \"hovertemplate\": \"color=\\u0632\\u06cc\\u0631 \\u0646\\u0648\\u0631 \\u06a9\\u0645<br>Imdb=%{x}<br>Rate=%{y}\", \"legendgroup\": \"color=\\u0632\\u06cc\\u0631 \\u0646\\u0648\\u0631 \\u06a9\\u0645\", \"marker\": {\"color\": \"#EF553B\", \"symbol\": \"circle\"}, \"mode\": \"markers\", \"name\": \"color=\\u0632\\u06cc\\u0631 \\u0646\\u0648\\u0631 \\u06a9\\u0645\", \"showlegend\": true, \"type\": \"scatter\", \"x\": [0.0], \"xaxis\": \"x\", \"y\": [7459.0], \"yaxis\": \"y\"}, {\"hoverlabel\": {\"namelength\": 0}, \"hovertemplate\": \"color=\\u0632\\u06cc\\u0631\\u0646\\u0638\\u0631 (\\u0628\\u0627 \\u0632\\u06cc\\u0631\\u0646\\u0648\\u06cc\\u0633 \\u0645\\u062e\\u0635\\u0648\\u0635 \\u0646\\u0627\\u0634\\u0646\\u0648\\u0627\\u06cc\\u0627\\u0646)<br>Imdb=%{x}<br>Rate=%{y}\", \"legendgroup\": \"color=\\u0632\\u06cc\\u0631\\u0646\\u0638\\u0631 (\\u0628\\u0627 \\u0632\\u06cc\\u0631\\u0646\\u0648\\u06cc\\u0633 \\u0645\\u062e\\u0635\\u0648\\u0635 \\u0646\\u0627\\u0634\\u0646\\u0648\\u0627\\u06cc\\u0627\\u0646)\", \"marker\": {\"color\": \"#00cc96\", \"symbol\": \"circle\"}, \"mode\": \"markers\", \"name\": \"color=\\u0632\\u06cc\\u0631\\u0646\\u0638\\u0631 (\\u0628\\u0627 \\u0632\\u06cc\\u0631\\u0646\\u0648\\u06cc\\u0633 \\u0645\\u062e\\u0635\\u0648\\u0635 \\u0646\\u0627\\u0634\\u0646\\u0648\\u0627\\u06cc\\u0627\\u0646)\", \"showlegend\": true, \"type\": \"scatter\", \"x\": [4.9], \"xaxis\": \"x\", \"y\": [407.0], \"yaxis\": \"y\"}, {\"hoverlabel\": {\"namelength\": 0}, \"hovertemplate\": \"color=\\u0633\\u0627\\u0632\\u0647\\u0627\\u06cc \\u0646\\u0627\\u06a9\\u0648\\u06a9<br>Imdb=%{x}<br>Rate=%{y}\", \"legendgroup\": \"color=\\u0633\\u0627\\u0632\\u0647\\u0627\\u06cc \\u0646\\u0627\\u06a9\\u0648\\u06a9\", \"marker\": {\"color\": \"#ab63fa\", \"symbol\": \"circle\"}, \"mode\": \"markers\", \"name\": \"color=\\u0633\\u0627\\u0632\\u0647\\u0627\\u06cc \\u0646\\u0627\\u06a9\\u0648\\u06a9\", \"showlegend\": true, \"type\": \"scatter\", \"x\": [0.0], \"xaxis\": \"x\", \"y\": [7130.0], \"yaxis\": \"y\"}, {\"hoverlabel\": {\"namelength\": 0}, \"hovertemplate\": \"color=\\u0633\\u0627\\u0639\\u062a \\u0633\\u0648\\u062e\\u062a\\u0647<br>Imdb=%{x}<br>Rate=%{y}\", \"legendgroup\": \"color=\\u0633\\u0627\\u0639\\u062a \\u0633\\u0648\\u062e\\u062a\\u0647\", \"marker\": {\"color\": \"#FFA15A\", \"symbol\": \"circle\"}, \"mode\": \"markers\", \"name\": \"color=\\u0633\\u0627\\u0639\\u062a \\u0633\\u0648\\u062e\\u062a\\u0647\", \"showlegend\": true, \"type\": \"scatter\", \"x\": [0.0], \"xaxis\": \"x\", \"y\": [49.0], \"yaxis\": \"y\"}, {\"hoverlabel\": {\"namelength\": 0}, \"hovertemplate\": \"color=\\u0633\\u0627\\u0639\\u062a \\u0634\\u0644\\u0648\\u063a\\u06cc<br>Imdb=%{x}<br>Rate=%{y}\", \"legendgroup\": \"color=\\u0633\\u0627\\u0639\\u062a \\u0634\\u0644\\u0648\\u063a\\u06cc\", \"marker\": {\"color\": \"#19d3f3\", \"symbol\": \"circle\"}, \"mode\": \"markers\", \"name\": \"color=\\u0633\\u0627\\u0639\\u062a \\u0634\\u0644\\u0648\\u063a\\u06cc\", \"showlegend\": true, \"type\": \"scatter\", \"x\": [0.0], \"xaxis\": \"x\", \"y\": [832.0], \"yaxis\": \"y\"}, {\"hoverlabel\": {\"namelength\": 0}, \"hovertemplate\": \"color=\\u0633\\u0627\\u0639\\u062a \\u06f2\\u06f5<br>Imdb=%{x}<br>Rate=%{y}\", \"legendgroup\": \"color=\\u0633\\u0627\\u0639\\u062a \\u06f2\\u06f5\", \"marker\": {\"color\": \"#FF6692\", \"symbol\": \"circle\"}, \"mode\": \"markers\", \"name\": \"color=\\u0633\\u0627\\u0639\\u062a \\u06f2\\u06f5\", \"showlegend\": true, \"type\": \"scatter\", \"x\": [0.0], \"xaxis\": \"x\", \"y\": [291.0], \"yaxis\": \"y\"}, {\"hoverlabel\": {\"namelength\": 0}, \"hovertemplate\": \"color=\\u0633\\u0627\\u0645\\u0648\\u0631\\u0627\\u06cc\\u06cc \\u062f\\u0631 \\u0628\\u0631\\u0644\\u06cc\\u0646 (\\u0628\\u0627 \\u0632\\u06cc\\u0631\\u0646\\u0648\\u06cc\\u0633 \\u0645\\u062e\\u0635\\u0648\\u0635 \\u0646\\u0627\\u0634\\u0646\\u0648\\u0627\\u06cc\\u0627\\u0646)<br>Imdb=%{x}<br>Rate=%{y}\", \"legendgroup\": \"color=\\u0633\\u0627\\u0645\\u0648\\u0631\\u0627\\u06cc\\u06cc \\u062f\\u0631 \\u0628\\u0631\\u0644\\u06cc\\u0646 (\\u0628\\u0627 \\u0632\\u06cc\\u0631\\u0646\\u0648\\u06cc\\u0633 \\u0645\\u062e\\u0635\\u0648\\u0635 \\u0646\\u0627\\u0634\\u0646\\u0648\\u0627\\u06cc\\u0627\\u0646)\", \"marker\": {\"color\": \"#B6E880\", \"symbol\": \"circle\"}, \"mode\": \"markers\", \"name\": \"color=\\u0633\\u0627\\u0645\\u0648\\u0631\\u0627\\u06cc\\u06cc \\u062f\\u0631 \\u0628\\u0631\\u0644\\u06cc\\u0646 (\\u0628\\u0627 \\u0632\\u06cc\\u0631\\u0646\\u0648\\u06cc\\u0633 \\u0645\\u062e\\u0635\\u0648\\u0635 \\u0646\\u0627\\u0634\\u0646\\u0648\\u0627\\u06cc\\u0627\\u0646)\", \"showlegend\": true, \"type\": \"scatter\", \"x\": [0.0], \"xaxis\": \"x\", \"y\": [120.0], \"yaxis\": \"y\"}, {\"hoverlabel\": {\"namelength\": 0}, \"hovertemplate\": \"color=\\u0633\\u0627\\u06cc\\u0647 \\u0627\\u0631\\u063a\\u0648\\u0627\\u0646<br>Imdb=%{x}<br>Rate=%{y}\", \"legendgroup\": \"color=\\u0633\\u0627\\u06cc\\u0647 \\u0627\\u0631\\u063a\\u0648\\u0627\\u0646\", \"marker\": {\"color\": \"#FF97FF\", \"symbol\": \"circle\"}, \"mode\": \"markers\", \"name\": \"color=\\u0633\\u0627\\u06cc\\u0647 \\u0627\\u0631\\u063a\\u0648\\u0627\\u0646\", \"showlegend\": true, \"type\": \"scatter\", \"x\": [0.0], \"xaxis\": \"x\", \"y\": [383.0], \"yaxis\": \"y\"}, {\"hoverlabel\": {\"namelength\": 0}, \"hovertemplate\": \"color=\\u0633\\u0627\\u06cc\\u0647 \\u0647\\u0627\\u06cc \\u0631\\u0648\\u0634\\u0646<br>Imdb=%{x}<br>Rate=%{y}\", \"legendgroup\": \"color=\\u0633\\u0627\\u06cc\\u0647 \\u0647\\u0627\\u06cc \\u0631\\u0648\\u0634\\u0646\", \"marker\": {\"color\": \"#FECB52\", \"symbol\": \"circle\"}, \"mode\": \"markers\", \"name\": \"color=\\u0633\\u0627\\u06cc\\u0647 \\u0647\\u0627\\u06cc \\u0631\\u0648\\u0634\\u0646\", \"showlegend\": true, \"type\": \"scatter\", \"x\": [0.0], \"xaxis\": \"x\", \"y\": [7.0], \"yaxis\": \"y\"}, {\"hoverlabel\": {\"namelength\": 0}, \"hovertemplate\": \"color=\\u0633\\u062c\\u0627\\u062f\\u0647 \\u0622\\u062a\\u0634<br>Imdb=%{x}<br>Rate=%{y}\", \"legendgroup\": \"color=\\u0633\\u062c\\u0627\\u062f\\u0647 \\u0622\\u062a\\u0634\", \"marker\": {\"color\": \"#636efa\", \"symbol\": \"circle\"}, \"mode\": \"markers\", \"name\": \"color=\\u0633\\u062c\\u0627\\u062f\\u0647 \\u0622\\u062a\\u0634\", \"showlegend\": true, \"type\": \"scatter\", \"x\": [0.0], \"xaxis\": \"x\", \"y\": [729.0], \"yaxis\": \"y\"}, {\"hoverlabel\": {\"namelength\": 0}, \"hovertemplate\": \"color=\\u0633\\u062f \\u062f\\u0631 \\u0633\\u062f<br>Imdb=%{x}<br>Rate=%{y}\", \"legendgroup\": \"color=\\u0633\\u062f \\u062f\\u0631 \\u0633\\u062f\", \"marker\": {\"color\": \"#EF553B\", \"symbol\": \"circle\"}, \"mode\": \"markers\", \"name\": \"color=\\u0633\\u062f \\u062f\\u0631 \\u0633\\u062f\", \"showlegend\": true, \"type\": \"scatter\", \"x\": [0.0], \"xaxis\": \"x\", \"y\": [164.0], \"yaxis\": \"y\"}, {\"hoverlabel\": {\"namelength\": 0}, \"hovertemplate\": \"color=\\u0633\\u0631\\u0622\\u0634\\u067e\\u0632 \\u067e\\u06cc\\u0634\\u0646\\u0647\\u0627\\u062f \\u0645\\u06cc \\u06a9\\u0646\\u062f<br>Imdb=%{x}<br>Rate=%{y}\", \"legendgroup\": \"color=\\u0633\\u0631\\u0622\\u0634\\u067e\\u0632 \\u067e\\u06cc\\u0634\\u0646\\u0647\\u0627\\u062f \\u0645\\u06cc \\u06a9\\u0646\\u062f\", \"marker\": {\"color\": \"#00cc96\", \"symbol\": \"circle\"}, \"mode\": \"markers\", \"name\": \"color=\\u0633\\u0631\\u0622\\u0634\\u067e\\u0632 \\u067e\\u06cc\\u0634\\u0646\\u0647\\u0627\\u062f \\u0645\\u06cc \\u06a9\\u0646\\u062f\", \"showlegend\": true, \"type\": \"scatter\", \"x\": [0.0], \"xaxis\": \"x\", \"y\": [653.0], \"yaxis\": \"y\"}, {\"hoverlabel\": {\"namelength\": 0}, \"hovertemplate\": \"color=\\u0633\\u0631\\u0627\\u0633\\u0631 \\u0634\\u0628<br>Imdb=%{x}<br>Rate=%{y}\", \"legendgroup\": \"color=\\u0633\\u0631\\u0627\\u0633\\u0631 \\u0634\\u0628\", \"marker\": {\"color\": \"#ab63fa\", \"symbol\": \"circle\"}, \"mode\": \"markers\", \"name\": \"color=\\u0633\\u0631\\u0627\\u0633\\u0631 \\u0634\\u0628\", \"showlegend\": true, \"type\": \"scatter\", \"x\": [4.0], \"xaxis\": \"x\", \"y\": [6129.0], \"yaxis\": \"y\"}, {\"hoverlabel\": {\"namelength\": 0}, \"hovertemplate\": \"color=\\u0633\\u0631\\u062f \\u0633\\u0628\\u0632<br>Imdb=%{x}<br>Rate=%{y}\", \"legendgroup\": \"color=\\u0633\\u0631\\u062f \\u0633\\u0628\\u0632\", \"marker\": {\"color\": \"#FFA15A\", \"symbol\": \"circle\"}, \"mode\": \"markers\", \"name\": \"color=\\u0633\\u0631\\u062f \\u0633\\u0628\\u0632\", \"showlegend\": true, \"type\": \"scatter\", \"x\": [0.0], \"xaxis\": \"x\", \"y\": [627.0], \"yaxis\": \"y\"}, {\"hoverlabel\": {\"namelength\": 0}, \"hovertemplate\": \"color=\\u0633\\u0631\\u0632\\u0645\\u06cc\\u0646 \\u062e\\u0648\\u0631\\u0634\\u06cc\\u062f<br>Imdb=%{x}<br>Rate=%{y}\", \"legendgroup\": \"color=\\u0633\\u0631\\u0632\\u0645\\u06cc\\u0646 \\u062e\\u0648\\u0631\\u0634\\u06cc\\u062f\", \"marker\": {\"color\": \"#19d3f3\", \"symbol\": \"circle\"}, \"mode\": \"markers\", \"name\": \"color=\\u0633\\u0631\\u0632\\u0645\\u06cc\\u0646 \\u062e\\u0648\\u0631\\u0634\\u06cc\\u062f\", \"showlegend\": true, \"type\": \"scatter\", \"x\": [0.0], \"xaxis\": \"x\", \"y\": [105.0], \"yaxis\": \"y\"}, {\"hoverlabel\": {\"namelength\": 0}, \"hovertemplate\": \"color=\\u0633\\u0631\\u0648 \\u0632\\u06cc\\u0631 \\u0622\\u0628<br>Imdb=%{x}<br>Rate=%{y}\", \"legendgroup\": \"color=\\u0633\\u0631\\u0648 \\u0632\\u06cc\\u0631 \\u0622\\u0628\", \"marker\": {\"color\": \"#FF6692\", \"symbol\": \"circle\"}, \"mode\": \"markers\", \"name\": \"color=\\u0633\\u0631\\u0648 \\u0632\\u06cc\\u0631 \\u0622\\u0628\", \"showlegend\": true, \"type\": \"scatter\", \"x\": [5.8], \"xaxis\": \"x\", \"y\": [6664.0], \"yaxis\": \"y\"}, {\"hoverlabel\": {\"namelength\": 0}, \"hovertemplate\": \"color=\\u0633\\u0644\\u0627\\u0645<br>Imdb=%{x}<br>Rate=%{y}\", \"legendgroup\": \"color=\\u0633\\u0644\\u0627\\u0645\", \"marker\": {\"color\": \"#B6E880\", \"symbol\": \"circle\"}, \"mode\": \"markers\", \"name\": \"color=\\u0633\\u0644\\u0627\\u0645\", \"showlegend\": true, \"type\": \"scatter\", \"x\": [0.0], \"xaxis\": \"x\", \"y\": [62.0], \"yaxis\": \"y\"}, {\"hoverlabel\": {\"namelength\": 0}, \"hovertemplate\": \"color=\\u0633\\u0647\\u0645 \\u0645\\u0646 \\u0627\\u06cc\\u0646 \\u0627\\u0633\\u062a<br>Imdb=%{x}<br>Rate=%{y}\", \"legendgroup\": \"color=\\u0633\\u0647\\u0645 \\u0645\\u0646 \\u0627\\u06cc\\u0646 \\u0627\\u0633\\u062a\", \"marker\": {\"color\": \"#FF97FF\", \"symbol\": \"circle\"}, \"mode\": \"markers\", \"name\": \"color=\\u0633\\u0647\\u0645 \\u0645\\u0646 \\u0627\\u06cc\\u0646 \\u0627\\u0633\\u062a\", \"showlegend\": true, \"type\": \"scatter\", \"x\": [0.0], \"xaxis\": \"x\", \"y\": [11.0], \"yaxis\": \"y\"}, {\"hoverlabel\": {\"namelength\": 0}, \"hovertemplate\": \"color=\\u0633\\u0648\\u062a \\u067e\\u0627\\u06cc\\u0627\\u0646<br>Imdb=%{x}<br>Rate=%{y}\", \"legendgroup\": \"color=\\u0633\\u0648\\u062a \\u067e\\u0627\\u06cc\\u0627\\u0646\", \"marker\": {\"color\": \"#FECB52\", \"symbol\": \"circle\"}, \"mode\": \"markers\", \"name\": \"color=\\u0633\\u0648\\u062a \\u067e\\u0627\\u06cc\\u0627\\u0646\", \"showlegend\": true, \"type\": \"scatter\", \"x\": [4.9], \"xaxis\": \"x\", \"y\": [749.0], \"yaxis\": \"y\"}, {\"hoverlabel\": {\"namelength\": 0}, \"hovertemplate\": \"color=\\u0633\\u0648\\u0632 \\u06af\\u0644\\u0627\\u0648\\u06cc\\u0698<br>Imdb=%{x}<br>Rate=%{y}\", \"legendgroup\": \"color=\\u0633\\u0648\\u0632 \\u06af\\u0644\\u0627\\u0648\\u06cc\\u0698\", \"marker\": {\"color\": \"#636efa\", \"symbol\": \"circle\"}, \"mode\": \"markers\", \"name\": \"color=\\u0633\\u0648\\u0632 \\u06af\\u0644\\u0627\\u0648\\u06cc\\u0698\", \"showlegend\": true, \"type\": \"scatter\", \"x\": [0.0], \"xaxis\": \"x\", \"y\": [64.0], \"yaxis\": \"y\"}, {\"hoverlabel\": {\"namelength\": 0}, \"hovertemplate\": \"color=\\u0633\\u0648\\u06af\\u0648\\u0627\\u0631\\u06cc \\u0635\\u0645\\u06cc\\u0645\\u0627\\u0646\\u0647<br>Imdb=%{x}<br>Rate=%{y}\", \"legendgroup\": \"color=\\u0633\\u0648\\u06af\\u0648\\u0627\\u0631\\u06cc \\u0635\\u0645\\u06cc\\u0645\\u0627\\u0646\\u0647\", \"marker\": {\"color\": \"#EF553B\", \"symbol\": \"circle\"}, \"mode\": \"markers\", \"name\": \"color=\\u0633\\u0648\\u06af\\u0648\\u0627\\u0631\\u06cc \\u0635\\u0645\\u06cc\\u0645\\u0627\\u0646\\u0647\", \"showlegend\": true, \"type\": \"scatter\", \"x\": [5.7], \"xaxis\": \"x\", \"y\": [70.0], \"yaxis\": \"y\"}, {\"hoverlabel\": {\"namelength\": 0}, \"hovertemplate\": \"color=\\u0633\\u06a9\\u0648\\u062a \\u062e\\u0628\\u0631\\u06cc<br>Imdb=%{x}<br>Rate=%{y}\", \"legendgroup\": \"color=\\u0633\\u06a9\\u0648\\u062a \\u062e\\u0628\\u0631\\u06cc\", \"marker\": {\"color\": \"#00cc96\", \"symbol\": \"circle\"}, \"mode\": \"markers\", \"name\": \"color=\\u0633\\u06a9\\u0648\\u062a \\u062e\\u0628\\u0631\\u06cc\", \"showlegend\": true, \"type\": \"scatter\", \"x\": [0.0], \"xaxis\": \"x\", \"y\": [4344.0], \"yaxis\": \"y\"}, {\"hoverlabel\": {\"namelength\": 0}, \"hovertemplate\": \"color=\\u0633\\u06cc \\u067e\\u06cc<br>Imdb=%{x}<br>Rate=%{y}\", \"legendgroup\": \"color=\\u0633\\u06cc \\u067e\\u06cc\", \"marker\": {\"color\": \"#ab63fa\", \"symbol\": \"circle\"}, \"mode\": \"markers\", \"name\": \"color=\\u0633\\u06cc \\u067e\\u06cc\", \"showlegend\": true, \"type\": \"scatter\", \"x\": [0.0], \"xaxis\": \"x\", \"y\": [116.0], \"yaxis\": \"y\"}, {\"hoverlabel\": {\"namelength\": 0}, \"hovertemplate\": \"color=\\u0633\\u06cc\\u062f \\u0631\\u0636\\u0627<br>Imdb=%{x}<br>Rate=%{y}\", \"legendgroup\": \"color=\\u0633\\u06cc\\u062f \\u0631\\u0636\\u0627\", \"marker\": {\"color\": \"#FFA15A\", \"symbol\": \"circle\"}, \"mode\": \"markers\", \"name\": \"color=\\u0633\\u06cc\\u062f \\u0631\\u0636\\u0627\", \"showlegend\": true, \"type\": \"scatter\", \"x\": [0.0], \"xaxis\": \"x\", \"y\": [83.0], \"yaxis\": \"y\"}, {\"hoverlabel\": {\"namelength\": 0}, \"hovertemplate\": \"color=\\u0633\\u06cc\\u0646\\u0645\\u0627\\u06cc \\u062e\\u0627\\u0646\\u06af\\u06cc<br>Imdb=%{x}<br>Rate=%{y}\", \"legendgroup\": \"color=\\u0633\\u06cc\\u0646\\u0645\\u0627\\u06cc \\u062e\\u0627\\u0646\\u06af\\u06cc\", \"marker\": {\"color\": \"#19d3f3\", \"symbol\": \"circle\"}, \"mode\": \"markers\", \"name\": \"color=\\u0633\\u06cc\\u0646\\u0645\\u0627\\u06cc \\u062e\\u0627\\u0646\\u06af\\u06cc\", \"showlegend\": true, \"type\": \"scatter\", \"x\": [0.0], \"xaxis\": \"x\", \"y\": [4.0], \"yaxis\": \"y\"}, {\"hoverlabel\": {\"namelength\": 0}, \"hovertemplate\": \"color=\\u0634\\u0627\\u062e\\u0647 \\u06af\\u0644\\u06cc \\u0628\\u0631\\u0627\\u06cc \\u0639\\u0631\\u0648\\u0633<br>Imdb=%{x}<br>Rate=%{y}\", \"legendgroup\": \"color=\\u0634\\u0627\\u062e\\u0647 \\u06af\\u0644\\u06cc \\u0628\\u0631\\u0627\\u06cc \\u0639\\u0631\\u0648\\u0633\", \"marker\": {\"color\": \"#FF6692\", \"symbol\": \"circle\"}, \"mode\": \"markers\", \"name\": \"color=\\u0634\\u0627\\u062e\\u0647 \\u06af\\u0644\\u06cc \\u0628\\u0631\\u0627\\u06cc \\u0639\\u0631\\u0648\\u0633\", \"showlegend\": true, \"type\": \"scatter\", \"x\": [3.7], \"xaxis\": \"x\", \"y\": [2355.0], \"yaxis\": \"y\"}, {\"hoverlabel\": {\"namelength\": 0}, \"hovertemplate\": \"color=\\u0634\\u0628 \\u0633\\u06af\\u06cc\\u060c \\u0645\\u0639\\u062c\\u0632\\u0647 \\u0635\\u0628\\u062d<br>Imdb=%{x}<br>Rate=%{y}\", \"legendgroup\": \"color=\\u0634\\u0628 \\u0633\\u06af\\u06cc\\u060c \\u0645\\u0639\\u062c\\u0632\\u0647 \\u0635\\u0628\\u062d\", \"marker\": {\"color\": \"#B6E880\", \"symbol\": \"circle\"}, \"mode\": \"markers\", \"name\": \"color=\\u0634\\u0628 \\u0633\\u06af\\u06cc\\u060c \\u0645\\u0639\\u062c\\u0632\\u0647 \\u0635\\u0628\\u062d\", \"showlegend\": true, \"type\": \"scatter\", \"x\": [5.7], \"xaxis\": \"x\", \"y\": [138.0], \"yaxis\": \"y\"}, {\"hoverlabel\": {\"namelength\": 0}, \"hovertemplate\": \"color=\\u0634\\u0628\\u06cc \\u0628\\u0627 \\u0633\\u062a\\u0627\\u0631\\u0647 \\u0647\\u0627<br>Imdb=%{x}<br>Rate=%{y}\", \"legendgroup\": \"color=\\u0634\\u0628\\u06cc \\u0628\\u0627 \\u0633\\u062a\\u0627\\u0631\\u0647 \\u0647\\u0627\", \"marker\": {\"color\": \"#FF97FF\", \"symbol\": \"circle\"}, \"mode\": \"markers\", \"name\": \"color=\\u0634\\u0628\\u06cc \\u0628\\u0627 \\u0633\\u062a\\u0627\\u0631\\u0647 \\u0647\\u0627\", \"showlegend\": true, \"type\": \"scatter\", \"x\": [0.0], \"xaxis\": \"x\", \"y\": [275.0], \"yaxis\": \"y\"}, {\"hoverlabel\": {\"namelength\": 0}, \"hovertemplate\": \"color=\\u0634\\u0628\\u06cc \\u06a9\\u0647 \\u0645\\u0627\\u0647 \\u06a9\\u0627\\u0645\\u0644 \\u0634\\u062f (\\u0628\\u0627 \\u0632\\u06cc\\u0631\\u0646\\u0648\\u06cc\\u0633 \\u0645\\u062e\\u0635\\u0648\\u0635 \\u0646\\u0627\\u0634\\u0646\\u0648\\u0627\\u06cc\\u0627\\u0646)<br>Imdb=%{x}<br>Rate=%{y}\", \"legendgroup\": \"color=\\u0634\\u0628\\u06cc \\u06a9\\u0647 \\u0645\\u0627\\u0647 \\u06a9\\u0627\\u0645\\u0644 \\u0634\\u062f (\\u0628\\u0627 \\u0632\\u06cc\\u0631\\u0646\\u0648\\u06cc\\u0633 \\u0645\\u062e\\u0635\\u0648\\u0635 \\u0646\\u0627\\u0634\\u0646\\u0648\\u0627\\u06cc\\u0627\\u0646)\", \"marker\": {\"color\": \"#FECB52\", \"symbol\": \"circle\"}, \"mode\": \"markers\", \"name\": \"color=\\u0634\\u0628\\u06cc \\u06a9\\u0647 \\u0645\\u0627\\u0647 \\u06a9\\u0627\\u0645\\u0644 \\u0634\\u062f (\\u0628\\u0627 \\u0632\\u06cc\\u0631\\u0646\\u0648\\u06cc\\u0633 \\u0645\\u062e\\u0635\\u0648\\u0635 \\u0646\\u0627\\u0634\\u0646\\u0648\\u0627\\u06cc\\u0627\\u0646)\", \"showlegend\": true, \"type\": \"scatter\", \"x\": [6.8], \"xaxis\": \"x\", \"y\": [80.0], \"yaxis\": \"y\"}, {\"hoverlabel\": {\"namelength\": 0}, \"hovertemplate\": \"color=\\u0634\\u0628\\u06cc\\u062e\\u0648\\u0646 \\u063a\\u06cc\\u0648\\u0631 \\u0627\\u0635\\u0644\\u06cc<br>Imdb=%{x}<br>Rate=%{y}\", \"legendgroup\": \"color=\\u0634\\u0628\\u06cc\\u062e\\u0648\\u0646 \\u063a\\u06cc\\u0648\\u0631 \\u0627\\u0635\\u0644\\u06cc\", \"marker\": {\"color\": \"#636efa\", \"symbol\": \"circle\"}, \"mode\": \"markers\", \"name\": \"color=\\u0634\\u0628\\u06cc\\u062e\\u0648\\u0646 \\u063a\\u06cc\\u0648\\u0631 \\u0627\\u0635\\u0644\\u06cc\", \"showlegend\": true, \"type\": \"scatter\", \"x\": [0.0], \"xaxis\": \"x\", \"y\": [40.0], \"yaxis\": \"y\"}, {\"hoverlabel\": {\"namelength\": 0}, \"hovertemplate\": \"color=\\u0634\\u062a\\u0631 \\u0645\\u0631\\u063a<br>Imdb=%{x}<br>Rate=%{y}\", \"legendgroup\": \"color=\\u0634\\u062a\\u0631 \\u0645\\u0631\\u063a\", \"marker\": {\"color\": \"#EF553B\", \"symbol\": \"circle\"}, \"mode\": \"markers\", \"name\": \"color=\\u0634\\u062a\\u0631 \\u0645\\u0631\\u063a\", \"showlegend\": true, \"type\": \"scatter\", \"x\": [0.0], \"xaxis\": \"x\", \"y\": [2940.0], \"yaxis\": \"y\"}, {\"hoverlabel\": {\"namelength\": 0}, \"hovertemplate\": \"color=\\u0634\\u0646\\u0627\\u06cc \\u067e\\u0631\\u0648\\u0627\\u0646\\u0647<br>Imdb=%{x}<br>Rate=%{y}\", \"legendgroup\": \"color=\\u0634\\u0646\\u0627\\u06cc \\u067e\\u0631\\u0648\\u0627\\u0646\\u0647\", \"marker\": {\"color\": \"#00cc96\", \"symbol\": \"circle\"}, \"mode\": \"markers\", \"name\": \"color=\\u0634\\u0646\\u0627\\u06cc \\u067e\\u0631\\u0648\\u0627\\u0646\\u0647\", \"showlegend\": true, \"type\": \"scatter\", \"x\": [7.7], \"xaxis\": \"x\", \"y\": [94591.0], \"yaxis\": \"y\"}, {\"hoverlabel\": {\"namelength\": 0}, \"hovertemplate\": \"color=\\u0634\\u0646\\u06cc\\u062f\\u0646 \\u062a\\u0627\\u0631\\u06cc\\u062e<br>Imdb=%{x}<br>Rate=%{y}\", \"legendgroup\": \"color=\\u0634\\u0646\\u06cc\\u062f\\u0646 \\u062a\\u0627\\u0631\\u06cc\\u062e\", \"marker\": {\"color\": \"#ab63fa\", \"symbol\": \"circle\"}, \"mode\": \"markers\", \"name\": \"color=\\u0634\\u0646\\u06cc\\u062f\\u0646 \\u062a\\u0627\\u0631\\u06cc\\u062e\", \"showlegend\": true, \"type\": \"scatter\", \"x\": [0.0], \"xaxis\": \"x\", \"y\": [36.0], \"yaxis\": \"y\"}, {\"hoverlabel\": {\"namelength\": 0}, \"hovertemplate\": \"color=\\u0634\\u0647\\u0631 \\u0645\\u0647\\u062a\\u0627\\u0628\\u06cc<br>Imdb=%{x}<br>Rate=%{y}\", \"legendgroup\": \"color=\\u0634\\u0647\\u0631 \\u0645\\u0647\\u062a\\u0627\\u0628\\u06cc\", \"marker\": {\"color\": \"#FFA15A\", \"symbol\": \"circle\"}, \"mode\": \"markers\", \"name\": \"color=\\u0634\\u0647\\u0631 \\u0645\\u0647\\u062a\\u0627\\u0628\\u06cc\", \"showlegend\": true, \"type\": \"scatter\", \"x\": [0.0], \"xaxis\": \"x\", \"y\": [247.0], \"yaxis\": \"y\"}, {\"hoverlabel\": {\"namelength\": 0}, \"hovertemplate\": \"color=\\u0634\\u06af\\u0648\\u0646<br>Imdb=%{x}<br>Rate=%{y}\", \"legendgroup\": \"color=\\u0634\\u06af\\u0648\\u0646\", \"marker\": {\"color\": \"#19d3f3\", \"symbol\": \"circle\"}, \"mode\": \"markers\", \"name\": \"color=\\u0634\\u06af\\u0648\\u0646\", \"showlegend\": true, \"type\": \"scatter\", \"x\": [0.0], \"xaxis\": \"x\", \"y\": [617.0], \"yaxis\": \"y\"}, {\"hoverlabel\": {\"namelength\": 0}, \"hovertemplate\": \"color=\\u0634\\u06cc\\u0641\\u062a \\u0634\\u0628 (\\u0628\\u0627 \\u0632\\u06cc\\u0631\\u0646\\u0648\\u06cc\\u0633 \\u0645\\u062e\\u0635\\u0648\\u0635 \\u0646\\u0627\\u0634\\u0646\\u0648\\u0627\\u06cc\\u0627\\u0646)<br>Imdb=%{x}<br>Rate=%{y}\", \"legendgroup\": \"color=\\u0634\\u06cc\\u0641\\u062a \\u0634\\u0628 (\\u0628\\u0627 \\u0632\\u06cc\\u0631\\u0646\\u0648\\u06cc\\u0633 \\u0645\\u062e\\u0635\\u0648\\u0635 \\u0646\\u0627\\u0634\\u0646\\u0648\\u0627\\u06cc\\u0627\\u0646)\", \"marker\": {\"color\": \"#FF6692\", \"symbol\": \"circle\"}, \"mode\": \"markers\", \"name\": \"color=\\u0634\\u06cc\\u0641\\u062a \\u0634\\u0628 (\\u0628\\u0627 \\u0632\\u06cc\\u0631\\u0646\\u0648\\u06cc\\u0633 \\u0645\\u062e\\u0635\\u0648\\u0635 \\u0646\\u0627\\u0634\\u0646\\u0648\\u0627\\u06cc\\u0627\\u0646)\", \"showlegend\": true, \"type\": \"scatter\", \"x\": [4.7], \"xaxis\": \"x\", \"y\": [17.0], \"yaxis\": \"y\"}, {\"hoverlabel\": {\"namelength\": 0}, \"hovertemplate\": \"color=\\u0634\\u06cc\\u0648\\u0647 \\u0634\\u0627\\u063a\\u0644\\u0627\\u0645: \\u063a\\u0644\\u0627\\u0645\\u062d\\u0633\\u06cc\\u0646 \\u067e\\u06cc\\u0631\\u0648\\u0627\\u0646\\u06cc<br>Imdb=%{x}<br>Rate=%{y}\", \"legendgroup\": \"color=\\u0634\\u06cc\\u0648\\u0647 \\u0634\\u0627\\u063a\\u0644\\u0627\\u0645: \\u063a\\u0644\\u0627\\u0645\\u062d\\u0633\\u06cc\\u0646 \\u067e\\u06cc\\u0631\\u0648\\u0627\\u0646\\u06cc\", \"marker\": {\"color\": \"#B6E880\", \"symbol\": \"circle\"}, \"mode\": \"markers\", \"name\": \"color=\\u0634\\u06cc\\u0648\\u0647 \\u0634\\u0627\\u063a\\u0644\\u0627\\u0645: \\u063a\\u0644\\u0627\\u0645\\u062d\\u0633\\u06cc\\u0646 \\u067e\\u06cc\\u0631\\u0648\\u0627\\u0646\\u06cc\", \"showlegend\": true, \"type\": \"scatter\", \"x\": [0.0], \"xaxis\": \"x\", \"y\": [44.0], \"yaxis\": \"y\"}, {\"hoverlabel\": {\"namelength\": 0}, \"hovertemplate\": \"color=\\u0637\\u0628\\u0644 \\u0628\\u0632\\u0631\\u06af \\u0632\\u06cc\\u0631 \\u067e\\u0627\\u06cc \\u0686\\u067e<br>Imdb=%{x}<br>Rate=%{y}\", \"legendgroup\": \"color=\\u0637\\u0628\\u0644 \\u0628\\u0632\\u0631\\u06af \\u0632\\u06cc\\u0631 \\u067e\\u0627\\u06cc \\u0686\\u067e\", \"marker\": {\"color\": \"#FF97FF\", \"symbol\": \"circle\"}, \"mode\": \"markers\", \"name\": \"color=\\u0637\\u0628\\u0644 \\u0628\\u0632\\u0631\\u06af \\u0632\\u06cc\\u0631 \\u067e\\u0627\\u06cc \\u0686\\u067e\", \"showlegend\": true, \"type\": \"scatter\", \"x\": [0.0], \"xaxis\": \"x\", \"y\": [429.0], \"yaxis\": \"y\"}, {\"hoverlabel\": {\"namelength\": 0}, \"hovertemplate\": \"color=\\u0637\\u0644\\u0627 (\\u0628\\u0627 \\u0632\\u06cc\\u0631\\u0646\\u0648\\u06cc\\u0633 \\u0645\\u062e\\u0635\\u0648\\u0635 \\u0646\\u0627\\u0634\\u0646\\u0648\\u0627\\u06cc\\u0627\\u0646)<br>Imdb=%{x}<br>Rate=%{y}\", \"legendgroup\": \"color=\\u0637\\u0644\\u0627 (\\u0628\\u0627 \\u0632\\u06cc\\u0631\\u0646\\u0648\\u06cc\\u0633 \\u0645\\u062e\\u0635\\u0648\\u0635 \\u0646\\u0627\\u0634\\u0646\\u0648\\u0627\\u06cc\\u0627\\u0646)\", \"marker\": {\"color\": \"#FECB52\", \"symbol\": \"circle\"}, \"mode\": \"markers\", \"name\": \"color=\\u0637\\u0644\\u0627 (\\u0628\\u0627 \\u0632\\u06cc\\u0631\\u0646\\u0648\\u06cc\\u0633 \\u0645\\u062e\\u0635\\u0648\\u0635 \\u0646\\u0627\\u0634\\u0646\\u0648\\u0627\\u06cc\\u0627\\u0646)\", \"showlegend\": true, \"type\": \"scatter\", \"x\": [5.3], \"xaxis\": \"x\", \"y\": [252.0], \"yaxis\": \"y\"}, {\"hoverlabel\": {\"namelength\": 0}, \"hovertemplate\": \"color=\\u0637\\u0646\\u0627\\u0628<br>Imdb=%{x}<br>Rate=%{y}\", \"legendgroup\": \"color=\\u0637\\u0646\\u0627\\u0628\", \"marker\": {\"color\": \"#636efa\", \"symbol\": \"circle\"}, \"mode\": \"markers\", \"name\": \"color=\\u0637\\u0646\\u0627\\u0628\", \"showlegend\": true, \"type\": \"scatter\", \"x\": [0.0], \"xaxis\": \"x\", \"y\": [575.0], \"yaxis\": \"y\"}, {\"hoverlabel\": {\"namelength\": 0}, \"hovertemplate\": \"color=\\u0637\\u067e\\u0627\\u0646\\u0686\\u0647 \\u062e\\u0627\\u0646\\u0645<br>Imdb=%{x}<br>Rate=%{y}\", \"legendgroup\": \"color=\\u0637\\u067e\\u0627\\u0646\\u0686\\u0647 \\u062e\\u0627\\u0646\\u0645\", \"marker\": {\"color\": \"#EF553B\", \"symbol\": \"circle\"}, \"mode\": \"markers\", \"name\": \"color=\\u0637\\u067e\\u0627\\u0646\\u0686\\u0647 \\u062e\\u0627\\u0646\\u0645\", \"showlegend\": true, \"type\": \"scatter\", \"x\": [0.0], \"xaxis\": \"x\", \"y\": [190.0], \"yaxis\": \"y\"}, {\"hoverlabel\": {\"namelength\": 0}, \"hovertemplate\": \"color=\\u0639\\u0627\\u0634\\u0642\\u06cc \\u0628\\u0627 \\u0627\\u0639\\u0645\\u0627\\u0644 \\u0634\\u0627\\u0642\\u0647<br>Imdb=%{x}<br>Rate=%{y}\", \"legendgroup\": \"color=\\u0639\\u0627\\u0634\\u0642\\u06cc \\u0628\\u0627 \\u0627\\u0639\\u0645\\u0627\\u0644 \\u0634\\u0627\\u0642\\u0647\", \"marker\": {\"color\": \"#00cc96\", \"symbol\": \"circle\"}, \"mode\": \"markers\", \"name\": \"color=\\u0639\\u0627\\u0634\\u0642\\u06cc \\u0628\\u0627 \\u0627\\u0639\\u0645\\u0627\\u0644 \\u0634\\u0627\\u0642\\u0647\", \"showlegend\": true, \"type\": \"scatter\", \"x\": [0.0], \"xaxis\": \"x\", \"y\": [1037.0], \"yaxis\": \"y\"}, {\"hoverlabel\": {\"namelength\": 0}, \"hovertemplate\": \"color=\\u0639\\u0634\\u0642 \\u0646\\u06cc\\u06a9\\u0627\\u0646<br>Imdb=%{x}<br>Rate=%{y}\", \"legendgroup\": \"color=\\u0639\\u0634\\u0642 \\u0646\\u06cc\\u06a9\\u0627\\u0646\", \"marker\": {\"color\": \"#ab63fa\", \"symbol\": \"circle\"}, \"mode\": \"markers\", \"name\": \"color=\\u0639\\u0634\\u0642 \\u0646\\u06cc\\u06a9\\u0627\\u0646\", \"showlegend\": true, \"type\": \"scatter\", \"x\": [0.0], \"xaxis\": \"x\", \"y\": [1231.0], \"yaxis\": \"y\"}, {\"hoverlabel\": {\"namelength\": 0}, \"hovertemplate\": \"color=\\u0639\\u0635\\u0631 \\u062c\\u0645\\u0639\\u0647 (\\u0628\\u0627 \\u0632\\u06cc\\u0631\\u0646\\u0648\\u06cc\\u0633 \\u0645\\u062e\\u0635\\u0648\\u0635 \\u0646\\u0627\\u0634\\u0646\\u0648\\u0627\\u06cc\\u0627\\u0646)<br>Imdb=%{x}<br>Rate=%{y}\", \"legendgroup\": \"color=\\u0639\\u0635\\u0631 \\u062c\\u0645\\u0639\\u0647 (\\u0628\\u0627 \\u0632\\u06cc\\u0631\\u0646\\u0648\\u06cc\\u0633 \\u0645\\u062e\\u0635\\u0648\\u0635 \\u0646\\u0627\\u0634\\u0646\\u0648\\u0627\\u06cc\\u0627\\u0646)\", \"marker\": {\"color\": \"#FFA15A\", \"symbol\": \"circle\"}, \"mode\": \"markers\", \"name\": \"color=\\u0639\\u0635\\u0631 \\u062c\\u0645\\u0639\\u0647 (\\u0628\\u0627 \\u0632\\u06cc\\u0631\\u0646\\u0648\\u06cc\\u0633 \\u0645\\u062e\\u0635\\u0648\\u0635 \\u0646\\u0627\\u0634\\u0646\\u0648\\u0627\\u06cc\\u0627\\u0646)\", \"showlegend\": true, \"type\": \"scatter\", \"x\": [6.1], \"xaxis\": \"x\", \"y\": [95.0], \"yaxis\": \"y\"}, {\"hoverlabel\": {\"namelength\": 0}, \"hovertemplate\": \"color=\\u0639\\u0637\\u0631 \\u062e\\u0648\\u0634 \\u06cc\\u0627\\u0631<br>Imdb=%{x}<br>Rate=%{y}\", \"legendgroup\": \"color=\\u0639\\u0637\\u0631 \\u062e\\u0648\\u0634 \\u06cc\\u0627\\u0631\", \"marker\": {\"color\": \"#19d3f3\", \"symbol\": \"circle\"}, \"mode\": \"markers\", \"name\": \"color=\\u0639\\u0637\\u0631 \\u062e\\u0648\\u0634 \\u06cc\\u0627\\u0631\", \"showlegend\": true, \"type\": \"scatter\", \"x\": [0.0], \"xaxis\": \"x\", \"y\": [111.0], \"yaxis\": \"y\"}, {\"hoverlabel\": {\"namelength\": 0}, \"hovertemplate\": \"color=\\u0639\\u0637\\u0634 - \\u067e\\u0634\\u062a \\u0635\\u062d\\u0646\\u0647<br>Imdb=%{x}<br>Rate=%{y}\", \"legendgroup\": \"color=\\u0639\\u0637\\u0634 - \\u067e\\u0634\\u062a \\u0635\\u062d\\u0646\\u0647\", \"marker\": {\"color\": \"#FF6692\", \"symbol\": \"circle\"}, \"mode\": \"markers\", \"name\": \"color=\\u0639\\u0637\\u0634 - \\u067e\\u0634\\u062a \\u0635\\u062d\\u0646\\u0647\", \"showlegend\": true, \"type\": \"scatter\", \"x\": [5.2], \"xaxis\": \"x\", \"y\": [22.0], \"yaxis\": \"y\"}, {\"hoverlabel\": {\"namelength\": 0}, \"hovertemplate\": \"color=\\u0639\\u0642\\u0631\\u0628 - \\u067e\\u0634\\u062a \\u0635\\u062d\\u0646\\u0647<br>Imdb=%{x}<br>Rate=%{y}\", \"legendgroup\": \"color=\\u0639\\u0642\\u0631\\u0628 - \\u067e\\u0634\\u062a \\u0635\\u062d\\u0646\\u0647\", \"marker\": {\"color\": \"#B6E880\", \"symbol\": \"circle\"}, \"mode\": \"markers\", \"name\": \"color=\\u0639\\u0642\\u0631\\u0628 - \\u067e\\u0634\\u062a \\u0635\\u062d\\u0646\\u0647\", \"showlegend\": true, \"type\": \"scatter\", \"x\": [5.4], \"xaxis\": \"x\", \"y\": [24.0], \"yaxis\": \"y\"}, {\"hoverlabel\": {\"namelength\": 0}, \"hovertemplate\": \"color=\\u0639\\u0644\\u0645\\u062f\\u0627\\u0631<br>Imdb=%{x}<br>Rate=%{y}\", \"legendgroup\": \"color=\\u0639\\u0644\\u0645\\u062f\\u0627\\u0631\", \"marker\": {\"color\": \"#FF97FF\", \"symbol\": \"circle\"}, \"mode\": \"markers\", \"name\": \"color=\\u0639\\u0644\\u0645\\u062f\\u0627\\u0631\", \"showlegend\": true, \"type\": \"scatter\", \"x\": [0.0], \"xaxis\": \"x\", \"y\": [60.0], \"yaxis\": \"y\"}, {\"hoverlabel\": {\"namelength\": 0}, \"hovertemplate\": \"color=\\u0639\\u0646\\u06a9\\u0628\\u0648\\u062a<br>Imdb=%{x}<br>Rate=%{y}\", \"legendgroup\": \"color=\\u0639\\u0646\\u06a9\\u0628\\u0648\\u062a\", \"marker\": {\"color\": \"#FECB52\", \"symbol\": \"circle\"}, \"mode\": \"markers\", \"name\": \"color=\\u0639\\u0646\\u06a9\\u0628\\u0648\\u062a\", \"showlegend\": true, \"type\": \"scatter\", \"x\": [0.0], \"xaxis\": \"x\", \"y\": [145.0], \"yaxis\": \"y\"}, {\"hoverlabel\": {\"namelength\": 0}, \"hovertemplate\": \"color=\\u0641\\u0627\\u0644\\u06a9\\u0646<br>Imdb=%{x}<br>Rate=%{y}\", \"legendgroup\": \"color=\\u0641\\u0627\\u0644\\u06a9\\u0646\", \"marker\": {\"color\": \"#636efa\", \"symbol\": \"circle\"}, \"mode\": \"markers\", \"name\": \"color=\\u0641\\u0627\\u0644\\u06a9\\u0646\", \"showlegend\": true, \"type\": \"scatter\", \"x\": [0.0], \"xaxis\": \"x\", \"y\": [75.0], \"yaxis\": \"y\"}, {\"hoverlabel\": {\"namelength\": 0}, \"hovertemplate\": \"color=\\u0641\\u0627\\u0646\\u0648\\u0633 \\u0627\\u0648\\u0641\\u0627<br>Imdb=%{x}<br>Rate=%{y}\", \"legendgroup\": \"color=\\u0641\\u0627\\u0646\\u0648\\u0633 \\u0627\\u0648\\u0641\\u0627\", \"marker\": {\"color\": \"#EF553B\", \"symbol\": \"circle\"}, \"mode\": \"markers\", \"name\": \"color=\\u0641\\u0627\\u0646\\u0648\\u0633 \\u0627\\u0648\\u0641\\u0627\", \"showlegend\": true, \"type\": \"scatter\", \"x\": [0.0], \"xaxis\": \"x\", \"y\": [17.0], \"yaxis\": \"y\"}, {\"hoverlabel\": {\"namelength\": 0}, \"hovertemplate\": \"color=\\u0641\\u0631\\u0645\\u0627\\u0644\\u06cc\\u0633\\u062a \\u0645\\u06a9\\u062a\\u0628 \\u0627\\u0635\\u0641\\u0647\\u0627\\u0646<br>Imdb=%{x}<br>Rate=%{y}\", \"legendgroup\": \"color=\\u0641\\u0631\\u0645\\u0627\\u0644\\u06cc\\u0633\\u062a \\u0645\\u06a9\\u062a\\u0628 \\u0627\\u0635\\u0641\\u0647\\u0627\\u0646\", \"marker\": {\"color\": \"#00cc96\", \"symbol\": \"circle\"}, \"mode\": \"markers\", \"name\": \"color=\\u0641\\u0631\\u0645\\u0627\\u0644\\u06cc\\u0633\\u062a \\u0645\\u06a9\\u062a\\u0628 \\u0627\\u0635\\u0641\\u0647\\u0627\\u0646\", \"showlegend\": true, \"type\": \"scatter\", \"x\": [0.0], \"xaxis\": \"x\", \"y\": [9.0], \"yaxis\": \"y\"}, {\"hoverlabel\": {\"namelength\": 0}, \"hovertemplate\": \"color=\\u0641\\u0631\\u0645\\u0627\\u0646 \\u0622\\u0631\\u0627 \\u0628\\u0648\\u062f\\u0646<br>Imdb=%{x}<br>Rate=%{y}\", \"legendgroup\": \"color=\\u0641\\u0631\\u0645\\u0627\\u0646 \\u0622\\u0631\\u0627 \\u0628\\u0648\\u062f\\u0646\", \"marker\": {\"color\": \"#ab63fa\", \"symbol\": \"circle\"}, \"mode\": \"markers\", \"name\": \"color=\\u0641\\u0631\\u0645\\u0627\\u0646 \\u0622\\u0631\\u0627 \\u0628\\u0648\\u062f\\u0646\", \"showlegend\": true, \"type\": \"scatter\", \"x\": [0.0], \"xaxis\": \"x\", \"y\": [144.0], \"yaxis\": \"y\"}, {\"hoverlabel\": {\"namelength\": 0}, \"hovertemplate\": \"color=\\u0641\\u0631\\u0648\\u063a \\u0641\\u0631\\u062e\\u0632\\u0627\\u062f: 1313-1345<br>Imdb=%{x}<br>Rate=%{y}\", \"legendgroup\": \"color=\\u0641\\u0631\\u0648\\u063a \\u0641\\u0631\\u062e\\u0632\\u0627\\u062f: 1313-1345\", \"marker\": {\"color\": \"#FFA15A\", \"symbol\": \"circle\"}, \"mode\": \"markers\", \"name\": \"color=\\u0641\\u0631\\u0648\\u063a \\u0641\\u0631\\u062e\\u0632\\u0627\\u062f: 1313-1345\", \"showlegend\": true, \"type\": \"scatter\", \"x\": [0.0], \"xaxis\": \"x\", \"y\": [361.0], \"yaxis\": \"y\"}, {\"hoverlabel\": {\"namelength\": 0}, \"hovertemplate\": \"color=\\u0641\\u0644\\u0633 \\u0633\\u06cc\\u0627\\u0647<br>Imdb=%{x}<br>Rate=%{y}\", \"legendgroup\": \"color=\\u0641\\u0644\\u0633 \\u0633\\u06cc\\u0627\\u0647\", \"marker\": {\"color\": \"#19d3f3\", \"symbol\": \"circle\"}, \"mode\": \"markers\", \"name\": \"color=\\u0641\\u0644\\u0633 \\u0633\\u06cc\\u0627\\u0647\", \"showlegend\": true, \"type\": \"scatter\", \"x\": [0.0], \"xaxis\": \"x\", \"y\": [448.0], \"yaxis\": \"y\"}, {\"hoverlabel\": {\"namelength\": 0}, \"hovertemplate\": \"color=\\u0641\\u06cc\\u0644\\u0645\\u0628\\u0631\\u062f\\u0627\\u0631\\u0627\\u0646 \\u0633\\u06cc\\u0646\\u0645\\u0627\\u06cc \\u0627\\u06cc\\u0631\\u0627\\u0646<br>Imdb=%{x}<br>Rate=%{y}\", \"legendgroup\": \"color=\\u0641\\u06cc\\u0644\\u0645\\u0628\\u0631\\u062f\\u0627\\u0631\\u0627\\u0646 \\u0633\\u06cc\\u0646\\u0645\\u0627\\u06cc \\u0627\\u06cc\\u0631\\u0627\\u0646\", \"marker\": {\"color\": \"#FF6692\", \"symbol\": \"circle\"}, \"mode\": \"markers\", \"name\": \"color=\\u0641\\u06cc\\u0644\\u0645\\u0628\\u0631\\u062f\\u0627\\u0631\\u0627\\u0646 \\u0633\\u06cc\\u0646\\u0645\\u0627\\u06cc \\u0627\\u06cc\\u0631\\u0627\\u0646\", \"showlegend\": true, \"type\": \"scatter\", \"x\": [0.0], \"xaxis\": \"x\", \"y\": [25.0], \"yaxis\": \"y\"}, {\"hoverlabel\": {\"namelength\": 0}, \"hovertemplate\": \"color=\\u0641\\u06cc\\u0644\\u06cc\\u0645\\u0648\\u0634\\u0627\\u062a: \\u0645\\u062d\\u0645\\u062f\\u062d\\u0633\\u06cc\\u0646 \\u0645\\u0647\\u062f\\u0648\\u06cc\\u0627\\u0646<br>Imdb=%{x}<br>Rate=%{y}\", \"legendgroup\": \"color=\\u0641\\u06cc\\u0644\\u06cc\\u0645\\u0648\\u0634\\u0627\\u062a: \\u0645\\u062d\\u0645\\u062f\\u062d\\u0633\\u06cc\\u0646 \\u0645\\u0647\\u062f\\u0648\\u06cc\\u0627\\u0646\", \"marker\": {\"color\": \"#B6E880\", \"symbol\": \"circle\"}, \"mode\": \"markers\", \"name\": \"color=\\u0641\\u06cc\\u0644\\u06cc\\u0645\\u0648\\u0634\\u0627\\u062a: \\u0645\\u062d\\u0645\\u062f\\u062d\\u0633\\u06cc\\u0646 \\u0645\\u0647\\u062f\\u0648\\u06cc\\u0627\\u0646\", \"showlegend\": true, \"type\": \"scatter\", \"x\": [0.0], \"xaxis\": \"x\", \"y\": [922.0], \"yaxis\": \"y\"}, {\"hoverlabel\": {\"namelength\": 0}, \"hovertemplate\": \"color=\\u0642\\u0627\\u06cc\\u0642\\u0631\\u0627\\u0646<br>Imdb=%{x}<br>Rate=%{y}\", \"legendgroup\": \"color=\\u0642\\u0627\\u06cc\\u0642\\u0631\\u0627\\u0646\", \"marker\": {\"color\": \"#FF97FF\", \"symbol\": \"circle\"}, \"mode\": \"markers\", \"name\": \"color=\\u0642\\u0627\\u06cc\\u0642\\u0631\\u0627\\u0646\", \"showlegend\": true, \"type\": \"scatter\", \"x\": [0.0], \"xaxis\": \"x\", \"y\": [925.0], \"yaxis\": \"y\"}, {\"hoverlabel\": {\"namelength\": 0}, \"hovertemplate\": \"color=\\u0642\\u0628\\u0644 \\u0631\\u0633\\u06cc\\u062f\\u0646\\u062a\\u0648\\u0646<br>Imdb=%{x}<br>Rate=%{y}\", \"legendgroup\": \"color=\\u0642\\u0628\\u0644 \\u0631\\u0633\\u06cc\\u062f\\u0646\\u062a\\u0648\\u0646\", \"marker\": {\"color\": \"#FECB52\", \"symbol\": \"circle\"}, \"mode\": \"markers\", \"name\": \"color=\\u0642\\u0628\\u0644 \\u0631\\u0633\\u06cc\\u062f\\u0646\\u062a\\u0648\\u0646\", \"showlegend\": true, \"type\": \"scatter\", \"x\": [0.0], \"xaxis\": \"x\", \"y\": [3782.0], \"yaxis\": \"y\"}, {\"hoverlabel\": {\"namelength\": 0}, \"hovertemplate\": \"color=\\u0642\\u062f\\u0631\\u062a \\u0639\\u0634\\u0642<br>Imdb=%{x}<br>Rate=%{y}\", \"legendgroup\": \"color=\\u0642\\u062f\\u0631\\u062a \\u0639\\u0634\\u0642\", \"marker\": {\"color\": \"#636efa\", \"symbol\": \"circle\"}, \"mode\": \"markers\", \"name\": \"color=\\u0642\\u062f\\u0631\\u062a \\u0639\\u0634\\u0642\", \"showlegend\": true, \"type\": \"scatter\", \"x\": [0.0], \"xaxis\": \"x\", \"y\": [68.0], \"yaxis\": \"y\"}, {\"hoverlabel\": {\"namelength\": 0}, \"hovertemplate\": \"color=\\u0642\\u0631\\u0627\\u0631\\u0645\\u0648\\u0646 \\u067e\\u0627\\u0631\\u06a9 \\u0634\\u0647\\u0631<br>Imdb=%{x}<br>Rate=%{y}\", \"legendgroup\": \"color=\\u0642\\u0631\\u0627\\u0631\\u0645\\u0648\\u0646 \\u067e\\u0627\\u0631\\u06a9 \\u0634\\u0647\\u0631\", \"marker\": {\"color\": \"#EF553B\", \"symbol\": \"circle\"}, \"mode\": \"markers\", \"name\": \"color=\\u0642\\u0631\\u0627\\u0631\\u0645\\u0648\\u0646 \\u067e\\u0627\\u0631\\u06a9 \\u0634\\u0647\\u0631\", \"showlegend\": true, \"type\": \"scatter\", \"x\": [0.0], \"xaxis\": \"x\", \"y\": [9873.0], \"yaxis\": \"y\"}, {\"hoverlabel\": {\"namelength\": 0}, \"hovertemplate\": \"color=\\u0642\\u0632\\u0644 \\u0642\\u06cc\\u0647<br>Imdb=%{x}<br>Rate=%{y}\", \"legendgroup\": \"color=\\u0642\\u0632\\u0644 \\u0642\\u06cc\\u0647\", \"marker\": {\"color\": \"#00cc96\", \"symbol\": \"circle\"}, \"mode\": \"markers\", \"name\": \"color=\\u0642\\u0632\\u0644 \\u0642\\u06cc\\u0647\", \"showlegend\": true, \"type\": \"scatter\", \"x\": [0.0], \"xaxis\": \"x\", \"y\": [68.0], \"yaxis\": \"y\"}, {\"hoverlabel\": {\"namelength\": 0}, \"hovertemplate\": \"color=\\u0642\\u0633\\u0645 (\\u0628\\u0627 \\u0632\\u06cc\\u0631\\u0646\\u0648\\u06cc\\u0633 \\u0645\\u062e\\u0635\\u0648\\u0635 \\u0646\\u0627\\u0634\\u0646\\u0648\\u0627\\u06cc\\u0627\\u0646)<br>Imdb=%{x}<br>Rate=%{y}\", \"legendgroup\": \"color=\\u0642\\u0633\\u0645 (\\u0628\\u0627 \\u0632\\u06cc\\u0631\\u0646\\u0648\\u06cc\\u0633 \\u0645\\u062e\\u0635\\u0648\\u0635 \\u0646\\u0627\\u0634\\u0646\\u0648\\u0627\\u06cc\\u0627\\u0646)\", \"marker\": {\"color\": \"#ab63fa\", \"symbol\": \"circle\"}, \"mode\": \"markers\", \"name\": \"color=\\u0642\\u0633\\u0645 (\\u0628\\u0627 \\u0632\\u06cc\\u0631\\u0646\\u0648\\u06cc\\u0633 \\u0645\\u062e\\u0635\\u0648\\u0635 \\u0646\\u0627\\u0634\\u0646\\u0648\\u0627\\u06cc\\u0627\\u0646)\", \"showlegend\": true, \"type\": \"scatter\", \"x\": [6.3], \"xaxis\": \"x\", \"y\": [177.0], \"yaxis\": \"y\"}, {\"hoverlabel\": {\"namelength\": 0}, \"hovertemplate\": \"color=\\u0642\\u0635\\u0631 \\u0634\\u06cc\\u0631\\u06cc\\u0646 (\\u0628\\u0627 \\u0632\\u06cc\\u0631\\u0646\\u0648\\u06cc\\u0633 \\u0645\\u062e\\u0635\\u0648\\u0635 \\u0646\\u0627\\u0634\\u0646\\u0648\\u0627\\u06cc\\u0627\\u0646)<br>Imdb=%{x}<br>Rate=%{y}\", \"legendgroup\": \"color=\\u0642\\u0635\\u0631 \\u0634\\u06cc\\u0631\\u06cc\\u0646 (\\u0628\\u0627 \\u0632\\u06cc\\u0631\\u0646\\u0648\\u06cc\\u0633 \\u0645\\u062e\\u0635\\u0648\\u0635 \\u0646\\u0627\\u0634\\u0646\\u0648\\u0627\\u06cc\\u0627\\u0646)\", \"marker\": {\"color\": \"#FFA15A\", \"symbol\": \"circle\"}, \"mode\": \"markers\", \"name\": \"color=\\u0642\\u0635\\u0631 \\u0634\\u06cc\\u0631\\u06cc\\u0646 (\\u0628\\u0627 \\u0632\\u06cc\\u0631\\u0646\\u0648\\u06cc\\u0633 \\u0645\\u062e\\u0635\\u0648\\u0635 \\u0646\\u0627\\u0634\\u0646\\u0648\\u0627\\u06cc\\u0627\\u0646)\", \"showlegend\": true, \"type\": \"scatter\", \"x\": [6.6], \"xaxis\": \"x\", \"y\": [123.0], \"yaxis\": \"y\"}, {\"hoverlabel\": {\"namelength\": 0}, \"hovertemplate\": \"color=\\u0642\\u0635\\u0647 \\u062e\\u0627\\u0637\\u0631\\u0647<br>Imdb=%{x}<br>Rate=%{y}\", \"legendgroup\": \"color=\\u0642\\u0635\\u0647 \\u062e\\u0627\\u0637\\u0631\\u0647\", \"marker\": {\"color\": \"#19d3f3\", \"symbol\": \"circle\"}, \"mode\": \"markers\", \"name\": \"color=\\u0642\\u0635\\u0647 \\u062e\\u0627\\u0637\\u0631\\u0647\", \"showlegend\": true, \"type\": \"scatter\", \"x\": [0.0], \"xaxis\": \"x\", \"y\": [301.0], \"yaxis\": \"y\"}, {\"hoverlabel\": {\"namelength\": 0}, \"hovertemplate\": \"color=\\u0642\\u0635\\u0647 \\u06af\\u0645\\u0634\\u062f\\u0647<br>Imdb=%{x}<br>Rate=%{y}\", \"legendgroup\": \"color=\\u0642\\u0635\\u0647 \\u06af\\u0645\\u0634\\u062f\\u0647\", \"marker\": {\"color\": \"#FF6692\", \"symbol\": \"circle\"}, \"mode\": \"markers\", \"name\": \"color=\\u0642\\u0635\\u0647 \\u06af\\u0645\\u0634\\u062f\\u0647\", \"showlegend\": true, \"type\": \"scatter\", \"x\": [5.7], \"xaxis\": \"x\", \"y\": [73.0], \"yaxis\": \"y\"}, {\"hoverlabel\": {\"namelength\": 0}, \"hovertemplate\": \"color=\\u0642\\u0647\\u0631 \\u0648 \\u0622\\u0634\\u062a\\u06cc<br>Imdb=%{x}<br>Rate=%{y}\", \"legendgroup\": \"color=\\u0642\\u0647\\u0631 \\u0648 \\u0622\\u0634\\u062a\\u06cc\", \"marker\": {\"color\": \"#B6E880\", \"symbol\": \"circle\"}, \"mode\": \"markers\", \"name\": \"color=\\u0642\\u0647\\u0631 \\u0648 \\u0622\\u0634\\u062a\\u06cc\", \"showlegend\": true, \"type\": \"scatter\", \"x\": [5.7], \"xaxis\": \"x\", \"y\": [66.0], \"yaxis\": \"y\"}, {\"hoverlabel\": {\"namelength\": 0}, \"hovertemplate\": \"color=\\u0642\\u06cc\\u0635\\u0631\\u060c \\u0686\\u0647\\u0644 \\u0633\\u0627\\u0644 \\u0628\\u0639\\u062f<br>Imdb=%{x}<br>Rate=%{y}\", \"legendgroup\": \"color=\\u0642\\u06cc\\u0635\\u0631\\u060c \\u0686\\u0647\\u0644 \\u0633\\u0627\\u0644 \\u0628\\u0639\\u062f\", \"marker\": {\"color\": \"#FF97FF\", \"symbol\": \"circle\"}, \"mode\": \"markers\", \"name\": \"color=\\u0642\\u06cc\\u0635\\u0631\\u060c \\u0686\\u0647\\u0644 \\u0633\\u0627\\u0644 \\u0628\\u0639\\u062f\", \"showlegend\": true, \"type\": \"scatter\", \"x\": [0.0], \"xaxis\": \"x\", \"y\": [1367.0], \"yaxis\": \"y\"}, {\"hoverlabel\": {\"namelength\": 0}, \"hovertemplate\": \"color=\\u0642\\u06cc\\u0635\\u0631\\u060c \\u0686\\u0647\\u0644 \\u0633\\u0627\\u0644 \\u0628\\u0639\\u062f - \\u067e\\u0634\\u062a \\u0635\\u062d\\u0646\\u0647<br>Imdb=%{x}<br>Rate=%{y}\", \"legendgroup\": \"color=\\u0642\\u06cc\\u0635\\u0631\\u060c \\u0686\\u0647\\u0644 \\u0633\\u0627\\u0644 \\u0628\\u0639\\u062f - \\u067e\\u0634\\u062a \\u0635\\u062d\\u0646\\u0647\", \"marker\": {\"color\": \"#FECB52\", \"symbol\": \"circle\"}, \"mode\": \"markers\", \"name\": \"color=\\u0642\\u06cc\\u0635\\u0631\\u060c \\u0686\\u0647\\u0644 \\u0633\\u0627\\u0644 \\u0628\\u0639\\u062f - \\u067e\\u0634\\u062a \\u0635\\u062d\\u0646\\u0647\", \"showlegend\": true, \"type\": \"scatter\", \"x\": [0.0], \"xaxis\": \"x\", \"y\": [77.0], \"yaxis\": \"y\"}, {\"hoverlabel\": {\"namelength\": 0}, \"hovertemplate\": \"color=\\u0644\\u0627\\u0631\\u0648<br>Imdb=%{x}<br>Rate=%{y}\", \"legendgroup\": \"color=\\u0644\\u0627\\u0631\\u0648\", \"marker\": {\"color\": \"#636efa\", \"symbol\": \"circle\"}, \"mode\": \"markers\", \"name\": \"color=\\u0644\\u0627\\u0631\\u0648\", \"showlegend\": true, \"type\": \"scatter\", \"x\": [0.0], \"xaxis\": \"x\", \"y\": [1728.0], \"yaxis\": \"y\"}, {\"hoverlabel\": {\"namelength\": 0}, \"hovertemplate\": \"color=\\u0644\\u0627\\u06a9 \\u067e\\u0634\\u062a<br>Imdb=%{x}<br>Rate=%{y}\", \"legendgroup\": \"color=\\u0644\\u0627\\u06a9 \\u067e\\u0634\\u062a\", \"marker\": {\"color\": \"#EF553B\", \"symbol\": \"circle\"}, \"mode\": \"markers\", \"name\": \"color=\\u0644\\u0627\\u06a9 \\u067e\\u0634\\u062a\", \"showlegend\": true, \"type\": \"scatter\", \"x\": [5.8], \"xaxis\": \"x\", \"y\": [531.0], \"yaxis\": \"y\"}, {\"hoverlabel\": {\"namelength\": 0}, \"hovertemplate\": \"color=\\u0644\\u0645\\u0633 \\u0645\\u0631\\u06af<br>Imdb=%{x}<br>Rate=%{y}\", \"legendgroup\": \"color=\\u0644\\u0645\\u0633 \\u0645\\u0631\\u06af\", \"marker\": {\"color\": \"#00cc96\", \"symbol\": \"circle\"}, \"mode\": \"markers\", \"name\": \"color=\\u0644\\u0645\\u0633 \\u0645\\u0631\\u06af\", \"showlegend\": true, \"type\": \"scatter\", \"x\": [0.0], \"xaxis\": \"x\", \"y\": [340.0], \"yaxis\": \"y\"}, {\"hoverlabel\": {\"namelength\": 0}, \"hovertemplate\": \"color=\\u0644\\u0648\\u0646\\u0647 \\u0632\\u0646\\u0628\\u0648\\u0631 (\\u0628\\u0627 \\u0632\\u06cc\\u0631\\u0646\\u0648\\u06cc\\u0633 \\u0645\\u062e\\u0635\\u0648\\u0635 \\u0646\\u0627\\u0634\\u0646\\u0648\\u0627\\u06cc\\u0627\\u0646)<br>Imdb=%{x}<br>Rate=%{y}\", \"legendgroup\": \"color=\\u0644\\u0648\\u0646\\u0647 \\u0632\\u0646\\u0628\\u0648\\u0631 (\\u0628\\u0627 \\u0632\\u06cc\\u0631\\u0646\\u0648\\u06cc\\u0633 \\u0645\\u062e\\u0635\\u0648\\u0635 \\u0646\\u0627\\u0634\\u0646\\u0648\\u0627\\u06cc\\u0627\\u0646)\", \"marker\": {\"color\": \"#ab63fa\", \"symbol\": \"circle\"}, \"mode\": \"markers\", \"name\": \"color=\\u0644\\u0648\\u0646\\u0647 \\u0632\\u0646\\u0628\\u0648\\u0631 (\\u0628\\u0627 \\u0632\\u06cc\\u0631\\u0646\\u0648\\u06cc\\u0633 \\u0645\\u062e\\u0635\\u0648\\u0635 \\u0646\\u0627\\u0634\\u0646\\u0648\\u0627\\u06cc\\u0627\\u0646)\", \"showlegend\": true, \"type\": \"scatter\", \"x\": [4.7], \"xaxis\": \"x\", \"y\": [247.0], \"yaxis\": \"y\"}, {\"hoverlabel\": {\"namelength\": 0}, \"hovertemplate\": \"color=\\u0644\\u06cc\\u0648\\u0627\\u0646 \\u0628\\u06cc\\u0646 \\u0627\\u0644\\u062d\\u0631\\u0645\\u06cc\\u0646<br>Imdb=%{x}<br>Rate=%{y}\", \"legendgroup\": \"color=\\u0644\\u06cc\\u0648\\u0627\\u0646 \\u0628\\u06cc\\u0646 \\u0627\\u0644\\u062d\\u0631\\u0645\\u06cc\\u0646\", \"marker\": {\"color\": \"#FFA15A\", \"symbol\": \"circle\"}, \"mode\": \"markers\", \"name\": \"color=\\u0644\\u06cc\\u0648\\u0627\\u0646 \\u0628\\u06cc\\u0646 \\u0627\\u0644\\u062d\\u0631\\u0645\\u06cc\\u0646\", \"showlegend\": true, \"type\": \"scatter\", \"x\": [0.0], \"xaxis\": \"x\", \"y\": [575.0], \"yaxis\": \"y\"}, {\"hoverlabel\": {\"namelength\": 0}, \"hovertemplate\": \"color=\\u0645\\u0623\\u0645\\u0648\\u0631\\u06cc\\u062a \\u0641\\u0631\\u062e\\u0646\\u062f\\u0647<br>Imdb=%{x}<br>Rate=%{y}\", \"legendgroup\": \"color=\\u0645\\u0623\\u0645\\u0648\\u0631\\u06cc\\u062a \\u0641\\u0631\\u062e\\u0646\\u062f\\u0647\", \"marker\": {\"color\": \"#19d3f3\", \"symbol\": \"circle\"}, \"mode\": \"markers\", \"name\": \"color=\\u0645\\u0623\\u0645\\u0648\\u0631\\u06cc\\u062a \\u0641\\u0631\\u062e\\u0646\\u062f\\u0647\", \"showlegend\": true, \"type\": \"scatter\", \"x\": [5.7], \"xaxis\": \"x\", \"y\": [67.0], \"yaxis\": \"y\"}, {\"hoverlabel\": {\"namelength\": 0}, \"hovertemplate\": \"color=\\u0645\\u0627 \\u0627\\u0647\\u0644 \\u06a9\\u0648\\u0641\\u0647 \\u0647\\u0633\\u062a\\u06cc\\u0645<br>Imdb=%{x}<br>Rate=%{y}\", \"legendgroup\": \"color=\\u0645\\u0627 \\u0627\\u0647\\u0644 \\u06a9\\u0648\\u0641\\u0647 \\u0647\\u0633\\u062a\\u06cc\\u0645\", \"marker\": {\"color\": \"#FF6692\", \"symbol\": \"circle\"}, \"mode\": \"markers\", \"name\": \"color=\\u0645\\u0627 \\u0627\\u0647\\u0644 \\u06a9\\u0648\\u0641\\u0647 \\u0647\\u0633\\u062a\\u06cc\\u0645\", \"showlegend\": true, \"type\": \"scatter\", \"x\": [0.0], \"xaxis\": \"x\", \"y\": [684.0], \"yaxis\": \"y\"}, {\"hoverlabel\": {\"namelength\": 0}, \"hovertemplate\": \"color=\\u0645\\u0627 \\u0647\\u0645\\u0647 \\u0628\\u0627 \\u0647\\u0645 \\u0647\\u0633\\u062a\\u06cc\\u0645 (\\u0628\\u0627 \\u0632\\u06cc\\u0631\\u0646\\u0648\\u06cc\\u0633 \\u0645\\u062e\\u0635\\u0648\\u0635 \\u0646\\u0627\\u0634\\u0646\\u0648\\u0627\\u06cc\\u0627\\u0646)<br>Imdb=%{x}<br>Rate=%{y}\", \"legendgroup\": \"color=\\u0645\\u0627 \\u0647\\u0645\\u0647 \\u0628\\u0627 \\u0647\\u0645 \\u0647\\u0633\\u062a\\u06cc\\u0645 (\\u0628\\u0627 \\u0632\\u06cc\\u0631\\u0646\\u0648\\u06cc\\u0633 \\u0645\\u062e\\u0635\\u0648\\u0635 \\u0646\\u0627\\u0634\\u0646\\u0648\\u0627\\u06cc\\u0627\\u0646)\", \"marker\": {\"color\": \"#B6E880\", \"symbol\": \"circle\"}, \"mode\": \"markers\", \"name\": \"color=\\u0645\\u0627 \\u0647\\u0645\\u0647 \\u0628\\u0627 \\u0647\\u0645 \\u0647\\u0633\\u062a\\u06cc\\u0645 (\\u0628\\u0627 \\u0632\\u06cc\\u0631\\u0646\\u0648\\u06cc\\u0633 \\u0645\\u062e\\u0635\\u0648\\u0635 \\u0646\\u0627\\u0634\\u0646\\u0648\\u0627\\u06cc\\u0627\\u0646)\", \"showlegend\": true, \"type\": \"scatter\", \"x\": [4.2], \"xaxis\": \"x\", \"y\": [473.0], \"yaxis\": \"y\"}, {\"hoverlabel\": {\"namelength\": 0}, \"hovertemplate\": \"color=\\u0645\\u0627 \\u0647\\u0645\\u0647 \\u06a9\\u0627\\u0631\\u06af\\u0631\\u062f\\u0627\\u0646\\u06cc\\u0645<br>Imdb=%{x}<br>Rate=%{y}\", \"legendgroup\": \"color=\\u0645\\u0627 \\u0647\\u0645\\u0647 \\u06a9\\u0627\\u0631\\u06af\\u0631\\u062f\\u0627\\u0646\\u06cc\\u0645\", \"marker\": {\"color\": \"#FF97FF\", \"symbol\": \"circle\"}, \"mode\": \"markers\", \"name\": \"color=\\u0645\\u0627 \\u0647\\u0645\\u0647 \\u06a9\\u0627\\u0631\\u06af\\u0631\\u062f\\u0627\\u0646\\u06cc\\u0645\", \"showlegend\": true, \"type\": \"scatter\", \"x\": [0.0], \"xaxis\": \"x\", \"y\": [23.0], \"yaxis\": \"y\"}, {\"hoverlabel\": {\"namelength\": 0}, \"hovertemplate\": \"color=\\u0645\\u0627\\u062c\\u0627\\u0646<br>Imdb=%{x}<br>Rate=%{y}\", \"legendgroup\": \"color=\\u0645\\u0627\\u062c\\u0627\\u0646\", \"marker\": {\"color\": \"#FECB52\", \"symbol\": \"circle\"}, \"mode\": \"markers\", \"name\": \"color=\\u0645\\u0627\\u062c\\u0627\\u0646\", \"showlegend\": true, \"type\": \"scatter\", \"x\": [5.6], \"xaxis\": \"x\", \"y\": [9241.0], \"yaxis\": \"y\"}, {\"hoverlabel\": {\"namelength\": 0}, \"hovertemplate\": \"color=\\u0645\\u0627\\u062c\\u0631\\u0627\\u0647\\u0627\\u06cc \\u0627\\u06cc\\u0646\\u062a\\u0631\\u0646\\u062a\\u06cc<br>Imdb=%{x}<br>Rate=%{y}\", \"legendgroup\": \"color=\\u0645\\u0627\\u062c\\u0631\\u0627\\u0647\\u0627\\u06cc \\u0627\\u06cc\\u0646\\u062a\\u0631\\u0646\\u062a\\u06cc\", \"marker\": {\"color\": \"#636efa\", \"symbol\": \"circle\"}, \"mode\": \"markers\", \"name\": \"color=\\u0645\\u0627\\u062c\\u0631\\u0627\\u0647\\u0627\\u06cc \\u0627\\u06cc\\u0646\\u062a\\u0631\\u0646\\u062a\\u06cc\", \"showlegend\": true, \"type\": \"scatter\", \"x\": [4.1], \"xaxis\": \"x\", \"y\": [894.0], \"yaxis\": \"y\"}, {\"hoverlabel\": {\"namelength\": 0}, \"hovertemplate\": \"color=\\u0645\\u0627\\u062c\\u0631\\u0627\\u06cc \\u0646\\u06cc\\u0645\\u0631\\u0648\\u0632 (\\u0628\\u0627 \\u0632\\u06cc\\u0631\\u0646\\u0648\\u06cc\\u0633 \\u0645\\u062e\\u0635\\u0648\\u0635 \\u0646\\u0627\\u0634\\u0646\\u0648\\u0627\\u06cc\\u0627\\u0646)<br>Imdb=%{x}<br>Rate=%{y}\", \"legendgroup\": \"color=\\u0645\\u0627\\u062c\\u0631\\u0627\\u06cc \\u0646\\u06cc\\u0645\\u0631\\u0648\\u0632 (\\u0628\\u0627 \\u0632\\u06cc\\u0631\\u0646\\u0648\\u06cc\\u0633 \\u0645\\u062e\\u0635\\u0648\\u0635 \\u0646\\u0627\\u0634\\u0646\\u0648\\u0627\\u06cc\\u0627\\u0646)\", \"marker\": {\"color\": \"#EF553B\", \"symbol\": \"circle\"}, \"mode\": \"markers\", \"name\": \"color=\\u0645\\u0627\\u062c\\u0631\\u0627\\u06cc \\u0646\\u06cc\\u0645\\u0631\\u0648\\u0632 (\\u0628\\u0627 \\u0632\\u06cc\\u0631\\u0646\\u0648\\u06cc\\u0633 \\u0645\\u062e\\u0635\\u0648\\u0635 \\u0646\\u0627\\u0634\\u0646\\u0648\\u0627\\u06cc\\u0627\\u0646)\", \"showlegend\": true, \"type\": \"scatter\", \"x\": [6.8], \"xaxis\": \"x\", \"y\": [331.0], \"yaxis\": \"y\"}, {\"hoverlabel\": {\"namelength\": 0}, \"hovertemplate\": \"color=\\u0645\\u0627\\u062c\\u0631\\u0627\\u06cc \\u0646\\u06cc\\u0645\\u0631\\u0648\\u0632 2 : \\u0631\\u062f \\u062e\\u0648\\u0646 (\\u0628\\u0627 \\u0632\\u06cc\\u0631\\u0646\\u0648\\u06cc\\u0633 \\u0645\\u062e\\u0635\\u0648\\u0635 \\u0646\\u0627\\u0634\\u0646\\u0648\\u0627\\u06cc\\u0627\\u0646)<br>Imdb=%{x}<br>Rate=%{y}\", \"legendgroup\": \"color=\\u0645\\u0627\\u062c\\u0631\\u0627\\u06cc \\u0646\\u06cc\\u0645\\u0631\\u0648\\u0632 2 : \\u0631\\u062f \\u062e\\u0648\\u0646 (\\u0628\\u0627 \\u0632\\u06cc\\u0631\\u0646\\u0648\\u06cc\\u0633 \\u0645\\u062e\\u0635\\u0648\\u0635 \\u0646\\u0627\\u0634\\u0646\\u0648\\u0627\\u06cc\\u0627\\u0646)\", \"marker\": {\"color\": \"#00cc96\", \"symbol\": \"circle\"}, \"mode\": \"markers\", \"name\": \"color=\\u0645\\u0627\\u062c\\u0631\\u0627\\u06cc \\u0646\\u06cc\\u0645\\u0631\\u0648\\u0632 2 : \\u0631\\u062f \\u062e\\u0648\\u0646 (\\u0628\\u0627 \\u0632\\u06cc\\u0631\\u0646\\u0648\\u06cc\\u0633 \\u0645\\u062e\\u0635\\u0648\\u0635 \\u0646\\u0627\\u0634\\u0646\\u0648\\u0627\\u06cc\\u0627\\u0646)\", \"showlegend\": true, \"type\": \"scatter\", \"x\": [6.4], \"xaxis\": \"x\", \"y\": [302.0], \"yaxis\": \"y\"}, {\"hoverlabel\": {\"namelength\": 0}, \"hovertemplate\": \"color=\\u0645\\u0627\\u062f\\u0631\\u06cc<br>Imdb=%{x}<br>Rate=%{y}\", \"legendgroup\": \"color=\\u0645\\u0627\\u062f\\u0631\\u06cc\", \"marker\": {\"color\": \"#ab63fa\", \"symbol\": \"circle\"}, \"mode\": \"markers\", \"name\": \"color=\\u0645\\u0627\\u062f\\u0631\\u06cc\", \"showlegend\": true, \"type\": \"scatter\", \"x\": [0.0], \"xaxis\": \"x\", \"y\": [96.0], \"yaxis\": \"y\"}, {\"hoverlabel\": {\"namelength\": 0}, \"hovertemplate\": \"color=\\u0645\\u0627\\u0631<br>Imdb=%{x}<br>Rate=%{y}\", \"legendgroup\": \"color=\\u0645\\u0627\\u0631\", \"marker\": {\"color\": \"#FFA15A\", \"symbol\": \"circle\"}, \"mode\": \"markers\", \"name\": \"color=\\u0645\\u0627\\u0631\", \"showlegend\": true, \"type\": \"scatter\", \"x\": [5.7], \"xaxis\": \"x\", \"y\": [254.0], \"yaxis\": \"y\"}, {\"hoverlabel\": {\"namelength\": 0}, \"hovertemplate\": \"color=\\u0645\\u0627\\u0631\\u0627\\u062a\\u0646 \\u062f\\u0631 \\u0642\\u0641\\u0633<br>Imdb=%{x}<br>Rate=%{y}\", \"legendgroup\": \"color=\\u0645\\u0627\\u0631\\u0627\\u062a\\u0646 \\u062f\\u0631 \\u0642\\u0641\\u0633\", \"marker\": {\"color\": \"#19d3f3\", \"symbol\": \"circle\"}, \"mode\": \"markers\", \"name\": \"color=\\u0645\\u0627\\u0631\\u0627\\u062a\\u0646 \\u062f\\u0631 \\u0642\\u0641\\u0633\", \"showlegend\": true, \"type\": \"scatter\", \"x\": [0.0], \"xaxis\": \"x\", \"y\": [33.0], \"yaxis\": \"y\"}, {\"hoverlabel\": {\"namelength\": 0}, \"hovertemplate\": \"color=\\u0645\\u0627\\u0647\\u0631\\u062e<br>Imdb=%{x}<br>Rate=%{y}\", \"legendgroup\": \"color=\\u0645\\u0627\\u0647\\u0631\\u062e\", \"marker\": {\"color\": \"#FF6692\", \"symbol\": \"circle\"}, \"mode\": \"markers\", \"name\": \"color=\\u0645\\u0627\\u0647\\u0631\\u062e\", \"showlegend\": true, \"type\": \"scatter\", \"x\": [0.0], \"xaxis\": \"x\", \"y\": [174.0], \"yaxis\": \"y\"}, {\"hoverlabel\": {\"namelength\": 0}, \"hovertemplate\": \"color=\\u0645\\u062a\\u0631\\u06cc \\u0634\\u06cc\\u0634 \\u0648 \\u0646\\u06cc\\u0645 (\\u0628\\u0627 \\u0632\\u06cc\\u0631\\u0646\\u0648\\u06cc\\u0633 \\u0645\\u062e\\u0635\\u0648\\u0635 \\u0646\\u0627\\u0634\\u0646\\u0648\\u0627\\u06cc\\u0627\\u0646)<br>Imdb=%{x}<br>Rate=%{y}\", \"legendgroup\": \"color=\\u0645\\u062a\\u0631\\u06cc \\u0634\\u06cc\\u0634 \\u0648 \\u0646\\u06cc\\u0645 (\\u0628\\u0627 \\u0632\\u06cc\\u0631\\u0646\\u0648\\u06cc\\u0633 \\u0645\\u062e\\u0635\\u0648\\u0635 \\u0646\\u0627\\u0634\\u0646\\u0648\\u0627\\u06cc\\u0627\\u0646)\", \"marker\": {\"color\": \"#B6E880\", \"symbol\": \"circle\"}, \"mode\": \"markers\", \"name\": \"color=\\u0645\\u062a\\u0631\\u06cc \\u0634\\u06cc\\u0634 \\u0648 \\u0646\\u06cc\\u0645 (\\u0628\\u0627 \\u0632\\u06cc\\u0631\\u0646\\u0648\\u06cc\\u0633 \\u0645\\u062e\\u0635\\u0648\\u0635 \\u0646\\u0627\\u0634\\u0646\\u0648\\u0627\\u06cc\\u0627\\u0646)\", \"showlegend\": true, \"type\": \"scatter\", \"x\": [8.0], \"xaxis\": \"x\", \"y\": [432.0], \"yaxis\": \"y\"}, {\"hoverlabel\": {\"namelength\": 0}, \"hovertemplate\": \"color=\\u0645\\u062d\\u0627\\u0635\\u0631\\u0647 \\u06a9\\u0648\\u062a<br>Imdb=%{x}<br>Rate=%{y}\", \"legendgroup\": \"color=\\u0645\\u062d\\u0627\\u0635\\u0631\\u0647 \\u06a9\\u0648\\u062a\", \"marker\": {\"color\": \"#FF97FF\", \"symbol\": \"circle\"}, \"mode\": \"markers\", \"name\": \"color=\\u0645\\u062d\\u0627\\u0635\\u0631\\u0647 \\u06a9\\u0648\\u062a\", \"showlegend\": true, \"type\": \"scatter\", \"x\": [0.0], \"xaxis\": \"x\", \"y\": [32.0], \"yaxis\": \"y\"}, {\"hoverlabel\": {\"namelength\": 0}, \"hovertemplate\": \"color=\\u0645\\u062d\\u0644\\u0647 \\u0645\\u0646<br>Imdb=%{x}<br>Rate=%{y}\", \"legendgroup\": \"color=\\u0645\\u062d\\u0644\\u0647 \\u0645\\u0646\", \"marker\": {\"color\": \"#FECB52\", \"symbol\": \"circle\"}, \"mode\": \"markers\", \"name\": \"color=\\u0645\\u062d\\u0644\\u0647 \\u0645\\u0646\", \"showlegend\": true, \"type\": \"scatter\", \"x\": [0.0], \"xaxis\": \"x\", \"y\": [68.0], \"yaxis\": \"y\"}, {\"hoverlabel\": {\"namelength\": 0}, \"hovertemplate\": \"color=\\u0645\\u0631\\u062f \\u062d\\u0646\\u062c\\u0631\\u0647 \\u0637\\u0644\\u0627\\u06cc\\u06cc<br>Imdb=%{x}<br>Rate=%{y}\", \"legendgroup\": \"color=\\u0645\\u0631\\u062f \\u062d\\u0646\\u062c\\u0631\\u0647 \\u0637\\u0644\\u0627\\u06cc\\u06cc\", \"marker\": {\"color\": \"#636efa\", \"symbol\": \"circle\"}, \"mode\": \"markers\", \"name\": \"color=\\u0645\\u0631\\u062f \\u062d\\u0646\\u062c\\u0631\\u0647 \\u0637\\u0644\\u0627\\u06cc\\u06cc\", \"showlegend\": true, \"type\": \"scatter\", \"x\": [0.0], \"xaxis\": \"x\", \"y\": [159.0], \"yaxis\": \"y\"}, {\"hoverlabel\": {\"namelength\": 0}, \"hovertemplate\": \"color=\\u0645\\u0631\\u062f\\u0646 \\u062f\\u0631 \\u0622\\u0628 \\u0645\\u0637\\u0647\\u0631<br>Imdb=%{x}<br>Rate=%{y}\", \"legendgroup\": \"color=\\u0645\\u0631\\u062f\\u0646 \\u062f\\u0631 \\u0622\\u0628 \\u0645\\u0637\\u0647\\u0631\", \"marker\": {\"color\": \"#EF553B\", \"symbol\": \"circle\"}, \"mode\": \"markers\", \"name\": \"color=\\u0645\\u0631\\u062f\\u0646 \\u062f\\u0631 \\u0622\\u0628 \\u0645\\u0637\\u0647\\u0631\", \"showlegend\": true, \"type\": \"scatter\", \"x\": [5.6], \"xaxis\": \"x\", \"y\": [18151.0], \"yaxis\": \"y\"}, {\"hoverlabel\": {\"namelength\": 0}, \"hovertemplate\": \"color=\\u0645\\u0631\\u062f\\u06cc \\u0628\\u0627 \\u0633\\u0644\\u0627\\u062d \\u06a9\\u0644\\u0645\\u0627\\u062a<br>Imdb=%{x}<br>Rate=%{y}\", \"legendgroup\": \"color=\\u0645\\u0631\\u062f\\u06cc \\u0628\\u0627 \\u0633\\u0644\\u0627\\u062d \\u06a9\\u0644\\u0645\\u0627\\u062a\", \"marker\": {\"color\": \"#00cc96\", \"symbol\": \"circle\"}, \"mode\": \"markers\", \"name\": \"color=\\u0645\\u0631\\u062f\\u06cc \\u0628\\u0627 \\u0633\\u0644\\u0627\\u062d \\u06a9\\u0644\\u0645\\u0627\\u062a\", \"showlegend\": true, \"type\": \"scatter\", \"x\": [0.0], \"xaxis\": \"x\", \"y\": [36.0], \"yaxis\": \"y\"}, {\"hoverlabel\": {\"namelength\": 0}, \"hovertemplate\": \"color=\\u0645\\u0631\\u0632\\u062f\\u0627\\u0631\\u0627\\u0646<br>Imdb=%{x}<br>Rate=%{y}\", \"legendgroup\": \"color=\\u0645\\u0631\\u0632\\u062f\\u0627\\u0631\\u0627\\u0646\", \"marker\": {\"color\": \"#ab63fa\", \"symbol\": \"circle\"}, \"mode\": \"markers\", \"name\": \"color=\\u0645\\u0631\\u0632\\u062f\\u0627\\u0631\\u0627\\u0646\", \"showlegend\": true, \"type\": \"scatter\", \"x\": [0.0], \"xaxis\": \"x\", \"y\": [45.0], \"yaxis\": \"y\"}, {\"hoverlabel\": {\"namelength\": 0}, \"hovertemplate\": \"color=\\u0645\\u0631\\u063a \\u062f\\u0631\\u06cc\\u0627\\u06cc\\u06cc \\u0645\\u0646<br>Imdb=%{x}<br>Rate=%{y}\", \"legendgroup\": \"color=\\u0645\\u0631\\u063a \\u062f\\u0631\\u06cc\\u0627\\u06cc\\u06cc \\u0645\\u0646\", \"marker\": {\"color\": \"#FFA15A\", \"symbol\": \"circle\"}, \"mode\": \"markers\", \"name\": \"color=\\u0645\\u0631\\u063a \\u062f\\u0631\\u06cc\\u0627\\u06cc\\u06cc \\u0645\\u0646\", \"showlegend\": true, \"type\": \"scatter\", \"x\": [0.0], \"xaxis\": \"x\", \"y\": [472.0], \"yaxis\": \"y\"}, {\"hoverlabel\": {\"namelength\": 0}, \"hovertemplate\": \"color=\\u0645\\u0631\\u06af \\u0631\\u0648\\u0634\\u0646<br>Imdb=%{x}<br>Rate=%{y}\", \"legendgroup\": \"color=\\u0645\\u0631\\u06af \\u0631\\u0648\\u0634\\u0646\", \"marker\": {\"color\": \"#19d3f3\", \"symbol\": \"circle\"}, \"mode\": \"markers\", \"name\": \"color=\\u0645\\u0631\\u06af \\u0631\\u0648\\u0634\\u0646\", \"showlegend\": true, \"type\": \"scatter\", \"x\": [0.0], \"xaxis\": \"x\", \"y\": [28.0], \"yaxis\": \"y\"}, {\"hoverlabel\": {\"namelength\": 0}, \"hovertemplate\": \"color=\\u0645\\u0633\\u0627\\u0628\\u0642\\u0647 \\u0627\\u0632\\u062f\\u0648\\u0627\\u062c<br>Imdb=%{x}<br>Rate=%{y}\", \"legendgroup\": \"color=\\u0645\\u0633\\u0627\\u0628\\u0642\\u0647 \\u0627\\u0632\\u062f\\u0648\\u0627\\u062c\", \"marker\": {\"color\": \"#FF6692\", \"symbol\": \"circle\"}, \"mode\": \"markers\", \"name\": \"color=\\u0645\\u0633\\u0627\\u0628\\u0642\\u0647 \\u0627\\u0632\\u062f\\u0648\\u0627\\u062c\", \"showlegend\": true, \"type\": \"scatter\", \"x\": [0.0], \"xaxis\": \"x\", \"y\": [1635.0], \"yaxis\": \"y\"}, {\"hoverlabel\": {\"namelength\": 0}, \"hovertemplate\": \"color=\\u0645\\u0633\\u0627\\u062d\\u062a \\u0632\\u0646\\u062f\\u06af\\u06cc<br>Imdb=%{x}<br>Rate=%{y}\", \"legendgroup\": \"color=\\u0645\\u0633\\u0627\\u062d\\u062a \\u0632\\u0646\\u062f\\u06af\\u06cc\", \"marker\": {\"color\": \"#B6E880\", \"symbol\": \"circle\"}, \"mode\": \"markers\", \"name\": \"color=\\u0645\\u0633\\u0627\\u062d\\u062a \\u0632\\u0646\\u062f\\u06af\\u06cc\", \"showlegend\": true, \"type\": \"scatter\", \"x\": [0.0], \"xaxis\": \"x\", \"y\": [7.0], \"yaxis\": \"y\"}, {\"hoverlabel\": {\"namelength\": 0}, \"hovertemplate\": \"color=\\u0645\\u0633\\u0627\\u0641\\u0631\\u0627\\u0646 \\u0628\\u0647\\u0634\\u062a<br>Imdb=%{x}<br>Rate=%{y}\", \"legendgroup\": \"color=\\u0645\\u0633\\u0627\\u0641\\u0631\\u0627\\u0646 \\u0628\\u0647\\u0634\\u062a\", \"marker\": {\"color\": \"#FF97FF\", \"symbol\": \"circle\"}, \"mode\": \"markers\", \"name\": \"color=\\u0645\\u0633\\u0627\\u0641\\u0631\\u0627\\u0646 \\u0628\\u0647\\u0634\\u062a\", \"showlegend\": true, \"type\": \"scatter\", \"x\": [0.0], \"xaxis\": \"x\", \"y\": [114.0], \"yaxis\": \"y\"}, {\"hoverlabel\": {\"namelength\": 0}, \"hovertemplate\": \"color=\\u0645\\u0633\\u062a\\u0627\\u0646\\u0647 - \\u067e\\u0634\\u062a \\u0635\\u062d\\u0646\\u0647<br>Imdb=%{x}<br>Rate=%{y}\", \"legendgroup\": \"color=\\u0645\\u0633\\u062a\\u0627\\u0646\\u0647 - \\u067e\\u0634\\u062a \\u0635\\u062d\\u0646\\u0647\", \"marker\": {\"color\": \"#FECB52\", \"symbol\": \"circle\"}, \"mode\": \"markers\", \"name\": \"color=\\u0645\\u0633\\u062a\\u0627\\u0646\\u0647 - \\u067e\\u0634\\u062a \\u0635\\u062d\\u0646\\u0647\", \"showlegend\": true, \"type\": \"scatter\", \"x\": [5.2], \"xaxis\": \"x\", \"y\": [26.0], \"yaxis\": \"y\"}, {\"hoverlabel\": {\"namelength\": 0}, \"hovertemplate\": \"color=\\u0645\\u0633\\u062e\\u0631\\u0647 \\u0628\\u0627\\u0632 (\\u0628\\u0627 \\u0632\\u06cc\\u0631\\u0646\\u0648\\u06cc\\u0633 \\u0645\\u062e\\u0635\\u0648\\u0635 \\u0646\\u0627\\u0634\\u0646\\u0648\\u0627\\u06cc\\u0627\\u0646)<br>Imdb=%{x}<br>Rate=%{y}\", \"legendgroup\": \"color=\\u0645\\u0633\\u062e\\u0631\\u0647 \\u0628\\u0627\\u0632 (\\u0628\\u0627 \\u0632\\u06cc\\u0631\\u0646\\u0648\\u06cc\\u0633 \\u0645\\u062e\\u0635\\u0648\\u0635 \\u0646\\u0627\\u0634\\u0646\\u0648\\u0627\\u06cc\\u0627\\u0646)\", \"marker\": {\"color\": \"#636efa\", \"symbol\": \"circle\"}, \"mode\": \"markers\", \"name\": \"color=\\u0645\\u0633\\u062e\\u0631\\u0647 \\u0628\\u0627\\u0632 (\\u0628\\u0627 \\u0632\\u06cc\\u0631\\u0646\\u0648\\u06cc\\u0633 \\u0645\\u062e\\u0635\\u0648\\u0635 \\u0646\\u0627\\u0634\\u0646\\u0648\\u0627\\u06cc\\u0627\\u0646)\", \"showlegend\": true, \"type\": \"scatter\", \"x\": [6.4], \"xaxis\": \"x\", \"y\": [250.0], \"yaxis\": \"y\"}, {\"hoverlabel\": {\"namelength\": 0}, \"hovertemplate\": \"color=\\u0645\\u0633\\u0639\\u0648\\u062f \\u06a9\\u06cc\\u0645\\u06cc\\u0627\\u06cc\\u06cc: \\u0632\\u0646\\u062f\\u06af\\u06cc \\u0648 \\u0622\\u062b\\u0627\\u0631<br>Imdb=%{x}<br>Rate=%{y}\", \"legendgroup\": \"color=\\u0645\\u0633\\u0639\\u0648\\u062f \\u06a9\\u06cc\\u0645\\u06cc\\u0627\\u06cc\\u06cc: \\u0632\\u0646\\u062f\\u06af\\u06cc \\u0648 \\u0622\\u062b\\u0627\\u0631\", \"marker\": {\"color\": \"#EF553B\", \"symbol\": \"circle\"}, \"mode\": \"markers\", \"name\": \"color=\\u0645\\u0633\\u0639\\u0648\\u062f \\u06a9\\u06cc\\u0645\\u06cc\\u0627\\u06cc\\u06cc: \\u0632\\u0646\\u062f\\u06af\\u06cc \\u0648 \\u0622\\u062b\\u0627\\u0631\", \"showlegend\": true, \"type\": \"scatter\", \"x\": [0.0], \"xaxis\": \"x\", \"y\": [47.0], \"yaxis\": \"y\"}, {\"hoverlabel\": {\"namelength\": 0}, \"hovertemplate\": \"color=\\u0645\\u0633\\u0644\\u0648\\u0628<br>Imdb=%{x}<br>Rate=%{y}\", \"legendgroup\": \"color=\\u0645\\u0633\\u0644\\u0648\\u0628\", \"marker\": {\"color\": \"#00cc96\", \"symbol\": \"circle\"}, \"mode\": \"markers\", \"name\": \"color=\\u0645\\u0633\\u0644\\u0648\\u0628\", \"showlegend\": true, \"type\": \"scatter\", \"x\": [0.0], \"xaxis\": \"x\", \"y\": [1092.0], \"yaxis\": \"y\"}, {\"hoverlabel\": {\"namelength\": 0}, \"hovertemplate\": \"color=\\u0645\\u0633\\u06cc\\u0631 \\u0646\\u0648<br>Imdb=%{x}<br>Rate=%{y}\", \"legendgroup\": \"color=\\u0645\\u0633\\u06cc\\u0631 \\u0646\\u0648\", \"marker\": {\"color\": \"#ab63fa\", \"symbol\": \"circle\"}, \"mode\": \"markers\", \"name\": \"color=\\u0645\\u0633\\u06cc\\u0631 \\u0646\\u0648\", \"showlegend\": true, \"type\": \"scatter\", \"x\": [0.0], \"xaxis\": \"x\", \"y\": [1.0], \"yaxis\": \"y\"}, {\"hoverlabel\": {\"namelength\": 0}, \"hovertemplate\": \"color=\\u0645\\u0637\\u0631\\u0628 (\\u0628\\u0627 \\u0632\\u06cc\\u0631\\u0646\\u0648\\u06cc\\u0633 \\u0645\\u062e\\u0635\\u0648\\u0635 \\u0646\\u0627\\u0634\\u0646\\u0648\\u0627\\u06cc\\u0627\\u0646)<br>Imdb=%{x}<br>Rate=%{y}\", \"legendgroup\": \"color=\\u0645\\u0637\\u0631\\u0628 (\\u0628\\u0627 \\u0632\\u06cc\\u0631\\u0646\\u0648\\u06cc\\u0633 \\u0645\\u062e\\u0635\\u0648\\u0635 \\u0646\\u0627\\u0634\\u0646\\u0648\\u0627\\u06cc\\u0627\\u0646)\", \"marker\": {\"color\": \"#FFA15A\", \"symbol\": \"circle\"}, \"mode\": \"markers\", \"name\": \"color=\\u0645\\u0637\\u0631\\u0628 (\\u0628\\u0627 \\u0632\\u06cc\\u0631\\u0646\\u0648\\u06cc\\u0633 \\u0645\\u062e\\u0635\\u0648\\u0635 \\u0646\\u0627\\u0634\\u0646\\u0648\\u0627\\u06cc\\u0627\\u0646)\", \"showlegend\": true, \"type\": \"scatter\", \"x\": [4.4], \"xaxis\": \"x\", \"y\": [279.0], \"yaxis\": \"y\"}, {\"hoverlabel\": {\"namelength\": 0}, \"hovertemplate\": \"color=\\u0645\\u0639\\u06a9\\u0648\\u0633 (\\u0628\\u0627 \\u0632\\u06cc\\u0631\\u0646\\u0648\\u06cc\\u0633 \\u0645\\u062e\\u0635\\u0648\\u0635 \\u0646\\u0627\\u0634\\u0646\\u0648\\u0627\\u06cc\\u0627\\u0646)<br>Imdb=%{x}<br>Rate=%{y}\", \"legendgroup\": \"color=\\u0645\\u0639\\u06a9\\u0648\\u0633 (\\u0628\\u0627 \\u0632\\u06cc\\u0631\\u0646\\u0648\\u06cc\\u0633 \\u0645\\u062e\\u0635\\u0648\\u0635 \\u0646\\u0627\\u0634\\u0646\\u0648\\u0627\\u06cc\\u0627\\u0646)\", \"marker\": {\"color\": \"#19d3f3\", \"symbol\": \"circle\"}, \"mode\": \"markers\", \"name\": \"color=\\u0645\\u0639\\u06a9\\u0648\\u0633 (\\u0628\\u0627 \\u0632\\u06cc\\u0631\\u0646\\u0648\\u06cc\\u0633 \\u0645\\u062e\\u0635\\u0648\\u0635 \\u0646\\u0627\\u0634\\u0646\\u0648\\u0627\\u06cc\\u0627\\u0646)\", \"showlegend\": true, \"type\": \"scatter\", \"x\": [4.9], \"xaxis\": \"x\", \"y\": [45.0], \"yaxis\": \"y\"}, {\"hoverlabel\": {\"namelength\": 0}, \"hovertemplate\": \"color=\\u0645\\u0644\\u0627\\u0642\\u0627\\u062a \\u0645\\u062d\\u0631\\u0645\\u0627\\u0646\\u0647 \\u062e\\u0627\\u0646\\u0645 \\u0648 \\u0622\\u0642\\u0627<br>Imdb=%{x}<br>Rate=%{y}\", \"legendgroup\": \"color=\\u0645\\u0644\\u0627\\u0642\\u0627\\u062a \\u0645\\u062d\\u0631\\u0645\\u0627\\u0646\\u0647 \\u062e\\u0627\\u0646\\u0645 \\u0648 \\u0622\\u0642\\u0627\", \"marker\": {\"color\": \"#FF6692\", \"symbol\": \"circle\"}, \"mode\": \"markers\", \"name\": \"color=\\u0645\\u0644\\u0627\\u0642\\u0627\\u062a \\u0645\\u062d\\u0631\\u0645\\u0627\\u0646\\u0647 \\u062e\\u0627\\u0646\\u0645 \\u0648 \\u0622\\u0642\\u0627\", \"showlegend\": true, \"type\": \"scatter\", \"x\": [0.0], \"xaxis\": \"x\", \"y\": [3781.0], \"yaxis\": \"y\"}, {\"hoverlabel\": {\"namelength\": 0}, \"hovertemplate\": \"color=\\u0645\\u0644\\u06a9 \\u062e\\u0627\\u062a\\u0648\\u0646<br>Imdb=%{x}<br>Rate=%{y}\", \"legendgroup\": \"color=\\u0645\\u0644\\u06a9 \\u062e\\u0627\\u062a\\u0648\\u0646\", \"marker\": {\"color\": \"#B6E880\", \"symbol\": \"circle\"}, \"mode\": \"markers\", \"name\": \"color=\\u0645\\u0644\\u06a9 \\u062e\\u0627\\u062a\\u0648\\u0646\", \"showlegend\": true, \"type\": \"scatter\", \"x\": [0.0], \"xaxis\": \"x\", \"y\": [388.0], \"yaxis\": \"y\"}, {\"hoverlabel\": {\"namelength\": 0}, \"hovertemplate\": \"color=\\u0645\\u0645\\u06cc\\u0631\\u0648<br>Imdb=%{x}<br>Rate=%{y}\", \"legendgroup\": \"color=\\u0645\\u0645\\u06cc\\u0631\\u0648\", \"marker\": {\"color\": \"#FF97FF\", \"symbol\": \"circle\"}, \"mode\": \"markers\", \"name\": \"color=\\u0645\\u0645\\u06cc\\u0631\\u0648\", \"showlegend\": true, \"type\": \"scatter\", \"x\": [0.0], \"xaxis\": \"x\", \"y\": [191.0], \"yaxis\": \"y\"}, {\"hoverlabel\": {\"namelength\": 0}, \"hovertemplate\": \"color=\\u0645\\u0646 (\\u0628\\u0627 \\u0632\\u06cc\\u0631\\u0646\\u0648\\u06cc\\u0633 \\u0645\\u062e\\u0635\\u0648\\u0635 \\u0646\\u0627\\u0634\\u0646\\u0648\\u0627\\u06cc\\u0627\\u0646)<br>Imdb=%{x}<br>Rate=%{y}\", \"legendgroup\": \"color=\\u0645\\u0646 (\\u0628\\u0627 \\u0632\\u06cc\\u0631\\u0646\\u0648\\u06cc\\u0633 \\u0645\\u062e\\u0635\\u0648\\u0635 \\u0646\\u0627\\u0634\\u0646\\u0648\\u0627\\u06cc\\u0627\\u0646)\", \"marker\": {\"color\": \"#FECB52\", \"symbol\": \"circle\"}, \"mode\": \"markers\", \"name\": \"color=\\u0645\\u0646 (\\u0628\\u0627 \\u0632\\u06cc\\u0631\\u0646\\u0648\\u06cc\\u0633 \\u0645\\u062e\\u0635\\u0648\\u0635 \\u0646\\u0627\\u0634\\u0646\\u0648\\u0627\\u06cc\\u0627\\u0646)\", \"showlegend\": true, \"type\": \"scatter\", \"x\": [5.3], \"xaxis\": \"x\", \"y\": [119.0], \"yaxis\": \"y\"}, {\"hoverlabel\": {\"namelength\": 0}, \"hovertemplate\": \"color=\\u0645\\u0647\\u062a\\u0627\\u0628<br>Imdb=%{x}<br>Rate=%{y}\", \"legendgroup\": \"color=\\u0645\\u0647\\u062a\\u0627\\u0628\", \"marker\": {\"color\": \"#636efa\", \"symbol\": \"circle\"}, \"mode\": \"markers\", \"name\": \"color=\\u0645\\u0647\\u062a\\u0627\\u0628\", \"showlegend\": true, \"type\": \"scatter\", \"x\": [0.0], \"xaxis\": \"x\", \"y\": [152.0], \"yaxis\": \"y\"}, {\"hoverlabel\": {\"namelength\": 0}, \"hovertemplate\": \"color=\\u0645\\u0647\\u0631\\u06cc\\u0647<br>Imdb=%{x}<br>Rate=%{y}\", \"legendgroup\": \"color=\\u0645\\u0647\\u0631\\u06cc\\u0647\", \"marker\": {\"color\": \"#EF553B\", \"symbol\": \"circle\"}, \"mode\": \"markers\", \"name\": \"color=\\u0645\\u0647\\u0631\\u06cc\\u0647\", \"showlegend\": true, \"type\": \"scatter\", \"x\": [7.9], \"xaxis\": \"x\", \"y\": [2339.0], \"yaxis\": \"y\"}, {\"hoverlabel\": {\"namelength\": 0}, \"hovertemplate\": \"color=\\u0645\\u0647\\u0645\\u0627\\u0646 - \\u067e\\u0634\\u062a \\u0635\\u062d\\u0646\\u0647<br>Imdb=%{x}<br>Rate=%{y}\", \"legendgroup\": \"color=\\u0645\\u0647\\u0645\\u0627\\u0646 - \\u067e\\u0634\\u062a \\u0635\\u062d\\u0646\\u0647\", \"marker\": {\"color\": \"#00cc96\", \"symbol\": \"circle\"}, \"mode\": \"markers\", \"name\": \"color=\\u0645\\u0647\\u0645\\u0627\\u0646 - \\u067e\\u0634\\u062a \\u0635\\u062d\\u0646\\u0647\", \"showlegend\": true, \"type\": \"scatter\", \"x\": [0.0], \"xaxis\": \"x\", \"y\": [38.0], \"yaxis\": \"y\"}, {\"hoverlabel\": {\"namelength\": 0}, \"hovertemplate\": \"color=\\u0645\\u0647\\u0645\\u0627\\u0646\\u062e\\u0627\\u0646\\u0647 \\u0645\\u0627\\u0647 \\u0646\\u0648 (\\u0628\\u0627 \\u0632\\u06cc\\u0631\\u0646\\u0648\\u06cc\\u0633 \\u0645\\u062e\\u0635\\u0648\\u0635 \\u0646\\u0627\\u0634\\u0646\\u0648\\u0627\\u06cc\\u0627\\u0646)<br>Imdb=%{x}<br>Rate=%{y}\", \"legendgroup\": \"color=\\u0645\\u0647\\u0645\\u0627\\u0646\\u062e\\u0627\\u0646\\u0647 \\u0645\\u0627\\u0647 \\u0646\\u0648 (\\u0628\\u0627 \\u0632\\u06cc\\u0631\\u0646\\u0648\\u06cc\\u0633 \\u0645\\u062e\\u0635\\u0648\\u0635 \\u0646\\u0627\\u0634\\u0646\\u0648\\u0627\\u06cc\\u0627\\u0646)\", \"marker\": {\"color\": \"#ab63fa\", \"symbol\": \"circle\"}, \"mode\": \"markers\", \"name\": \"color=\\u0645\\u0647\\u0645\\u0627\\u0646\\u062e\\u0627\\u0646\\u0647 \\u0645\\u0627\\u0647 \\u0646\\u0648 (\\u0628\\u0627 \\u0632\\u06cc\\u0631\\u0646\\u0648\\u06cc\\u0633 \\u0645\\u062e\\u0635\\u0648\\u0635 \\u0646\\u0627\\u0634\\u0646\\u0648\\u0627\\u06cc\\u0627\\u0646)\", \"showlegend\": true, \"type\": \"scatter\", \"x\": [0.0], \"xaxis\": \"x\", \"y\": [83.0], \"yaxis\": \"y\"}, {\"hoverlabel\": {\"namelength\": 0}, \"hovertemplate\": \"color=\\u0645\\u0648\\u0633\\u06cc\\u0648 \\u0627\\u0628\\u0631\\u0627\\u0647\\u06cc\\u0645<br>Imdb=%{x}<br>Rate=%{y}\", \"legendgroup\": \"color=\\u0645\\u0648\\u0633\\u06cc\\u0648 \\u0627\\u0628\\u0631\\u0627\\u0647\\u06cc\\u0645\", \"marker\": {\"color\": \"#FFA15A\", \"symbol\": \"circle\"}, \"mode\": \"markers\", \"name\": \"color=\\u0645\\u0648\\u0633\\u06cc\\u0648 \\u0627\\u0628\\u0631\\u0627\\u0647\\u06cc\\u0645\", \"showlegend\": true, \"type\": \"scatter\", \"x\": [0.0], \"xaxis\": \"x\", \"y\": [308.0], \"yaxis\": \"y\"}, {\"hoverlabel\": {\"namelength\": 0}, \"hovertemplate\": \"color=\\u0645\\u0648\\u06a9\\u0628 \\u0645\\u0647\\u0631 - \\u062a\\u0635\\u062d\\u06cc\\u062d \\u0641\\u0627\\u062a\\u062d\\u0647<br>Imdb=%{x}<br>Rate=%{y}\", \"legendgroup\": \"color=\\u0645\\u0648\\u06a9\\u0628 \\u0645\\u0647\\u0631 - \\u062a\\u0635\\u062d\\u06cc\\u062d \\u0641\\u0627\\u062a\\u062d\\u0647\", \"marker\": {\"color\": \"#19d3f3\", \"symbol\": \"circle\"}, \"mode\": \"markers\", \"name\": \"color=\\u0645\\u0648\\u06a9\\u0628 \\u0645\\u0647\\u0631 - \\u062a\\u0635\\u062d\\u06cc\\u062d \\u0641\\u0627\\u062a\\u062d\\u0647\", \"showlegend\": true, \"type\": \"scatter\", \"x\": [0.0], \"xaxis\": \"x\", \"y\": [83.0], \"yaxis\": \"y\"}, {\"hoverlabel\": {\"namelength\": 0}, \"hovertemplate\": \"color=\\u0645\\u0648\\u06a9\\u0628 \\u0645\\u0647\\u0631 - \\u0645\\u06cc\\u0632\\u0628\\u0627\\u0646<br>Imdb=%{x}<br>Rate=%{y}\", \"legendgroup\": \"color=\\u0645\\u0648\\u06a9\\u0628 \\u0645\\u0647\\u0631 - \\u0645\\u06cc\\u0632\\u0628\\u0627\\u0646\", \"marker\": {\"color\": \"#FF6692\", \"symbol\": \"circle\"}, \"mode\": \"markers\", \"name\": \"color=\\u0645\\u0648\\u06a9\\u0628 \\u0645\\u0647\\u0631 - \\u0645\\u06cc\\u0632\\u0628\\u0627\\u0646\", \"showlegend\": true, \"type\": \"scatter\", \"x\": [0.0], \"xaxis\": \"x\", \"y\": [87.0], \"yaxis\": \"y\"}, {\"hoverlabel\": {\"namelength\": 0}, \"hovertemplate\": \"color=\\u0645\\u06a9\\u0627\\u0634\\u0641\\u0647 \\u0628\\u0627 \\u062f\\u0648\\u0631\\u0628\\u06cc\\u0646<br>Imdb=%{x}<br>Rate=%{y}\", \"legendgroup\": \"color=\\u0645\\u06a9\\u0627\\u0634\\u0641\\u0647 \\u0628\\u0627 \\u062f\\u0648\\u0631\\u0628\\u06cc\\u0646\", \"marker\": {\"color\": \"#B6E880\", \"symbol\": \"circle\"}, \"mode\": \"markers\", \"name\": \"color=\\u0645\\u06a9\\u0627\\u0634\\u0641\\u0647 \\u0628\\u0627 \\u062f\\u0648\\u0631\\u0628\\u06cc\\u0646\", \"showlegend\": true, \"type\": \"scatter\", \"x\": [0.0], \"xaxis\": \"x\", \"y\": [27.0], \"yaxis\": \"y\"}, {\"hoverlabel\": {\"namelength\": 0}, \"hovertemplate\": \"color=\\u0645\\u06cc \\u0632\\u0627\\u06a9<br>Imdb=%{x}<br>Rate=%{y}\", \"legendgroup\": \"color=\\u0645\\u06cc \\u0632\\u0627\\u06a9\", \"marker\": {\"color\": \"#FF97FF\", \"symbol\": \"circle\"}, \"mode\": \"markers\", \"name\": \"color=\\u0645\\u06cc \\u0632\\u0627\\u06a9\", \"showlegend\": true, \"type\": \"scatter\", \"x\": [4.1], \"xaxis\": \"x\", \"y\": [297.0], \"yaxis\": \"y\"}, {\"hoverlabel\": {\"namelength\": 0}, \"hovertemplate\": \"color=\\u0645\\u06cc\\u0644\\u06cc\\u0648\\u0646\\u0631 \\u0645\\u06cc\\u0627\\u0645\\u06cc (\\u0628\\u0627 \\u0632\\u06cc\\u0631\\u0646\\u0648\\u06cc\\u0633 \\u0645\\u062e\\u0635\\u0648\\u0635 \\u0646\\u0627\\u0634\\u0646\\u0648\\u0627\\u06cc\\u0627\\u0646)<br>Imdb=%{x}<br>Rate=%{y}\", \"legendgroup\": \"color=\\u0645\\u06cc\\u0644\\u06cc\\u0648\\u0646\\u0631 \\u0645\\u06cc\\u0627\\u0645\\u06cc (\\u0628\\u0627 \\u0632\\u06cc\\u0631\\u0646\\u0648\\u06cc\\u0633 \\u0645\\u062e\\u0635\\u0648\\u0635 \\u0646\\u0627\\u0634\\u0646\\u0648\\u0627\\u06cc\\u0627\\u0646)\", \"marker\": {\"color\": \"#FECB52\", \"symbol\": \"circle\"}, \"mode\": \"markers\", \"name\": \"color=\\u0645\\u06cc\\u0644\\u06cc\\u0648\\u0646\\u0631 \\u0645\\u06cc\\u0627\\u0645\\u06cc (\\u0628\\u0627 \\u0632\\u06cc\\u0631\\u0646\\u0648\\u06cc\\u0633 \\u0645\\u062e\\u0635\\u0648\\u0635 \\u0646\\u0627\\u0634\\u0646\\u0648\\u0627\\u06cc\\u0627\\u0646)\", \"showlegend\": true, \"type\": \"scatter\", \"x\": [3.7], \"xaxis\": \"x\", \"y\": [89.0], \"yaxis\": \"y\"}, {\"hoverlabel\": {\"namelength\": 0}, \"hovertemplate\": \"color=\\u0645\\u06cc\\u0647\\u0645\\u0627\\u0646<br>Imdb=%{x}<br>Rate=%{y}\", \"legendgroup\": \"color=\\u0645\\u06cc\\u0647\\u0645\\u0627\\u0646\", \"marker\": {\"color\": \"#636efa\", \"symbol\": \"circle\"}, \"mode\": \"markers\", \"name\": \"color=\\u0645\\u06cc\\u0647\\u0645\\u0627\\u0646\", \"showlegend\": true, \"type\": \"scatter\", \"x\": [0.0], \"xaxis\": \"x\", \"y\": [86.0], \"yaxis\": \"y\"}, {\"hoverlabel\": {\"namelength\": 0}, \"hovertemplate\": \"color=\\u0646\\u0627\\u0626\\u0628 \\u0627\\u0644\\u0627\\u0645\\u0627\\u0645<br>Imdb=%{x}<br>Rate=%{y}\", \"legendgroup\": \"color=\\u0646\\u0627\\u0626\\u0628 \\u0627\\u0644\\u0627\\u0645\\u0627\\u0645\", \"marker\": {\"color\": \"#EF553B\", \"symbol\": \"circle\"}, \"mode\": \"markers\", \"name\": \"color=\\u0646\\u0627\\u0626\\u0628 \\u0627\\u0644\\u0627\\u0645\\u0627\\u0645\", \"showlegend\": true, \"type\": \"scatter\", \"x\": [0.0], \"xaxis\": \"x\", \"y\": [66.0], \"yaxis\": \"y\"}, {\"hoverlabel\": {\"namelength\": 0}, \"hovertemplate\": \"color=\\u0646\\u0627\\u062a\\u0645\\u0627\\u0645<br>Imdb=%{x}<br>Rate=%{y}\", \"legendgroup\": \"color=\\u0646\\u0627\\u062a\\u0645\\u0627\\u0645\", \"marker\": {\"color\": \"#00cc96\", \"symbol\": \"circle\"}, \"mode\": \"markers\", \"name\": \"color=\\u0646\\u0627\\u062a\\u0645\\u0627\\u0645\", \"showlegend\": true, \"type\": \"scatter\", \"x\": [0.0], \"xaxis\": \"x\", \"y\": [110.0], \"yaxis\": \"y\"}, {\"hoverlabel\": {\"namelength\": 0}, \"hovertemplate\": \"color=\\u0646\\u0627\\u062e\\u0648\\u0627\\u0646\\u062f\\u0647 \\u062f\\u0631 \\u0634\\u0647\\u0631<br>Imdb=%{x}<br>Rate=%{y}\", \"legendgroup\": \"color=\\u0646\\u0627\\u062e\\u0648\\u0627\\u0646\\u062f\\u0647 \\u062f\\u0631 \\u0634\\u0647\\u0631\", \"marker\": {\"color\": \"#ab63fa\", \"symbol\": \"circle\"}, \"mode\": \"markers\", \"name\": \"color=\\u0646\\u0627\\u062e\\u0648\\u0627\\u0646\\u062f\\u0647 \\u062f\\u0631 \\u0634\\u0647\\u0631\", \"showlegend\": true, \"type\": \"scatter\", \"x\": [0.0], \"xaxis\": \"x\", \"y\": [17.0], \"yaxis\": \"y\"}, {\"hoverlabel\": {\"namelength\": 0}, \"hovertemplate\": \"color=\\u0646\\u0627\\u0632\\u06cc \\u0622\\u0628\\u0627\\u062f\\u06cc \\u0647\\u0627<br>Imdb=%{x}<br>Rate=%{y}\", \"legendgroup\": \"color=\\u0646\\u0627\\u0632\\u06cc \\u0622\\u0628\\u0627\\u062f\\u06cc \\u0647\\u0627\", \"marker\": {\"color\": \"#FFA15A\", \"symbol\": \"circle\"}, \"mode\": \"markers\", \"name\": \"color=\\u0646\\u0627\\u0632\\u06cc \\u0622\\u0628\\u0627\\u062f\\u06cc \\u0647\\u0627\", \"showlegend\": true, \"type\": \"scatter\", \"x\": [0.0], \"xaxis\": \"x\", \"y\": [57.0], \"yaxis\": \"y\"}, {\"hoverlabel\": {\"namelength\": 0}, \"hovertemplate\": \"color=\\u0646\\u0627\\u0641\\u0631\\u0645\\u0627\\u0646<br>Imdb=%{x}<br>Rate=%{y}\", \"legendgroup\": \"color=\\u0646\\u0627\\u0641\\u0631\\u0645\\u0627\\u0646\", \"marker\": {\"color\": \"#19d3f3\", \"symbol\": \"circle\"}, \"mode\": \"markers\", \"name\": \"color=\\u0646\\u0627\\u0641\\u0631\\u0645\\u0627\\u0646\", \"showlegend\": true, \"type\": \"scatter\", \"x\": [0.0], \"xaxis\": \"x\", \"y\": [70.0], \"yaxis\": \"y\"}, {\"hoverlabel\": {\"namelength\": 0}, \"hovertemplate\": \"color=\\u0646\\u0627\\u06af\\u0647\\u0627\\u0646 \\u062f\\u0631\\u062e\\u062a<br>Imdb=%{x}<br>Rate=%{y}\", \"legendgroup\": \"color=\\u0646\\u0627\\u06af\\u0647\\u0627\\u0646 \\u062f\\u0631\\u062e\\u062a\", \"marker\": {\"color\": \"#FF6692\", \"symbol\": \"circle\"}, \"mode\": \"markers\", \"name\": \"color=\\u0646\\u0627\\u06af\\u0647\\u0627\\u0646 \\u062f\\u0631\\u062e\\u062a\", \"showlegend\": true, \"type\": \"scatter\", \"x\": [4.9], \"xaxis\": \"x\", \"y\": [13680.0], \"yaxis\": \"y\"}, {\"hoverlabel\": {\"namelength\": 0}, \"hovertemplate\": \"color=\\u0646\\u0631\\u06af\\u0633<br>Imdb=%{x}<br>Rate=%{y}\", \"legendgroup\": \"color=\\u0646\\u0631\\u06af\\u0633\", \"marker\": {\"color\": \"#B6E880\", \"symbol\": \"circle\"}, \"mode\": \"markers\", \"name\": \"color=\\u0646\\u0631\\u06af\\u0633\", \"showlegend\": true, \"type\": \"scatter\", \"x\": [6.8], \"xaxis\": \"x\", \"y\": [615.0], \"yaxis\": \"y\"}, {\"hoverlabel\": {\"namelength\": 0}, \"hovertemplate\": \"color=\\u0646\\u0633\\u0644 \\u062c\\u0627\\u062f\\u0648\\u06cc\\u06cc<br>Imdb=%{x}<br>Rate=%{y}\", \"legendgroup\": \"color=\\u0646\\u0633\\u0644 \\u062c\\u0627\\u062f\\u0648\\u06cc\\u06cc\", \"marker\": {\"color\": \"#FF97FF\", \"symbol\": \"circle\"}, \"mode\": \"markers\", \"name\": \"color=\\u0646\\u0633\\u0644 \\u062c\\u0627\\u062f\\u0648\\u06cc\\u06cc\", \"showlegend\": true, \"type\": \"scatter\", \"x\": [2.5], \"xaxis\": \"x\", \"y\": [237.0], \"yaxis\": \"y\"}, {\"hoverlabel\": {\"namelength\": 0}, \"hovertemplate\": \"color=\\u0646\\u0633\\u0644 \\u06a9\\u0634\\u06cc<br>Imdb=%{x}<br>Rate=%{y}\", \"legendgroup\": \"color=\\u0646\\u0633\\u0644 \\u06a9\\u0634\\u06cc\", \"marker\": {\"color\": \"#FECB52\", \"symbol\": \"circle\"}, \"mode\": \"markers\", \"name\": \"color=\\u0646\\u0633\\u0644 \\u06a9\\u0634\\u06cc\", \"showlegend\": true, \"type\": \"scatter\", \"x\": [0.0], \"xaxis\": \"x\", \"y\": [149.0], \"yaxis\": \"y\"}, {\"hoverlabel\": {\"namelength\": 0}, \"hovertemplate\": \"color=\\u0646\\u0639\\u0631\\u0647 \\u062d\\u06cc\\u062f\\u0631\\u06cc<br>Imdb=%{x}<br>Rate=%{y}\", \"legendgroup\": \"color=\\u0646\\u0639\\u0631\\u0647 \\u062d\\u06cc\\u062f\\u0631\\u06cc\", \"marker\": {\"color\": \"#636efa\", \"symbol\": \"circle\"}, \"mode\": \"markers\", \"name\": \"color=\\u0646\\u0639\\u0631\\u0647 \\u062d\\u06cc\\u062f\\u0631\\u06cc\", \"showlegend\": true, \"type\": \"scatter\", \"x\": [0.0], \"xaxis\": \"x\", \"y\": [107.0], \"yaxis\": \"y\"}, {\"hoverlabel\": {\"namelength\": 0}, \"hovertemplate\": \"color=\\u0646\\u0641\\u0633 \\u062e\\u0648\\u0627\\u0631<br>Imdb=%{x}<br>Rate=%{y}\", \"legendgroup\": \"color=\\u0646\\u0641\\u0633 \\u062e\\u0648\\u0627\\u0631\", \"marker\": {\"color\": \"#EF553B\", \"symbol\": \"circle\"}, \"mode\": \"markers\", \"name\": \"color=\\u0646\\u0641\\u0633 \\u062e\\u0648\\u0627\\u0631\", \"showlegend\": true, \"type\": \"scatter\", \"x\": [0.0], \"xaxis\": \"x\", \"y\": [63.0], \"yaxis\": \"y\"}, {\"hoverlabel\": {\"namelength\": 0}, \"hovertemplate\": \"color=\\u0646\\u0648\\u0632\\u062f\\u0647 \\u0646\\u0648\\u0632\\u062f\\u0647<br>Imdb=%{x}<br>Rate=%{y}\", \"legendgroup\": \"color=\\u0646\\u0648\\u0632\\u062f\\u0647 \\u0646\\u0648\\u0632\\u062f\\u0647\", \"marker\": {\"color\": \"#00cc96\", \"symbol\": \"circle\"}, \"mode\": \"markers\", \"name\": \"color=\\u0646\\u0648\\u0632\\u062f\\u0647 \\u0646\\u0648\\u0632\\u062f\\u0647\", \"showlegend\": true, \"type\": \"scatter\", \"x\": [0.0], \"xaxis\": \"x\", \"y\": [363.0], \"yaxis\": \"y\"}, {\"hoverlabel\": {\"namelength\": 0}, \"hovertemplate\": \"color=\\u0646\\u06af\\u06cc\\u0646 \\u0633\\u0644\\u06cc\\u0645\\u0627\\u0646\\u06cc<br>Imdb=%{x}<br>Rate=%{y}\", \"legendgroup\": \"color=\\u0646\\u06af\\u06cc\\u0646 \\u0633\\u0644\\u06cc\\u0645\\u0627\\u0646\\u06cc\", \"marker\": {\"color\": \"#ab63fa\", \"symbol\": \"circle\"}, \"mode\": \"markers\", \"name\": \"color=\\u0646\\u06af\\u06cc\\u0646 \\u0633\\u0644\\u06cc\\u0645\\u0627\\u0646\\u06cc\", \"showlegend\": true, \"type\": \"scatter\", \"x\": [0.0], \"xaxis\": \"x\", \"y\": [380.0], \"yaxis\": \"y\"}, {\"hoverlabel\": {\"namelength\": 0}, \"hovertemplate\": \"color=\\u0647\\u0627\\u06cc\\u0644\\u0627\\u06cc\\u062a<br>Imdb=%{x}<br>Rate=%{y}\", \"legendgroup\": \"color=\\u0647\\u0627\\u06cc\\u0644\\u0627\\u06cc\\u062a\", \"marker\": {\"color\": \"#FFA15A\", \"symbol\": \"circle\"}, \"mode\": \"markers\", \"name\": \"color=\\u0647\\u0627\\u06cc\\u0644\\u0627\\u06cc\\u062a\", \"showlegend\": true, \"type\": \"scatter\", \"x\": [0.0], \"xaxis\": \"x\", \"y\": [18385.0], \"yaxis\": \"y\"}, {\"hoverlabel\": {\"namelength\": 0}, \"hovertemplate\": \"color=\\u0647\\u0631\\u0645\\u0627\\u0633<br>Imdb=%{x}<br>Rate=%{y}\", \"legendgroup\": \"color=\\u0647\\u0631\\u0645\\u0627\\u0633\", \"marker\": {\"color\": \"#19d3f3\", \"symbol\": \"circle\"}, \"mode\": \"markers\", \"name\": \"color=\\u0647\\u0631\\u0645\\u0627\\u0633\", \"showlegend\": true, \"type\": \"scatter\", \"x\": [0.0], \"xaxis\": \"x\", \"y\": [1035.0], \"yaxis\": \"y\"}, {\"hoverlabel\": {\"namelength\": 0}, \"hovertemplate\": \"color=\\u0647\\u0632\\u0627\\u0631 \\u0633\\u0627\\u0644 \\u0628\\u0627 \\u062a\\u0648<br>Imdb=%{x}<br>Rate=%{y}\", \"legendgroup\": \"color=\\u0647\\u0632\\u0627\\u0631 \\u0633\\u0627\\u0644 \\u0628\\u0627 \\u062a\\u0648\", \"marker\": {\"color\": \"#FF6692\", \"symbol\": \"circle\"}, \"mode\": \"markers\", \"name\": \"color=\\u0647\\u0632\\u0627\\u0631 \\u0633\\u0627\\u0644 \\u0628\\u0627 \\u062a\\u0648\", \"showlegend\": true, \"type\": \"scatter\", \"x\": [0.0], \"xaxis\": \"x\", \"y\": [3546.0], \"yaxis\": \"y\"}, {\"hoverlabel\": {\"namelength\": 0}, \"hovertemplate\": \"color=\\u0647\\u0632\\u0627\\u0631 \\u0633\\u0627\\u0644 \\u0628\\u0627 \\u062a\\u0648 - \\u067e\\u0634\\u062a \\u0635\\u062d\\u0646\\u0647<br>Imdb=%{x}<br>Rate=%{y}\", \"legendgroup\": \"color=\\u0647\\u0632\\u0627\\u0631 \\u0633\\u0627\\u0644 \\u0628\\u0627 \\u062a\\u0648 - \\u067e\\u0634\\u062a \\u0635\\u062d\\u0646\\u0647\", \"marker\": {\"color\": \"#B6E880\", \"symbol\": \"circle\"}, \"mode\": \"markers\", \"name\": \"color=\\u0647\\u0632\\u0627\\u0631 \\u0633\\u0627\\u0644 \\u0628\\u0627 \\u062a\\u0648 - \\u067e\\u0634\\u062a \\u0635\\u062d\\u0646\\u0647\", \"showlegend\": true, \"type\": \"scatter\", \"x\": [0.0], \"xaxis\": \"x\", \"y\": [65.0], \"yaxis\": \"y\"}, {\"hoverlabel\": {\"namelength\": 0}, \"hovertemplate\": \"color=\\u0647\\u0641\\u062a \\u0648 \\u0646\\u06cc\\u0645 (\\u0628\\u0627 \\u0632\\u06cc\\u0631\\u0646\\u0648\\u06cc\\u0633 \\u0645\\u062e\\u0635\\u0648\\u0635 \\u0646\\u0627\\u0634\\u0646\\u0648\\u0627\\u06cc\\u0627\\u0646)<br>Imdb=%{x}<br>Rate=%{y}\", \"legendgroup\": \"color=\\u0647\\u0641\\u062a \\u0648 \\u0646\\u06cc\\u0645 (\\u0628\\u0627 \\u0632\\u06cc\\u0631\\u0646\\u0648\\u06cc\\u0633 \\u0645\\u062e\\u0635\\u0648\\u0635 \\u0646\\u0627\\u0634\\u0646\\u0648\\u0627\\u06cc\\u0627\\u0646)\", \"marker\": {\"color\": \"#FF97FF\", \"symbol\": \"circle\"}, \"mode\": \"markers\", \"name\": \"color=\\u0647\\u0641\\u062a \\u0648 \\u0646\\u06cc\\u0645 (\\u0628\\u0627 \\u0632\\u06cc\\u0631\\u0646\\u0648\\u06cc\\u0633 \\u0645\\u062e\\u0635\\u0648\\u0635 \\u0646\\u0627\\u0634\\u0646\\u0648\\u0627\\u06cc\\u0627\\u0646)\", \"showlegend\": true, \"type\": \"scatter\", \"x\": [6.3], \"xaxis\": \"x\", \"y\": [200.0], \"yaxis\": \"y\"}, {\"hoverlabel\": {\"namelength\": 0}, \"hovertemplate\": \"color=\\u0647\\u0641\\u062a\\u0647 \\u0627\\u06cc \\u06cc\\u06a9 \\u0628\\u0627\\u0631 \\u0622\\u062f\\u0645 \\u0628\\u0627\\u0634<br>Imdb=%{x}<br>Rate=%{y}\", \"legendgroup\": \"color=\\u0647\\u0641\\u062a\\u0647 \\u0627\\u06cc \\u06cc\\u06a9 \\u0628\\u0627\\u0631 \\u0622\\u062f\\u0645 \\u0628\\u0627\\u0634\", \"marker\": {\"color\": \"#FECB52\", \"symbol\": \"circle\"}, \"mode\": \"markers\", \"name\": \"color=\\u0647\\u0641\\u062a\\u0647 \\u0627\\u06cc \\u06cc\\u06a9 \\u0628\\u0627\\u0631 \\u0622\\u062f\\u0645 \\u0628\\u0627\\u0634\", \"showlegend\": true, \"type\": \"scatter\", \"x\": [0.0], \"xaxis\": \"x\", \"y\": [0.0], \"yaxis\": \"y\"}, {\"hoverlabel\": {\"namelength\": 0}, \"hovertemplate\": \"color=\\u0647\\u0645\\u0633\\u0641\\u0631\\u0627\\u0646 \\u062c\\u0627\\u0628\\u0631<br>Imdb=%{x}<br>Rate=%{y}\", \"legendgroup\": \"color=\\u0647\\u0645\\u0633\\u0641\\u0631\\u0627\\u0646 \\u062c\\u0627\\u0628\\u0631\", \"marker\": {\"color\": \"#636efa\", \"symbol\": \"circle\"}, \"mode\": \"markers\", \"name\": \"color=\\u0647\\u0645\\u0633\\u0641\\u0631\\u0627\\u0646 \\u062c\\u0627\\u0628\\u0631\", \"showlegend\": true, \"type\": \"scatter\", \"x\": [0.0], \"xaxis\": \"x\", \"y\": [150.0], \"yaxis\": \"y\"}, {\"hoverlabel\": {\"namelength\": 0}, \"hovertemplate\": \"color=\\u0647\\u0645\\u0647 \\u062f\\u062e\\u062a\\u0631\\u0627\\u0646 \\u0645\\u0646<br>Imdb=%{x}<br>Rate=%{y}\", \"legendgroup\": \"color=\\u0647\\u0645\\u0647 \\u062f\\u062e\\u062a\\u0631\\u0627\\u0646 \\u0645\\u0646\", \"marker\": {\"color\": \"#EF553B\", \"symbol\": \"circle\"}, \"mode\": \"markers\", \"name\": \"color=\\u0647\\u0645\\u0647 \\u062f\\u062e\\u062a\\u0631\\u0627\\u0646 \\u0645\\u0646\", \"showlegend\": true, \"type\": \"scatter\", \"x\": [5.8], \"xaxis\": \"x\", \"y\": [522.0], \"yaxis\": \"y\"}, {\"hoverlabel\": {\"namelength\": 0}, \"hovertemplate\": \"color=\\u0647\\u0645\\u06a9\\u0644\\u0627\\u0633<br>Imdb=%{x}<br>Rate=%{y}\", \"legendgroup\": \"color=\\u0647\\u0645\\u06a9\\u0644\\u0627\\u0633\", \"marker\": {\"color\": \"#00cc96\", \"symbol\": \"circle\"}, \"mode\": \"markers\", \"name\": \"color=\\u0647\\u0645\\u06a9\\u0644\\u0627\\u0633\", \"showlegend\": true, \"type\": \"scatter\", \"x\": [0.0], \"xaxis\": \"x\", \"y\": [223.0], \"yaxis\": \"y\"}, {\"hoverlabel\": {\"namelength\": 0}, \"hovertemplate\": \"color=\\u0647\\u06cc \\u0647\\u0648<br>Imdb=%{x}<br>Rate=%{y}\", \"legendgroup\": \"color=\\u0647\\u06cc \\u0647\\u0648\", \"marker\": {\"color\": \"#ab63fa\", \"symbol\": \"circle\"}, \"mode\": \"markers\", \"name\": \"color=\\u0647\\u06cc \\u0647\\u0648\", \"showlegend\": true, \"type\": \"scatter\", \"x\": [0.0], \"xaxis\": \"x\", \"y\": [2030.0], \"yaxis\": \"y\"}, {\"hoverlabel\": {\"namelength\": 0}, \"hovertemplate\": \"color=\\u0648\\u0627\\u0644\\u0641\\u062c\\u0631<br>Imdb=%{x}<br>Rate=%{y}\", \"legendgroup\": \"color=\\u0648\\u0627\\u0644\\u0641\\u062c\\u0631\", \"marker\": {\"color\": \"#FFA15A\", \"symbol\": \"circle\"}, \"mode\": \"markers\", \"name\": \"color=\\u0648\\u0627\\u0644\\u0641\\u062c\\u0631\", \"showlegend\": true, \"type\": \"scatter\", \"x\": [0.0], \"xaxis\": \"x\", \"y\": [193.0], \"yaxis\": \"y\"}, {\"hoverlabel\": {\"namelength\": 0}, \"hovertemplate\": \"color=\\u0648\\u0642\\u062a \\u062e\\u0648\\u0628 \\u0645\\u0635\\u0627\\u0626\\u0628<br>Imdb=%{x}<br>Rate=%{y}\", \"legendgroup\": \"color=\\u0648\\u0642\\u062a \\u062e\\u0648\\u0628 \\u0645\\u0635\\u0627\\u0626\\u0628\", \"marker\": {\"color\": \"#19d3f3\", \"symbol\": \"circle\"}, \"mode\": \"markers\", \"name\": \"color=\\u0648\\u0642\\u062a \\u062e\\u0648\\u0628 \\u0645\\u0635\\u0627\\u0626\\u0628\", \"showlegend\": true, \"type\": \"scatter\", \"x\": [0.0], \"xaxis\": \"x\", \"y\": [250.0], \"yaxis\": \"y\"}, {\"hoverlabel\": {\"namelength\": 0}, \"hovertemplate\": \"color=\\u0648\\u0642\\u062a \\u0686\\u06cc\\u062f\\u0646 \\u06af\\u0631\\u062f\\u0648\\u0647\\u0627<br>Imdb=%{x}<br>Rate=%{y}\", \"legendgroup\": \"color=\\u0648\\u0642\\u062a \\u0686\\u06cc\\u062f\\u0646 \\u06af\\u0631\\u062f\\u0648\\u0647\\u0627\", \"marker\": {\"color\": \"#FF6692\", \"symbol\": \"circle\"}, \"mode\": \"markers\", \"name\": \"color=\\u0648\\u0642\\u062a \\u0686\\u06cc\\u062f\\u0646 \\u06af\\u0631\\u062f\\u0648\\u0647\\u0627\", \"showlegend\": true, \"type\": \"scatter\", \"x\": [5.1], \"xaxis\": \"x\", \"y\": [351.0], \"yaxis\": \"y\"}, {\"hoverlabel\": {\"namelength\": 0}, \"hovertemplate\": \"color=\\u067e\\u0627 \\u0628\\u0647 \\u067e\\u0627\\u06cc \\u0622\\u0632\\u0627\\u062f\\u06cc<br>Imdb=%{x}<br>Rate=%{y}\", \"legendgroup\": \"color=\\u067e\\u0627 \\u0628\\u0647 \\u067e\\u0627\\u06cc \\u0622\\u0632\\u0627\\u062f\\u06cc\", \"marker\": {\"color\": \"#B6E880\", \"symbol\": \"circle\"}, \"mode\": \"markers\", \"name\": \"color=\\u067e\\u0627 \\u0628\\u0647 \\u067e\\u0627\\u06cc \\u0622\\u0632\\u0627\\u062f\\u06cc\", \"showlegend\": true, \"type\": \"scatter\", \"x\": [0.0], \"xaxis\": \"x\", \"y\": [32.0], \"yaxis\": \"y\"}, {\"hoverlabel\": {\"namelength\": 0}, \"hovertemplate\": \"color=\\u067e\\u0627\\u062f\\u0631\\u0627\\u0632\\u06cc<br>Imdb=%{x}<br>Rate=%{y}\", \"legendgroup\": \"color=\\u067e\\u0627\\u062f\\u0631\\u0627\\u0632\\u06cc\", \"marker\": {\"color\": \"#FF97FF\", \"symbol\": \"circle\"}, \"mode\": \"markers\", \"name\": \"color=\\u067e\\u0627\\u062f\\u0631\\u0627\\u0632\\u06cc\", \"showlegend\": true, \"type\": \"scatter\", \"x\": [5.7], \"xaxis\": \"x\", \"y\": [78.0], \"yaxis\": \"y\"}, {\"hoverlabel\": {\"namelength\": 0}, \"hovertemplate\": \"color=\\u067e\\u0627\\u067e<br>Imdb=%{x}<br>Rate=%{y}\", \"legendgroup\": \"color=\\u067e\\u0627\\u067e\", \"marker\": {\"color\": \"#FECB52\", \"symbol\": \"circle\"}, \"mode\": \"markers\", \"name\": \"color=\\u067e\\u0627\\u067e\", \"showlegend\": true, \"type\": \"scatter\", \"x\": [6.8], \"xaxis\": \"x\", \"y\": [3067.0], \"yaxis\": \"y\"}, {\"hoverlabel\": {\"namelength\": 0}, \"hovertemplate\": \"color=\\u067e\\u0627\\u067e (\\u0628\\u0627 \\u0632\\u06cc\\u0631\\u0646\\u0648\\u06cc\\u0633 \\u0645\\u062e\\u0635\\u0648\\u0635 \\u0646\\u0627\\u0634\\u0646\\u0648\\u0627\\u06cc\\u0627\\u0646)<br>Imdb=%{x}<br>Rate=%{y}\", \"legendgroup\": \"color=\\u067e\\u0627\\u067e (\\u0628\\u0627 \\u0632\\u06cc\\u0631\\u0646\\u0648\\u06cc\\u0633 \\u0645\\u062e\\u0635\\u0648\\u0635 \\u0646\\u0627\\u0634\\u0646\\u0648\\u0627\\u06cc\\u0627\\u0646)\", \"marker\": {\"color\": \"#636efa\", \"symbol\": \"circle\"}, \"mode\": \"markers\", \"name\": \"color=\\u067e\\u0627\\u067e (\\u0628\\u0627 \\u0632\\u06cc\\u0631\\u0646\\u0648\\u06cc\\u0633 \\u0645\\u062e\\u0635\\u0648\\u0635 \\u0646\\u0627\\u0634\\u0646\\u0648\\u0627\\u06cc\\u0627\\u0646)\", \"showlegend\": true, \"type\": \"scatter\", \"x\": [6.8], \"xaxis\": \"x\", \"y\": [27.0], \"yaxis\": \"y\"}, {\"hoverlabel\": {\"namelength\": 0}, \"hovertemplate\": \"color=\\u067e\\u0627\\u06a9 \\u0628\\u0627\\u062e\\u062a\\u0647 - \\u067e\\u0634\\u062a \\u0635\\u062d\\u0646\\u0647<br>Imdb=%{x}<br>Rate=%{y}\", \"legendgroup\": \"color=\\u067e\\u0627\\u06a9 \\u0628\\u0627\\u062e\\u062a\\u0647 - \\u067e\\u0634\\u062a \\u0635\\u062d\\u0646\\u0647\", \"marker\": {\"color\": \"#EF553B\", \"symbol\": \"circle\"}, \"mode\": \"markers\", \"name\": \"color=\\u067e\\u0627\\u06a9 \\u0628\\u0627\\u062e\\u062a\\u0647 - \\u067e\\u0634\\u062a \\u0635\\u062d\\u0646\\u0647\", \"showlegend\": true, \"type\": \"scatter\", \"x\": [5.7], \"xaxis\": \"x\", \"y\": [26.0], \"yaxis\": \"y\"}, {\"hoverlabel\": {\"namelength\": 0}, \"hovertemplate\": \"color=\\u067e\\u0631\\u0633\\u062a\\u0648\\u0647\\u0627\\u06cc \\u0639\\u0627\\u0634\\u0642<br>Imdb=%{x}<br>Rate=%{y}\", \"legendgroup\": \"color=\\u067e\\u0631\\u0633\\u062a\\u0648\\u0647\\u0627\\u06cc \\u0639\\u0627\\u0634\\u0642\", \"marker\": {\"color\": \"#00cc96\", \"symbol\": \"circle\"}, \"mode\": \"markers\", \"name\": \"color=\\u067e\\u0631\\u0633\\u062a\\u0648\\u0647\\u0627\\u06cc \\u0639\\u0627\\u0634\\u0642\", \"showlegend\": true, \"type\": \"scatter\", \"x\": [4.3], \"xaxis\": \"x\", \"y\": [1112.0], \"yaxis\": \"y\"}, {\"hoverlabel\": {\"namelength\": 0}, \"hovertemplate\": \"color=\\u067e\\u0631\\u0646\\u062f\\u0647 \\u06cc \\u0627\\u0641\\u0644\\u0627\\u06a9: \\u0632\\u0646\\u062f\\u06af\\u06cc \\u0634\\u0647\\u06cc\\u062f \\u0633\\u06cc\\u062f \\u0639\\u0644\\u06cc \\u0627\\u0642\\u0628\\u0627\\u0644\\u06cc<br>Imdb=%{x}<br>Rate=%{y}\", \"legendgroup\": \"color=\\u067e\\u0631\\u0646\\u062f\\u0647 \\u06cc \\u0627\\u0641\\u0644\\u0627\\u06a9: \\u0632\\u0646\\u062f\\u06af\\u06cc \\u0634\\u0647\\u06cc\\u062f \\u0633\\u06cc\\u062f \\u0639\\u0644\\u06cc \\u0627\\u0642\\u0628\\u0627\\u0644\\u06cc\", \"marker\": {\"color\": \"#ab63fa\", \"symbol\": \"circle\"}, \"mode\": \"markers\", \"name\": \"color=\\u067e\\u0631\\u0646\\u062f\\u0647 \\u06cc \\u0627\\u0641\\u0644\\u0627\\u06a9: \\u0632\\u0646\\u062f\\u06af\\u06cc \\u0634\\u0647\\u06cc\\u062f \\u0633\\u06cc\\u062f \\u0639\\u0644\\u06cc \\u0627\\u0642\\u0628\\u0627\\u0644\\u06cc\", \"showlegend\": true, \"type\": \"scatter\", \"x\": [0.0], \"xaxis\": \"x\", \"y\": [13.0], \"yaxis\": \"y\"}, {\"hoverlabel\": {\"namelength\": 0}, \"hovertemplate\": \"color=\\u067e\\u0631\\u0648\\u06cc\\u0632 (\\u0628\\u0627 \\u0632\\u06cc\\u0631\\u0646\\u0648\\u06cc\\u0633 \\u0645\\u062e\\u0635\\u0648\\u0635 \\u0646\\u0627\\u0634\\u0646\\u0648\\u0627\\u06cc\\u0627\\u0646)<br>Imdb=%{x}<br>Rate=%{y}\", \"legendgroup\": \"color=\\u067e\\u0631\\u0648\\u06cc\\u0632 (\\u0628\\u0627 \\u0632\\u06cc\\u0631\\u0646\\u0648\\u06cc\\u0633 \\u0645\\u062e\\u0635\\u0648\\u0635 \\u0646\\u0627\\u0634\\u0646\\u0648\\u0627\\u06cc\\u0627\\u0646)\", \"marker\": {\"color\": \"#FFA15A\", \"symbol\": \"circle\"}, \"mode\": \"markers\", \"name\": \"color=\\u067e\\u0631\\u0648\\u06cc\\u0632 (\\u0628\\u0627 \\u0632\\u06cc\\u0631\\u0646\\u0648\\u06cc\\u0633 \\u0645\\u062e\\u0635\\u0648\\u0635 \\u0646\\u0627\\u0634\\u0646\\u0648\\u0627\\u06cc\\u0627\\u0646)\", \"showlegend\": true, \"type\": \"scatter\", \"x\": [7.2], \"xaxis\": \"x\", \"y\": [112.0], \"yaxis\": \"y\"}, {\"hoverlabel\": {\"namelength\": 0}, \"hovertemplate\": \"color=\\u067e\\u0631\\u06cc \\u0633\\u0627<br>Imdb=%{x}<br>Rate=%{y}\", \"legendgroup\": \"color=\\u067e\\u0631\\u06cc \\u0633\\u0627\", \"marker\": {\"color\": \"#19d3f3\", \"symbol\": \"circle\"}, \"mode\": \"markers\", \"name\": \"color=\\u067e\\u0631\\u06cc \\u0633\\u0627\", \"showlegend\": true, \"type\": \"scatter\", \"x\": [0.0], \"xaxis\": \"x\", \"y\": [7338.0], \"yaxis\": \"y\"}, {\"hoverlabel\": {\"namelength\": 0}, \"hovertemplate\": \"color=\\u067e\\u0634\\u062a \\u0635\\u062d\\u0646\\u0647 \\u0631\\u062c\\u0628 \\u0622\\u0631\\u062a\\u06cc\\u0633\\u062a \\u0645\\u06cc \\u0634\\u0648\\u062f<br>Imdb=%{x}<br>Rate=%{y}\", \"legendgroup\": \"color=\\u067e\\u0634\\u062a \\u0635\\u062d\\u0646\\u0647 \\u0631\\u062c\\u0628 \\u0622\\u0631\\u062a\\u06cc\\u0633\\u062a \\u0645\\u06cc \\u0634\\u0648\\u062f\", \"marker\": {\"color\": \"#FF6692\", \"symbol\": \"circle\"}, \"mode\": \"markers\", \"name\": \"color=\\u067e\\u0634\\u062a \\u0635\\u062d\\u0646\\u0647 \\u0631\\u062c\\u0628 \\u0622\\u0631\\u062a\\u06cc\\u0633\\u062a \\u0645\\u06cc \\u0634\\u0648\\u062f\", \"showlegend\": true, \"type\": \"scatter\", \"x\": [0.0], \"xaxis\": \"x\", \"y\": [117.0], \"yaxis\": \"y\"}, {\"hoverlabel\": {\"namelength\": 0}, \"hovertemplate\": \"color=\\u067e\\u0644<br>Imdb=%{x}<br>Rate=%{y}\", \"legendgroup\": \"color=\\u067e\\u0644\", \"marker\": {\"color\": \"#B6E880\", \"symbol\": \"circle\"}, \"mode\": \"markers\", \"name\": \"color=\\u067e\\u0644\", \"showlegend\": true, \"type\": \"scatter\", \"x\": [0.0], \"xaxis\": \"x\", \"y\": [52.0], \"yaxis\": \"y\"}, {\"hoverlabel\": {\"namelength\": 0}, \"hovertemplate\": \"color=\\u067e\\u0646\\u062c\\u0627\\u0647 \\u0631\\u0648\\u0632 \\u0627\\u0644\\u062a\\u0647\\u0627\\u0628<br>Imdb=%{x}<br>Rate=%{y}\", \"legendgroup\": \"color=\\u067e\\u0646\\u062c\\u0627\\u0647 \\u0631\\u0648\\u0632 \\u0627\\u0644\\u062a\\u0647\\u0627\\u0628\", \"marker\": {\"color\": \"#FF97FF\", \"symbol\": \"circle\"}, \"mode\": \"markers\", \"name\": \"color=\\u067e\\u0646\\u062c\\u0627\\u0647 \\u0631\\u0648\\u0632 \\u0627\\u0644\\u062a\\u0647\\u0627\\u0628\", \"showlegend\": true, \"type\": \"scatter\", \"x\": [0.0], \"xaxis\": \"x\", \"y\": [103.0], \"yaxis\": \"y\"}, {\"hoverlabel\": {\"namelength\": 0}, \"hovertemplate\": \"color=\\u067e\\u0648\\u0633\\u062a \\u0632\\u06cc\\u0628\\u0627<br>Imdb=%{x}<br>Rate=%{y}\", \"legendgroup\": \"color=\\u067e\\u0648\\u0633\\u062a \\u0632\\u06cc\\u0628\\u0627\", \"marker\": {\"color\": \"#FECB52\", \"symbol\": \"circle\"}, \"mode\": \"markers\", \"name\": \"color=\\u067e\\u0648\\u0633\\u062a \\u0632\\u06cc\\u0628\\u0627\", \"showlegend\": true, \"type\": \"scatter\", \"x\": [0.0], \"xaxis\": \"x\", \"y\": [4.0], \"yaxis\": \"y\"}, {\"hoverlabel\": {\"namelength\": 0}, \"hovertemplate\": \"color=\\u067e\\u06cc\\u0627\\u062f\\u0647 \\u0631\\u0648\\u0647\\u0627\\u06cc \\u0648\\u0627\\u0631\\u0627\\u0698\\u062f\\u06cc\\u0646<br>Imdb=%{x}<br>Rate=%{y}\", \"legendgroup\": \"color=\\u067e\\u06cc\\u0627\\u062f\\u0647 \\u0631\\u0648\\u0647\\u0627\\u06cc \\u0648\\u0627\\u0631\\u0627\\u0698\\u062f\\u06cc\\u0646\", \"marker\": {\"color\": \"#636efa\", \"symbol\": \"circle\"}, \"mode\": \"markers\", \"name\": \"color=\\u067e\\u06cc\\u0627\\u062f\\u0647 \\u0631\\u0648\\u0647\\u0627\\u06cc \\u0648\\u0627\\u0631\\u0627\\u0698\\u062f\\u06cc\\u0646\", \"showlegend\": true, \"type\": \"scatter\", \"x\": [0.0], \"xaxis\": \"x\", \"y\": [9.0], \"yaxis\": \"y\"}, {\"hoverlabel\": {\"namelength\": 0}, \"hovertemplate\": \"color=\\u067e\\u06cc\\u062f\\u0627 \\u0648 \\u067e\\u0646\\u0647\\u0627\\u0646<br>Imdb=%{x}<br>Rate=%{y}\", \"legendgroup\": \"color=\\u067e\\u06cc\\u062f\\u0627 \\u0648 \\u067e\\u0646\\u0647\\u0627\\u0646\", \"marker\": {\"color\": \"#EF553B\", \"symbol\": \"circle\"}, \"mode\": \"markers\", \"name\": \"color=\\u067e\\u06cc\\u062f\\u0627 \\u0648 \\u067e\\u0646\\u0647\\u0627\\u0646\", \"showlegend\": true, \"type\": \"scatter\", \"x\": [0.0], \"xaxis\": \"x\", \"y\": [75.0], \"yaxis\": \"y\"}, {\"hoverlabel\": {\"namelength\": 0}, \"hovertemplate\": \"color=\\u067e\\u06cc\\u0631\\u0645\\u0631\\u062f \\u0648 \\u062e\\u0648\\u0627\\u0646\\u0646\\u062f\\u0647<br>Imdb=%{x}<br>Rate=%{y}\", \"legendgroup\": \"color=\\u067e\\u06cc\\u0631\\u0645\\u0631\\u062f \\u0648 \\u062e\\u0648\\u0627\\u0646\\u0646\\u062f\\u0647\", \"marker\": {\"color\": \"#00cc96\", \"symbol\": \"circle\"}, \"mode\": \"markers\", \"name\": \"color=\\u067e\\u06cc\\u0631\\u0645\\u0631\\u062f \\u0648 \\u062e\\u0648\\u0627\\u0646\\u0646\\u062f\\u0647\", \"showlegend\": true, \"type\": \"scatter\", \"x\": [0.0], \"xaxis\": \"x\", \"y\": [7.0], \"yaxis\": \"y\"}, {\"hoverlabel\": {\"namelength\": 0}, \"hovertemplate\": \"color=\\u067e\\u06cc\\u0634\\u062e\\u062f\\u0645\\u062a<br>Imdb=%{x}<br>Rate=%{y}\", \"legendgroup\": \"color=\\u067e\\u06cc\\u0634\\u062e\\u062f\\u0645\\u062a\", \"marker\": {\"color\": \"#ab63fa\", \"symbol\": \"circle\"}, \"mode\": \"markers\", \"name\": \"color=\\u067e\\u06cc\\u0634\\u062e\\u062f\\u0645\\u062a\", \"showlegend\": true, \"type\": \"scatter\", \"x\": [0.0], \"xaxis\": \"x\", \"y\": [282.0], \"yaxis\": \"y\"}, {\"hoverlabel\": {\"namelength\": 0}, \"hovertemplate\": \"color=\\u067e\\u06cc\\u0634\\u06a9\\u0634 \\u0627\\u06cc\\u0631\\u0627\\u0646\\u06cc<br>Imdb=%{x}<br>Rate=%{y}\", \"legendgroup\": \"color=\\u067e\\u06cc\\u0634\\u06a9\\u0634 \\u0627\\u06cc\\u0631\\u0627\\u0646\\u06cc\", \"marker\": {\"color\": \"#FFA15A\", \"symbol\": \"circle\"}, \"mode\": \"markers\", \"name\": \"color=\\u067e\\u06cc\\u0634\\u06a9\\u0634 \\u0627\\u06cc\\u0631\\u0627\\u0646\\u06cc\", \"showlegend\": true, \"type\": \"scatter\", \"x\": [0.0], \"xaxis\": \"x\", \"y\": [160.0], \"yaxis\": \"y\"}, {\"hoverlabel\": {\"namelength\": 0}, \"hovertemplate\": \"color=\\u067e\\u06cc\\u0634\\u06cc \\u0645\\u06cc\\u0634\\u06cc<br>Imdb=%{x}<br>Rate=%{y}\", \"legendgroup\": \"color=\\u067e\\u06cc\\u0634\\u06cc \\u0645\\u06cc\\u0634\\u06cc\", \"marker\": {\"color\": \"#19d3f3\", \"symbol\": \"circle\"}, \"mode\": \"markers\", \"name\": \"color=\\u067e\\u06cc\\u0634\\u06cc \\u0645\\u06cc\\u0634\\u06cc\", \"showlegend\": true, \"type\": \"scatter\", \"x\": [0.0], \"xaxis\": \"x\", \"y\": [23904.0], \"yaxis\": \"y\"}, {\"hoverlabel\": {\"namelength\": 0}, \"hovertemplate\": \"color=\\u0686\\u0631\\u0627 \\u0633\\u0648\\u0631\\u06cc\\u0647<br>Imdb=%{x}<br>Rate=%{y}\", \"legendgroup\": \"color=\\u0686\\u0631\\u0627 \\u0633\\u0648\\u0631\\u06cc\\u0647\", \"marker\": {\"color\": \"#FF6692\", \"symbol\": \"circle\"}, \"mode\": \"markers\", \"name\": \"color=\\u0686\\u0631\\u0627 \\u0633\\u0648\\u0631\\u06cc\\u0647\", \"showlegend\": true, \"type\": \"scatter\", \"x\": [0.0], \"xaxis\": \"x\", \"y\": [496.0], \"yaxis\": \"y\"}, {\"hoverlabel\": {\"namelength\": 0}, \"hovertemplate\": \"color=\\u0686\\u0634\\u0645 \\u0633\\u0648\\u0645<br>Imdb=%{x}<br>Rate=%{y}\", \"legendgroup\": \"color=\\u0686\\u0634\\u0645 \\u0633\\u0648\\u0645\", \"marker\": {\"color\": \"#B6E880\", \"symbol\": \"circle\"}, \"mode\": \"markers\", \"name\": \"color=\\u0686\\u0634\\u0645 \\u0633\\u0648\\u0645\", \"showlegend\": true, \"type\": \"scatter\", \"x\": [0.0], \"xaxis\": \"x\", \"y\": [1489.0], \"yaxis\": \"y\"}, {\"hoverlabel\": {\"namelength\": 0}, \"hovertemplate\": \"color=\\u0686\\u0646\\u062f \\u0645\\u062a\\u0631 \\u0645\\u06a9\\u0639\\u0628 \\u0639\\u0634\\u0642 (\\u0628\\u0627 \\u0632\\u06cc\\u0631\\u0646\\u0648\\u06cc\\u0633 \\u0645\\u062e\\u0635\\u0648\\u0635 \\u0646\\u0627\\u0634\\u0646\\u0648\\u0627\\u06cc\\u0627\\u0646)<br>Imdb=%{x}<br>Rate=%{y}\", \"legendgroup\": \"color=\\u0686\\u0646\\u062f \\u0645\\u062a\\u0631 \\u0645\\u06a9\\u0639\\u0628 \\u0639\\u0634\\u0642 (\\u0628\\u0627 \\u0632\\u06cc\\u0631\\u0646\\u0648\\u06cc\\u0633 \\u0645\\u062e\\u0635\\u0648\\u0635 \\u0646\\u0627\\u0634\\u0646\\u0648\\u0627\\u06cc\\u0627\\u0646)\", \"marker\": {\"color\": \"#FF97FF\", \"symbol\": \"circle\"}, \"mode\": \"markers\", \"name\": \"color=\\u0686\\u0646\\u062f \\u0645\\u062a\\u0631 \\u0645\\u06a9\\u0639\\u0628 \\u0639\\u0634\\u0642 (\\u0628\\u0627 \\u0632\\u06cc\\u0631\\u0646\\u0648\\u06cc\\u0633 \\u0645\\u062e\\u0635\\u0648\\u0635 \\u0646\\u0627\\u0634\\u0646\\u0648\\u0627\\u06cc\\u0627\\u0646)\", \"showlegend\": true, \"type\": \"scatter\", \"x\": [7.1], \"xaxis\": \"x\", \"y\": [77.0], \"yaxis\": \"y\"}, {\"hoverlabel\": {\"namelength\": 0}, \"hovertemplate\": \"color=\\u0686\\u0647\\u0627\\u0631 \\u0627\\u0646\\u06af\\u0634\\u062a (\\u0628\\u0627 \\u0632\\u06cc\\u0631\\u0646\\u0648\\u06cc\\u0633 \\u0645\\u062e\\u0635\\u0648\\u0635 \\u0646\\u0627\\u0634\\u0646\\u0648\\u0627\\u06cc\\u0627\\u0646)<br>Imdb=%{x}<br>Rate=%{y}\", \"legendgroup\": \"color=\\u0686\\u0647\\u0627\\u0631 \\u0627\\u0646\\u06af\\u0634\\u062a (\\u0628\\u0627 \\u0632\\u06cc\\u0631\\u0646\\u0648\\u06cc\\u0633 \\u0645\\u062e\\u0635\\u0648\\u0635 \\u0646\\u0627\\u0634\\u0646\\u0648\\u0627\\u06cc\\u0627\\u0646)\", \"marker\": {\"color\": \"#FECB52\", \"symbol\": \"circle\"}, \"mode\": \"markers\", \"name\": \"color=\\u0686\\u0647\\u0627\\u0631 \\u0627\\u0646\\u06af\\u0634\\u062a (\\u0628\\u0627 \\u0632\\u06cc\\u0631\\u0646\\u0648\\u06cc\\u0633 \\u0645\\u062e\\u0635\\u0648\\u0635 \\u0646\\u0627\\u0634\\u0646\\u0648\\u0627\\u06cc\\u0627\\u0646)\", \"showlegend\": true, \"type\": \"scatter\", \"x\": [3.5], \"xaxis\": \"x\", \"y\": [123.0], \"yaxis\": \"y\"}, {\"hoverlabel\": {\"namelength\": 0}, \"hovertemplate\": \"color=\\u0686\\u0647\\u0644 \\u0648 \\u0647\\u0641\\u062a<br>Imdb=%{x}<br>Rate=%{y}\", \"legendgroup\": \"color=\\u0686\\u0647\\u0644 \\u0648 \\u0647\\u0641\\u062a\", \"marker\": {\"color\": \"#636efa\", \"symbol\": \"circle\"}, \"mode\": \"markers\", \"name\": \"color=\\u0686\\u0647\\u0644 \\u0648 \\u0647\\u0641\\u062a\", \"showlegend\": true, \"type\": \"scatter\", \"x\": [0.0], \"xaxis\": \"x\", \"y\": [11125.0], \"yaxis\": \"y\"}, {\"hoverlabel\": {\"namelength\": 0}, \"hovertemplate\": \"color=\\u06a9\\u0627\\u062a \\u06a9\\u0644\\u0627\\u0646\\u062a\\u0631\\u06cc<br>Imdb=%{x}<br>Rate=%{y}\", \"legendgroup\": \"color=\\u06a9\\u0627\\u062a \\u06a9\\u0644\\u0627\\u0646\\u062a\\u0631\\u06cc\", \"marker\": {\"color\": \"#EF553B\", \"symbol\": \"circle\"}, \"mode\": \"markers\", \"name\": \"color=\\u06a9\\u0627\\u062a \\u06a9\\u0644\\u0627\\u0646\\u062a\\u0631\\u06cc\", \"showlegend\": true, \"type\": \"scatter\", \"x\": [0.0], \"xaxis\": \"x\", \"y\": [708.0], \"yaxis\": \"y\"}, {\"hoverlabel\": {\"namelength\": 0}, \"hovertemplate\": \"color=\\u06a9\\u0627\\u062a\\u06cc\\u0648\\u0634\\u0627 (\\u0628\\u0627 \\u0632\\u06cc\\u0631\\u0646\\u0648\\u06cc\\u0633 \\u0645\\u062e\\u0635\\u0648\\u0635 \\u0646\\u0627\\u0634\\u0646\\u0648\\u0627\\u06cc\\u0627\\u0646)<br>Imdb=%{x}<br>Rate=%{y}\", \"legendgroup\": \"color=\\u06a9\\u0627\\u062a\\u06cc\\u0648\\u0634\\u0627 (\\u0628\\u0627 \\u0632\\u06cc\\u0631\\u0646\\u0648\\u06cc\\u0633 \\u0645\\u062e\\u0635\\u0648\\u0635 \\u0646\\u0627\\u0634\\u0646\\u0648\\u0627\\u06cc\\u0627\\u0646)\", \"marker\": {\"color\": \"#00cc96\", \"symbol\": \"circle\"}, \"mode\": \"markers\", \"name\": \"color=\\u06a9\\u0627\\u062a\\u06cc\\u0648\\u0634\\u0627 (\\u0628\\u0627 \\u0632\\u06cc\\u0631\\u0646\\u0648\\u06cc\\u0633 \\u0645\\u062e\\u0635\\u0648\\u0635 \\u0646\\u0627\\u0634\\u0646\\u0648\\u0627\\u06cc\\u0627\\u0646)\", \"showlegend\": true, \"type\": \"scatter\", \"x\": [4.2], \"xaxis\": \"x\", \"y\": [332.0], \"yaxis\": \"y\"}, {\"hoverlabel\": {\"namelength\": 0}, \"hovertemplate\": \"color=\\u06a9\\u0627\\u063a\\u0630 \\u067e\\u0631 \\u0645\\u0627\\u062c\\u0631\\u0627<br>Imdb=%{x}<br>Rate=%{y}\", \"legendgroup\": \"color=\\u06a9\\u0627\\u063a\\u0630 \\u067e\\u0631 \\u0645\\u0627\\u062c\\u0631\\u0627\", \"marker\": {\"color\": \"#ab63fa\", \"symbol\": \"circle\"}, \"mode\": \"markers\", \"name\": \"color=\\u06a9\\u0627\\u063a\\u0630 \\u067e\\u0631 \\u0645\\u0627\\u062c\\u0631\\u0627\", \"showlegend\": true, \"type\": \"scatter\", \"x\": [0.0], \"xaxis\": \"x\", \"y\": [149.0], \"yaxis\": \"y\"}, {\"hoverlabel\": {\"namelength\": 0}, \"hovertemplate\": \"color=\\u06a9\\u0627\\u063a\\u0630 \\u06a9\\u0627\\u0647\\u06cc<br>Imdb=%{x}<br>Rate=%{y}\", \"legendgroup\": \"color=\\u06a9\\u0627\\u063a\\u0630 \\u06a9\\u0627\\u0647\\u06cc\", \"marker\": {\"color\": \"#FFA15A\", \"symbol\": \"circle\"}, \"mode\": \"markers\", \"name\": \"color=\\u06a9\\u0627\\u063a\\u0630 \\u06a9\\u0627\\u0647\\u06cc\", \"showlegend\": true, \"type\": \"scatter\", \"x\": [0.0], \"xaxis\": \"x\", \"y\": [81.0], \"yaxis\": \"y\"}, {\"hoverlabel\": {\"namelength\": 0}, \"hovertemplate\": \"color=\\u06a9\\u0628\\u0648\\u062a\\u0631\\u0627\\u0646 \\u062e\\u0633\\u062a\\u0647<br>Imdb=%{x}<br>Rate=%{y}\", \"legendgroup\": \"color=\\u06a9\\u0628\\u0648\\u062a\\u0631\\u0627\\u0646 \\u062e\\u0633\\u062a\\u0647\", \"marker\": {\"color\": \"#19d3f3\", \"symbol\": \"circle\"}, \"mode\": \"markers\", \"name\": \"color=\\u06a9\\u0628\\u0648\\u062a\\u0631\\u0627\\u0646 \\u062e\\u0633\\u062a\\u0647\", \"showlegend\": true, \"type\": \"scatter\", \"x\": [5.7], \"xaxis\": \"x\", \"y\": [56.0], \"yaxis\": \"y\"}, {\"hoverlabel\": {\"namelength\": 0}, \"hovertemplate\": \"color=\\u06a9\\u0631\\u0628\\u0627\\u0644<br>Imdb=%{x}<br>Rate=%{y}\", \"legendgroup\": \"color=\\u06a9\\u0631\\u0628\\u0627\\u0644\", \"marker\": {\"color\": \"#FF6692\", \"symbol\": \"circle\"}, \"mode\": \"markers\", \"name\": \"color=\\u06a9\\u0631\\u0628\\u0627\\u0644\", \"showlegend\": true, \"type\": \"scatter\", \"x\": [0.0], \"xaxis\": \"x\", \"y\": [87.0], \"yaxis\": \"y\"}, {\"hoverlabel\": {\"namelength\": 0}, \"hovertemplate\": \"color=\\u06a9\\u0634\\u062a\\u0627\\u0631\\u06af\\u0627\\u0647 (\\u0628\\u0627 \\u0632\\u06cc\\u0631\\u0646\\u0648\\u06cc\\u0633 \\u0645\\u062e\\u0635\\u0648\\u0635 \\u0646\\u0627\\u0634\\u0646\\u0648\\u0627\\u06cc\\u0627\\u0646)<br>Imdb=%{x}<br>Rate=%{y}\", \"legendgroup\": \"color=\\u06a9\\u0634\\u062a\\u0627\\u0631\\u06af\\u0627\\u0647 (\\u0628\\u0627 \\u0632\\u06cc\\u0631\\u0646\\u0648\\u06cc\\u0633 \\u0645\\u062e\\u0635\\u0648\\u0635 \\u0646\\u0627\\u0634\\u0646\\u0648\\u0627\\u06cc\\u0627\\u0646)\", \"marker\": {\"color\": \"#B6E880\", \"symbol\": \"circle\"}, \"mode\": \"markers\", \"name\": \"color=\\u06a9\\u0634\\u062a\\u0627\\u0631\\u06af\\u0627\\u0647 (\\u0628\\u0627 \\u0632\\u06cc\\u0631\\u0646\\u0648\\u06cc\\u0633 \\u0645\\u062e\\u0635\\u0648\\u0635 \\u0646\\u0627\\u0634\\u0646\\u0648\\u0627\\u06cc\\u0627\\u0646)\", \"showlegend\": true, \"type\": \"scatter\", \"x\": [5.7], \"xaxis\": \"x\", \"y\": [197.0], \"yaxis\": \"y\"}, {\"hoverlabel\": {\"namelength\": 0}, \"hovertemplate\": \"color=\\u06a9\\u0641\\u0634 \\u0647\\u0627\\u06cc \\u062c\\u06cc\\u0631\\u062c\\u06cc\\u0631\\u06a9 \\u062f\\u0627\\u0631<br>Imdb=%{x}<br>Rate=%{y}\", \"legendgroup\": \"color=\\u06a9\\u0641\\u0634 \\u0647\\u0627\\u06cc \\u062c\\u06cc\\u0631\\u062c\\u06cc\\u0631\\u06a9 \\u062f\\u0627\\u0631\", \"marker\": {\"color\": \"#FF97FF\", \"symbol\": \"circle\"}, \"mode\": \"markers\", \"name\": \"color=\\u06a9\\u0641\\u0634 \\u0647\\u0627\\u06cc \\u062c\\u06cc\\u0631\\u062c\\u06cc\\u0631\\u06a9 \\u062f\\u0627\\u0631\", \"showlegend\": true, \"type\": \"scatter\", \"x\": [6.8], \"xaxis\": \"x\", \"y\": [190.0], \"yaxis\": \"y\"}, {\"hoverlabel\": {\"namelength\": 0}, \"hovertemplate\": \"color=\\u06a9\\u0644\\u0627\\u0647 \\u06af\\u06cc\\u0633<br>Imdb=%{x}<br>Rate=%{y}\", \"legendgroup\": \"color=\\u06a9\\u0644\\u0627\\u0647 \\u06af\\u06cc\\u0633\", \"marker\": {\"color\": \"#FECB52\", \"symbol\": \"circle\"}, \"mode\": \"markers\", \"name\": \"color=\\u06a9\\u0644\\u0627\\u0647 \\u06af\\u06cc\\u0633\", \"showlegend\": true, \"type\": \"scatter\", \"x\": [0.0], \"xaxis\": \"x\", \"y\": [855.0], \"yaxis\": \"y\"}, {\"hoverlabel\": {\"namelength\": 0}, \"hovertemplate\": \"color=\\u06a9\\u0644\\u0627\\u0647\\u06cc \\u0628\\u0631\\u0627\\u06cc \\u0628\\u0627\\u0631\\u0627\\u0646<br>Imdb=%{x}<br>Rate=%{y}\", \"legendgroup\": \"color=\\u06a9\\u0644\\u0627\\u0647\\u06cc \\u0628\\u0631\\u0627\\u06cc \\u0628\\u0627\\u0631\\u0627\\u0646\", \"marker\": {\"color\": \"#636efa\", \"symbol\": \"circle\"}, \"mode\": \"markers\", \"name\": \"color=\\u06a9\\u0644\\u0627\\u0647\\u06cc \\u0628\\u0631\\u0627\\u06cc \\u0628\\u0627\\u0631\\u0627\\u0646\", \"showlegend\": true, \"type\": \"scatter\", \"x\": [0.0], \"xaxis\": \"x\", \"y\": [1622.0], \"yaxis\": \"y\"}, {\"hoverlabel\": {\"namelength\": 0}, \"hovertemplate\": \"color=\\u06a9\\u0644\\u06a9 \\u0632\\u0631\\u06cc\\u0646<br>Imdb=%{x}<br>Rate=%{y}\", \"legendgroup\": \"color=\\u06a9\\u0644\\u06a9 \\u0632\\u0631\\u06cc\\u0646\", \"marker\": {\"color\": \"#EF553B\", \"symbol\": \"circle\"}, \"mode\": \"markers\", \"name\": \"color=\\u06a9\\u0644\\u06a9 \\u0632\\u0631\\u06cc\\u0646\", \"showlegend\": true, \"type\": \"scatter\", \"x\": [0.0], \"xaxis\": \"x\", \"y\": [26.0], \"yaxis\": \"y\"}, {\"hoverlabel\": {\"namelength\": 0}, \"hovertemplate\": \"color=\\u06a9\\u0645\\u0627 - \\u067e\\u0634\\u062a \\u0635\\u062d\\u0646\\u0647<br>Imdb=%{x}<br>Rate=%{y}\", \"legendgroup\": \"color=\\u06a9\\u0645\\u0627 - \\u067e\\u0634\\u062a \\u0635\\u062d\\u0646\\u0647\", \"marker\": {\"color\": \"#00cc96\", \"symbol\": \"circle\"}, \"mode\": \"markers\", \"name\": \"color=\\u06a9\\u0645\\u0627 - \\u067e\\u0634\\u062a \\u0635\\u062d\\u0646\\u0647\", \"showlegend\": true, \"type\": \"scatter\", \"x\": [0.0], \"xaxis\": \"x\", \"y\": [60.0], \"yaxis\": \"y\"}, {\"hoverlabel\": {\"namelength\": 0}, \"hovertemplate\": \"color=\\u06a9\\u0646\\u0627\\u0631 \\u06af\\u0648\\u062f<br>Imdb=%{x}<br>Rate=%{y}\", \"legendgroup\": \"color=\\u06a9\\u0646\\u0627\\u0631 \\u06af\\u0648\\u062f\", \"marker\": {\"color\": \"#ab63fa\", \"symbol\": \"circle\"}, \"mode\": \"markers\", \"name\": \"color=\\u06a9\\u0646\\u0627\\u0631 \\u06af\\u0648\\u062f\", \"showlegend\": true, \"type\": \"scatter\", \"x\": [0.0], \"xaxis\": \"x\", \"y\": [31.0], \"yaxis\": \"y\"}, {\"hoverlabel\": {\"namelength\": 0}, \"hovertemplate\": \"color=\\u06a9\\u0646\\u0633\\u0631\\u062a \\u062a\\u0644\\u0641\\u06cc\\u0642\\u06cc : \\u0639\\u0645\\u0627\\u062f \\u0628\\u0646\\u06a9\\u062f\\u0627\\u0631<br>Imdb=%{x}<br>Rate=%{y}\", \"legendgroup\": \"color=\\u06a9\\u0646\\u0633\\u0631\\u062a \\u062a\\u0644\\u0641\\u06cc\\u0642\\u06cc : \\u0639\\u0645\\u0627\\u062f \\u0628\\u0646\\u06a9\\u062f\\u0627\\u0631\", \"marker\": {\"color\": \"#FFA15A\", \"symbol\": \"circle\"}, \"mode\": \"markers\", \"name\": \"color=\\u06a9\\u0646\\u0633\\u0631\\u062a \\u062a\\u0644\\u0641\\u06cc\\u0642\\u06cc : \\u0639\\u0645\\u0627\\u062f \\u0628\\u0646\\u06a9\\u062f\\u0627\\u0631\", \"showlegend\": true, \"type\": \"scatter\", \"x\": [0.0], \"xaxis\": \"x\", \"y\": [28.0], \"yaxis\": \"y\"}, {\"hoverlabel\": {\"namelength\": 0}, \"hovertemplate\": \"color=\\u06a9\\u0646\\u0633\\u0631\\u062a \\u062d\\u0633\\u0627\\u0645 \\u0627\\u0644\\u062f\\u06cc\\u0646 \\u0633\\u0631\\u0627\\u062c<br>Imdb=%{x}<br>Rate=%{y}\", \"legendgroup\": \"color=\\u06a9\\u0646\\u0633\\u0631\\u062a \\u062d\\u0633\\u0627\\u0645 \\u0627\\u0644\\u062f\\u06cc\\u0646 \\u0633\\u0631\\u0627\\u062c\", \"marker\": {\"color\": \"#19d3f3\", \"symbol\": \"circle\"}, \"mode\": \"markers\", \"name\": \"color=\\u06a9\\u0646\\u0633\\u0631\\u062a \\u062d\\u0633\\u0627\\u0645 \\u0627\\u0644\\u062f\\u06cc\\u0646 \\u0633\\u0631\\u0627\\u062c\", \"showlegend\": true, \"type\": \"scatter\", \"x\": [0.0], \"xaxis\": \"x\", \"y\": [177.0], \"yaxis\": \"y\"}, {\"hoverlabel\": {\"namelength\": 0}, \"hovertemplate\": \"color=\\u06a9\\u0646\\u0633\\u0631\\u062a \\u0645\\u0648\\u0633\\u06cc\\u0642\\u06cc \\u0622\\u0630\\u0631\\u0628\\u0627\\u06cc\\u062c\\u0627\\u0646\\u06cc : \\u0648\\u062f\\u0648\\u062f \\u0645\\u0648\\u0630\\u0646<br>Imdb=%{x}<br>Rate=%{y}\", \"legendgroup\": \"color=\\u06a9\\u0646\\u0633\\u0631\\u062a \\u0645\\u0648\\u0633\\u06cc\\u0642\\u06cc \\u0622\\u0630\\u0631\\u0628\\u0627\\u06cc\\u062c\\u0627\\u0646\\u06cc : \\u0648\\u062f\\u0648\\u062f \\u0645\\u0648\\u0630\\u0646\", \"marker\": {\"color\": \"#FF6692\", \"symbol\": \"circle\"}, \"mode\": \"markers\", \"name\": \"color=\\u06a9\\u0646\\u0633\\u0631\\u062a \\u0645\\u0648\\u0633\\u06cc\\u0642\\u06cc \\u0622\\u0630\\u0631\\u0628\\u0627\\u06cc\\u062c\\u0627\\u0646\\u06cc : \\u0648\\u062f\\u0648\\u062f \\u0645\\u0648\\u0630\\u0646\", \"showlegend\": true, \"type\": \"scatter\", \"x\": [0.0], \"xaxis\": \"x\", \"y\": [39.0], \"yaxis\": \"y\"}, {\"hoverlabel\": {\"namelength\": 0}, \"hovertemplate\": \"color=\\u06a9\\u0648\\u062f\\u06a9\\u06cc \\u0646\\u06cc\\u0645\\u0647 \\u062a\\u0645\\u0627\\u0645<br>Imdb=%{x}<br>Rate=%{y}\", \"legendgroup\": \"color=\\u06a9\\u0648\\u062f\\u06a9\\u06cc \\u0646\\u06cc\\u0645\\u0647 \\u062a\\u0645\\u0627\\u0645\", \"marker\": {\"color\": \"#B6E880\", \"symbol\": \"circle\"}, \"mode\": \"markers\", \"name\": \"color=\\u06a9\\u0648\\u062f\\u06a9\\u06cc \\u0646\\u06cc\\u0645\\u0647 \\u062a\\u0645\\u0627\\u0645\", \"showlegend\": true, \"type\": \"scatter\", \"x\": [0.0], \"xaxis\": \"x\", \"y\": [58.0], \"yaxis\": \"y\"}, {\"hoverlabel\": {\"namelength\": 0}, \"hovertemplate\": \"color=\\u06a9\\u0648\\u0686\\u0647 \\u0646\\u0642\\u0627\\u0634 \\u0647\\u0627<br>Imdb=%{x}<br>Rate=%{y}\", \"legendgroup\": \"color=\\u06a9\\u0648\\u0686\\u0647 \\u0646\\u0642\\u0627\\u0634 \\u0647\\u0627\", \"marker\": {\"color\": \"#FF97FF\", \"symbol\": \"circle\"}, \"mode\": \"markers\", \"name\": \"color=\\u06a9\\u0648\\u0686\\u0647 \\u0646\\u0642\\u0627\\u0634 \\u0647\\u0627\", \"showlegend\": true, \"type\": \"scatter\", \"x\": [0.0], \"xaxis\": \"x\", \"y\": [147.0], \"yaxis\": \"y\"}, {\"hoverlabel\": {\"namelength\": 0}, \"hovertemplate\": \"color=\\u06af\\u0627\\u0644<br>Imdb=%{x}<br>Rate=%{y}\", \"legendgroup\": \"color=\\u06af\\u0627\\u0644\", \"marker\": {\"color\": \"#FECB52\", \"symbol\": \"circle\"}, \"mode\": \"markers\", \"name\": \"color=\\u06af\\u0627\\u0644\", \"showlegend\": true, \"type\": \"scatter\", \"x\": [0.0], \"xaxis\": \"x\", \"y\": [28.0], \"yaxis\": \"y\"}, {\"hoverlabel\": {\"namelength\": 0}, \"hovertemplate\": \"color=\\u06af\\u0631\\u062f\\u0627\\u0646 \\u0642\\u0627\\u0637\\u0631\\u06cc\\u0632\\u0647<br>Imdb=%{x}<br>Rate=%{y}\", \"legendgroup\": \"color=\\u06af\\u0631\\u062f\\u0627\\u0646 \\u0642\\u0627\\u0637\\u0631\\u06cc\\u0632\\u0647\", \"marker\": {\"color\": \"#636efa\", \"symbol\": \"circle\"}, \"mode\": \"markers\", \"name\": \"color=\\u06af\\u0631\\u062f\\u0627\\u0646 \\u0642\\u0627\\u0637\\u0631\\u06cc\\u0632\\u0647\", \"showlegend\": true, \"type\": \"scatter\", \"x\": [0.0], \"xaxis\": \"x\", \"y\": [506.0], \"yaxis\": \"y\"}, {\"hoverlabel\": {\"namelength\": 0}, \"hovertemplate\": \"color=\\u06af\\u0631\\u06af \\u0628\\u0627\\u0632\\u06cc<br>Imdb=%{x}<br>Rate=%{y}\", \"legendgroup\": \"color=\\u06af\\u0631\\u06af \\u0628\\u0627\\u0632\\u06cc\", \"marker\": {\"color\": \"#EF553B\", \"symbol\": \"circle\"}, \"mode\": \"markers\", \"name\": \"color=\\u06af\\u0631\\u06af \\u0628\\u0627\\u0632\\u06cc\", \"showlegend\": true, \"type\": \"scatter\", \"x\": [4.9], \"xaxis\": \"x\", \"y\": [5477.0], \"yaxis\": \"y\"}, {\"hoverlabel\": {\"namelength\": 0}, \"hovertemplate\": \"color=\\u06af\\u0632\\u0627\\u0631\\u0634 \\u0622\\u0634\\u0648\\u0628<br>Imdb=%{x}<br>Rate=%{y}\", \"legendgroup\": \"color=\\u06af\\u0632\\u0627\\u0631\\u0634 \\u0622\\u0634\\u0648\\u0628\", \"marker\": {\"color\": \"#00cc96\", \"symbol\": \"circle\"}, \"mode\": \"markers\", \"name\": \"color=\\u06af\\u0632\\u0627\\u0631\\u0634 \\u0622\\u0634\\u0648\\u0628\", \"showlegend\": true, \"type\": \"scatter\", \"x\": [0.0], \"xaxis\": \"x\", \"y\": [63.0], \"yaxis\": \"y\"}, {\"hoverlabel\": {\"namelength\": 0}, \"hovertemplate\": \"color=\\u06af\\u0632\\u0627\\u0631\\u0634 \\u06af\\u0645\\u0627\\u0646\\u0647 \\u0647\\u0627\\u06cc \\u06cc\\u06a9 \\u0630\\u0647\\u0646<br>Imdb=%{x}<br>Rate=%{y}\", \"legendgroup\": \"color=\\u06af\\u0632\\u0627\\u0631\\u0634 \\u06af\\u0645\\u0627\\u0646\\u0647 \\u0647\\u0627\\u06cc \\u06cc\\u06a9 \\u0630\\u0647\\u0646\", \"marker\": {\"color\": \"#ab63fa\", \"symbol\": \"circle\"}, \"mode\": \"markers\", \"name\": \"color=\\u06af\\u0632\\u0627\\u0631\\u0634 \\u06af\\u0645\\u0627\\u0646\\u0647 \\u0647\\u0627\\u06cc \\u06cc\\u06a9 \\u0630\\u0647\\u0646\", \"showlegend\": true, \"type\": \"scatter\", \"x\": [0.0], \"xaxis\": \"x\", \"y\": [151.0], \"yaxis\": \"y\"}, {\"hoverlabel\": {\"namelength\": 0}, \"hovertemplate\": \"color=\\u06af\\u0644 \\u06cc\\u0627 \\u067e\\u0648\\u0686<br>Imdb=%{x}<br>Rate=%{y}\", \"legendgroup\": \"color=\\u06af\\u0644 \\u06cc\\u0627 \\u067e\\u0648\\u0686\", \"marker\": {\"color\": \"#FFA15A\", \"symbol\": \"circle\"}, \"mode\": \"markers\", \"name\": \"color=\\u06af\\u0644 \\u06cc\\u0627 \\u067e\\u0648\\u0686\", \"showlegend\": true, \"type\": \"scatter\", \"x\": [0.0], \"xaxis\": \"x\", \"y\": [42.0], \"yaxis\": \"y\"}, {\"hoverlabel\": {\"namelength\": 0}, \"hovertemplate\": \"color=\\u06af\\u0648\\u0631\\u06a9\\u0646<br>Imdb=%{x}<br>Rate=%{y}\", \"legendgroup\": \"color=\\u06af\\u0648\\u0631\\u06a9\\u0646\", \"marker\": {\"color\": \"#19d3f3\", \"symbol\": \"circle\"}, \"mode\": \"markers\", \"name\": \"color=\\u06af\\u0648\\u0631\\u06a9\\u0646\", \"showlegend\": true, \"type\": \"scatter\", \"x\": [5.9], \"xaxis\": \"x\", \"y\": [12654.0], \"yaxis\": \"y\"}, {\"hoverlabel\": {\"namelength\": 0}, \"hovertemplate\": \"color=\\u06af\\u0648\\u0632\\u0646<br>Imdb=%{x}<br>Rate=%{y}\", \"legendgroup\": \"color=\\u06af\\u0648\\u0632\\u0646\", \"marker\": {\"color\": \"#FF6692\", \"symbol\": \"circle\"}, \"mode\": \"markers\", \"name\": \"color=\\u06af\\u0648\\u0632\\u0646\", \"showlegend\": true, \"type\": \"scatter\", \"x\": [0.0], \"xaxis\": \"x\", \"y\": [51.0], \"yaxis\": \"y\"}, {\"hoverlabel\": {\"namelength\": 0}, \"hovertemplate\": \"color=\\u06af\\u067e<br>Imdb=%{x}<br>Rate=%{y}\", \"legendgroup\": \"color=\\u06af\\u067e\", \"marker\": {\"color\": \"#B6E880\", \"symbol\": \"circle\"}, \"mode\": \"markers\", \"name\": \"color=\\u06af\\u067e\", \"showlegend\": true, \"type\": \"scatter\", \"x\": [0.0], \"xaxis\": \"x\", \"y\": [5.0], \"yaxis\": \"y\"}, {\"hoverlabel\": {\"namelength\": 0}, \"hovertemplate\": \"color=\\u06af\\u06cc\\u0644\\u0627\\u0646\\u0647<br>Imdb=%{x}<br>Rate=%{y}\", \"legendgroup\": \"color=\\u06af\\u06cc\\u0644\\u0627\\u0646\\u0647\", \"marker\": {\"color\": \"#FF97FF\", \"symbol\": \"circle\"}, \"mode\": \"markers\", \"name\": \"color=\\u06af\\u06cc\\u0644\\u0627\\u0646\\u0647\", \"showlegend\": true, \"type\": \"scatter\", \"x\": [6.7], \"xaxis\": \"x\", \"y\": [668.0], \"yaxis\": \"y\"}, {\"hoverlabel\": {\"namelength\": 0}, \"hovertemplate\": \"color=\\u06af\\u06cc\\u0644\\u062f\\u0627<br>Imdb=%{x}<br>Rate=%{y}\", \"legendgroup\": \"color=\\u06af\\u06cc\\u0644\\u062f\\u0627\", \"marker\": {\"color\": \"#FECB52\", \"symbol\": \"circle\"}, \"mode\": \"markers\", \"name\": \"color=\\u06af\\u06cc\\u0644\\u062f\\u0627\", \"showlegend\": true, \"type\": \"scatter\", \"x\": [3.8], \"xaxis\": \"x\", \"y\": [12718.0], \"yaxis\": \"y\"}, {\"hoverlabel\": {\"namelength\": 0}, \"hovertemplate\": \"color=\\u06cc\\u0627\\u0631\\u0627\\u0646 \\u063a\\u0627\\u0631<br>Imdb=%{x}<br>Rate=%{y}\", \"legendgroup\": \"color=\\u06cc\\u0627\\u0631\\u0627\\u0646 \\u063a\\u0627\\u0631\", \"marker\": {\"color\": \"#636efa\", \"symbol\": \"circle\"}, \"mode\": \"markers\", \"name\": \"color=\\u06cc\\u0627\\u0631\\u0627\\u0646 \\u063a\\u0627\\u0631\", \"showlegend\": true, \"type\": \"scatter\", \"x\": [0.0], \"xaxis\": \"x\", \"y\": [87.0], \"yaxis\": \"y\"}, {\"hoverlabel\": {\"namelength\": 0}, \"hovertemplate\": \"color=\\u06cc\\u0647 \\u0634\\u0627\\u0645 \\u062e\\u0648\\u0628<br>Imdb=%{x}<br>Rate=%{y}\", \"legendgroup\": \"color=\\u06cc\\u0647 \\u0634\\u0627\\u0645 \\u062e\\u0648\\u0628\", \"marker\": {\"color\": \"#EF553B\", \"symbol\": \"circle\"}, \"mode\": \"markers\", \"name\": \"color=\\u06cc\\u0647 \\u0634\\u0627\\u0645 \\u062e\\u0648\\u0628\", \"showlegend\": true, \"type\": \"scatter\", \"x\": [0.0], \"xaxis\": \"x\", \"y\": [728.0], \"yaxis\": \"y\"}, {\"hoverlabel\": {\"namelength\": 0}, \"hovertemplate\": \"color=\\u06cc\\u06a9 \\u0628\\u0627\\u0645 \\u0648 \\u062f\\u0648 \\u0647\\u0648\\u0627<br>Imdb=%{x}<br>Rate=%{y}\", \"legendgroup\": \"color=\\u06cc\\u06a9 \\u0628\\u0627\\u0645 \\u0648 \\u062f\\u0648 \\u0647\\u0648\\u0627\", \"marker\": {\"color\": \"#00cc96\", \"symbol\": \"circle\"}, \"mode\": \"markers\", \"name\": \"color=\\u06cc\\u06a9 \\u0628\\u0627\\u0645 \\u0648 \\u062f\\u0648 \\u0647\\u0648\\u0627\", \"showlegend\": true, \"type\": \"scatter\", \"x\": [0.0], \"xaxis\": \"x\", \"y\": [449.0], \"yaxis\": \"y\"}, {\"hoverlabel\": {\"namelength\": 0}, \"hovertemplate\": \"color=\\u06cc\\u06a9 \\u0628\\u0642\\u0686\\u0647 \\u062a\\u0648\\u0647\\u0645<br>Imdb=%{x}<br>Rate=%{y}\", \"legendgroup\": \"color=\\u06cc\\u06a9 \\u0628\\u0642\\u0686\\u0647 \\u062a\\u0648\\u0647\\u0645\", \"marker\": {\"color\": \"#ab63fa\", \"symbol\": \"circle\"}, \"mode\": \"markers\", \"name\": \"color=\\u06cc\\u06a9 \\u0628\\u0642\\u0686\\u0647 \\u062a\\u0648\\u0647\\u0645\", \"showlegend\": true, \"type\": \"scatter\", \"x\": [0.0], \"xaxis\": \"x\", \"y\": [48.0], \"yaxis\": \"y\"}, {\"hoverlabel\": {\"namelength\": 0}, \"hovertemplate\": \"color=\\u06cc\\u06a9 \\u0632\\u0646\\u062f\\u06af\\u06cc \\u0628\\u0647\\u062a\\u0631<br>Imdb=%{x}<br>Rate=%{y}\", \"legendgroup\": \"color=\\u06cc\\u06a9 \\u0632\\u0646\\u062f\\u06af\\u06cc \\u0628\\u0647\\u062a\\u0631\", \"marker\": {\"color\": \"#FFA15A\", \"symbol\": \"circle\"}, \"mode\": \"markers\", \"name\": \"color=\\u06cc\\u06a9 \\u0632\\u0646\\u062f\\u06af\\u06cc \\u0628\\u0647\\u062a\\u0631\", \"showlegend\": true, \"type\": \"scatter\", \"x\": [0.0], \"xaxis\": \"x\", \"y\": [208.0], \"yaxis\": \"y\"}, {\"hoverlabel\": {\"namelength\": 0}, \"hovertemplate\": \"color=\\u06cc\\u06a9 \\u0644\\u062d\\u0638\\u0647 \\u0644\\u0628\\u062e\\u0646\\u062f<br>Imdb=%{x}<br>Rate=%{y}\", \"legendgroup\": \"color=\\u06cc\\u06a9 \\u0644\\u062d\\u0638\\u0647 \\u0644\\u0628\\u062e\\u0646\\u062f\", \"marker\": {\"color\": \"#19d3f3\", \"symbol\": \"circle\"}, \"mode\": \"markers\", \"name\": \"color=\\u06cc\\u06a9 \\u0644\\u062d\\u0638\\u0647 \\u0644\\u0628\\u062e\\u0646\\u062f\", \"showlegend\": true, \"type\": \"scatter\", \"x\": [0.0], \"xaxis\": \"x\", \"y\": [291.0], \"yaxis\": \"y\"}, {\"hoverlabel\": {\"namelength\": 0}, \"hovertemplate\": \"color=\\u06cc\\u06a9 \\u0645\\u0633\\u0626\\u0644\\u0647 \\u0633\\u0627\\u062f\\u0647<br>Imdb=%{x}<br>Rate=%{y}\", \"legendgroup\": \"color=\\u06cc\\u06a9 \\u0645\\u0633\\u0626\\u0644\\u0647 \\u0633\\u0627\\u062f\\u0647\", \"marker\": {\"color\": \"#FF6692\", \"symbol\": \"circle\"}, \"mode\": \"markers\", \"name\": \"color=\\u06cc\\u06a9 \\u0645\\u0633\\u0626\\u0644\\u0647 \\u0633\\u0627\\u062f\\u0647\", \"showlegend\": true, \"type\": \"scatter\", \"x\": [0.0], \"xaxis\": \"x\", \"y\": [525.0], \"yaxis\": \"y\"}, {\"hoverlabel\": {\"namelength\": 0}, \"hovertemplate\": \"color=\\u06cc\\u06a9 \\u0686\\u06cc\\u0632 \\u0628\\u06cc \\u062e\\u0627\\u0635\\u06cc\\u062a<br>Imdb=%{x}<br>Rate=%{y}\", \"legendgroup\": \"color=\\u06cc\\u06a9 \\u0686\\u06cc\\u0632 \\u0628\\u06cc \\u062e\\u0627\\u0635\\u06cc\\u062a\", \"marker\": {\"color\": \"#B6E880\", \"symbol\": \"circle\"}, \"mode\": \"markers\", \"name\": \"color=\\u06cc\\u06a9 \\u0686\\u06cc\\u0632 \\u0628\\u06cc \\u062e\\u0627\\u0635\\u06cc\\u062a\", \"showlegend\": true, \"type\": \"scatter\", \"x\": [0.0], \"xaxis\": \"x\", \"y\": [89.0], \"yaxis\": \"y\"}, {\"hoverlabel\": {\"namelength\": 0}, \"hovertemplate\": \"color=\\u06cc\\u06a9 \\u06a9\\u0627\\u0631 \\u0646\\u06cc\\u0645\\u0647 \\u0645\\u0631\\u062f\\u0627\\u0646\\u0647<br>Imdb=%{x}<br>Rate=%{y}\", \"legendgroup\": \"color=\\u06cc\\u06a9 \\u06a9\\u0627\\u0631 \\u0646\\u06cc\\u0645\\u0647 \\u0645\\u0631\\u062f\\u0627\\u0646\\u0647\", \"marker\": {\"color\": \"#FF97FF\", \"symbol\": \"circle\"}, \"mode\": \"markers\", \"name\": \"color=\\u06cc\\u06a9 \\u06a9\\u0627\\u0631 \\u0646\\u06cc\\u0645\\u0647 \\u0645\\u0631\\u062f\\u0627\\u0646\\u0647\", \"showlegend\": true, \"type\": \"scatter\", \"x\": [0.0], \"xaxis\": \"x\", \"y\": [41.0], \"yaxis\": \"y\"}],\n",
              "                        {\"legend\": {\"tracegroupgap\": 0}, \"margin\": {\"t\": 60}, \"template\": {\"data\": {\"bar\": [{\"error_x\": {\"color\": \"#2a3f5f\"}, \"error_y\": {\"color\": \"#2a3f5f\"}, \"marker\": {\"line\": {\"color\": \"#E5ECF6\", \"width\": 0.5}}, \"type\": \"bar\"}], \"barpolar\": [{\"marker\": {\"line\": {\"color\": \"#E5ECF6\", \"width\": 0.5}}, \"type\": \"barpolar\"}], \"carpet\": [{\"aaxis\": {\"endlinecolor\": \"#2a3f5f\", \"gridcolor\": \"white\", \"linecolor\": \"white\", \"minorgridcolor\": \"white\", \"startlinecolor\": \"#2a3f5f\"}, \"baxis\": {\"endlinecolor\": \"#2a3f5f\", \"gridcolor\": \"white\", \"linecolor\": \"white\", \"minorgridcolor\": \"white\", \"startlinecolor\": \"#2a3f5f\"}, \"type\": \"carpet\"}], \"choropleth\": [{\"colorbar\": {\"outlinewidth\": 0, \"ticks\": \"\"}, \"type\": \"choropleth\"}], \"contour\": [{\"colorbar\": {\"outlinewidth\": 0, \"ticks\": \"\"}, \"colorscale\": [[0.0, \"#0d0887\"], [0.1111111111111111, \"#46039f\"], [0.2222222222222222, \"#7201a8\"], [0.3333333333333333, \"#9c179e\"], [0.4444444444444444, \"#bd3786\"], [0.5555555555555556, \"#d8576b\"], [0.6666666666666666, \"#ed7953\"], [0.7777777777777778, \"#fb9f3a\"], [0.8888888888888888, \"#fdca26\"], [1.0, \"#f0f921\"]], \"type\": \"contour\"}], \"contourcarpet\": [{\"colorbar\": {\"outlinewidth\": 0, \"ticks\": \"\"}, \"type\": \"contourcarpet\"}], \"heatmap\": [{\"colorbar\": {\"outlinewidth\": 0, \"ticks\": \"\"}, \"colorscale\": [[0.0, \"#0d0887\"], [0.1111111111111111, \"#46039f\"], [0.2222222222222222, \"#7201a8\"], [0.3333333333333333, \"#9c179e\"], [0.4444444444444444, \"#bd3786\"], [0.5555555555555556, \"#d8576b\"], [0.6666666666666666, \"#ed7953\"], [0.7777777777777778, \"#fb9f3a\"], [0.8888888888888888, \"#fdca26\"], [1.0, \"#f0f921\"]], \"type\": \"heatmap\"}], \"heatmapgl\": [{\"colorbar\": {\"outlinewidth\": 0, \"ticks\": \"\"}, \"colorscale\": [[0.0, \"#0d0887\"], [0.1111111111111111, \"#46039f\"], [0.2222222222222222, \"#7201a8\"], [0.3333333333333333, \"#9c179e\"], [0.4444444444444444, \"#bd3786\"], [0.5555555555555556, \"#d8576b\"], [0.6666666666666666, \"#ed7953\"], [0.7777777777777778, \"#fb9f3a\"], [0.8888888888888888, \"#fdca26\"], [1.0, \"#f0f921\"]], \"type\": \"heatmapgl\"}], \"histogram\": [{\"marker\": {\"colorbar\": {\"outlinewidth\": 0, \"ticks\": \"\"}}, \"type\": \"histogram\"}], \"histogram2d\": [{\"colorbar\": {\"outlinewidth\": 0, \"ticks\": \"\"}, \"colorscale\": [[0.0, \"#0d0887\"], [0.1111111111111111, \"#46039f\"], [0.2222222222222222, \"#7201a8\"], [0.3333333333333333, \"#9c179e\"], [0.4444444444444444, \"#bd3786\"], [0.5555555555555556, \"#d8576b\"], [0.6666666666666666, \"#ed7953\"], [0.7777777777777778, \"#fb9f3a\"], [0.8888888888888888, \"#fdca26\"], [1.0, \"#f0f921\"]], \"type\": \"histogram2d\"}], \"histogram2dcontour\": [{\"colorbar\": {\"outlinewidth\": 0, \"ticks\": \"\"}, \"colorscale\": [[0.0, \"#0d0887\"], [0.1111111111111111, \"#46039f\"], [0.2222222222222222, \"#7201a8\"], [0.3333333333333333, \"#9c179e\"], [0.4444444444444444, \"#bd3786\"], [0.5555555555555556, \"#d8576b\"], [0.6666666666666666, \"#ed7953\"], [0.7777777777777778, \"#fb9f3a\"], [0.8888888888888888, \"#fdca26\"], [1.0, \"#f0f921\"]], \"type\": \"histogram2dcontour\"}], \"mesh3d\": [{\"colorbar\": {\"outlinewidth\": 0, \"ticks\": \"\"}, \"type\": \"mesh3d\"}], \"parcoords\": [{\"line\": {\"colorbar\": {\"outlinewidth\": 0, \"ticks\": \"\"}}, \"type\": \"parcoords\"}], \"pie\": [{\"automargin\": true, \"type\": \"pie\"}], \"scatter\": [{\"marker\": {\"colorbar\": {\"outlinewidth\": 0, \"ticks\": \"\"}}, \"type\": \"scatter\"}], \"scatter3d\": [{\"line\": {\"colorbar\": {\"outlinewidth\": 0, \"ticks\": \"\"}}, \"marker\": {\"colorbar\": {\"outlinewidth\": 0, \"ticks\": \"\"}}, \"type\": \"scatter3d\"}], \"scattercarpet\": [{\"marker\": {\"colorbar\": {\"outlinewidth\": 0, \"ticks\": \"\"}}, \"type\": \"scattercarpet\"}], \"scattergeo\": [{\"marker\": {\"colorbar\": {\"outlinewidth\": 0, \"ticks\": \"\"}}, \"type\": \"scattergeo\"}], \"scattergl\": [{\"marker\": {\"colorbar\": {\"outlinewidth\": 0, \"ticks\": \"\"}}, \"type\": \"scattergl\"}], \"scattermapbox\": [{\"marker\": {\"colorbar\": {\"outlinewidth\": 0, \"ticks\": \"\"}}, \"type\": \"scattermapbox\"}], \"scatterpolar\": [{\"marker\": {\"colorbar\": {\"outlinewidth\": 0, \"ticks\": \"\"}}, \"type\": \"scatterpolar\"}], \"scatterpolargl\": [{\"marker\": {\"colorbar\": {\"outlinewidth\": 0, \"ticks\": \"\"}}, \"type\": \"scatterpolargl\"}], \"scatterternary\": [{\"marker\": {\"colorbar\": {\"outlinewidth\": 0, \"ticks\": \"\"}}, \"type\": \"scatterternary\"}], \"surface\": [{\"colorbar\": {\"outlinewidth\": 0, \"ticks\": \"\"}, \"colorscale\": [[0.0, \"#0d0887\"], [0.1111111111111111, \"#46039f\"], [0.2222222222222222, \"#7201a8\"], [0.3333333333333333, \"#9c179e\"], [0.4444444444444444, \"#bd3786\"], [0.5555555555555556, \"#d8576b\"], [0.6666666666666666, \"#ed7953\"], [0.7777777777777778, \"#fb9f3a\"], [0.8888888888888888, \"#fdca26\"], [1.0, \"#f0f921\"]], \"type\": \"surface\"}], \"table\": [{\"cells\": {\"fill\": {\"color\": \"#EBF0F8\"}, \"line\": {\"color\": \"white\"}}, \"header\": {\"fill\": {\"color\": \"#C8D4E3\"}, \"line\": {\"color\": \"white\"}}, \"type\": \"table\"}]}, \"layout\": {\"annotationdefaults\": {\"arrowcolor\": \"#2a3f5f\", \"arrowhead\": 0, \"arrowwidth\": 1}, \"coloraxis\": {\"colorbar\": {\"outlinewidth\": 0, \"ticks\": \"\"}}, \"colorscale\": {\"diverging\": [[0, \"#8e0152\"], [0.1, \"#c51b7d\"], [0.2, \"#de77ae\"], [0.3, \"#f1b6da\"], [0.4, \"#fde0ef\"], [0.5, \"#f7f7f7\"], [0.6, \"#e6f5d0\"], [0.7, \"#b8e186\"], [0.8, \"#7fbc41\"], [0.9, \"#4d9221\"], [1, \"#276419\"]], \"sequential\": [[0.0, \"#0d0887\"], [0.1111111111111111, \"#46039f\"], [0.2222222222222222, \"#7201a8\"], [0.3333333333333333, \"#9c179e\"], [0.4444444444444444, \"#bd3786\"], [0.5555555555555556, \"#d8576b\"], [0.6666666666666666, \"#ed7953\"], [0.7777777777777778, \"#fb9f3a\"], [0.8888888888888888, \"#fdca26\"], [1.0, \"#f0f921\"]], \"sequentialminus\": [[0.0, \"#0d0887\"], [0.1111111111111111, \"#46039f\"], [0.2222222222222222, \"#7201a8\"], [0.3333333333333333, \"#9c179e\"], [0.4444444444444444, \"#bd3786\"], [0.5555555555555556, \"#d8576b\"], [0.6666666666666666, \"#ed7953\"], [0.7777777777777778, \"#fb9f3a\"], [0.8888888888888888, \"#fdca26\"], [1.0, \"#f0f921\"]]}, \"colorway\": [\"#636efa\", \"#EF553B\", \"#00cc96\", \"#ab63fa\", \"#FFA15A\", \"#19d3f3\", \"#FF6692\", \"#B6E880\", \"#FF97FF\", \"#FECB52\"], \"font\": {\"color\": \"#2a3f5f\"}, \"geo\": {\"bgcolor\": \"white\", \"lakecolor\": \"white\", \"landcolor\": \"#E5ECF6\", \"showlakes\": true, \"showland\": true, \"subunitcolor\": \"white\"}, \"hoverlabel\": {\"align\": \"left\"}, \"hovermode\": \"closest\", \"mapbox\": {\"style\": \"light\"}, \"paper_bgcolor\": \"white\", \"plot_bgcolor\": \"#E5ECF6\", \"polar\": {\"angularaxis\": {\"gridcolor\": \"white\", \"linecolor\": \"white\", \"ticks\": \"\"}, \"bgcolor\": \"#E5ECF6\", \"radialaxis\": {\"gridcolor\": \"white\", \"linecolor\": \"white\", \"ticks\": \"\"}}, \"scene\": {\"xaxis\": {\"backgroundcolor\": \"#E5ECF6\", \"gridcolor\": \"white\", \"gridwidth\": 2, \"linecolor\": \"white\", \"showbackground\": true, \"ticks\": \"\", \"zerolinecolor\": \"white\"}, \"yaxis\": {\"backgroundcolor\": \"#E5ECF6\", \"gridcolor\": \"white\", \"gridwidth\": 2, \"linecolor\": \"white\", \"showbackground\": true, \"ticks\": \"\", \"zerolinecolor\": \"white\"}, \"zaxis\": {\"backgroundcolor\": \"#E5ECF6\", \"gridcolor\": \"white\", \"gridwidth\": 2, \"linecolor\": \"white\", \"showbackground\": true, \"ticks\": \"\", \"zerolinecolor\": \"white\"}}, \"shapedefaults\": {\"line\": {\"color\": \"#2a3f5f\"}}, \"ternary\": {\"aaxis\": {\"gridcolor\": \"white\", \"linecolor\": \"white\", \"ticks\": \"\"}, \"baxis\": {\"gridcolor\": \"white\", \"linecolor\": \"white\", \"ticks\": \"\"}, \"bgcolor\": \"#E5ECF6\", \"caxis\": {\"gridcolor\": \"white\", \"linecolor\": \"white\", \"ticks\": \"\"}}, \"title\": {\"x\": 0.05}, \"xaxis\": {\"automargin\": true, \"gridcolor\": \"white\", \"linecolor\": \"white\", \"ticks\": \"\", \"title\": {\"standoff\": 15}, \"zerolinecolor\": \"white\", \"zerolinewidth\": 2}, \"yaxis\": {\"automargin\": true, \"gridcolor\": \"white\", \"linecolor\": \"white\", \"ticks\": \"\", \"title\": {\"standoff\": 15}, \"zerolinecolor\": \"white\", \"zerolinewidth\": 2}}}, \"title\": {\"font\": {\"size\": 30}, \"text\": \"Comparison Of Imdb & Filimo Rate\"}, \"xaxis\": {\"anchor\": \"y\", \"domain\": [0.0, 1.0], \"title\": {\"text\": \"Imdb\"}}, \"yaxis\": {\"anchor\": \"x\", \"domain\": [0.0, 1.0], \"title\": {\"text\": \"Rate\"}}},\n",
              "                        {\"responsive\": true}\n",
              "                    ).then(function(){\n",
              "                            \n",
              "var gd = document.getElementById('9eb4786e-e276-4f84-90a1-f7de02ebc8b1');\n",
              "var x = new MutationObserver(function (mutations, observer) {{\n",
              "        var display = window.getComputedStyle(gd).display;\n",
              "        if (!display || display === 'none') {{\n",
              "            console.log([gd, 'removed!']);\n",
              "            Plotly.purge(gd);\n",
              "            observer.disconnect();\n",
              "        }}\n",
              "}});\n",
              "\n",
              "// Listen for the removal of the full notebook cells\n",
              "var notebookContainer = gd.closest('#notebook-container');\n",
              "if (notebookContainer) {{\n",
              "    x.observe(notebookContainer, {childList: true});\n",
              "}}\n",
              "\n",
              "// Listen for the clearing of the current output cell\n",
              "var outputEl = gd.closest('.output');\n",
              "if (outputEl) {{\n",
              "    x.observe(outputEl, {childList: true});\n",
              "}}\n",
              "\n",
              "                        })\n",
              "                };\n",
              "                \n",
              "            </script>\n",
              "        </div>\n",
              "</body>\n",
              "</html>"
            ]
          },
          "metadata": {}
        }
      ]
    },
    {
      "cell_type": "markdown",
      "metadata": {
        "id": "TJ6_RGVBaIid"
      },
      "source": [
        "##Hope it was usefull,\n",
        "##Thanks for checking and please don't hesitate to give me any feedback,\n",
        "##Good Luck :)"
      ]
    },
    {
      "cell_type": "code",
      "metadata": {
        "id": "S-eXPOM_MrHL"
      },
      "source": [
        ""
      ],
      "execution_count": null,
      "outputs": []
    }
  ]
}